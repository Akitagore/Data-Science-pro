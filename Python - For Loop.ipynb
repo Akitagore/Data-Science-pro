{
 "cells": [
  {
   "cell_type": "markdown",
   "id": "b70030ee",
   "metadata": {},
   "source": [
    "# Basic Level:\n",
    "### 1. Write a Python program to print the numbers from 1 to 10 using a `for` loop."
   ]
  },
  {
   "cell_type": "code",
   "execution_count": 1,
   "id": "1c19eef8",
   "metadata": {},
   "outputs": [
    {
     "name": "stdout",
     "output_type": "stream",
     "text": [
      "1\n",
      "2\n",
      "3\n",
      "4\n",
      "5\n",
      "6\n",
      "7\n",
      "8\n",
      "9\n",
      "10\n"
     ]
    }
   ],
   "source": [
    "for i in range(1,11):\n",
    "    print(i)"
   ]
  },
  {
   "cell_type": "markdown",
   "id": "8598ae06",
   "metadata": {},
   "source": [
    "### 2. Create a program that calculates the sum of all numbers in a list using a `for` loop."
   ]
  },
  {
   "cell_type": "code",
   "execution_count": 9,
   "id": "e8c0be45",
   "metadata": {},
   "outputs": [
    {
     "name": "stdout",
     "output_type": "stream",
     "text": [
      "The sum of numbers in the list is: 15\n"
     ]
    }
   ],
   "source": [
    "numbers = [1, 2, 3, 4, 5]\n",
    "sum_of_numbers = 0\n",
    "for num in numbers:\n",
    "    sum_of_numbers += num\n",
    "print(\"The sum of numbers in the list is:\", sum_of_numbers)"
   ]
  },
  {
   "cell_type": "markdown",
   "id": "e01b8b63",
   "metadata": {},
   "source": [
    "### 3. Write a program to print the characters of a string in reverse order using a `for` loop."
   ]
  },
  {
   "cell_type": "code",
   "execution_count": 15,
   "id": "4eb3c949",
   "metadata": {},
   "outputs": [
    {
     "name": "stdout",
     "output_type": "stream",
     "text": [
      "d\n",
      "l\n",
      "r\n",
      "o\n",
      "W\n",
      " \n",
      "o\n",
      "l\n",
      "l\n",
      "e\n",
      "H\n"
     ]
    }
   ],
   "source": [
    "string = \"Hello World\"\n",
    "for char in reversed(string):\n",
    "    print(char)"
   ]
  },
  {
   "cell_type": "markdown",
   "id": "be50aae0",
   "metadata": {},
   "source": [
    "### 4. Develop a program that finds the factorial of a given number using a `for` loop."
   ]
  },
  {
   "cell_type": "code",
   "execution_count": 20,
   "id": "541709a7",
   "metadata": {},
   "outputs": [
    {
     "name": "stdout",
     "output_type": "stream",
     "text": [
      "The factorial of 10 is 3628800\n"
     ]
    }
   ],
   "source": [
    "n = 10\n",
    "factorial = 1\n",
    "for i in range(1, n + 1):\n",
    "    factorial *= i\n",
    "print(f\"The factorial of {n} is {factorial}\")    "
   ]
  },
  {
   "cell_type": "markdown",
   "id": "90ec2f78",
   "metadata": {},
   "source": [
    "### 5. Create a program to print the multiplication table of a given number using a `for` loop."
   ]
  },
  {
   "cell_type": "code",
   "execution_count": 23,
   "id": "26827d71",
   "metadata": {},
   "outputs": [
    {
     "name": "stdout",
     "output_type": "stream",
     "text": [
      "Enter number for table25\n",
      "25 * i = 25\n",
      "25 * i = 50\n",
      "25 * i = 75\n",
      "25 * i = 100\n",
      "25 * i = 125\n",
      "25 * i = 150\n",
      "25 * i = 175\n",
      "25 * i = 200\n",
      "25 * i = 225\n",
      "25 * i = 250\n"
     ]
    }
   ],
   "source": [
    "number = int(input(\"Enter number for table\"))\n",
    "n = 10\n",
    "for i in range(1, n+1):\n",
    "    result = number * i\n",
    "    print(f\"{number} * i = {result}\")"
   ]
  },
  {
   "cell_type": "markdown",
   "id": "4c33493e",
   "metadata": {},
   "source": [
    "### 6. Write a program that counts the number of even and odd numbers in a list using a `for` loop."
   ]
  },
  {
   "cell_type": "code",
   "execution_count": 1,
   "id": "66917f43",
   "metadata": {},
   "outputs": [
    {
     "name": "stdout",
     "output_type": "stream",
     "text": [
      "Number of even numbers: 5\n",
      "Number of odd numbers: 5\n"
     ]
    }
   ],
   "source": [
    "numbers = [1, 2, 3, 4, 5, 6, 7, 8, 9, 10]\n",
    "even_count = 0\n",
    "odd_count = 0\n",
    "for number in numbers:\n",
    "    if number % 2 == 0:\n",
    "        even_count += 1\n",
    "    else:\n",
    "        odd_count += 1\n",
    "print(\"Number of even numbers:\", even_count)\n",
    "print(\"Number of odd numbers:\", odd_count)\n"
   ]
  },
  {
   "cell_type": "markdown",
   "id": "4b15682e",
   "metadata": {},
   "source": [
    "### 7. Develop a program that prints the squares of numbers from 1 to 5 using a `for` loop."
   ]
  },
  {
   "cell_type": "code",
   "execution_count": 2,
   "id": "059d8e0c",
   "metadata": {},
   "outputs": [
    {
     "name": "stdout",
     "output_type": "stream",
     "text": [
      "The square of 1 is 1\n",
      "The square of 2 is 4\n",
      "The square of 3 is 9\n",
      "The square of 4 is 16\n",
      "The square of 5 is 25\n"
     ]
    }
   ],
   "source": [
    "for number in range(1, 6):\n",
    "    square = number ** 2\n",
    "    print(f\"The square of {number} is {square}\")"
   ]
  },
  {
   "cell_type": "markdown",
   "id": "b1551e0d",
   "metadata": {},
   "source": [
    "### 8. Create a program to find the length of a string without using the `len()` function."
   ]
  },
  {
   "cell_type": "code",
   "execution_count": 3,
   "id": "22debfbc",
   "metadata": {},
   "outputs": [
    {
     "name": "stdout",
     "output_type": "stream",
     "text": [
      "Length of the string: 13\n"
     ]
    }
   ],
   "source": [
    "input_string = \"Hello, World!\"\n",
    "length = 0\n",
    "for char in input_string:\n",
    "    length += 1\n",
    "print(\"Length of the string:\", length)\n"
   ]
  },
  {
   "cell_type": "markdown",
   "id": "1d17d21e",
   "metadata": {},
   "source": [
    "### 9. Write a program that calculates the average of a list of numbers using a `for` loop."
   ]
  },
  {
   "cell_type": "code",
   "execution_count": 4,
   "id": "c6c61506",
   "metadata": {},
   "outputs": [
    {
     "name": "stdout",
     "output_type": "stream",
     "text": [
      "Average: 30.0\n"
     ]
    }
   ],
   "source": [
    "numbers = [10, 20, 30, 40, 50]\n",
    "total = 0\n",
    "count = 0\n",
    "for number in numbers:\n",
    "    total += number\n",
    "    count += 1\n",
    "if count > 0:\n",
    "    average = total / count\n",
    "else:\n",
    "    average = 0\n",
    "print(\"Average:\", average)\n"
   ]
  },
  {
   "cell_type": "markdown",
   "id": "30a82c9f",
   "metadata": {},
   "source": [
    "### 10. Develop a program that prints the first `n` Fibonacci numbers using a `for` loop."
   ]
  },
  {
   "cell_type": "code",
   "execution_count": 5,
   "id": "19712b6c",
   "metadata": {
    "scrolled": false
   },
   "outputs": [
    {
     "name": "stdout",
     "output_type": "stream",
     "text": [
      "Enter the number of Fibonacci numbers to print: 15\n",
      "0\n",
      "1\n",
      "1\n",
      "2\n",
      "3\n",
      "5\n",
      "8\n",
      "13\n",
      "21\n",
      "34\n",
      "55\n",
      "89\n",
      "144\n",
      "233\n",
      "377\n"
     ]
    }
   ],
   "source": [
    "def print_fibonacci(n):\n",
    "    if n <= 0:\n",
    "        return\n",
    "    a, b = 0, 1\n",
    "    print(a)\n",
    "    \n",
    "    for _ in range(1, n):\n",
    "        a, b = b, a + b\n",
    "        print(a)\n",
    "        \n",
    "n = int(input(\"Enter the number of Fibonacci numbers to print: \"))\n",
    "print_fibonacci(n)\n"
   ]
  },
  {
   "cell_type": "markdown",
   "id": "eff27b57",
   "metadata": {},
   "source": [
    "# Intermediate Level:"
   ]
  },
  {
   "cell_type": "markdown",
   "id": "bf933533",
   "metadata": {},
   "source": [
    "### 11. Write a program to check if a given list contains any duplicates using a `for` loop."
   ]
  },
  {
   "cell_type": "code",
   "execution_count": 7,
   "id": "2ce35ca0",
   "metadata": {},
   "outputs": [
    {
     "name": "stdout",
     "output_type": "stream",
     "text": [
      "The list contains duplicates.\n"
     ]
    }
   ],
   "source": [
    "def has_duplicates(input_list):\n",
    "    for i in range(len(input_list)):\n",
    "        for j in range(i + 1, len(input_list)):\n",
    "            if input_list[i] == input_list[j]:\n",
    "                return True\n",
    "    return False\n",
    "\n",
    "my_list = [1, 2, 3, 4, 5, 2, 6]\n",
    "\n",
    "if has_duplicates(my_list):\n",
    "    print(\"The list contains duplicates.\")\n",
    "else:\n",
    "    print(\"The list does not contain duplicates.\")\n"
   ]
  },
  {
   "cell_type": "markdown",
   "id": "c2b5373f",
   "metadata": {},
   "source": [
    "### 12. Create a program that prints the prime numbers in a given range using a `for` loop."
   ]
  },
  {
   "cell_type": "code",
   "execution_count": 8,
   "id": "34397294",
   "metadata": {},
   "outputs": [
    {
     "name": "stdout",
     "output_type": "stream",
     "text": [
      "Enter the start of the range: 2\n",
      "Enter the end of the range: 100\n",
      "Prime numbers in the range from 2 to 100 are:\n",
      "2\n",
      "3\n",
      "5\n",
      "7\n",
      "11\n",
      "13\n",
      "17\n",
      "19\n",
      "23\n",
      "29\n",
      "31\n",
      "37\n",
      "41\n",
      "43\n",
      "47\n",
      "53\n",
      "59\n",
      "61\n",
      "67\n",
      "71\n",
      "73\n",
      "79\n",
      "83\n",
      "89\n",
      "97\n"
     ]
    }
   ],
   "source": [
    "def is_prime(number):\n",
    "    if number <= 1:\n",
    "        return False\n",
    "    for i in range(2, int(number ** 0.5) + 1):\n",
    "        if number % i == 0:\n",
    "            return False\n",
    "    return True\n",
    "\n",
    "start = int(input(\"Enter the start of the range: \"))\n",
    "end = int(input(\"Enter the end of the range: \"))\n",
    "print(\"Prime numbers in the range from\", start, \"to\", end, \"are:\")\n",
    "for num in range(start, end + 1):\n",
    "    if is_prime(num):\n",
    "        print(num)\n"
   ]
  },
  {
   "cell_type": "markdown",
   "id": "ab6b60d6",
   "metadata": {},
   "source": [
    "### 13. Develop a program that counts the number of vowels in a string using a `for` loop."
   ]
  },
  {
   "cell_type": "code",
   "execution_count": 5,
   "id": "3f34edc0",
   "metadata": {},
   "outputs": [
    {
     "name": "stdout",
     "output_type": "stream",
     "text": [
      "Enter a string: my name is ankita gore\n",
      "Number of vowels in the string: 8\n"
     ]
    }
   ],
   "source": [
    "def count_vowels(input_string):\n",
    "    input_string = input_string.lower()\n",
    "    vowel_count = 0\n",
    "    vowels = ['a', 'e', 'i', 'o', 'u']\n",
    "    for char in input_string:\n",
    "        if char in vowels:\n",
    "            vowel_count += 1\n",
    "    \n",
    "    return vowel_count\n",
    "\n",
    "input_string = input(\"Enter a string: \")\n",
    "vowel_count = count_vowels(input_string)\n",
    "print(\"Number of vowels in the string:\", vowel_count)\n"
   ]
  },
  {
   "cell_type": "markdown",
   "id": "4ae356b3",
   "metadata": {},
   "source": [
    "### 14. Write a program to find the maximum element in a 2D list using a nested `for` loop."
   ]
  },
  {
   "cell_type": "code",
   "execution_count": 6,
   "id": "b725bdd2",
   "metadata": {},
   "outputs": [
    {
     "name": "stdout",
     "output_type": "stream",
     "text": [
      "Maximum element in the 2D list: 12\n"
     ]
    }
   ],
   "source": [
    "# Function to find the maximum element in a 2D list\n",
    "def find_max_element(matrix):\n",
    "    # Initialize max_element with the minimum possible value\n",
    "    max_element = float('-inf')\n",
    "\n",
    "    # Iterate through the rows of the 2D list\n",
    "    for row in matrix:\n",
    "        # Iterate through the elements in each row\n",
    "        for element in row:\n",
    "            # Check if the current element is greater than the current maximum\n",
    "            if element > max_element:\n",
    "                max_element = element\n",
    "\n",
    "    return max_element\n",
    "\n",
    "# Example 2D list\n",
    "matrix = [\n",
    "    [3, 9, 1],\n",
    "    [7, 12, 5],\n",
    "    [2, 8, 4]\n",
    "]\n",
    "\n",
    "# Call the find_max_element function and display the result\n",
    "maximum = find_max_element(matrix)\n",
    "print(\"Maximum element in the 2D list:\", maximum)\n"
   ]
  },
  {
   "cell_type": "markdown",
   "id": "9d060e64",
   "metadata": {},
   "source": [
    "### 15. Create a program that removes all occurrences of a specific element from a list using a `for` loop."
   ]
  },
  {
   "cell_type": "code",
   "execution_count": 9,
   "id": "2780f2e7",
   "metadata": {},
   "outputs": [
    {
     "name": "stdout",
     "output_type": "stream",
     "text": [
      "Original list: [1, 2, 3, 4, 3, 5, 3, 6]\n",
      "List after removing 3 : [1, 2, 4, 5, 6]\n"
     ]
    }
   ],
   "source": [
    "def remove_element(lst, element_to_remove):\n",
    "    new_list = []\n",
    "    for item in lst:\n",
    "        if item != element_to_remove:\n",
    "            new_list.append(item)\n",
    "    return new_list\n",
    "my_list = [1, 2, 3, 4, 3, 5, 3, 6]\n",
    "element_to_remove = 3\n",
    "new_list = remove_element(my_list, element_to_remove)\n",
    "print(\"Original list:\", my_list)\n",
    "print(\"List after removing\", element_to_remove, \":\", new_list)\n"
   ]
  },
  {
   "cell_type": "markdown",
   "id": "78fa75ab",
   "metadata": {},
   "source": [
    "### 16. Develop a program that generates a multiplication table for numbers from 1 to 5 using a nested `for` loop."
   ]
  },
  {
   "cell_type": "code",
   "execution_count": 10,
   "id": "64fe41cc",
   "metadata": {},
   "outputs": [
    {
     "name": "stdout",
     "output_type": "stream",
     "text": [
      "1 x 1 = 1\n",
      "1 x 2 = 2\n",
      "1 x 3 = 3\n",
      "1 x 4 = 4\n",
      "1 x 5 = 5\n",
      "1 x 6 = 6\n",
      "1 x 7 = 7\n",
      "1 x 8 = 8\n",
      "1 x 9 = 9\n",
      "1 x 10 = 10\n",
      "\n",
      "2 x 1 = 2\n",
      "2 x 2 = 4\n",
      "2 x 3 = 6\n",
      "2 x 4 = 8\n",
      "2 x 5 = 10\n",
      "2 x 6 = 12\n",
      "2 x 7 = 14\n",
      "2 x 8 = 16\n",
      "2 x 9 = 18\n",
      "2 x 10 = 20\n",
      "\n",
      "3 x 1 = 3\n",
      "3 x 2 = 6\n",
      "3 x 3 = 9\n",
      "3 x 4 = 12\n",
      "3 x 5 = 15\n",
      "3 x 6 = 18\n",
      "3 x 7 = 21\n",
      "3 x 8 = 24\n",
      "3 x 9 = 27\n",
      "3 x 10 = 30\n",
      "\n",
      "4 x 1 = 4\n",
      "4 x 2 = 8\n",
      "4 x 3 = 12\n",
      "4 x 4 = 16\n",
      "4 x 5 = 20\n",
      "4 x 6 = 24\n",
      "4 x 7 = 28\n",
      "4 x 8 = 32\n",
      "4 x 9 = 36\n",
      "4 x 10 = 40\n",
      "\n",
      "5 x 1 = 5\n",
      "5 x 2 = 10\n",
      "5 x 3 = 15\n",
      "5 x 4 = 20\n",
      "5 x 5 = 25\n",
      "5 x 6 = 30\n",
      "5 x 7 = 35\n",
      "5 x 8 = 40\n",
      "5 x 9 = 45\n",
      "5 x 10 = 50\n",
      "\n"
     ]
    }
   ],
   "source": [
    "start_num = 1\n",
    "end_num = 5\n",
    "for i in range(start_num, end_num + 1):\n",
    "    for j in range(1, 11):\n",
    "        product = i * j\n",
    "        print(f\"{i} x {j} = {product}\")\n",
    "    print()\n"
   ]
  },
  {
   "cell_type": "markdown",
   "id": "72a3244e",
   "metadata": {},
   "source": [
    "### 17. Write a program that converts a list of Fahrenheit temperatures to Celsius using a `for` loop."
   ]
  },
  {
   "cell_type": "code",
   "execution_count": 11,
   "id": "0447b718",
   "metadata": {},
   "outputs": [
    {
     "name": "stdout",
     "output_type": "stream",
     "text": [
      "32°F is equal to 0.00°C\n",
      "68°F is equal to 20.00°C\n",
      "86°F is equal to 30.00°C\n",
      "104°F is equal to 40.00°C\n",
      "212°F is equal to 100.00°C\n"
     ]
    }
   ],
   "source": [
    "def fahrenheit_to_celsius(fahrenheit_temperatures):\n",
    "    celsius_temperatures = []\n",
    "    \n",
    "    for fahrenheit in fahrenheit_temperatures:\n",
    "        celsius = (fahrenheit - 32) * 5/9\n",
    "        celsius_temperatures.append(celsius)\n",
    "    \n",
    "    return celsius_temperatures\n",
    "\n",
    "fahrenheit_temperatures = [32, 68, 86, 104, 212]\n",
    "celsius_temperatures = fahrenheit_to_celsius(fahrenheit_temperatures)\n",
    "\n",
    "for i in range(len(fahrenheit_temperatures)):\n",
    "    print(f\"{fahrenheit_temperatures[i]}°F is equal to {celsius_temperatures[i]:.2f}°C\")\n"
   ]
  },
  {
   "cell_type": "markdown",
   "id": "fb78a6c1",
   "metadata": {},
   "source": [
    "### 18. Create a program to print the common elements from two lists using a `for` loop."
   ]
  },
  {
   "cell_type": "code",
   "execution_count": 12,
   "id": "44df2798",
   "metadata": {},
   "outputs": [
    {
     "name": "stdout",
     "output_type": "stream",
     "text": [
      "Common elements: [3, 4, 5]\n"
     ]
    }
   ],
   "source": [
    "def find_common_elements(list1, list2):\n",
    "    common_elements = []\n",
    "    \n",
    "    for item1 in list1:\n",
    "        for item2 in list2:\n",
    "            if item1 == item2 and item1 not in common_elements:\n",
    "                common_elements.append(item1)\n",
    "                break\n",
    "\n",
    "    print(\"Common elements:\", common_elements)\n",
    "\n",
    "list1 = [1, 2, 3, 4, 5]\n",
    "list2 = [3, 4, 5, 6, 7]\n",
    "\n",
    "find_common_elements(list1, list2)\n"
   ]
  },
  {
   "cell_type": "markdown",
   "id": "d24b1a22",
   "metadata": {},
   "source": [
    "### 19. Develop a program that prints the pattern of right-angled triangles using a `for` loop. Use ‘*’ to draw the pattern"
   ]
  },
  {
   "cell_type": "code",
   "execution_count": 13,
   "id": "00aedd91",
   "metadata": {},
   "outputs": [
    {
     "name": "stdout",
     "output_type": "stream",
     "text": [
      "Enter the height of the triangle: 18\n",
      "*\n",
      "**\n",
      "***\n",
      "****\n",
      "*****\n",
      "******\n",
      "*******\n",
      "********\n",
      "*********\n",
      "**********\n",
      "***********\n",
      "************\n",
      "*************\n",
      "**************\n",
      "***************\n",
      "****************\n",
      "*****************\n",
      "******************\n"
     ]
    }
   ],
   "source": [
    "# Function to print a right-angled triangle pattern\n",
    "def print_right_angle_triangle(height):\n",
    "    for i in range(1, height + 1):\n",
    "        print('*' * i)\n",
    "\n",
    "# Input the height of the triangle\n",
    "height = int(input(\"Enter the height of the triangle: \"))\n",
    "\n",
    "# Call the function to print the pattern\n",
    "print_right_angle_triangle(height)\n"
   ]
  },
  {
   "cell_type": "markdown",
   "id": "8490aa3e",
   "metadata": {},
   "source": [
    "### 20. Write a program to find the greatest common divisor (GCD) of two numbers using a `for` loop."
   ]
  },
  {
   "cell_type": "code",
   "execution_count": 14,
   "id": "10aa6a6e",
   "metadata": {},
   "outputs": [
    {
     "name": "stdout",
     "output_type": "stream",
     "text": [
      "Enter the first number: 78\n",
      "Enter the second number: 85\n",
      "The greatest common divisor (GCD) of 78 and 85 is 1\n"
     ]
    }
   ],
   "source": [
    "# Function to find the GCD of two numbers\n",
    "def find_gcd(a, b):\n",
    "    while b:\n",
    "        a, b = b, a % b\n",
    "    return a\n",
    "\n",
    "# Input two numbers\n",
    "num1 = int(input(\"Enter the first number: \"))\n",
    "num2 = int(input(\"Enter the second number: \"))\n",
    "\n",
    "# Call the function to find the GCD and display the result\n",
    "gcd = find_gcd(num1, num2)\n",
    "print(\"The greatest common divisor (GCD) of\", num1, \"and\", num2, \"is\", gcd)\n"
   ]
  },
  {
   "cell_type": "markdown",
   "id": "7f272c75",
   "metadata": {},
   "source": [
    "# Advanced Level:"
   ]
  },
  {
   "cell_type": "markdown",
   "id": "68a44043",
   "metadata": {},
   "source": [
    "### 21. Create a program that calculates the sum of the digits of numbers in a list using a list comprehension."
   ]
  },
  {
   "cell_type": "code",
   "execution_count": 15,
   "id": "fb20f6e0",
   "metadata": {},
   "outputs": [
    {
     "name": "stdout",
     "output_type": "stream",
     "text": [
      "Sum of digits in 123 is 6\n",
      "Sum of digits in 45 is 9\n",
      "Sum of digits in 6789 is 30\n",
      "Sum of digits in 555 is 15\n"
     ]
    }
   ],
   "source": [
    "def digit_sum(number):\n",
    "    return sum(int(digit) for digit in str(number) if digit.isdigit())\n",
    "\n",
    "numbers = [123, 45, 6789, 555]\n",
    "digit_sums = [digit_sum(number) for number in numbers]\n",
    "\n",
    "for i in range(len(numbers)):\n",
    "    print(f\"Sum of digits in {numbers[i]} is {digit_sums[i]}\")\n"
   ]
  },
  {
   "cell_type": "markdown",
   "id": "dd52ae19",
   "metadata": {},
   "source": [
    "### 22. Write a program to find the prime factors of a given number using a `for` loop and list comprehension."
   ]
  },
  {
   "cell_type": "code",
   "execution_count": 16,
   "id": "4e5fa04e",
   "metadata": {},
   "outputs": [
    {
     "name": "stdout",
     "output_type": "stream",
     "text": [
      "Enter a number: 25\n",
      "Prime factors of 25 are: [5]\n"
     ]
    }
   ],
   "source": [
    "# Function to find prime factors of a number\n",
    "def prime_factors(n):\n",
    "    factors = [x for x in range(2, n + 1) if n % x == 0]\n",
    "    prime_factors = [x for x in factors if all(x % y != 0 for y in range(2, x))]\n",
    "    return prime_factors\n",
    "number = int(input(\"Enter a number: \"))\n",
    "factors = prime_factors(number)\n",
    "print(f\"Prime factors of {number} are: {factors}\")\n"
   ]
  },
  {
   "cell_type": "markdown",
   "id": "6e330b2a",
   "metadata": {},
   "source": [
    "### 23. Develop a program that extracts unique elements from a list and stores them in a new list using a list comprehension."
   ]
  },
  {
   "cell_type": "code",
   "execution_count": 17,
   "id": "d394d73a",
   "metadata": {},
   "outputs": [
    {
     "name": "stdout",
     "output_type": "stream",
     "text": [
      "Original list: [1, 2, 2, 3, 4, 4, 5, 5, 5]\n",
      "Unique elements: [1, 2, 3, 4, 5]\n"
     ]
    }
   ],
   "source": [
    "input_list = [1, 2, 2, 3, 4, 4, 5, 5, 5]\n",
    "\n",
    "unique_elements = [x for i, x in enumerate(input_list) if x not in input_list[:i]]\n",
    "\n",
    "print(\"Original list:\", input_list)\n",
    "print(\"Unique elements:\", unique_elements)\n"
   ]
  },
  {
   "cell_type": "markdown",
   "id": "f79dbc63",
   "metadata": {},
   "source": [
    "### 24. Create a program that generates a list of all palindromic numbers up to a specified limit using a list comprehension."
   ]
  },
  {
   "cell_type": "code",
   "execution_count": 20,
   "id": "fb913dd1",
   "metadata": {},
   "outputs": [
    {
     "name": "stdout",
     "output_type": "stream",
     "text": [
      "Enter the limit: 80\n",
      "Palindromic numbers up to the limit: [1, 2, 3, 4, 5, 6, 7, 8, 9, 11, 22, 33, 44, 55, 66, 77]\n"
     ]
    }
   ],
   "source": [
    "def is_palindrome(number):\n",
    "    return str(number) == str(number)[::-1]\n",
    "limit = int(input(\"Enter the limit: \"))\n",
    "\n",
    "palindromic_numbers = [num for num in range(1, limit + 1) if is_palindrome(num)]\n",
    "print(\"Palindromic numbers up to the limit:\", palindromic_numbers)\n"
   ]
  },
  {
   "cell_type": "markdown",
   "id": "742d59dd",
   "metadata": {},
   "source": [
    "### 25. Write a program to flatten a nested list using list comprehension.1"
   ]
  },
  {
   "cell_type": "code",
   "execution_count": 21,
   "id": "68217dde",
   "metadata": {},
   "outputs": [
    {
     "name": "stdout",
     "output_type": "stream",
     "text": [
      "Original nested list: [[1, 2, 3], [4, 5], [6, 7, 8]]\n",
      "Flattened list: [1, 2, 3, 4, 5, 6, 7, 8]\n"
     ]
    }
   ],
   "source": [
    "def flatten_list(nested_list):\n",
    "    return [item for sublist in nested_list for item in sublist]\n",
    "nested_list = [[1, 2, 3], [4, 5], [6, 7, 8]]\n",
    "\n",
    "flattened_list = flatten_list(nested_list)\n",
    "print(\"Original nested list:\", nested_list)\n",
    "print(\"Flattened list:\", flattened_list)\n"
   ]
  },
  {
   "cell_type": "markdown",
   "id": "834a76b8",
   "metadata": {},
   "source": [
    "### 26. Develop a program that computes the sum of even and odd numbers in a list separately using list comprehension."
   ]
  },
  {
   "cell_type": "code",
   "execution_count": 22,
   "id": "015c5c78",
   "metadata": {},
   "outputs": [
    {
     "name": "stdout",
     "output_type": "stream",
     "text": [
      "Original list: [1, 2, 3, 4, 5, 6, 7, 8, 9, 10]\n",
      "Sum of even numbers: 30\n",
      "Sum of odd numbers: 25\n"
     ]
    }
   ],
   "source": [
    "numbers = [1, 2, 3, 4, 5, 6, 7, 8, 9, 10]\n",
    "\n",
    "even_sum = sum([x for x in numbers if x % 2 == 0])\n",
    "odd_sum = sum([x for x in numbers if x % 2 != 0])\n",
    "print(\"Original list:\", numbers)\n",
    "print(\"Sum of even numbers:\", even_sum)\n",
    "print(\"Sum of odd numbers:\", odd_sum)\n"
   ]
  },
  {
   "cell_type": "markdown",
   "id": "a48f19aa",
   "metadata": {},
   "source": [
    "### 27. Create a program that generates a list of squares of odd numbers between 1 and 10 using list comprehension."
   ]
  },
  {
   "cell_type": "code",
   "execution_count": 23,
   "id": "0d4d1eb6",
   "metadata": {},
   "outputs": [
    {
     "name": "stdout",
     "output_type": "stream",
     "text": [
      "List of squares of odd numbers between 1 and 10: [1, 9, 25, 49, 81]\n"
     ]
    }
   ],
   "source": [
    "# Use list comprehension to generate a list of squares of odd numbers between 1 and 10\n",
    "squares_of_odd_numbers = [x**2 for x in range(1, 11) if x % 2 != 0]\n",
    "\n",
    "# Display the list of squares of odd numbers\n",
    "print(\"List of squares of odd numbers between 1 and 10:\", squares_of_odd_numbers)\n"
   ]
  },
  {
   "cell_type": "markdown",
   "id": "131458d0",
   "metadata": {},
   "source": [
    "### 28. Write a program that combines two lists into a dictionary using list comprehension."
   ]
  },
  {
   "cell_type": "code",
   "execution_count": 24,
   "id": "81a4f390",
   "metadata": {},
   "outputs": [
    {
     "name": "stdout",
     "output_type": "stream",
     "text": [
      "Combined dictionary: {'a': 1, 'b': 2, 'c': 3}\n"
     ]
    }
   ],
   "source": [
    "# Input two lists\n",
    "keys = ['a', 'b', 'c']\n",
    "values = [1, 2, 3]\n",
    "\n",
    "# Use list comprehension to combine the two lists into a dictionary\n",
    "combined_dict = {key: value for key, value in zip(keys, values)}\n",
    "\n",
    "# Display the resulting dictionary\n",
    "print(\"Combined dictionary:\", combined_dict)\n"
   ]
  },
  {
   "cell_type": "markdown",
   "id": "d37f7508",
   "metadata": {},
   "source": [
    "### 29. Develop a program that extracts the vowels from a string and stores them in a list using list comprehension."
   ]
  },
  {
   "cell_type": "code",
   "execution_count": 25,
   "id": "91bfc015",
   "metadata": {},
   "outputs": [
    {
     "name": "stdout",
     "output_type": "stream",
     "text": [
      "Input string: Hello, World!\n",
      "Extracted vowels: ['e', 'o', 'o']\n"
     ]
    }
   ],
   "source": [
    "# Input a string\n",
    "input_string = \"Hello, World!\"\n",
    "\n",
    "# Use list comprehension to extract the vowels from the string\n",
    "vowels = [char for char in input_string if char.lower() in 'aeiou']\n",
    "\n",
    "# Display the list of extracted vowels\n",
    "print(\"Input string:\", input_string)\n",
    "print(\"Extracted vowels:\", vowels)\n"
   ]
  },
  {
   "cell_type": "markdown",
   "id": "9d9daa56",
   "metadata": {},
   "source": [
    "### 30. Create a program that removes all non-numeric characters from a list of strings using list comprehension."
   ]
  },
  {
   "cell_type": "code",
   "execution_count": 26,
   "id": "c78a7e06",
   "metadata": {},
   "outputs": [
    {
     "name": "stdout",
     "output_type": "stream",
     "text": [
      "Original list of strings: ['abc123', 'def45g', '6hij7', 'klmno8']\n",
      "List of strings with non-numeric characters removed: ['123', '45', '67', '8']\n"
     ]
    }
   ],
   "source": [
    "string_list = [\"abc123\", \"def45g\", \"6hij7\", \"klmno8\"]\n",
    "\n",
    "numeric_strings = [''.join(char for char in s if char.isdigit()) for s in string_list]\n",
    "\n",
    "print(\"Original list of strings:\", string_list)\n",
    "print(\"List of strings with non-numeric characters removed:\", numeric_strings)\n"
   ]
  },
  {
   "cell_type": "markdown",
   "id": "42370377",
   "metadata": {},
   "source": [
    "### 31. Write a program to generate a list of prime numbers using the Sieve of Eratosthenes algorithm and list comprehension."
   ]
  },
  {
   "cell_type": "code",
   "execution_count": null,
   "id": "bb628336",
   "metadata": {},
   "outputs": [],
   "source": [
    "def sieve_eratosthenes(n):\n",
    "    sieve = [True] * (n + 1)\n",
    "    sieve[0] = sieve[1] = False\n",
    "\n",
    "    for p in range(2, int(n**0.5) + 1):\n",
    "        if sieve[p]:\n",
    "            for i in range(p * p, n + 1, p):\n",
    "                sieve[i] = False\n",
    "\n",
    "    prime_numbers = [i for i in range(2, n + 1) if sieve[i]]\n",
    "    return prime_numbers\n",
    "\n",
    "# Specify the upper limit for generating prime numbers\n",
    "upper_limit = 100\n",
    "prime_list = sieve_eratosthenes(upper_limit)\n",
    "print(prime_list)\n"
   ]
  },
  {
   "cell_type": "markdown",
   "id": "9bea1fa8",
   "metadata": {},
   "source": [
    "### 32. Create a program that generates a list of all Pythagorean triplets up to a specified limit using list comprehension."
   ]
  },
  {
   "cell_type": "code",
   "execution_count": 1,
   "id": "53e9c4a7",
   "metadata": {},
   "outputs": [
    {
     "name": "stdout",
     "output_type": "stream",
     "text": [
      "[(3, 4, 5), (5, 12, 13), (6, 8, 10), (8, 15, 17), (9, 12, 15), (12, 16, 20)]\n"
     ]
    }
   ],
   "source": [
    "def generate_pythagorean_triplets(limit):\n",
    "    triplets = [(a, b, c) for a in range(1, limit + 1) for b in range(a, limit + 1) for c in range(b, limit + 1) if a**2 + b**2 == c**2]\n",
    "    return triplets\n",
    "\n",
    "# Specify the limit for generating Pythagorean triplets\n",
    "limit = 20\n",
    "pythagorean_triplets = generate_pythagorean_triplets(limit)\n",
    "print(pythagorean_triplets)\n"
   ]
  },
  {
   "cell_type": "markdown",
   "id": "3d0db52e",
   "metadata": {},
   "source": [
    "### 33. Develop a program that generates a list of all possible combinations of two lists using list comprehension."
   ]
  },
  {
   "cell_type": "code",
   "execution_count": 2,
   "id": "7a511c23",
   "metadata": {},
   "outputs": [
    {
     "name": "stdout",
     "output_type": "stream",
     "text": [
      "[(1, 'a'), (1, 'b'), (1, 'c'), (2, 'a'), (2, 'b'), (2, 'c'), (3, 'a'), (3, 'b'), (3, 'c')]\n"
     ]
    }
   ],
   "source": [
    "list1 = [1, 2, 3]\n",
    "list2 = ['a', 'b', 'c']\n",
    "\n",
    "combinations = [(x, y) for x in list1 for y in list2]\n",
    "\n",
    "print(combinations)\n"
   ]
  },
  {
   "cell_type": "markdown",
   "id": "0a1e3bd6",
   "metadata": {},
   "source": [
    "### 34. Write a program that calculates the mean, median, and mode of a list of numbers using list comprehension."
   ]
  },
  {
   "cell_type": "code",
   "execution_count": 3,
   "id": "b0148453",
   "metadata": {},
   "outputs": [
    {
     "name": "stdout",
     "output_type": "stream",
     "text": [
      "Mean: 4.5\n"
     ]
    }
   ],
   "source": [
    "def calculate_mean(numbers):\n",
    "    if not numbers:\n",
    "        return None\n",
    "    # Calculate the mean using list comprehension\n",
    "    mean = sum(numbers) / len(numbers)\n",
    "    return mean\n",
    "\n",
    "# Sample list of numbers\n",
    "number_list = [1, 2, 3, 4, 5, 5, 6, 6, 6, 7]\n",
    "\n",
    "# Calculate the mean\n",
    "mean = calculate_mean(number_list)\n",
    "print(f\"Mean: {mean}\")\n"
   ]
  },
  {
   "cell_type": "code",
   "execution_count": 4,
   "id": "3318ca4f",
   "metadata": {},
   "outputs": [
    {
     "name": "stdout",
     "output_type": "stream",
     "text": [
      "Median: 5.0\n",
      "Mode: 6\n"
     ]
    }
   ],
   "source": [
    "import statistics\n",
    "\n",
    "# Sample list of numbers\n",
    "number_list = [1, 2, 3, 4, 5, 5, 6, 6, 6, 7]\n",
    "\n",
    "# Calculate the median and mode\n",
    "median = statistics.median(number_list)\n",
    "mode = statistics.mode(number_list)\n",
    "\n",
    "print(f\"Median: {median}\")\n",
    "print(f\"Mode: {mode}\")\n"
   ]
  },
  {
   "cell_type": "markdown",
   "id": "3099aba4",
   "metadata": {},
   "source": [
    "### 35. Create a program that generates Pascal's triangle up to a specified number of rows using list comprehension. "
   ]
  },
  {
   "cell_type": "code",
   "execution_count": 7,
   "id": "6a233436",
   "metadata": {},
   "outputs": [
    {
     "name": "stdout",
     "output_type": "stream",
     "text": [
      "       1       \n",
      "      1 1      \n",
      "     1 2 1     \n",
      "    1 3 3 1    \n",
      "   1 4 6 4 1   \n"
     ]
    }
   ],
   "source": [
    "def generate_pascals_triangle(n):\n",
    "    triangle = []\n",
    "    for i in range(n):\n",
    "        if i == 0:\n",
    "            triangle.append([1])\n",
    "        elif i == 1:\n",
    "            triangle.append([1, 1])\n",
    "        else:\n",
    "            previous_row = triangle[i - 1]\n",
    "            new_row = [1]\n",
    "            for j in range(1, i):\n",
    "                new_row.append(previous_row[j - 1] + previous_row[j])\n",
    "            new_row.append(1)\n",
    "            triangle.append(new_row)\n",
    "    return triangle\n",
    "\n",
    "# Specify the number of rows for Pascal's triangle\n",
    "num_rows = 5\n",
    "pascals_triangle = generate_pascals_triangle(num_rows)\n",
    "\n",
    "# Print Pascal's triangle\n",
    "for row in pascals_triangle:\n",
    "    print(' '.join(map(str, row)).center(num_rows * 3))\n"
   ]
  },
  {
   "cell_type": "markdown",
   "id": "93d2bf90",
   "metadata": {},
   "source": [
    "### 36. Develop a program that calculates the sum of the digits of a factorial of numbers from 1 to 5 using list comprehension."
   ]
  },
  {
   "cell_type": "code",
   "execution_count": 8,
   "id": "f285e7a1",
   "metadata": {},
   "outputs": [
    {
     "name": "stdout",
     "output_type": "stream",
     "text": [
      "Sum of digits of 1! is 1\n",
      "Sum of digits of 2! is 2\n",
      "Sum of digits of 3! is 6\n",
      "Sum of digits of 4! is 6\n",
      "Sum of digits of 5! is 3\n"
     ]
    }
   ],
   "source": [
    "def factorial(n):\n",
    "    if n == 0:\n",
    "        return 1\n",
    "    else:\n",
    "        return n * factorial(n - 1)\n",
    "\n",
    "def sum_of_digits(num):\n",
    "    return sum(int(digit) for digit in str(num))\n",
    "\n",
    "# Calculate the sum of digits of factorials for numbers from 1 to 5\n",
    "results = [sum_of_digits(factorial(n)) for n in range(1, 6)]\n",
    "\n",
    "# Print the results\n",
    "for n, result in enumerate(results, 1):\n",
    "    print(f\"Sum of digits of {n}! is {result}\")\n"
   ]
  },
  {
   "cell_type": "markdown",
   "id": "5c7b46fc",
   "metadata": {},
   "source": [
    "### 37. Write a program that finds the longest word in a sentence using list comprehension."
   ]
  },
  {
   "cell_type": "code",
   "execution_count": 9,
   "id": "ad0df457",
   "metadata": {},
   "outputs": [
    {
     "name": "stdout",
     "output_type": "stream",
     "text": [
      "The longest word in the sentence is: comprehension.\n"
     ]
    }
   ],
   "source": [
    "sentence = \"This is a sample sentence to find the longest word in the sentence using list comprehension.\"\n",
    "\n",
    "# Split the sentence into words\n",
    "words = sentence.split()\n",
    "\n",
    "# Find the longest word using list comprehension\n",
    "longest_word = max(words, key=lambda word: len(word))\n",
    "\n",
    "print(f\"The longest word in the sentence is: {longest_word}\")\n"
   ]
  },
  {
   "cell_type": "markdown",
   "id": "adf93dcc",
   "metadata": {},
   "source": [
    "### 38. Create a program that filters a list of strings to include only those with more than three vowels using list comprehension."
   ]
  },
  {
   "cell_type": "code",
   "execution_count": 10,
   "id": "97c62255",
   "metadata": {},
   "outputs": [
    {
     "name": "stdout",
     "output_type": "stream",
     "text": [
      "Strings with more than three vowels:\n"
     ]
    }
   ],
   "source": [
    "# Function to count vowels in a string\n",
    "def count_vowels(string):\n",
    "    vowels = \"AEIOUaeiou\"\n",
    "    return sum(1 for char in string if char in vowels)\n",
    "\n",
    "# List of strings\n",
    "string_list = [\"hello\", \"world\", \"apple\", \"banana\", \"Python\", \"programming\"]\n",
    "\n",
    "# Filter strings with more than three vowels using list comprehension\n",
    "filtered_strings = [string for string in string_list if count_vowels(string) > 3]\n",
    "\n",
    "print(\"Strings with more than three vowels:\")\n",
    "for string in filtered_strings:\n",
    "    print(string)\n"
   ]
  },
  {
   "cell_type": "markdown",
   "id": "429bff51",
   "metadata": {},
   "source": [
    "### 39. Develop a program that calculates the sum of the digits of numbers from 1 to 1000 using list comprehension."
   ]
  },
  {
   "cell_type": "code",
   "execution_count": 11,
   "id": "0cc39280",
   "metadata": {},
   "outputs": [
    {
     "name": "stdout",
     "output_type": "stream",
     "text": [
      "The total sum of digits for numbers from 1 to 1000 is: 13501\n"
     ]
    }
   ],
   "source": [
    "# Function to calculate the sum of the digits of a number\n",
    "def sum_of_digits(num):\n",
    "    return sum(int(digit) for digit in str(num))\n",
    "\n",
    "# Calculate the sum of digits for numbers from 1 to 1000 using list comprehension\n",
    "sums = [sum_of_digits(num) for num in range(1, 1001)]\n",
    "\n",
    "# Calculate the total sum of the digit sums\n",
    "total_sum = sum(sums)\n",
    "\n",
    "print(f\"The total sum of digits for numbers from 1 to 1000 is: {total_sum}\")\n"
   ]
  },
  {
   "cell_type": "markdown",
   "id": "6e227d6c",
   "metadata": {},
   "source": [
    "### 40. Write a program that generates a list of prime palindromic numbers using list comprehension."
   ]
  },
  {
   "cell_type": "code",
   "execution_count": 12,
   "id": "f9685dae",
   "metadata": {},
   "outputs": [
    {
     "name": "stdout",
     "output_type": "stream",
     "text": [
      "Prime Palindromic Numbers:\n",
      "[2, 3, 5, 7, 11, 101, 131, 151, 181, 191, 313, 353, 373, 383, 727, 757, 787, 797, 919, 929]\n"
     ]
    }
   ],
   "source": [
    "# Function to check if a number is prime\n",
    "def is_prime(n):\n",
    "    if n <= 1:\n",
    "        return False\n",
    "    if n == 2:\n",
    "        return True\n",
    "    if n % 2 == 0:\n",
    "        return False\n",
    "    for i in range(3, int(n**0.5) + 1, 2):\n",
    "        if n % i == 0:\n",
    "            return False\n",
    "    return True\n",
    "\n",
    "# Generate a list of prime palindromic numbers using list comprehension\n",
    "prime_palindromic_numbers = [n for n in range(1, 1000) if is_prime(n) and str(n) == str(n)[::-1]]\n",
    "\n",
    "# Print the list of prime palindromic numbers\n",
    "print(\"Prime Palindromic Numbers:\")\n",
    "print(prime_palindromic_numbers)\n"
   ]
  }
 ],
 "metadata": {
  "kernelspec": {
   "display_name": "Python 3 (ipykernel)",
   "language": "python",
   "name": "python3"
  },
  "language_info": {
   "codemirror_mode": {
    "name": "ipython",
    "version": 3
   },
   "file_extension": ".py",
   "mimetype": "text/x-python",
   "name": "python",
   "nbconvert_exporter": "python",
   "pygments_lexer": "ipython3",
   "version": "3.9.13"
  }
 },
 "nbformat": 4,
 "nbformat_minor": 5
}
