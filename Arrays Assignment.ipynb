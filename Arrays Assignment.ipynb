{
 "cells": [
  {
   "cell_type": "markdown",
   "id": "9e764e24",
   "metadata": {},
   "source": [
    "## 1. Given an array, check if it contains any duplicates or not.\n",
    "## arr = [1, 2, 4, 2, 5, 9]\n",
    "## Output = True"
   ]
  },
  {
   "cell_type": "code",
   "execution_count": 1,
   "id": "34e45ede",
   "metadata": {},
   "outputs": [
    {
     "name": "stdout",
     "output_type": "stream",
     "text": [
      "True\n"
     ]
    }
   ],
   "source": [
    "# Given Array\n",
    "arr = [1,2,4,2,5,9]\n",
    "# to check duplicates \n",
    "# we will find the set of given array if the set of given array is equal to given set then there is no duplicates\n",
    "def check_duplicates(arr):\n",
    "    result = set(arr) != arr\n",
    "    print(result)\n",
    "\n",
    "check_duplicates(arr)"
   ]
  },
  {
   "cell_type": "markdown",
   "id": "16d2c92a",
   "metadata": {},
   "source": [
    "### 2. Given an array and an integer k, rotate the array to the right by k steps.\n",
    "### arr = [1, 2, 3, 4, 5, 6, 7] k = 3\n",
    "### Output = [5, 6, 7, 1, 2, 3, 4]"
   ]
  },
  {
   "cell_type": "code",
   "execution_count": 2,
   "id": "91b6232b",
   "metadata": {},
   "outputs": [
    {
     "data": {
      "text/plain": [
       "[5, 6, 7, 1, 2, 3, 4]"
      ]
     },
     "execution_count": 2,
     "metadata": {},
     "output_type": "execute_result"
    }
   ],
   "source": [
    "# To rotate array \n",
    "def rotate_array(arr,k):\n",
    "    arr = arr[-k:] + arr[:-k] \n",
    "    return arr\n",
    "\n",
    "arr = [1,2,3,4,5,6,7] # given array\n",
    "k = 3                  \n",
    "rotate_array(arr,k)"
   ]
  },
  {
   "cell_type": "markdown",
   "id": "3cc11cce",
   "metadata": {},
   "source": [
    "### 3. Reverse the given array in-place, means without using any extra data structure.\n",
    "### arr = [2, 4, 5, 7, 9, 12]\n",
    "### Output = [12, 9, 7, 5, 4, 2]"
   ]
  },
  {
   "cell_type": "code",
   "execution_count": 3,
   "id": "5d87a434",
   "metadata": {},
   "outputs": [
    {
     "name": "stdout",
     "output_type": "stream",
     "text": [
      "[12, 9, 7, 5, 4, 2]\n"
     ]
    }
   ],
   "source": [
    "arr = [2,4,5,7,9,12]\n",
    "# using slicing\n",
    "arr = arr[::-1]\n",
    "print(arr)"
   ]
  },
  {
   "cell_type": "code",
   "execution_count": 4,
   "id": "8e36d8d7",
   "metadata": {},
   "outputs": [
    {
     "name": "stdout",
     "output_type": "stream",
     "text": [
      "[12, 9, 7, 5, 4, 2]\n"
     ]
    }
   ],
   "source": [
    "def reverseArrayInPlace(arr):\n",
    "    left = 0\n",
    "    right = len(arr) - 1\n",
    "\n",
    "    while left < right:\n",
    "        # Swap the elements at the left and right positions\n",
    "        arr[left], arr[right] = arr[right], arr[left]\n",
    "        left += 1\n",
    "        right -= 1\n",
    "\n",
    "# Example usage:\n",
    "arr = [2, 4, 5, 7, 9, 12]\n",
    "reverseArrayInPlace(arr)\n",
    "print(arr) "
   ]
  },
  {
   "cell_type": "markdown",
   "id": "fc0db643",
   "metadata": {},
   "source": [
    "### 4. Given an array of integers, find the maximum element in an array\n",
    "### arr = [10, 5, 20, 8, 15]\n",
    "### Output = 20"
   ]
  },
  {
   "cell_type": "code",
   "execution_count": 5,
   "id": "c7e19a20",
   "metadata": {},
   "outputs": [
    {
     "name": "stdout",
     "output_type": "stream",
     "text": [
      "20\n"
     ]
    }
   ],
   "source": [
    "arr = [10,5,20,8,15]\n",
    "# using in built max function\n",
    "output = max(arr)\n",
    "print(output)"
   ]
  },
  {
   "cell_type": "markdown",
   "id": "d2ea69d3",
   "metadata": {},
   "source": [
    "### 5. Given a sorted array, remove the duplicate element without using any extra data structure.\n",
    "### arr = [1, 1, 2, 2, 2, 3, 3, 4, 4, 4, 5, 5]\n",
    "### Output = [1, 2, 3, 4, 5]"
   ]
  },
  {
   "cell_type": "code",
   "execution_count": 6,
   "id": "08ebf482",
   "metadata": {},
   "outputs": [
    {
     "name": "stdout",
     "output_type": "stream",
     "text": [
      "[1, 2, 3, 4, 5]\n"
     ]
    }
   ],
   "source": [
    "def removeDuplicates(arr):\n",
    "    if not arr:\n",
    "        return []  # Return an empty array for an empty input\n",
    "\n",
    "    # Initialize pointers\n",
    "    write_index = 1\n",
    "\n",
    "    for read_index in range(1, len(arr)):\n",
    "        if arr[read_index] != arr[read_index - 1]:\n",
    "            # If the current element is different from the previous element,\n",
    "            # copy it to the write_index position and increment the write_index\n",
    "            arr[write_index] = arr[read_index]\n",
    "            write_index += 1\n",
    "\n",
    "    # Remove the extra elements from the end of the array\n",
    "    arr = arr[:write_index]\n",
    "\n",
    "    return arr\n",
    "\n",
    "# Example usage:\n",
    "arr = [1, 1, 2, 2, 2, 3, 3, 4, 4, 4, 5, 5]\n",
    "output = removeDuplicates(arr)\n",
    "print(output)  "
   ]
  }
 ],
 "metadata": {
  "kernelspec": {
   "display_name": "Python 3 (ipykernel)",
   "language": "python",
   "name": "python3"
  },
  "language_info": {
   "codemirror_mode": {
    "name": "ipython",
    "version": 3
   },
   "file_extension": ".py",
   "mimetype": "text/x-python",
   "name": "python",
   "nbconvert_exporter": "python",
   "pygments_lexer": "ipython3",
   "version": "3.9.13"
  }
 },
 "nbformat": 4,
 "nbformat_minor": 5
}
