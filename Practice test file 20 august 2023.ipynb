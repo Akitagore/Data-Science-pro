{
 "cells": [
  {
   "cell_type": "markdown",
   "id": "1ba90994",
   "metadata": {},
   "source": [
    "## Topic: String Based Assignment Problem"
   ]
  },
  {
   "cell_type": "markdown",
   "id": "e4872d34",
   "metadata": {},
   "source": [
    "### 1. Write a program to reverse a string."
   ]
  },
  {
   "cell_type": "code",
   "execution_count": 1,
   "id": "47316ee6",
   "metadata": {},
   "outputs": [
    {
     "data": {
      "text/plain": [
       "'atiknA'"
      ]
     },
     "execution_count": 1,
     "metadata": {},
     "output_type": "execute_result"
    }
   ],
   "source": [
    "string = \"Ankita\"\n",
    "string[::-1]"
   ]
  },
  {
   "cell_type": "markdown",
   "id": "fbfb768d",
   "metadata": {},
   "source": [
    "### 2. Check if a string is a palindrome."
   ]
  },
  {
   "cell_type": "code",
   "execution_count": 2,
   "id": "8ff2b6c4",
   "metadata": {},
   "outputs": [
    {
     "name": "stdout",
     "output_type": "stream",
     "text": [
      "string is a palindrome\n"
     ]
    }
   ],
   "source": [
    "string = \"racecar\"\n",
    "if string[::-1]==string[0::]:\n",
    "    print(\"string is a palindrome\")"
   ]
  },
  {
   "cell_type": "markdown",
   "id": "8c4483a8",
   "metadata": {},
   "source": [
    "### 3. Convert a string to uppercase."
   ]
  },
  {
   "cell_type": "code",
   "execution_count": 3,
   "id": "6be67d94",
   "metadata": {},
   "outputs": [
    {
     "data": {
      "text/plain": [
       "'ANKITA'"
      ]
     },
     "execution_count": 3,
     "metadata": {},
     "output_type": "execute_result"
    }
   ],
   "source": [
    "string = 'ankita'\n",
    "string.upper()"
   ]
  },
  {
   "cell_type": "markdown",
   "id": "7081e4b9",
   "metadata": {},
   "source": [
    "### 4. Convert a string to lowercase."
   ]
  },
  {
   "cell_type": "code",
   "execution_count": 4,
   "id": "fb538a0a",
   "metadata": {},
   "outputs": [
    {
     "data": {
      "text/plain": [
       "'ankita'"
      ]
     },
     "execution_count": 4,
     "metadata": {},
     "output_type": "execute_result"
    }
   ],
   "source": [
    "string = \"ANKITA\"\n",
    "string.lower()"
   ]
  },
  {
   "cell_type": "markdown",
   "id": "922f0627",
   "metadata": {},
   "source": [
    "### 5. Count the number of vowels in a string."
   ]
  },
  {
   "cell_type": "code",
   "execution_count": 5,
   "id": "1327db10",
   "metadata": {},
   "outputs": [
    {
     "name": "stdout",
     "output_type": "stream",
     "text": [
      "Number of vowels in a string  12\n"
     ]
    }
   ],
   "source": [
    "string = \"Encyclopedia\"\n",
    "vowels = ['a','e','i','o','u','A','E','I','O','U']\n",
    "count = 0\n",
    "for i in string:\n",
    "    if i in string:\n",
    "        count += 1\n",
    "print(\"Number of vowels in a string \", count)"
   ]
  },
  {
   "cell_type": "markdown",
   "id": "4c4eb15b",
   "metadata": {},
   "source": [
    "### 6. Count the number of consonants in a string."
   ]
  },
  {
   "cell_type": "code",
   "execution_count": 6,
   "id": "1888b3d9",
   "metadata": {},
   "outputs": [
    {
     "name": "stdout",
     "output_type": "stream",
     "text": [
      "Number of consonants in the string: 7\n"
     ]
    }
   ],
   "source": [
    "string = \"Encyclopedia\"\n",
    "vowels = ['a', 'e', 'i', 'o', 'u', 'A', 'E', 'I', 'O', 'U']\n",
    "count = 0\n",
    "\n",
    "for char in string:\n",
    "    if char.isalpha() and char not in vowels:\n",
    "        count += 1\n",
    "\n",
    "print(\"Number of consonants in the string:\", count)\n"
   ]
  },
  {
   "cell_type": "markdown",
   "id": "81875d69",
   "metadata": {},
   "source": [
    "### 7. Remove all whitespaces from a string."
   ]
  },
  {
   "cell_type": "code",
   "execution_count": 7,
   "id": "3146c7a5",
   "metadata": {},
   "outputs": [
    {
     "data": {
      "text/plain": [
       "'ankitagore'"
      ]
     },
     "execution_count": 7,
     "metadata": {},
     "output_type": "execute_result"
    }
   ],
   "source": [
    "string = \"ankita gore\"\n",
    "string.replace(' ','')"
   ]
  },
  {
   "cell_type": "markdown",
   "id": "abe7ddf2",
   "metadata": {},
   "source": [
    "### 8. Find the length of a string without using the `len()` function."
   ]
  },
  {
   "cell_type": "code",
   "execution_count": 8,
   "id": "794e5469",
   "metadata": {},
   "outputs": [
    {
     "name": "stdout",
     "output_type": "stream",
     "text": [
      "the length of string without using len function is  8\n"
     ]
    }
   ],
   "source": [
    "s = \"pwskills\"\n",
    "count = 0\n",
    "for char in s:\n",
    "    if char.isalpha():\n",
    "        count +=1\n",
    "print(\"the length of string without using len function is \", count)"
   ]
  },
  {
   "cell_type": "markdown",
   "id": "68e5ff45",
   "metadata": {},
   "source": [
    "### 9. Check if a string contains a specific word."
   ]
  },
  {
   "cell_type": "code",
   "execution_count": 9,
   "id": "491a0743",
   "metadata": {},
   "outputs": [
    {
     "name": "stdout",
     "output_type": "stream",
     "text": [
      "the string contains word 'skills'\n"
     ]
    }
   ],
   "source": [
    "s = 'pwskills'\n",
    "if 'skills' in s :\n",
    "    print(\"the string contains word 'skills'\")\n",
    "else:\n",
    "    print(\"The string does not contain the word skills\")"
   ]
  },
  {
   "cell_type": "markdown",
   "id": "1487feff",
   "metadata": {},
   "source": [
    "### 10. Replace a word in a string with another word."
   ]
  },
  {
   "cell_type": "code",
   "execution_count": 10,
   "id": "e071879f",
   "metadata": {},
   "outputs": [
    {
     "data": {
      "text/plain": [
       "'Butterfly looks pretty'"
      ]
     },
     "execution_count": 10,
     "metadata": {},
     "output_type": "execute_result"
    }
   ],
   "source": [
    "string = \"Butterfly looks beautiful\"\n",
    "string.replace(\"beautiful\",'pretty')"
   ]
  },
  {
   "cell_type": "markdown",
   "id": "bbb2eb3f",
   "metadata": {},
   "source": [
    "### 11. Count the occurrences of a word in a string."
   ]
  },
  {
   "cell_type": "code",
   "execution_count": 11,
   "id": "aa500975",
   "metadata": {},
   "outputs": [
    {
     "name": "stdout",
     "output_type": "stream",
     "text": [
      "The word 'string' appears '2' times in a string.\n"
     ]
    }
   ],
   "source": [
    "def count_word_occurences(string, word):\n",
    "    return string.count(word)\n",
    "\n",
    "input_string = \"this is a sample string in which string word is repeated\"\n",
    "target_word = 'string'\n",
    "\n",
    "occurences = count_word_occurences(input_string, target_word)\n",
    "print(f\"The word '{target_word}' appears '{occurences}' times in a string.\")"
   ]
  },
  {
   "cell_type": "markdown",
   "id": "60a72803",
   "metadata": {},
   "source": [
    "### 12. Find the first occurrence of a word in a string."
   ]
  },
  {
   "cell_type": "code",
   "execution_count": 12,
   "id": "0cca1c7c",
   "metadata": {},
   "outputs": [
    {
     "name": "stdout",
     "output_type": "stream",
     "text": [
      "The first occurrence of 'string' starts at index 17.\n"
     ]
    }
   ],
   "source": [
    "def find_first_occurrence(string, word):\n",
    "    index = string.find(word)\n",
    "    return index\n",
    "\n",
    "# Example usage:\n",
    "input_string = \"This is a sample string, and this string has some repeated words in it. This string is just an example.\"\n",
    "target_word = \"string\"\n",
    "\n",
    "first_occurrence_index = find_first_occurrence(input_string, target_word)\n",
    "\n",
    "if first_occurrence_index != -1:\n",
    "    print(f\"The first occurrence of '{target_word}' starts at index {first_occurrence_index}.\")\n",
    "else:\n",
    "    print(f\"'{target_word}' was not found in the string.\")\n"
   ]
  },
  {
   "cell_type": "markdown",
   "id": "dcd0aaaf",
   "metadata": {},
   "source": [
    "### 13. Find the last occurrence of a word in a string."
   ]
  },
  {
   "cell_type": "code",
   "execution_count": 13,
   "id": "20db65d9",
   "metadata": {},
   "outputs": [
    {
     "name": "stdout",
     "output_type": "stream",
     "text": [
      "The last occurrence of 'string' starts at index 77.\n"
     ]
    }
   ],
   "source": [
    "def find_last_occurrence(string, word):\n",
    "    index = string.rfind(word)\n",
    "    return index\n",
    "\n",
    "# Example usage:\n",
    "input_string = \"This is a sample string, and this string has some repeated words in it. This string is just an example.\"\n",
    "target_word = \"string\"\n",
    "\n",
    "last_occurrence_index = find_last_occurrence(input_string, target_word)\n",
    "\n",
    "if last_occurrence_index != -1:\n",
    "    print(f\"The last occurrence of '{target_word}' starts at index {last_occurrence_index}.\")\n",
    "else:\n",
    "    print(f\"'{target_word}' was not found in the string.\")\n"
   ]
  },
  {
   "cell_type": "markdown",
   "id": "556862b4",
   "metadata": {},
   "source": [
    "### 14. Split a string into a list of words."
   ]
  },
  {
   "cell_type": "code",
   "execution_count": 14,
   "id": "145a4917",
   "metadata": {},
   "outputs": [
    {
     "data": {
      "text/plain": [
       "['This', 'is', 'a', 'list', 'of', 'string']"
      ]
     },
     "execution_count": 14,
     "metadata": {},
     "output_type": "execute_result"
    }
   ],
   "source": [
    "string = \"This is a list of string\"\n",
    "string.split()"
   ]
  },
  {
   "cell_type": "markdown",
   "id": "f8eabc61",
   "metadata": {},
   "source": [
    "### 15. Join a list of words into a string."
   ]
  },
  {
   "cell_type": "code",
   "execution_count": 15,
   "id": "c6d3f6e4",
   "metadata": {},
   "outputs": [
    {
     "name": "stdout",
     "output_type": "stream",
     "text": [
      "This is a list of string\n"
     ]
    }
   ],
   "source": [
    "list_of_words = ['This','is', 'a', 'list','of','string']\n",
    "join = \" \".join(list_of_words)\n",
    "print(join)"
   ]
  },
  {
   "cell_type": "markdown",
   "id": "c45cb09d",
   "metadata": {},
   "source": [
    "### 16. Convert a string where words are separated by spaces to one where words are separated by underscores."
   ]
  },
  {
   "cell_type": "code",
   "execution_count": 16,
   "id": "b3e7d63a",
   "metadata": {},
   "outputs": [
    {
     "name": "stdout",
     "output_type": "stream",
     "text": [
      "This_is_a_string\n"
     ]
    }
   ],
   "source": [
    "string_with_space = \"This is a string\"\n",
    "convert = string_with_space.replace(' ', '_')\n",
    "print(convert)"
   ]
  },
  {
   "cell_type": "markdown",
   "id": "d0dda68e",
   "metadata": {},
   "source": [
    "### 17. Check if a string starts with a specific word or phrase."
   ]
  },
  {
   "cell_type": "code",
   "execution_count": 17,
   "id": "1954d444",
   "metadata": {},
   "outputs": [
    {
     "name": "stdout",
     "output_type": "stream",
     "text": [
      "True\n"
     ]
    }
   ],
   "source": [
    "string = 'this is a string.'\n",
    "check = string.startswith('this')\n",
    "print(check)"
   ]
  },
  {
   "cell_type": "code",
   "execution_count": 18,
   "id": "d872ede6",
   "metadata": {},
   "outputs": [
    {
     "name": "stdout",
     "output_type": "stream",
     "text": [
      "The string starts with 'this'.\n"
     ]
    }
   ],
   "source": [
    "string = 'this is a string.'\n",
    "specific_word = 'this'\n",
    "if string.startswith(specific_word):\n",
    "    print(f\"The string starts with '{specific_word}'.\")\n",
    "else:\n",
    "    print(f\"The string does not starts with '{specific_word}'.\")"
   ]
  },
  {
   "cell_type": "markdown",
   "id": "11ca5dc6",
   "metadata": {},
   "source": [
    "### 18. Check if a string ends with a specific word or phrase.\n"
   ]
  },
  {
   "cell_type": "code",
   "execution_count": 19,
   "id": "6ebc01ae",
   "metadata": {
    "scrolled": true
   },
   "outputs": [
    {
     "name": "stdout",
     "output_type": "stream",
     "text": [
      "The string does not ends with 'this'.\n"
     ]
    }
   ],
   "source": [
    "string = 'this is a string.'\n",
    "specific_word = 'this'\n",
    "if string.endswith(specific_word):\n",
    "    print(f\"The string ends with '{specific_word}'.\")\n",
    "else:\n",
    "    print(f\"The string does not ends with '{specific_word}'.\")"
   ]
  },
  {
   "cell_type": "markdown",
   "id": "86e72c24",
   "metadata": {},
   "source": [
    "### 19. Convert a string to title case (e.g., \"hello world\" to \"Hello World\")."
   ]
  },
  {
   "cell_type": "code",
   "execution_count": 20,
   "id": "6422e8a3",
   "metadata": {},
   "outputs": [
    {
     "data": {
      "text/plain": [
       "'Hello World'"
      ]
     },
     "execution_count": 20,
     "metadata": {},
     "output_type": "execute_result"
    }
   ],
   "source": [
    "greet = \"hello world\"\n",
    "greet.title()"
   ]
  },
  {
   "cell_type": "markdown",
   "id": "14ae0ef0",
   "metadata": {},
   "source": [
    "### 20. Find the longest word in a string."
   ]
  },
  {
   "cell_type": "code",
   "execution_count": 21,
   "id": "d13e7e3e",
   "metadata": {},
   "outputs": [
    {
     "name": "stdout",
     "output_type": "stream",
     "text": [
      "The longest word is: example\n"
     ]
    }
   ],
   "source": [
    "def find_longest_word(input_string):\n",
    "    # Split the input string into words using whitespace as the separator\n",
    "    words = input_string.split()\n",
    "\n",
    "    # Initialize the longest word variable with an empty string\n",
    "    longest_word = \"\"\n",
    "\n",
    "    # Iterate through each word in the list\n",
    "    for word in words:\n",
    "        # Check if the current word is longer than the longest word found so far\n",
    "        if len(word) > len(longest_word):\n",
    "            longest_word = word\n",
    "\n",
    "    return longest_word\n",
    "\n",
    "# Example usage\n",
    "input_string = \"This is a simple example string with some long words.\"\n",
    "longest = find_longest_word(input_string)\n",
    "print(\"The longest word is:\", longest)"
   ]
  },
  {
   "cell_type": "markdown",
   "id": "10031947",
   "metadata": {},
   "source": [
    "### 21. Find the shortest word in a string."
   ]
  },
  {
   "cell_type": "code",
   "execution_count": 22,
   "id": "dc758b12",
   "metadata": {},
   "outputs": [
    {
     "name": "stdout",
     "output_type": "stream",
     "text": [
      "The short word is: a\n"
     ]
    }
   ],
   "source": [
    "def find_short_word(input_string):\n",
    "    # Split the input string into words using whitespace as the separator\n",
    "    words = input_string.split()\n",
    "\n",
    "    # Initialize the short word variable with an empty string\n",
    "    short_word = \"\"\n",
    "\n",
    "    # Iterate through each word in the list\n",
    "    for word in words:\n",
    "        # Check if the current word is shorter than the shortest word found so far\n",
    "        if len(word) < len(short_word) or short_word ==\"\":\n",
    "            short_word = word\n",
    "\n",
    "    return short_word\n",
    "\n",
    "# Example usage\n",
    "input_string = \"This is a simple example string with some long words.\"\n",
    "short = find_short_word(input_string)\n",
    "print(\"The short word is:\", short)"
   ]
  },
  {
   "cell_type": "markdown",
   "id": "ad691039",
   "metadata": {},
   "source": [
    "### 22. Reverse the order of words in a string."
   ]
  },
  {
   "cell_type": "code",
   "execution_count": 23,
   "id": "228aec1e",
   "metadata": {},
   "outputs": [],
   "source": [
    "def reverse_words_of_string(input_string):\n",
    "    words = input_string.split()\n",
    "    reversed_words = list(reversed(words))\n",
    "    reversed_string = ' '.join(reversed_words)\n",
    "    return reversed_string"
   ]
  },
  {
   "cell_type": "code",
   "execution_count": 24,
   "id": "83e4c6e2",
   "metadata": {},
   "outputs": [
    {
     "name": "stdout",
     "output_type": "stream",
     "text": [
      "Reversed string: words of order the reversing for use string my is This\n"
     ]
    }
   ],
   "source": [
    "input_string = 'This is my string use for reversing the order of words'\n",
    "reversed_string = reverse_words_of_string(input_string)\n",
    "print(\"Reversed string:\", reversed_string)"
   ]
  },
  {
   "cell_type": "markdown",
   "id": "ee2b1854",
   "metadata": {},
   "source": [
    "### 23. Check if a string is alphanumeric."
   ]
  },
  {
   "cell_type": "code",
   "execution_count": 25,
   "id": "704f5fee",
   "metadata": {},
   "outputs": [
    {
     "name": "stdout",
     "output_type": "stream",
     "text": [
      "input_string is alphanumeric\n"
     ]
    }
   ],
   "source": [
    "def check_alphanum(input_string):\n",
    "    if input_string.isalnum():\n",
    "        print(\"input_string is alphanumeric\")\n",
    "    else:\n",
    "        print(\"input_string is not alphanumeric\")\n",
    "\n",
    "string = \"abcder5645647\"\n",
    "check_alphanum(string)\n"
   ]
  },
  {
   "cell_type": "markdown",
   "id": "3d7de280",
   "metadata": {},
   "source": [
    "### 24. Extract all digits from a string."
   ]
  },
  {
   "cell_type": "code",
   "execution_count": 26,
   "id": "0c3f9388",
   "metadata": {},
   "outputs": [
    {
     "name": "stdout",
     "output_type": "stream",
     "text": [
      "Extracted digits: 123456\n"
     ]
    }
   ],
   "source": [
    "def extract_digits(input_string):\n",
    "    # Initialize an empty string to store the extracted digits\n",
    "    extracted_digits = \"\"\n",
    "\n",
    "    # Iterate through each character in the input string\n",
    "    for char in input_string:\n",
    "        # Check if the character is a digit\n",
    "        if char.isdigit():\n",
    "            extracted_digits += char  # Append the digit to the result string\n",
    "\n",
    "    return extracted_digits\n",
    "\n",
    "# Example usage\n",
    "input_string = \"abc123def456\"\n",
    "result = extract_digits(input_string)\n",
    "print(\"Extracted digits:\", result)"
   ]
  },
  {
   "cell_type": "markdown",
   "id": "164786b5",
   "metadata": {},
   "source": [
    "### 25. Extract all alphabets from a string."
   ]
  },
  {
   "cell_type": "code",
   "execution_count": 27,
   "id": "614a5d24",
   "metadata": {},
   "outputs": [
    {
     "name": "stdout",
     "output_type": "stream",
     "text": [
      "Extracted alphabets: abcdef\n"
     ]
    }
   ],
   "source": [
    "def extract_alpha(input_string):\n",
    "    # Initialize an empty string to store the extracted digits\n",
    "    extracted_alpha = \"\"\n",
    "\n",
    "    # Iterate through each character in the input string\n",
    "    for char in input_string:\n",
    "        # Check if the character is a digit\n",
    "        if char.isalpha():\n",
    "            extracted_alpha += char  # Append the digit to the result string\n",
    "\n",
    "    return extracted_alpha\n",
    "\n",
    "# Example usage\n",
    "input_string = \"abc123def456\"\n",
    "result = extract_alpha(input_string)\n",
    "print(\"Extracted alphabets:\", result)"
   ]
  },
  {
   "cell_type": "markdown",
   "id": "f867270a",
   "metadata": {},
   "source": [
    "### 26. Count the number of uppercase letters in a string."
   ]
  },
  {
   "cell_type": "code",
   "execution_count": 28,
   "id": "fcf5456a",
   "metadata": {},
   "outputs": [],
   "source": [
    "def count_uppercase(input_string):\n",
    "    count = 0\n",
    "    for char in input_string:\n",
    "        if char.isupper():\n",
    "            count += 1\n",
    "    return count"
   ]
  },
  {
   "cell_type": "code",
   "execution_count": 29,
   "id": "fd34001c",
   "metadata": {},
   "outputs": [
    {
     "data": {
      "text/plain": [
       "2"
      ]
     },
     "execution_count": 29,
     "metadata": {},
     "output_type": "execute_result"
    }
   ],
   "source": [
    "count_uppercase(\"AnkitaGore\")"
   ]
  },
  {
   "cell_type": "markdown",
   "id": "8b474bc0",
   "metadata": {},
   "source": [
    "### 27. Count the number of lowercase letters in a string."
   ]
  },
  {
   "cell_type": "code",
   "execution_count": 30,
   "id": "2743c93a",
   "metadata": {},
   "outputs": [],
   "source": [
    "def count_lowercase(input_string):\n",
    "    count = 0\n",
    "    for char in input_string:\n",
    "        if char.islower():\n",
    "            count += 1\n",
    "    return count"
   ]
  },
  {
   "cell_type": "code",
   "execution_count": 31,
   "id": "06721a00",
   "metadata": {},
   "outputs": [
    {
     "data": {
      "text/plain": [
       "8"
      ]
     },
     "execution_count": 31,
     "metadata": {},
     "output_type": "execute_result"
    }
   ],
   "source": [
    "count_lowercase(\"AnkitaGore\")"
   ]
  },
  {
   "cell_type": "markdown",
   "id": "2c857e49",
   "metadata": {},
   "source": [
    "### 28. Swap the case of each character in a string."
   ]
  },
  {
   "cell_type": "code",
   "execution_count": 32,
   "id": "e582119c",
   "metadata": {},
   "outputs": [
    {
     "data": {
      "text/plain": [
       "'aNKITA'"
      ]
     },
     "execution_count": 32,
     "metadata": {},
     "output_type": "execute_result"
    }
   ],
   "source": [
    "a = 'Ankita'\n",
    "a.swapcase()"
   ]
  },
  {
   "cell_type": "markdown",
   "id": "003260b5",
   "metadata": {},
   "source": [
    "### 29. Remove a specific word from a string."
   ]
  },
  {
   "cell_type": "code",
   "execution_count": 33,
   "id": "3fd6e2fe",
   "metadata": {},
   "outputs": [
    {
     "name": "stdout",
     "output_type": "stream",
     "text": [
      "Modified string: This is a  sentence. Remove the word '' from it.\n"
     ]
    }
   ],
   "source": [
    "def remove_word(input_string, word_to_remove):\n",
    "    # Use str.replace() to replace the word with an empty string\n",
    "    result_string = input_string.replace(word_to_remove, '')\n",
    "\n",
    "    return result_string\n",
    "\n",
    "# Example usage\n",
    "input_string = \"This is a sample sentence. Remove the word 'sample' from it.\"\n",
    "word_to_remove = \"sample\"\n",
    "result = remove_word(input_string, word_to_remove)\n",
    "print(\"Modified string:\", result)"
   ]
  },
  {
   "cell_type": "markdown",
   "id": "c9a4804b",
   "metadata": {},
   "source": [
    "### 30. Check if a string is a valid email address."
   ]
  },
  {
   "cell_type": "code",
   "execution_count": 34,
   "id": "d0a40948",
   "metadata": {},
   "outputs": [],
   "source": [
    "def check_email(input_email):\n",
    "    Email_id = 'ankita@gmail.com'\n",
    "    if input_email == Email_id:\n",
    "        print(\"given mail id is valid\")\n",
    "    else:\n",
    "        print(\"given mail id is not valid\")\n"
   ]
  },
  {
   "cell_type": "code",
   "execution_count": 35,
   "id": "00d299fe",
   "metadata": {
    "scrolled": true
   },
   "outputs": [
    {
     "name": "stdout",
     "output_type": "stream",
     "text": [
      " enter your email addressankita@gmail.com\n",
      "given mail id is valid\n"
     ]
    }
   ],
   "source": [
    "user_input = input(\" enter your email address\")\n",
    "check_email(user_input)"
   ]
  },
  {
   "cell_type": "markdown",
   "id": "6fa31ed0",
   "metadata": {},
   "source": [
    "### 31. Extract the username from an email address string."
   ]
  },
  {
   "cell_type": "code",
   "execution_count": 36,
   "id": "ff305d1b",
   "metadata": {},
   "outputs": [
    {
     "name": "stdout",
     "output_type": "stream",
     "text": [
      "username: ankitaghjgj3263\n"
     ]
    }
   ],
   "source": [
    "def extract_username(email):\n",
    "    parts = email.split(\"@\")\n",
    "    if len(parts) == 2:\n",
    "        username = parts[0]\n",
    "        return username\n",
    "    else:\n",
    "        return \"Invalid email format\"\n",
    "\n",
    "    \n",
    "email_add = 'ankitaghjgj3263@gmail.com'\n",
    "\n",
    "username = extract_username(email_add)\n",
    "print(\"username:\", username)"
   ]
  },
  {
   "cell_type": "markdown",
   "id": "70269cd4",
   "metadata": {},
   "source": [
    "### 32. Extract the domain name from an email address string"
   ]
  },
  {
   "cell_type": "code",
   "execution_count": 37,
   "id": "2e34bfe3",
   "metadata": {},
   "outputs": [
    {
     "name": "stdout",
     "output_type": "stream",
     "text": [
      "domain name is: gmail.com\n"
     ]
    }
   ],
   "source": [
    "def extract_domain(email):\n",
    "    parts = email.split(\"@\")\n",
    "    if len(parts)==2:\n",
    "        domain_name = parts[1]\n",
    "        return domain_name\n",
    "    else:\n",
    "        return \"invelid email format\"\n",
    "email_add = \"ankitagore@gmail.com\"\n",
    "domain_name = extract_domain(email_add)\n",
    "print(\"domain name is:\",domain_name)"
   ]
  },
  {
   "cell_type": "markdown",
   "id": "e6f62f68",
   "metadata": {},
   "source": [
    "### 33. Replace multiple spaces in a string with a single space."
   ]
  },
  {
   "cell_type": "code",
   "execution_count": 38,
   "id": "5b07fea6",
   "metadata": {},
   "outputs": [
    {
     "name": "stdout",
     "output_type": "stream",
     "text": [
      "This is a string with multiple spaces.\n"
     ]
    }
   ],
   "source": [
    "def replace_multiple_spaces_with_single_space(input_string):\n",
    "    # Split the string into words based on spaces\n",
    "    words = input_string.split()\n",
    "    \n",
    "    # Join the words with a single space to remove extra spaces\n",
    "    return ' '.join(words)\n",
    "\n",
    "# Example usage\n",
    "original_string = \"This    is   a   string   with     multiple     spaces.\"\n",
    "result = replace_multiple_spaces_with_single_space(original_string)\n",
    "print(result)\n"
   ]
  },
  {
   "cell_type": "markdown",
   "id": "62c4abed",
   "metadata": {},
   "source": [
    "### 34. Check if a string is a valid URL."
   ]
  },
  {
   "cell_type": "code",
   "execution_count": 39,
   "id": "a194015e",
   "metadata": {},
   "outputs": [
    {
     "name": "stdout",
     "output_type": "stream",
     "text": [
      "https://www.example.com is a valid URL.\n"
     ]
    }
   ],
   "source": [
    "from urllib.parse import urlparse\n",
    "\n",
    "def is_valid_url(url):\n",
    "    try:\n",
    "        result = urlparse(url)\n",
    "        return all([result.scheme, result.netloc])\n",
    "    except ValueError:\n",
    "        return False\n",
    "\n",
    "# Example usage\n",
    "url = \"https://www.example.com\"\n",
    "if is_valid_url(url):\n",
    "    print(f\"{url} is a valid URL.\")\n",
    "else:\n",
    "    print(f\"{url} is not a valid URL.\")\n"
   ]
  },
  {
   "cell_type": "markdown",
   "id": "e1e38ad3",
   "metadata": {},
   "source": [
    "### 35. Extract the protocol (http or https) from a URL string."
   ]
  },
  {
   "cell_type": "code",
   "execution_count": 40,
   "id": "224a301b",
   "metadata": {},
   "outputs": [
    {
     "name": "stdout",
     "output_type": "stream",
     "text": [
      "https\n",
      "http\n"
     ]
    }
   ],
   "source": [
    "def extract_protocol(url):\n",
    "    # Find the index of the first occurrence of \"://\"\n",
    "    protocol_end = url.find(\"://\")\n",
    "\n",
    "    if protocol_end != -1:\n",
    "        # Extract the protocol from the URL\n",
    "        protocol = url[:protocol_end]\n",
    "        return protocol\n",
    "    else:\n",
    "        return None\n",
    "\n",
    "url1 = \"https://www.google.com\"\n",
    "url2 = 'http://www.google.com'\n",
    "print(extract_protocol(url1))\n",
    "print(extract_protocol(url2))"
   ]
  },
  {
   "cell_type": "markdown",
   "id": "c225119c",
   "metadata": {},
   "source": [
    "### 36. Find the frequency of each character in a string."
   ]
  },
  {
   "cell_type": "code",
   "execution_count": 41,
   "id": "157a2f64",
   "metadata": {},
   "outputs": [],
   "source": [
    "def character_frequency(input_string):\n",
    "    frequency = {}  # Create an empty dictionary to store character frequencies\n",
    "\n",
    "    for char in input_string:\n",
    "        if char in frequency:\n",
    "            frequency[char] += 1  \n",
    "        else:\n",
    "            frequency[char] = 1   \n",
    "\n",
    "    return frequency\n",
    "\n"
   ]
  },
  {
   "cell_type": "markdown",
   "id": "21fdce12",
   "metadata": {},
   "source": [
    "### 37. Remove all punctuation from a string."
   ]
  },
  {
   "cell_type": "code",
   "execution_count": 42,
   "id": "217d0a70",
   "metadata": {},
   "outputs": [
    {
     "name": "stdout",
     "output_type": "stream",
     "text": [
      "Hello Friend How are you\n"
     ]
    }
   ],
   "source": [
    "import string\n",
    "def remove_punctuation(input_string):\n",
    "    translator = str.maketrans(\"\",\"\",string.punctuation)\n",
    "    clean_string = input_string.translate(translator)\n",
    "    return clean_string\n",
    "\n",
    "input_string = \"Hello, Friend! How are you?\"\n",
    "clean_string = remove_punctuation(input_string)\n",
    "print(clean_string)"
   ]
  },
  {
   "cell_type": "markdown",
   "id": "d449a26d",
   "metadata": {},
   "source": [
    "### 38. Check if a string contains only digits."
   ]
  },
  {
   "cell_type": "code",
   "execution_count": 43,
   "id": "2e301afb",
   "metadata": {},
   "outputs": [
    {
     "name": "stdout",
     "output_type": "stream",
     "text": [
      "True\n",
      "False\n"
     ]
    }
   ],
   "source": [
    "def contains_digit_only(string):\n",
    "    return string.isdigit()\n",
    "\n",
    "string1 = \"78976\"\n",
    "string2 = \"hello6746\"\n",
    "\n",
    "check1= contains_digit_only(string1)\n",
    "check2 = contains_digit_only(string2)\n",
    "\n",
    "print(check1)\n",
    "print(check2)"
   ]
  },
  {
   "cell_type": "markdown",
   "id": "96f7ff0f",
   "metadata": {},
   "source": [
    "### 39. Check if a string contains only alphabets."
   ]
  },
  {
   "cell_type": "code",
   "execution_count": 44,
   "id": "fd874567",
   "metadata": {},
   "outputs": [
    {
     "name": "stdout",
     "output_type": "stream",
     "text": [
      "'78976' contains only alphabets: False\n",
      "'hello6746' contains only alphabets: False\n",
      "'helloworld' contains only alphabets: True\n"
     ]
    }
   ],
   "source": [
    "def check_alpha_only(string):\n",
    "    return string.isalpha()\n",
    "string1 = \"78976\"\n",
    "string2 = \"hello6746\"\n",
    "string3 = \"helloworld\"\n",
    "\n",
    "result1 = check_alpha_only(string1)\n",
    "result2 = check_alpha_only(string2)\n",
    "result3 = check_alpha_only(string3)\n",
    "\n",
    "print(f\"'{string1}' contains only alphabets:\", result1)\n",
    "print(f\"'{string2}' contains only alphabets:\", result2)\n",
    "print(f\"'{string3}' contains only alphabets:\", result3)\n"
   ]
  },
  {
   "cell_type": "markdown",
   "id": "eaffab60",
   "metadata": {},
   "source": [
    "### 40. Convert a string to a list of characters."
   ]
  },
  {
   "cell_type": "code",
   "execution_count": 45,
   "id": "e9c00b04",
   "metadata": {},
   "outputs": [
    {
     "name": "stdout",
     "output_type": "stream",
     "text": [
      "['s', 'h', 'e', ' ', 'i', 's', ' ', 'b', 'e', 'a', 'u', 't', 'i', 'f', 'u', 'l']\n"
     ]
    }
   ],
   "source": [
    "def str_to_list(string):\n",
    "    char_list = list(string)\n",
    "    return char_list\n",
    "\n",
    "string = 'she is beautiful'\n",
    "char_list = str_to_list(string)\n",
    "print(char_list)"
   ]
  },
  {
   "cell_type": "markdown",
   "id": "f1bc46bf",
   "metadata": {},
   "source": [
    "### 41. Check if two strings are anagrams."
   ]
  },
  {
   "cell_type": "code",
   "execution_count": 46,
   "id": "6a2e8a80",
   "metadata": {},
   "outputs": [
    {
     "name": "stdout",
     "output_type": "stream",
     "text": [
      "'listen' and 'silent' are anagrams: True\n",
      "'hello' and 'world' are anagrams: False\n"
     ]
    }
   ],
   "source": [
    "def are_anagrams(str1, str2):\n",
    "    str1 = str1.replace(\" \", \"\").lower()\n",
    "    str2 = str2.replace(\" \", \"\").lower()\n",
    "    return sorted(str1) == sorted(str2)\n",
    "\n",
    "string1 = \"listen\"\n",
    "string2 = \"silent\"\n",
    "string3 = \"hello\"\n",
    "string4 = \"world\"\n",
    "\n",
    "result1 = are_anagrams(string1, string2)\n",
    "result2 = are_anagrams(string3, string4)\n",
    "\n",
    "print(f\"'{string1}' and '{string2}' are anagrams:\", result1)\n",
    "print(f\"'{string3}' and '{string4}' are anagrams:\", result2)"
   ]
  },
  {
   "cell_type": "markdown",
   "id": "7ae35390",
   "metadata": {},
   "source": [
    "### 42. Encode a string using a Caesar cipher."
   ]
  },
  {
   "cell_type": "code",
   "execution_count": 47,
   "id": "98d46c87",
   "metadata": {},
   "outputs": [
    {
     "name": "stdout",
     "output_type": "stream",
     "text": [
      "Khoor, Zruog!\n"
     ]
    }
   ],
   "source": [
    "def caesar_cipher_encode(text, shift):\n",
    "    encoded_text = \"\"\n",
    "    for char in text:\n",
    "        if char.isalpha():\n",
    "            # Determine whether the character is uppercase or lowercase.\n",
    "            is_upper = char.isupper()\n",
    "            char = char.lower()\n",
    "            \n",
    "            # Apply the Caesar cipher shift to the character.\n",
    "            shifted_char = chr(((ord(char) - ord('a') + shift) % 26) + ord('a'))\n",
    "            \n",
    "            # Convert back to uppercase if the original character was uppercase.\n",
    "            if is_upper:\n",
    "                shifted_char = shifted_char.upper()\n",
    "            \n",
    "            encoded_text += shifted_char\n",
    "        else:\n",
    "            # If the character is not a letter, leave it unchanged.\n",
    "            encoded_text += char\n",
    "    \n",
    "    return encoded_text\n",
    "\n",
    "# Example usage:\n",
    "text = \"Hello, World!\"\n",
    "shift = 3\n",
    "encoded_text = caesar_cipher_encode(text, shift)\n",
    "print(encoded_text)\n"
   ]
  },
  {
   "cell_type": "markdown",
   "id": "86b1cdf8",
   "metadata": {},
   "source": [
    "### 43. Decode a Caesar cipher encoded string."
   ]
  },
  {
   "cell_type": "code",
   "execution_count": 48,
   "id": "da9ea8ea",
   "metadata": {},
   "outputs": [
    {
     "name": "stdout",
     "output_type": "stream",
     "text": [
      "Hello, World!\n"
     ]
    }
   ],
   "source": [
    "def caesar_cipher_decode(encoded_text, shift):\n",
    "    decoded_text = \"\"\n",
    "    for char in encoded_text:\n",
    "        if char.isalpha():\n",
    "            # Determine whether the character is uppercase or lowercase.\n",
    "            is_upper = char.isupper()\n",
    "            char = char.lower()\n",
    "            \n",
    "            # Apply the reverse Caesar cipher shift to the character.\n",
    "            shifted_char = chr(((ord(char) - ord('a') - shift) % 26) + ord('a'))\n",
    "            \n",
    "            # Convert back to uppercase if the original character was uppercase.\n",
    "            if is_upper:\n",
    "                shifted_char = shifted_char.upper()\n",
    "            \n",
    "            decoded_text += shifted_char\n",
    "        else:\n",
    "            # If the character is not a letter, leave it unchanged.\n",
    "            decoded_text += char\n",
    "    \n",
    "    return decoded_text\n",
    "\n",
    "# Example usage:\n",
    "encoded_text = \"Khoor, Zruog!\"\n",
    "shift = 3\n",
    "decoded_text = caesar_cipher_decode(encoded_text, shift)\n",
    "print(decoded_text)\n"
   ]
  },
  {
   "cell_type": "markdown",
   "id": "ae876306",
   "metadata": {},
   "source": [
    "### 44. Find the most frequent word in a string."
   ]
  },
  {
   "cell_type": "code",
   "execution_count": 49,
   "id": "21df9e06",
   "metadata": {},
   "outputs": [
    {
     "name": "stdout",
     "output_type": "stream",
     "text": [
      "The most frequent word is 'sample' with a frequency of 3.\n"
     ]
    }
   ],
   "source": [
    "from collections import Counter\n",
    "import re\n",
    "\n",
    "def most_frequent_word(text):\n",
    "    # Split the text into words using regular expressions.\n",
    "    words = re.findall(r'\\w+', text.lower())  # Convert to lowercase for case insensitivity.\n",
    "\n",
    "    # Use Counter to count the frequency of each word.\n",
    "    word_count = Counter(words)\n",
    "\n",
    "    # Find the most common word.\n",
    "    most_common_word, frequency = word_count.most_common(1)[0]\n",
    "\n",
    "    return most_common_word, frequency\n",
    "\n",
    "# Example usage:\n",
    "text = \"This is a sample string. It contains some sample words, and this is one of them. Sample.\"\n",
    "most_common_word, frequency = most_frequent_word(text)\n",
    "print(f\"The most frequent word is '{most_common_word}' with a frequency of {frequency}.\")\n"
   ]
  },
  {
   "cell_type": "markdown",
   "id": "fe3b8307",
   "metadata": {},
   "source": [
    "### 45. Find all unique words in a string."
   ]
  },
  {
   "cell_type": "code",
   "execution_count": 50,
   "id": "2bd3e247",
   "metadata": {},
   "outputs": [
    {
     "name": "stdout",
     "output_type": "stream",
     "text": [
      "Unique words in the text:\n",
      "is\n",
      "some\n",
      "and\n",
      "of\n",
      "this\n",
      "a\n",
      "it\n",
      "string\n",
      "sample\n",
      "them\n",
      "contains\n",
      "one\n",
      "words\n"
     ]
    }
   ],
   "source": [
    "import re\n",
    "\n",
    "def find_unique_words(text):\n",
    "    # Tokenize the text into words using regular expressions.\n",
    "    words = re.findall(r'\\w+', text.lower())  # Convert to lowercase for case insensitivity.\n",
    "\n",
    "    # Use a set to store unique words.\n",
    "    unique_words = set(words)\n",
    "\n",
    "    return unique_words\n",
    "\n",
    "# Example usage:\n",
    "text = \"This is a sample string. It contains some sample words, and this is one of them. Sample.\"\n",
    "unique_words = find_unique_words(text)\n",
    "\n",
    "print(\"Unique words in the text:\")\n",
    "for word in unique_words:\n",
    "    print(word)\n"
   ]
  },
  {
   "cell_type": "markdown",
   "id": "debdf994",
   "metadata": {},
   "source": [
    "### 46. Count the number of syllables in a string."
   ]
  },
  {
   "cell_type": "code",
   "execution_count": 51,
   "id": "89283d6e",
   "metadata": {},
   "outputs": [
    {
     "name": "stdout",
     "output_type": "stream",
     "text": [
      "'apple' has 2 syllables.\n",
      "'world' has 1 syllables.\n",
      "'syllable' has 3 syllables.\n"
     ]
    }
   ],
   "source": [
    "import re\n",
    "\n",
    "def count_syllables(word):\n",
    "    # Count vowel groups using regular expression\n",
    "    vowel_groups = re.findall(r'[aeiouy]+', word, re.IGNORECASE)\n",
    "\n",
    "    return len(vowel_groups)\n",
    "\n",
    "# Example words\n",
    "word1 = \"apple\"\n",
    "word2 = \"world\"\n",
    "word3 = \"syllable\"\n",
    "\n",
    "# Count syllables\n",
    "syllables1 = count_syllables(word1)\n",
    "syllables2 = count_syllables(word2)\n",
    "syllables3 = count_syllables(word3)\n",
    "\n",
    "# Print the results\n",
    "print(f\"'{word1}' has {syllables1} syllables.\")\n",
    "print(f\"'{word2}' has {syllables2} syllables.\")\n",
    "print(f\"'{word3}' has {syllables3} syllables.\")"
   ]
  },
  {
   "cell_type": "markdown",
   "id": "423da91b",
   "metadata": {},
   "source": [
    "### 47. Check if a string contains any special characters."
   ]
  },
  {
   "cell_type": "code",
   "execution_count": 52,
   "id": "6f91a80f",
   "metadata": {},
   "outputs": [
    {
     "name": "stdout",
     "output_type": "stream",
     "text": [
      "'Hello, world!' contains special characters: True\n",
      "'This is a test.' contains special characters: True\n",
      "'Special@Characters' contains special characters: True\n"
     ]
    }
   ],
   "source": [
    "import re\n",
    "\n",
    "def contains_special_characters(input_string):\n",
    "    # Define a regular expression pattern to match special characters\n",
    "    pattern = re.compile(r'[!@#$%^&*()_+{}\\[\\]:;<>,.?~\\\\/]')\n",
    "\n",
    "    # Use the search() method to find a match\n",
    "    match = pattern.search(input_string)\n",
    "\n",
    "    # Return True if a match is found, False otherwise\n",
    "    return bool(match)\n",
    "\n",
    "# Example strings\n",
    "string1 = \"Hello, world!\"\n",
    "string2 = \"This is a test.\"\n",
    "string3 = \"Special@Characters\"\n",
    "\n",
    "# Check if strings contain special characters\n",
    "result1 = contains_special_characters(string1)\n",
    "result2 = contains_special_characters(string2)\n",
    "result3 = contains_special_characters(string3)\n",
    "\n",
    "# Print the results\n",
    "print(f\"'{string1}' contains special characters:\", result1)\n",
    "print(f\"'{string2}' contains special characters:\", result2)\n",
    "print(f\"'{string3}' contains special characters:\", result3)"
   ]
  },
  {
   "cell_type": "markdown",
   "id": "98cd3b02",
   "metadata": {},
   "source": [
    "### 48. Remove the nth word from a string."
   ]
  },
  {
   "cell_type": "code",
   "execution_count": 53,
   "id": "fe3ac4e5",
   "metadata": {},
   "outputs": [
    {
     "name": "stdout",
     "output_type": "stream",
     "text": [
      "Original string: This is an example sentence to test the function.\n",
      "Modified string: This is an sentence to test the function.\n",
      "Removed word: example\n"
     ]
    }
   ],
   "source": [
    "def remove_nth_word(input_string, n):\n",
    "    # Split the input string into words\n",
    "    words = input_string.split()\n",
    "\n",
    "    # Check if n is within a valid range\n",
    "    if n >= 1 and n <= len(words):\n",
    "        # Remove the nth word by excluding it from the words list\n",
    "        removed_word = words.pop(n - 1)\n",
    "\n",
    "        # Join the remaining words to form the modified string\n",
    "        modified_string = ' '.join(words)\n",
    "\n",
    "        return modified_string, removed_word\n",
    "    else:\n",
    "        return None, None\n",
    "\n",
    "# Example string and n value\n",
    "input_str = \"This is an example sentence to test the function.\"\n",
    "n_value = 4\n",
    "\n",
    "# Remove the nth word\n",
    "modified_str, removed_word = remove_nth_word(input_str, n_value)\n",
    "\n",
    "# Print the results\n",
    "print(\"Original string:\", input_str)\n",
    "if modified_str is not None:\n",
    "    print(\"Modified string:\", modified_str)\n",
    "    print(\"Removed word:\", removed_word)\n",
    "else:\n",
    "    print(\"Invalid n value.\")"
   ]
  },
  {
   "cell_type": "markdown",
   "id": "842c682b",
   "metadata": {},
   "source": [
    "### 49. Insert a word at the nth position in a string."
   ]
  },
  {
   "cell_type": "code",
   "execution_count": 54,
   "id": "5593094d",
   "metadata": {},
   "outputs": [
    {
     "name": "stdout",
     "output_type": "stream",
     "text": [
      "Thinews is a sample sentence.\n"
     ]
    }
   ],
   "source": [
    "def insert_word_at_position(original_string, word_to_insert, n):\n",
    "    # Check if n is within the valid range.\n",
    "    if n < 0 or n > len(original_string):\n",
    "        raise ValueError(\"Invalid position to insert the word.\")\n",
    "\n",
    "    # Split the original string into two parts and insert the word in between.\n",
    "    part1 = original_string[:n]\n",
    "    part2 = original_string[n:]\n",
    "\n",
    "    # Combine the parts with the word to insert.\n",
    "    new_string = part1 + word_to_insert + part2\n",
    "\n",
    "    return new_string\n",
    "\n",
    "# Example usage:\n",
    "original_string = \"This is a sample sentence.\"\n",
    "word_to_insert = \"new\"\n",
    "position_to_insert = 3  # Insert \"new\" after the 3rd character.\n",
    "\n",
    "result = insert_word_at_position(original_string, word_to_insert, position_to_insert)\n",
    "print(result)\n"
   ]
  },
  {
   "cell_type": "markdown",
   "id": "bc73ef0e",
   "metadata": {},
   "source": [
    "### 50. Convert a CSV string to a list of lists."
   ]
  },
  {
   "cell_type": "code",
   "execution_count": 55,
   "id": "763554a6",
   "metadata": {},
   "outputs": [
    {
     "name": "stdout",
     "output_type": "stream",
     "text": [
      "[['Name', 'Age', 'Location'], ['John', '30', 'New York'], ['Alice', '25', 'Los Angeles'], ['Bob', '35', 'Chicago']]\n"
     ]
    }
   ],
   "source": [
    "import csv\n",
    "from io import StringIO\n",
    "\n",
    "def csv_string_to_list(csv_string):\n",
    "    # Create a CSV reader using StringIO to parse the CSV string.\n",
    "    csv_data = list(csv.reader(StringIO(csv_string)))\n",
    "\n",
    "    return csv_data\n",
    "\n",
    "# Example usage:\n",
    "csv_string = \"Name,Age,Location\\nJohn,30,New York\\nAlice,25,Los Angeles\\nBob,35,Chicago\"\n",
    "csv_list = csv_string_to_list(csv_string)\n",
    "print(csv_list)\n"
   ]
  },
  {
   "cell_type": "code",
   "execution_count": null,
   "id": "17952dd1",
   "metadata": {},
   "outputs": [],
   "source": []
  },
  {
   "cell_type": "markdown",
   "id": "9119f8c8",
   "metadata": {},
   "source": [
    "# List Based Practice Problem :"
   ]
  },
  {
   "cell_type": "markdown",
   "id": "f5dbc50f",
   "metadata": {},
   "source": [
    "### 1. Create a list with integers from 1 to 10."
   ]
  },
  {
   "cell_type": "code",
   "execution_count": 56,
   "id": "a9ce30fa",
   "metadata": {},
   "outputs": [
    {
     "data": {
      "text/plain": [
       "[1, 2, 3, 4, 5, 6, 7, 8, 9, 10]"
      ]
     },
     "execution_count": 56,
     "metadata": {},
     "output_type": "execute_result"
    }
   ],
   "source": [
    "my_list = list(range(1, 11))\n",
    "my_list"
   ]
  },
  {
   "cell_type": "markdown",
   "id": "9c10bfd9",
   "metadata": {},
   "source": [
    "### 2. Find the length of a list without using the `len()` function."
   ]
  },
  {
   "cell_type": "code",
   "execution_count": 57,
   "id": "f463142a",
   "metadata": {},
   "outputs": [
    {
     "name": "stdout",
     "output_type": "stream",
     "text": [
      "length of list: 10\n"
     ]
    }
   ],
   "source": [
    "def find_length_list(list2):\n",
    "    length = 0\n",
    "    for i in list2:\n",
    "        length +=1\n",
    "    return length\n",
    "length = find_length_list(my_list)\n",
    "print(\"length of list:\",length)"
   ]
  },
  {
   "cell_type": "markdown",
   "id": "48bbcebc",
   "metadata": {},
   "source": [
    "### 3. Append an element to the end of a list."
   ]
  },
  {
   "cell_type": "code",
   "execution_count": 58,
   "id": "8bd142ec",
   "metadata": {},
   "outputs": [
    {
     "data": {
      "text/plain": [
       "[4, 5, 8, 7, 9, 2, 11]"
      ]
     },
     "execution_count": 58,
     "metadata": {},
     "output_type": "execute_result"
    }
   ],
   "source": [
    "list3 =[4,5,8,7,9,2]\n",
    "list3.append(11)\n",
    "list3"
   ]
  },
  {
   "cell_type": "markdown",
   "id": "2198c755",
   "metadata": {},
   "source": [
    "### 4. Insert an element at a specific index in a list."
   ]
  },
  {
   "cell_type": "code",
   "execution_count": 59,
   "id": "9b6622e3",
   "metadata": {},
   "outputs": [
    {
     "name": "stdout",
     "output_type": "stream",
     "text": [
      "[1, 2, 6, 3, 4, 5]\n"
     ]
    }
   ],
   "source": [
    "my_list = [1, 2, 3, 4, 5]\n",
    "\n",
    "# Insert the element 6 at index 2 (which means it will be the third element in the list).\n",
    "my_list.insert(2, 6)\n",
    "\n",
    "print(my_list)"
   ]
  },
  {
   "cell_type": "markdown",
   "id": "f830d119",
   "metadata": {},
   "source": [
    "### 5. Remove an element from a list by its value. "
   ]
  },
  {
   "cell_type": "code",
   "execution_count": 60,
   "id": "c38cee99",
   "metadata": {},
   "outputs": [
    {
     "data": {
      "text/plain": [
       "[1, 2, 3, 4, 6, 7, 8, 9]"
      ]
     },
     "execution_count": 60,
     "metadata": {},
     "output_type": "execute_result"
    }
   ],
   "source": [
    "list1 = [1,2,3,4,5,6,7,8,9]\n",
    "list1.remove(5)\n",
    "list1"
   ]
  },
  {
   "cell_type": "markdown",
   "id": "04234aff",
   "metadata": {},
   "source": [
    "### 6. Remove an element from a list by its index."
   ]
  },
  {
   "cell_type": "code",
   "execution_count": 61,
   "id": "cf418f65",
   "metadata": {},
   "outputs": [
    {
     "data": {
      "text/plain": [
       "[2, 5, 9, 2, 57, 'ank']"
      ]
     },
     "execution_count": 61,
     "metadata": {},
     "output_type": "execute_result"
    }
   ],
   "source": [
    "list4 = [2,5,9,89,2,57,'ank']\n",
    "list4.pop(3)\n",
    "list4"
   ]
  },
  {
   "cell_type": "markdown",
   "id": "788d1fa4",
   "metadata": {},
   "source": [
    "### 7. Check if an element exists in a list."
   ]
  },
  {
   "cell_type": "code",
   "execution_count": 62,
   "id": "6887d9aa",
   "metadata": {},
   "outputs": [
    {
     "name": "stdout",
     "output_type": "stream",
     "text": [
      "hello exist in list\n"
     ]
    }
   ],
   "source": [
    "my_list =[1,'ankita','hello',25,89] \n",
    "element = 'hello'\n",
    "if element in my_list:\n",
    "    print(f\"{element} exist in list\")\n",
    "else:\n",
    "    print(f\"{element} does not exist in list\")"
   ]
  },
  {
   "cell_type": "markdown",
   "id": "c2163993",
   "metadata": {},
   "source": [
    "### 8. Find the index of the first occurrence of an element in a list."
   ]
  },
  {
   "cell_type": "code",
   "execution_count": 63,
   "id": "6bc5f5ff",
   "metadata": {},
   "outputs": [
    {
     "name": "stdout",
     "output_type": "stream",
     "text": [
      "The first occurrence of hello is at index 2.\n"
     ]
    }
   ],
   "source": [
    "my_list =[1,'ankita','hello',25,89,'hello'] \n",
    "element = 'hello'\n",
    "if element in my_list:\n",
    "    index = my_list.index(element)\n",
    "    print(f\"The first occurrence of {element} is at index {index}.\")\n",
    "else:      \n",
    "     print(f\"{element} is not in list\")"
   ]
  },
  {
   "cell_type": "markdown",
   "id": "cbe7036d",
   "metadata": {},
   "source": [
    "### 9. Count the occurrences of an element in a list."
   ]
  },
  {
   "cell_type": "code",
   "execution_count": 64,
   "id": "31a68e23",
   "metadata": {},
   "outputs": [
    {
     "name": "stdout",
     "output_type": "stream",
     "text": [
      "5 occurs 4 times in the list\n"
     ]
    }
   ],
   "source": [
    "my_list = [1,2,3,4,4,5,5,5,5,6,8,9,8]\n",
    "element =5\n",
    "if element in my_list:\n",
    "    count= my_list.count(element)\n",
    "    print(f\"{element} occurs {count} times in the list\")\n",
    "else:\n",
    "    print(f\"{element} is not in list\")"
   ]
  },
  {
   "cell_type": "markdown",
   "id": "f3c67a6a",
   "metadata": {},
   "source": [
    "### 10. Reverse the order of elements in a list."
   ]
  },
  {
   "cell_type": "code",
   "execution_count": 65,
   "id": "5fad954d",
   "metadata": {},
   "outputs": [
    {
     "name": "stdout",
     "output_type": "stream",
     "text": [
      "reversed list:  [9, 8, 7, 6, 5, 4, 3, 2, 1]\n"
     ]
    }
   ],
   "source": [
    "my_list = [1,2,3,4,5,6,7,8,9]\n",
    "my_list.reverse()\n",
    "print(\"reversed list: \", my_list)"
   ]
  },
  {
   "cell_type": "markdown",
   "id": "79594ab5",
   "metadata": {},
   "source": [
    "### 11. Sort a list in ascending order."
   ]
  },
  {
   "cell_type": "code",
   "execution_count": 66,
   "id": "87a2ee77",
   "metadata": {},
   "outputs": [
    {
     "name": "stdout",
     "output_type": "stream",
     "text": [
      "Sorted List (in-place): [1, 2, 3, 5, 5, 7, 9]\n"
     ]
    }
   ],
   "source": [
    "my_list = [5, 2, 9, 1, 5, 3, 7]\n",
    "\n",
    "my_list.sort() \n",
    "\n",
    "print(\"Sorted List (in-place):\", my_list)\n"
   ]
  },
  {
   "cell_type": "markdown",
   "id": "8e69285d",
   "metadata": {},
   "source": [
    "### 12. Sort a list in descending order."
   ]
  },
  {
   "cell_type": "code",
   "execution_count": 67,
   "id": "8c60805c",
   "metadata": {},
   "outputs": [
    {
     "name": "stdout",
     "output_type": "stream",
     "text": [
      "Sorted List (in-place): [9, 7, 5, 5, 3, 2, 1]\n"
     ]
    }
   ],
   "source": [
    "my_list = [5, 2, 9, 1, 5, 3, 7]\n",
    "\n",
    "my_list.sort(reverse= True)  \n",
    "\n",
    "print(\"Sorted List (in-place):\", my_list)\n"
   ]
  },
  {
   "cell_type": "markdown",
   "id": "3f65bc46",
   "metadata": {},
   "source": [
    "### 13. Create a list of even numbers from 1 to 20."
   ]
  },
  {
   "cell_type": "code",
   "execution_count": 68,
   "id": "dd6e7923",
   "metadata": {},
   "outputs": [
    {
     "name": "stdout",
     "output_type": "stream",
     "text": [
      "[2, 4, 6, 8, 10, 12, 14, 16, 18, 20]\n"
     ]
    }
   ],
   "source": [
    "even = []\n",
    "for i in range(1,21):\n",
    "    if i % 2 == 0:\n",
    "        even.append(i)\n",
    "print(even)"
   ]
  },
  {
   "cell_type": "markdown",
   "id": "400eb43e",
   "metadata": {},
   "source": [
    "### 14. Create a list of odd numbers from 1 to 20."
   ]
  },
  {
   "cell_type": "code",
   "execution_count": 69,
   "id": "141ee476",
   "metadata": {},
   "outputs": [
    {
     "name": "stdout",
     "output_type": "stream",
     "text": [
      "[1, 3, 5, 7, 9, 11, 13, 15, 17, 19]\n"
     ]
    }
   ],
   "source": [
    "odd = [i for i in range(1,21) if i%2 != 0]\n",
    "print(odd)"
   ]
  },
  {
   "cell_type": "markdown",
   "id": "90593567",
   "metadata": {},
   "source": [
    "### 15. Find the sum of all elements in a list."
   ]
  },
  {
   "cell_type": "code",
   "execution_count": 70,
   "id": "0d45c89a",
   "metadata": {},
   "outputs": [
    {
     "name": "stdout",
     "output_type": "stream",
     "text": [
      "sum of elements of list 57\n"
     ]
    }
   ],
   "source": [
    "my_list = [7,8,9,7,8,5,6,7]\n",
    "sum_element = sum(my_list)\n",
    "print(\"sum of elements of list\",sum_element)"
   ]
  },
  {
   "cell_type": "markdown",
   "id": "165cedc1",
   "metadata": {},
   "source": [
    "### 16. Find the maximum value in a list."
   ]
  },
  {
   "cell_type": "code",
   "execution_count": 71,
   "id": "bf7eb2db",
   "metadata": {},
   "outputs": [
    {
     "data": {
      "text/plain": [
       "46534598"
      ]
     },
     "execution_count": 71,
     "metadata": {},
     "output_type": "execute_result"
    }
   ],
   "source": [
    "my_list = [789,59,7894,46534598,487]\n",
    "max(my_list)"
   ]
  },
  {
   "cell_type": "markdown",
   "id": "d6cf7b60",
   "metadata": {},
   "source": [
    "### 17. Find the minimum value in a list."
   ]
  },
  {
   "cell_type": "code",
   "execution_count": 72,
   "id": "8e4709c1",
   "metadata": {},
   "outputs": [
    {
     "data": {
      "text/plain": [
       "59"
      ]
     },
     "execution_count": 72,
     "metadata": {},
     "output_type": "execute_result"
    }
   ],
   "source": [
    "my_list = [789,59,7894,46534598,487]\n",
    "min(my_list)"
   ]
  },
  {
   "cell_type": "markdown",
   "id": "ff48ee19",
   "metadata": {},
   "source": [
    "### 18. Create a list of squares of numbers from 1 to 10."
   ]
  },
  {
   "cell_type": "code",
   "execution_count": 73,
   "id": "ae22cfff",
   "metadata": {},
   "outputs": [
    {
     "name": "stdout",
     "output_type": "stream",
     "text": [
      "[1, 4, 9, 16, 25, 36, 49, 64, 81, 100]\n"
     ]
    }
   ],
   "source": [
    "square_list = [i**2 for i in range(1,11)]\n",
    "print(square_list)"
   ]
  },
  {
   "cell_type": "markdown",
   "id": "3b60cbd5",
   "metadata": {},
   "source": [
    "### 19. Create a list of random numbers."
   ]
  },
  {
   "cell_type": "code",
   "execution_count": 74,
   "id": "9442473a",
   "metadata": {},
   "outputs": [
    {
     "name": "stdout",
     "output_type": "stream",
     "text": [
      "[56, 37, 29, 60, 93, 80, 63, 42, 75, 98]\n"
     ]
    }
   ],
   "source": [
    "import random\n",
    "\n",
    "# Generate a list of 10 random numbers between 1 and 100\n",
    "random_numbers = [random.randint(1, 100) for _ in range(10)]\n",
    "\n",
    "print(random_numbers)\n"
   ]
  },
  {
   "cell_type": "markdown",
   "id": "16dbf4b0",
   "metadata": {},
   "source": [
    "### 20. Remove duplicates from a list."
   ]
  },
  {
   "cell_type": "code",
   "execution_count": 75,
   "id": "78d08183",
   "metadata": {},
   "outputs": [
    {
     "name": "stdout",
     "output_type": "stream",
     "text": [
      "[1, 2, 3, 4, 5, 6, 8, 9]\n"
     ]
    }
   ],
   "source": [
    "my_list = [1,2,5,8,9,1,5,4,6,2,3,5]\n",
    "unique_list = list(set(my_list))\n",
    "print(unique_list)"
   ]
  },
  {
   "cell_type": "markdown",
   "id": "3439e7db",
   "metadata": {},
   "source": [
    "### 21. Find the common elements between two lists."
   ]
  },
  {
   "cell_type": "code",
   "execution_count": 76,
   "id": "9300fab4",
   "metadata": {},
   "outputs": [
    {
     "name": "stdout",
     "output_type": "stream",
     "text": [
      "[3, 4, 5]\n"
     ]
    }
   ],
   "source": [
    "list1 = [1, 2, 3, 4, 5]\n",
    "list2 = [3, 4, 5, 6, 7]\n",
    "\n",
    "common_elements = []\n",
    "for element in list1:\n",
    "    if element in list2:\n",
    "        common_elements.append(element)\n",
    "\n",
    "print(common_elements)\n"
   ]
  },
  {
   "cell_type": "markdown",
   "id": "6531946f",
   "metadata": {},
   "source": [
    "### 22. Find the difference between two lists."
   ]
  },
  {
   "cell_type": "code",
   "execution_count": 77,
   "id": "0c893f8f",
   "metadata": {},
   "outputs": [
    {
     "name": "stdout",
     "output_type": "stream",
     "text": [
      "[100, 88, 60]\n"
     ]
    }
   ],
   "source": [
    "list1 = [10,20,30,100,88,40,50,60]\n",
    "list2 = [30,40,50,10,20]\n",
    "difference = list(set(list1).difference(list2))\n",
    "print(difference)"
   ]
  },
  {
   "cell_type": "markdown",
   "id": "94b0cbef",
   "metadata": {},
   "source": [
    "### 23. Merge two lists."
   ]
  },
  {
   "cell_type": "code",
   "execution_count": 78,
   "id": "e27cd437",
   "metadata": {},
   "outputs": [
    {
     "name": "stdout",
     "output_type": "stream",
     "text": [
      "[10, 20, 30, 100, 88, 40, 50, 60, 30, 40, 50, 10, 20]\n"
     ]
    }
   ],
   "source": [
    "list1 = [10,20,30,100,88,40,50,60]\n",
    "list2 = [30,40,50,10,20]\n",
    "merge_list = list1+list2\n",
    "print(merge_list)"
   ]
  },
  {
   "cell_type": "markdown",
   "id": "69a85d16",
   "metadata": {},
   "source": [
    "### 24. Multiply all elements in a list by 2."
   ]
  },
  {
   "cell_type": "code",
   "execution_count": 79,
   "id": "8e6574f3",
   "metadata": {},
   "outputs": [
    {
     "name": "stdout",
     "output_type": "stream",
     "text": [
      "[20, 40, 60, 200, 176, 80, 100, 120]\n"
     ]
    }
   ],
   "source": [
    "list1 = [10,20,30,100,88,40,50,60]\n",
    "list1 = [x*2 for x in list1]\n",
    "print(list1)"
   ]
  },
  {
   "cell_type": "markdown",
   "id": "d7672f14",
   "metadata": {},
   "source": [
    "### 25. Filter out all even numbers from a list."
   ]
  },
  {
   "cell_type": "code",
   "execution_count": 80,
   "id": "dd535164",
   "metadata": {},
   "outputs": [
    {
     "name": "stdout",
     "output_type": "stream",
     "text": [
      "[25, 75]\n"
     ]
    }
   ],
   "source": [
    "list1 = [25, 10, 38, 22, 100, 88, 75]\n",
    "filtered_list = [x for x in list1 if x % 2 != 0]\n",
    "print(filtered_list)\n"
   ]
  },
  {
   "cell_type": "markdown",
   "id": "8e5ca098",
   "metadata": {},
   "source": [
    "### 26. Convert a list of strings to a list of integers."
   ]
  },
  {
   "cell_type": "code",
   "execution_count": 81,
   "id": "2027a961",
   "metadata": {},
   "outputs": [
    {
     "name": "stdout",
     "output_type": "stream",
     "text": [
      "[10, 20, 30, 40, 50]\n"
     ]
    }
   ],
   "source": [
    "# List of strings\n",
    "str_list = [\"10\", \"20\", \"30\", \"40\", \"50\"]\n",
    "\n",
    "# Convert the list of strings to a list of integers\n",
    "int_list = [int(x) for x in str_list]\n",
    "\n",
    "print(int_list)\n"
   ]
  },
  {
   "cell_type": "markdown",
   "id": "479d1f80",
   "metadata": {},
   "source": [
    "### 27. Convert a list of integers to a list of strings."
   ]
  },
  {
   "cell_type": "code",
   "execution_count": 82,
   "id": "f553e39d",
   "metadata": {},
   "outputs": [
    {
     "name": "stdout",
     "output_type": "stream",
     "text": [
      "[10, 20, 30, 40, 50]\n"
     ]
    }
   ],
   "source": [
    "# List of strings\n",
    "str_list = [\"10\", \"20\", \"30\", \"40\", \"50\"]\n",
    "\n",
    "# Convert the list of strings to a list of integers\n",
    "int_list = [int(x) for x in str_list]\n",
    "\n",
    "print(int_list)\n"
   ]
  },
  {
   "cell_type": "markdown",
   "id": "002ad18a",
   "metadata": {},
   "source": [
    "### 28. Flatten a nested list."
   ]
  },
  {
   "cell_type": "code",
   "execution_count": 83,
   "id": "5ec94bad",
   "metadata": {},
   "outputs": [
    {
     "name": "stdout",
     "output_type": "stream",
     "text": [
      "Flattened list: [1, 2, 3, 4, 5, 6, 7, 8, 9]\n"
     ]
    }
   ],
   "source": [
    "# Example nested list\n",
    "nested_list = [[1, 2, 3], [4, 5], [6, 7, 8, 9]]\n",
    "\n",
    "# Function to flatten a nested list\n",
    "def flatten_list(nested):\n",
    "    flattened = []\n",
    "    for sublist in nested:\n",
    "        if isinstance(sublist, list):\n",
    "            flattened.extend(flatten_list(sublist))\n",
    "        else:\n",
    "            flattened.append(sublist)\n",
    "    return flattened\n",
    "\n",
    "# Flatten the nested list\n",
    "flattened_list = flatten_list(nested_list)\n",
    "\n",
    "# Print the flattened list\n",
    "print(\"Flattened list:\", flattened_list)"
   ]
  },
  {
   "cell_type": "markdown",
   "id": "aa8d5de0",
   "metadata": {},
   "source": [
    "### 29. Create a list of the first 10 Fibonacci numbers."
   ]
  },
  {
   "cell_type": "code",
   "execution_count": 84,
   "id": "f40da86a",
   "metadata": {},
   "outputs": [
    {
     "name": "stdout",
     "output_type": "stream",
     "text": [
      "First 10 Fibonacci numbers: [0, 1]\n"
     ]
    }
   ],
   "source": [
    "# Function to generate the first n Fibonacci numbers\n",
    "def generate_fibonacci(n):\n",
    "    fibonacci_list = [0, 1]  # Initialize the list with the first two Fibonacci numbers\n",
    "\n",
    "    for i in range(2, n):\n",
    "        next_fibonacci = fibonacci_list[i - 1] + fibonacci_list[i - 2]\n",
    "        fibonacci_list.append(next_fibonacci)\n",
    "\n",
    "    return fibonacci_list\n",
    "\n",
    "# Generate the first 10 Fibonacci numbers\n",
    "fibonacci_numbers = generate_fibonacci(2)\n",
    "\n",
    "# Print the list of Fibonacci numbers\n",
    "print(\"First 10 Fibonacci numbers:\", fibonacci_numbers)"
   ]
  },
  {
   "cell_type": "markdown",
   "id": "5606d481",
   "metadata": {},
   "source": [
    "### 30. Check if a list is sorted."
   ]
  },
  {
   "cell_type": "code",
   "execution_count": 85,
   "id": "c9e02e10",
   "metadata": {},
   "outputs": [
    {
     "name": "stdout",
     "output_type": "stream",
     "text": [
      "The list is sorted in ascending order.\n"
     ]
    }
   ],
   "source": [
    "# Function to check if a list is sorted in ascending order\n",
    "def is_sorted_ascending(lst):\n",
    "    for i in range(1, len(lst)):\n",
    "        if lst[i] < lst[i - 1]:\n",
    "            return False\n",
    "    return True\n",
    "\n",
    "# Example list\n",
    "ascending_list = [10, 20, 30, 40, 50]\n",
    "\n",
    "# Check if the list is sorted in ascending order\n",
    "if is_sorted_ascending(ascending_list):\n",
    "    print(\"The list is sorted in ascending order.\")\n",
    "else:\n",
    "    print(\"The list is not sorted in ascending order.\")"
   ]
  },
  {
   "cell_type": "markdown",
   "id": "29692675",
   "metadata": {},
   "source": [
    "### 31. Rotate a list to the left by `n` positions."
   ]
  },
  {
   "cell_type": "code",
   "execution_count": 86,
   "id": "94405802",
   "metadata": {},
   "outputs": [
    {
     "name": "stdout",
     "output_type": "stream",
     "text": [
      "['full stack data science pro', '98965689', 'Ankita', 'Gore']\n"
     ]
    }
   ],
   "source": [
    "l1 = ['Ankita', 'Gore', \"full stack data science pro\", '98965689']\n",
    "def rotate_left(lst, n):\n",
    "    if not lst:\n",
    "        return lst  # Return an empty list if the input list is empty\n",
    "\n",
    "    n = n % len(lst)  # Ensure n is within the range of the list length\n",
    "    rotated_lst = lst[n:] + lst[:n]\n",
    "    return rotated_lst\n",
    "n =2\n",
    "\n",
    "rotated_list = rotate_left(l1, n)\n",
    "print(rotated_list)"
   ]
  },
  {
   "cell_type": "markdown",
   "id": "97bd689d",
   "metadata": {},
   "source": [
    "### 32. Rotate a list to the right by `n` positions."
   ]
  },
  {
   "cell_type": "code",
   "execution_count": 87,
   "id": "d51e62e8",
   "metadata": {},
   "outputs": [
    {
     "name": "stdout",
     "output_type": "stream",
     "text": [
      "['98965689', 'Ankita', 'Gore', 'full stack data science pro']\n"
     ]
    }
   ],
   "source": [
    "l1 = ['Ankita', 'Gore', \"full stack data science pro\", '98965689']\n",
    "def rotate_right(lst, n):\n",
    "    if not lst:\n",
    "        return lst  # Return an empty list if the input list is empty\n",
    "\n",
    "    n = n % len(lst)  # Ensure n is within the range of the list length\n",
    "    rotated_lst = lst[-n:] + lst[:-n]\n",
    "    return rotated_lst\n",
    "n =1\n",
    "\n",
    "rotated_list = rotate_right(l1, n)\n",
    "print(rotated_list)"
   ]
  },
  {
   "cell_type": "markdown",
   "id": "57b312e1",
   "metadata": {},
   "source": [
    "### 33. Create a list of prime numbers up to 50."
   ]
  },
  {
   "cell_type": "code",
   "execution_count": 88,
   "id": "9b2dd4a2",
   "metadata": {},
   "outputs": [
    {
     "name": "stdout",
     "output_type": "stream",
     "text": [
      "[2, 3, 4, 5, 6, 7, 8, 9, 10, 11, 12, 13, 14, 15, 16, 17, 18, 19, 20, 21, 22, 23, 24, 26, 27, 29, 31, 32, 33, 34, 36, 37, 38, 39, 41, 43, 44, 46, 47, 48]\n"
     ]
    }
   ],
   "source": [
    "def is_prime(n):\n",
    "    if n <=1 :\n",
    "        return False\n",
    "    elif n<=3:\n",
    "        return True\n",
    "    i = 5\n",
    "    while i * i <= n:\n",
    "        if n%i == 0 or n %(i+2)==0:\n",
    "            return False\n",
    "        i += 6\n",
    "    return True\n",
    "\n",
    "prime_numbers = [num for num in range(2, 51) if is_prime(num)]\n",
    "print(prime_numbers)"
   ]
  },
  {
   "cell_type": "markdown",
   "id": "16951c28",
   "metadata": {},
   "source": [
    "### 34. Split a list into chunks of size `n`."
   ]
  },
  {
   "cell_type": "code",
   "execution_count": 89,
   "id": "b2ba712a",
   "metadata": {},
   "outputs": [
    {
     "name": "stdout",
     "output_type": "stream",
     "text": [
      "[[1, 2, 3], [4, 5, 6], [7, 8]]\n"
     ]
    }
   ],
   "source": [
    "def split_list_into_chunks(lst, n):\n",
    "    return [lst[i:i + n] for i in range(0, len(lst), n)]\n",
    "\n",
    "# Example usage:\n",
    "my_list = [1, 2, 3, 4, 5, 6, 7, 8]\n",
    "chunk_size = 3\n",
    "result = split_list_into_chunks(my_list, chunk_size)\n",
    "print(result)"
   ]
  },
  {
   "cell_type": "markdown",
   "id": "be9d334c",
   "metadata": {},
   "source": [
    "### 35. Find the second largest number in a list."
   ]
  },
  {
   "cell_type": "code",
   "execution_count": 90,
   "id": "09a34526",
   "metadata": {},
   "outputs": [
    {
     "name": "stdout",
     "output_type": "stream",
     "text": [
      "The second largest number is: 7\n"
     ]
    }
   ],
   "source": [
    "def find_second_largest(lst):\n",
    "    if len(lst) < 2:\n",
    "        return \"List must have at least two elements.\"\n",
    "\n",
    "    largest = second_largest = None\n",
    "\n",
    "    for num in lst:\n",
    "        if largest is None or num > largest:\n",
    "            second_largest = largest\n",
    "            largest = num\n",
    "        elif second_largest is None or num > second_largest:\n",
    "            second_largest = num\n",
    "\n",
    "    if second_largest is None:\n",
    "        return \"There is no second largest number.\"\n",
    "\n",
    "    return second_largest\n",
    "\n",
    "# Example usage:\n",
    "my_list = [1, 3, 5, 2, 7, 2, 8]\n",
    "result = find_second_largest(my_list)\n",
    "print(\"The second largest number is:\", result)\n"
   ]
  },
  {
   "cell_type": "markdown",
   "id": "03797337",
   "metadata": {},
   "source": [
    "### 36. Replace every element in a list with its square."
   ]
  },
  {
   "cell_type": "code",
   "execution_count": 91,
   "id": "264e0c6c",
   "metadata": {},
   "outputs": [
    {
     "data": {
      "text/plain": [
       "[4, 16, 25, 36, 49, 64, 81, 100]"
      ]
     },
     "execution_count": 91,
     "metadata": {},
     "output_type": "execute_result"
    }
   ],
   "source": [
    "my_list = [2,4,5,6,7,8,9,10]\n",
    "my_list=[x**2 for x in my_list]\n",
    "my_list"
   ]
  },
  {
   "cell_type": "markdown",
   "id": "2b3cf5b9",
   "metadata": {},
   "source": [
    "### 37. Convert a list to a dictionary where list elements become keys and their indices become values."
   ]
  },
  {
   "cell_type": "code",
   "execution_count": 92,
   "id": "530dae3b",
   "metadata": {},
   "outputs": [
    {
     "name": "stdout",
     "output_type": "stream",
     "text": [
      "{'apple': 0, 'banana': 1, 'cherry': 2, 'date': 3}\n"
     ]
    }
   ],
   "source": [
    "my_list = ['apple', 'banana', 'cherry', 'date']\n",
    "my_dict = {element: index for index, element in enumerate(my_list)}\n",
    "print(my_dict)"
   ]
  },
  {
   "cell_type": "markdown",
   "id": "5e2ffac0",
   "metadata": {},
   "source": [
    "### 38. Shuffle the elements of a list randomly."
   ]
  },
  {
   "cell_type": "code",
   "execution_count": 93,
   "id": "17f10291",
   "metadata": {},
   "outputs": [
    {
     "name": "stdout",
     "output_type": "stream",
     "text": [
      "[5, 3, 4, 2, 1]\n"
     ]
    }
   ],
   "source": [
    "import random\n",
    "my_list = [1, 2, 3, 4, 5]\n",
    "# Shuffle the list in place\n",
    "random.shuffle(my_list)\n",
    "print(my_list)"
   ]
  },
  {
   "cell_type": "markdown",
   "id": "a4d3fd91",
   "metadata": {},
   "source": [
    "### 39. Create a list of the first 10 factorial numbers."
   ]
  },
  {
   "cell_type": "code",
   "execution_count": 94,
   "id": "5b446c96",
   "metadata": {},
   "outputs": [
    {
     "name": "stdout",
     "output_type": "stream",
     "text": [
      "[1, 2, 6, 24, 120, 720, 5040, 40320, 362880, 3628800]\n"
     ]
    }
   ],
   "source": [
    "def factorial(n):\n",
    "    if n == 0:\n",
    "        return 1\n",
    "    else:\n",
    "        result = 1\n",
    "        for i in range(1, n + 1):\n",
    "            result *= i\n",
    "        return result\n",
    "# Create a list of the first 10 factorial numbers\n",
    "factorial_numbers = [factorial(n) for n in range(1, 11)]\n",
    "print(factorial_numbers)\n"
   ]
  },
  {
   "cell_type": "markdown",
   "id": "dd5accee",
   "metadata": {},
   "source": [
    "### 40. Check if two lists have at least one element in common."
   ]
  },
  {
   "cell_type": "code",
   "execution_count": 95,
   "id": "c44421f6",
   "metadata": {},
   "outputs": [
    {
     "name": "stdout",
     "output_type": "stream",
     "text": [
      "The lists have at least one element in common.\n"
     ]
    }
   ],
   "source": [
    "list1 = [1, 2, 3, 4, 5]\n",
    "list2 = [4, 5, 6, 7, 8]\n",
    "set1 = set(list1)\n",
    "set2 = set(list2)\n",
    "if set1.intersection(set2):\n",
    "    print(\"The lists have at least one element in common.\")\n",
    "else:\n",
    "    print(\"The lists do not have any common elements.\")"
   ]
  },
  {
   "cell_type": "markdown",
   "id": "f31985b2",
   "metadata": {},
   "source": [
    "### 41. Remove all elements from a list."
   ]
  },
  {
   "cell_type": "code",
   "execution_count": 96,
   "id": "e3d33375",
   "metadata": {},
   "outputs": [
    {
     "data": {
      "text/plain": [
       "[]"
      ]
     },
     "execution_count": 96,
     "metadata": {},
     "output_type": "execute_result"
    }
   ],
   "source": [
    "my_list=[2,5,6,8.9,28,27,56,71,30]\n",
    "my_list.clear()\n",
    "my_list"
   ]
  },
  {
   "cell_type": "markdown",
   "id": "5904ae5f",
   "metadata": {},
   "source": [
    "### 42. Replace negative numbers in a list with 0."
   ]
  },
  {
   "cell_type": "code",
   "execution_count": 97,
   "id": "ca5b10e7",
   "metadata": {},
   "outputs": [
    {
     "name": "stdout",
     "output_type": "stream",
     "text": [
      "[25, 89, 0, 12, 0, 21, 45, 0]\n"
     ]
    }
   ],
   "source": [
    "my_list = [25,89,-85,12,-65,21,45,-74]\n",
    "for i in range(len(my_list)):\n",
    "    if my_list[i] < 0:\n",
    "        my_list[i] = 0\n",
    "\n",
    "print(my_list)\n"
   ]
  },
  {
   "cell_type": "markdown",
   "id": "bd757603",
   "metadata": {},
   "source": [
    "### 43. Convert a string into a list of words."
   ]
  },
  {
   "cell_type": "code",
   "execution_count": 98,
   "id": "301ce498",
   "metadata": {},
   "outputs": [
    {
     "name": "stdout",
     "output_type": "stream",
     "text": [
      "['This', 'is', 'a', 'sample', 'string', 'that', 'you', 'can', 'convert', 'into', 'a', 'list', 'of', 'words.']\n"
     ]
    }
   ],
   "source": [
    "text = \"This is a sample string that you can convert into a list of words.\"\n",
    "# Split the string into a list of words\n",
    "word_list = text.split()\n",
    "print(word_list)"
   ]
  },
  {
   "cell_type": "markdown",
   "id": "a1bcb2a6",
   "metadata": {},
   "source": [
    "### 44. Convert a list of words into a string."
   ]
  },
  {
   "cell_type": "code",
   "execution_count": 99,
   "id": "83f95a26",
   "metadata": {},
   "outputs": [
    {
     "name": "stdout",
     "output_type": "stream",
     "text": [
      "This is a list of words.\n"
     ]
    }
   ],
   "source": [
    "word_list = ['This', 'is', 'a', 'list', 'of', 'words.']\n",
    "# Convert the list of words into a string\n",
    "text = ' '.join(word_list)\n",
    "print(text)\n"
   ]
  },
  {
   "cell_type": "markdown",
   "id": "59d711b3",
   "metadata": {},
   "source": [
    "### 45. Create a list of the first `n` powers of 2."
   ]
  },
  {
   "cell_type": "code",
   "execution_count": 100,
   "id": "1b9cc462",
   "metadata": {},
   "outputs": [
    {
     "name": "stdout",
     "output_type": "stream",
     "text": [
      "[1, 2, 4, 8, 16]\n"
     ]
    }
   ],
   "source": [
    "n = 5  \n",
    "powers_of_2 = [2 ** i for i in range(n)]\n",
    "\n",
    "print(powers_of_2)"
   ]
  },
  {
   "cell_type": "markdown",
   "id": "627b0f07",
   "metadata": {},
   "source": [
    "### 46. Find the longest string in a list of strings."
   ]
  },
  {
   "cell_type": "code",
   "execution_count": 101,
   "id": "4cad64e6",
   "metadata": {},
   "outputs": [
    {
     "name": "stdout",
     "output_type": "stream",
     "text": [
      "The longest string is: banana\n"
     ]
    }
   ],
   "source": [
    "string_list = [\"apple\", \"banana\", \"cherry\", \"date\", \"fig\"]\n",
    "# Find the longest string in the list\n",
    "longest_string = max(string_list, key=len)\n",
    "print(\"The longest string is:\", longest_string)"
   ]
  },
  {
   "cell_type": "markdown",
   "id": "aeb7449e",
   "metadata": {},
   "source": [
    "### 47. Find the shortest string in a list of strings."
   ]
  },
  {
   "cell_type": "code",
   "execution_count": 102,
   "id": "148f3495",
   "metadata": {},
   "outputs": [
    {
     "name": "stdout",
     "output_type": "stream",
     "text": [
      "The shortest string is: fig\n"
     ]
    }
   ],
   "source": [
    "string_list = [\"apple\", \"banana\", \"cherry\", \"date\", \"fig\"]\n",
    "# Find the longest string in the list\n",
    "longest_string = min(string_list, key=len)\n",
    "print(\"The shortest string is:\", longest_string)"
   ]
  },
  {
   "cell_type": "markdown",
   "id": "69f06905",
   "metadata": {},
   "source": [
    "### 48. Create a list of the first `n` triangular numbers."
   ]
  },
  {
   "cell_type": "code",
   "execution_count": 103,
   "id": "176361dc",
   "metadata": {
    "scrolled": true
   },
   "outputs": [
    {
     "name": "stdout",
     "output_type": "stream",
     "text": [
      "[1, 3, 6, 10, 15]\n"
     ]
    }
   ],
   "source": [
    "n = 5  # Change this to the number of triangular numbers you want\n",
    "triangular_numbers = []\n",
    "for i in range(1, n + 1):\n",
    "    triangular_numbers.append(i * (i + 1) // 2)\n",
    "\n",
    "print(triangular_numbers)\n"
   ]
  },
  {
   "cell_type": "markdown",
   "id": "dca2aafb",
   "metadata": {},
   "source": [
    "### 49. Check if a list contains another list as a subsequence."
   ]
  },
  {
   "cell_type": "code",
   "execution_count": 104,
   "id": "fcd5b0ed",
   "metadata": {},
   "outputs": [
    {
     "name": "stdout",
     "output_type": "stream",
     "text": [
      "The sub_list is a subsequence of main_list.\n"
     ]
    }
   ],
   "source": [
    "def is_subsequence(sub, main):\n",
    "    sub_len = len(sub)\n",
    "    return all(sub[i] in main for i in range(sub_len))\n",
    "\n",
    "# Example usage\n",
    "main_list = [1, 2, 3, 4, 5, 6, 7]\n",
    "sub_list = [2, 4, 6]\n",
    "\n",
    "if is_subsequence(sub_list, main_list):\n",
    "    print(\"The sub_list is a subsequence of main_list.\")\n",
    "else:\n",
    "    print(\"The sub_list is not a subsequence of main_list.\")\n"
   ]
  },
  {
   "cell_type": "markdown",
   "id": "e639bb4e",
   "metadata": {},
   "source": [
    "### 50. Swap two elements in a list by their indices."
   ]
  },
  {
   "cell_type": "code",
   "execution_count": 105,
   "id": "72065618",
   "metadata": {},
   "outputs": [
    {
     "name": "stdout",
     "output_type": "stream",
     "text": [
      "[1, 4, 3, 2, 5]\n"
     ]
    }
   ],
   "source": [
    "def swap_elements(my_list, index1, index2):\n",
    "    # Check if the indices are valid\n",
    "    if 0 <= index1 < len(my_list) and 0 <= index2 < len(my_list):\n",
    "        my_list[index1], my_list[index2] = my_list[index2], my_list[index1]\n",
    "\n",
    "# Example usage\n",
    "my_list = [1, 2, 3, 4, 5]\n",
    "\n",
    "# Swap elements at index 1 and 3\n",
    "swap_elements(my_list, 1, 3)\n",
    "print(my_list)\n"
   ]
  },
  {
   "cell_type": "code",
   "execution_count": null,
   "id": "116643e7",
   "metadata": {},
   "outputs": [],
   "source": []
  },
  {
   "cell_type": "markdown",
   "id": "63f11a27",
   "metadata": {},
   "source": [
    "# Tuple Based Practice Problem :"
   ]
  },
  {
   "cell_type": "markdown",
   "id": "48a4d7fb",
   "metadata": {},
   "source": [
    "### 1. Create a tuple with integers from 1 to 5."
   ]
  },
  {
   "cell_type": "code",
   "execution_count": 106,
   "id": "62dca7d0",
   "metadata": {},
   "outputs": [
    {
     "data": {
      "text/plain": [
       "(1, 2, 3, 4, 5)"
      ]
     },
     "execution_count": 106,
     "metadata": {},
     "output_type": "execute_result"
    }
   ],
   "source": [
    "tuple(range(1,6))"
   ]
  },
  {
   "cell_type": "code",
   "execution_count": 107,
   "id": "0957182a",
   "metadata": {},
   "outputs": [],
   "source": [
    "### 2. Access the third element of a tuple."
   ]
  },
  {
   "cell_type": "code",
   "execution_count": 108,
   "id": "74536de3",
   "metadata": {},
   "outputs": [
    {
     "data": {
      "text/plain": [
       "3"
      ]
     },
     "execution_count": 108,
     "metadata": {},
     "output_type": "execute_result"
    }
   ],
   "source": [
    "t1 = (1,2,3,4,5,6)\n",
    "third_element = t1[2]\n",
    "third_element"
   ]
  },
  {
   "cell_type": "markdown",
   "id": "5372b4ce",
   "metadata": {},
   "source": [
    "### 3. Find the length of a tuple without using the `len()` function."
   ]
  },
  {
   "cell_type": "code",
   "execution_count": 109,
   "id": "ee090ecd",
   "metadata": {},
   "outputs": [
    {
     "name": "stdout",
     "output_type": "stream",
     "text": [
      "tuple length:  7\n"
     ]
    }
   ],
   "source": [
    "t2 =(2,5,8,9,87,6,5)\n",
    "length = 0\n",
    "for i in t2:\n",
    "    length +=1\n",
    "\n",
    "print(\"tuple length: \", length)"
   ]
  },
  {
   "cell_type": "markdown",
   "id": "2d131ce7",
   "metadata": {},
   "source": [
    "### 4. Count the occurrences of an element in a tuple."
   ]
  },
  {
   "cell_type": "code",
   "execution_count": 110,
   "id": "13b17125",
   "metadata": {},
   "outputs": [
    {
     "name": "stdout",
     "output_type": "stream",
     "text": [
      "89 occurs 3 times in t3\n"
     ]
    }
   ],
   "source": [
    "t3 = (25,89,58,21,54,69,89,89)\n",
    "element = 89\n",
    "if element in t3:\n",
    "    occurence = t3.count(element)\n",
    "    print(f\"{element} occurs {occurence} times in t3\")\n",
    "else:\n",
    "    print(f\"{element} is not present in t3\")"
   ]
  },
  {
   "cell_type": "markdown",
   "id": "d301e6f2",
   "metadata": {},
   "source": [
    "### 5. Find the index of the first occurrence of an element in a tuple."
   ]
  },
  {
   "cell_type": "code",
   "execution_count": 111,
   "id": "16708573",
   "metadata": {},
   "outputs": [
    {
     "name": "stdout",
     "output_type": "stream",
     "text": [
      "The first occurrence of 12 is at index 0.\n"
     ]
    }
   ],
   "source": [
    "my_tuple = [12,12,36,85,12,12,50]\n",
    "element = 12\n",
    "if element in my_tuple:\n",
    "    index = my_tuple.index(element)  \n",
    "    print(f\"The first occurrence of {element} is at index {index}.\")\n",
    "else:      \n",
    "     print(f\"{element} is not in list\")    "
   ]
  },
  {
   "cell_type": "markdown",
   "id": "8c521c05",
   "metadata": {},
   "source": [
    "### 6. Check if an element exists in a tuple."
   ]
  },
  {
   "cell_type": "code",
   "execution_count": 112,
   "id": "d30955f3",
   "metadata": {},
   "outputs": [
    {
     "name": "stdout",
     "output_type": "stream",
     "text": [
      "3 exists in the tuple.\n"
     ]
    }
   ],
   "source": [
    "my_tuple = (1, 2, 3, 4, 5)\n",
    "element_to_check = 3\n",
    "if element_to_check in my_tuple:\n",
    "    print(f\"{element_to_check} exists in the tuple.\")\n",
    "else:\n",
    "    print(f\"{element_to_check} does not exist in the tuple.\")"
   ]
  },
  {
   "cell_type": "markdown",
   "id": "3f20d383",
   "metadata": {},
   "source": [
    "### 7. Convert a tuple to a list."
   ]
  },
  {
   "cell_type": "code",
   "execution_count": 113,
   "id": "426912e3",
   "metadata": {},
   "outputs": [
    {
     "name": "stdout",
     "output_type": "stream",
     "text": [
      "[1, 2, 3, 4, 5]\n"
     ]
    }
   ],
   "source": [
    "my_tuple = (1, 2, 3, 4, 5)\n",
    "# Convert the tuple to a list\n",
    "my_list = list(my_tuple)\n",
    "print(my_list)"
   ]
  },
  {
   "cell_type": "markdown",
   "id": "9836fbd3",
   "metadata": {},
   "source": [
    "### 8. Convert a list to a tuple."
   ]
  },
  {
   "cell_type": "code",
   "execution_count": 114,
   "id": "c02e2758",
   "metadata": {},
   "outputs": [
    {
     "name": "stdout",
     "output_type": "stream",
     "text": [
      "(2, 8, 9, 4, 1, 5, 7, 9)\n"
     ]
    }
   ],
   "source": [
    "list1 = [2,8,9,4,1,5,7,9]\n",
    "my_tuple = tuple(list1)\n",
    "print(my_tuple)"
   ]
  },
  {
   "cell_type": "markdown",
   "id": "3c4cff10",
   "metadata": {},
   "source": [
    "### 9. Unpack the elements of a tuple into variables."
   ]
  },
  {
   "cell_type": "code",
   "execution_count": 115,
   "id": "c6af6126",
   "metadata": {},
   "outputs": [
    {
     "name": "stdout",
     "output_type": "stream",
     "text": [
      "var1: 1\n",
      "var2: 2\n",
      "var3: 3\n"
     ]
    }
   ],
   "source": [
    "my_tuple = (1, 2, 3)\n",
    "\n",
    "# Unpack the elements into variables\n",
    "var1, var2, var3 = my_tuple\n",
    "\n",
    "print(\"var1:\", var1)\n",
    "print(\"var2:\", var2)\n",
    "print(\"var3:\", var3)\n"
   ]
  },
  {
   "cell_type": "markdown",
   "id": "9b0d9e07",
   "metadata": {},
   "source": [
    "### 10. Create a tuple of even numbers from 1 to 10."
   ]
  },
  {
   "cell_type": "code",
   "execution_count": 116,
   "id": "9863b350",
   "metadata": {},
   "outputs": [
    {
     "name": "stdout",
     "output_type": "stream",
     "text": [
      "(2, 4, 6, 8, 10)\n"
     ]
    }
   ],
   "source": [
    "even_numbers = tuple(x for x in range(2, 11, 2))\n",
    "print(even_numbers)"
   ]
  },
  {
   "cell_type": "markdown",
   "id": "9799fe44",
   "metadata": {},
   "source": [
    "### 11. Create a tuple of odd numbers from 1 to 10."
   ]
  },
  {
   "cell_type": "code",
   "execution_count": 117,
   "id": "0a747bbd",
   "metadata": {},
   "outputs": [
    {
     "name": "stdout",
     "output_type": "stream",
     "text": [
      "(1, 3, 5, 7, 9)\n"
     ]
    }
   ],
   "source": [
    "odd_numbers = tuple(x for x in range(1,11,2))\n",
    "print(odd_numbers)"
   ]
  },
  {
   "cell_type": "code",
   "execution_count": 118,
   "id": "32d43c1b",
   "metadata": {},
   "outputs": [
    {
     "name": "stdout",
     "output_type": "stream",
     "text": [
      "(1, 3, 5, 7, 9)\n"
     ]
    }
   ],
   "source": [
    "odd_numbers = tuple(x for x in range(1, 11) if x % 2 != 0)\n",
    "print(odd_numbers)"
   ]
  },
  {
   "cell_type": "markdown",
   "id": "862c9c14",
   "metadata": {},
   "source": [
    "### 12. Concatenate two tuples."
   ]
  },
  {
   "cell_type": "code",
   "execution_count": 119,
   "id": "b7d05823",
   "metadata": {},
   "outputs": [
    {
     "name": "stdout",
     "output_type": "stream",
     "text": [
      "(1, 4, 8, 3, 9, 7, 5, 8, 89, 52, 87)\n"
     ]
    }
   ],
   "source": [
    "t1 = (1,4,8,3,9,7)\n",
    "t2 = (5,8,89,52,87)\n",
    "concatenate = t1 + t2\n",
    "print(concatenate)"
   ]
  },
  {
   "cell_type": "markdown",
   "id": "1817bfa0",
   "metadata": {},
   "source": [
    "### 13. Repeat a tuple three times."
   ]
  },
  {
   "cell_type": "code",
   "execution_count": 120,
   "id": "579bd75a",
   "metadata": {},
   "outputs": [
    {
     "name": "stdout",
     "output_type": "stream",
     "text": [
      "(1, 2, 7, 89, 5, 8, 6, 1, 2, 7, 89, 5, 8, 6, 1, 2, 7, 89, 5, 8, 6)\n"
     ]
    }
   ],
   "source": [
    "t1 = (1,2,7,89,5,8,6)\n",
    "t1_three = t1*3\n",
    "print(t1_three)"
   ]
  },
  {
   "cell_type": "markdown",
   "id": "07b81d00",
   "metadata": {},
   "source": [
    "### 14. Check if a tuple is empty."
   ]
  },
  {
   "cell_type": "code",
   "execution_count": 121,
   "id": "65d6c4c7",
   "metadata": {},
   "outputs": [
    {
     "name": "stdout",
     "output_type": "stream",
     "text": [
      "The tuple is empty.\n"
     ]
    }
   ],
   "source": [
    "my_tuple = ()  # An empty tuple\n",
    "if not my_tuple:\n",
    "    print(\"The tuple is empty.\")\n",
    "else:\n",
    "    print(\"The tuple is not empty.\")"
   ]
  },
  {
   "cell_type": "markdown",
   "id": "77c25a72",
   "metadata": {},
   "source": [
    "### 15. Create a nested tuple."
   ]
  },
  {
   "cell_type": "code",
   "execution_count": 122,
   "id": "a91238df",
   "metadata": {},
   "outputs": [
    {
     "name": "stdout",
     "output_type": "stream",
     "text": [
      "((1, 2, 3), (4, 5, 6), (7, 8, 9))\n"
     ]
    }
   ],
   "source": [
    "nested_tuple = ((1, 2, 3), (4, 5, 6), (7, 8, 9))\n",
    "print(nested_tuple)"
   ]
  },
  {
   "cell_type": "markdown",
   "id": "40fa2567",
   "metadata": {},
   "source": [
    "### 16. Access the first element of a nested tuple."
   ]
  },
  {
   "cell_type": "code",
   "execution_count": 123,
   "id": "aabfad4e",
   "metadata": {},
   "outputs": [
    {
     "name": "stdout",
     "output_type": "stream",
     "text": [
      "The first element of the nested tuple: 1\n"
     ]
    }
   ],
   "source": [
    "nested_tuple = ((1, 2, 3), (4, 5, 6), (7, 8, 9))\n",
    "# Access the first element of the first inner tuple\n",
    "first_element = nested_tuple[0][0]\n",
    "print(\"The first element of the nested tuple:\", first_element)"
   ]
  },
  {
   "cell_type": "markdown",
   "id": "929f962c",
   "metadata": {},
   "source": [
    "### 17. Create a tuple with a single element."
   ]
  },
  {
   "cell_type": "code",
   "execution_count": 124,
   "id": "4c8fc430",
   "metadata": {},
   "outputs": [
    {
     "name": "stdout",
     "output_type": "stream",
     "text": [
      "(42,)\n"
     ]
    }
   ],
   "source": [
    "single_element_tuple = (42,)\n",
    "print(single_element_tuple)\n"
   ]
  },
  {
   "cell_type": "markdown",
   "id": "e1888fa4",
   "metadata": {},
   "source": [
    "### 18. Compare two tuples."
   ]
  },
  {
   "cell_type": "code",
   "execution_count": 125,
   "id": "ed1afe4e",
   "metadata": {},
   "outputs": [
    {
     "name": "stdout",
     "output_type": "stream",
     "text": [
      "tuple1 and tuple2 are equal.\n",
      "tuple1 is not greater than tuple3.\n"
     ]
    }
   ],
   "source": [
    "tuple1 = (1, 2, 3)\n",
    "tuple2 = (1, 2, 3)\n",
    "\n",
    "# Equal comparison\n",
    "if tuple1 == tuple2:\n",
    "    print(\"tuple1 and tuple2 are equal.\")\n",
    "else:\n",
    "    print(\"tuple1 and tuple2 are not equal.\")\n",
    "\n",
    "tuple3 = (4, 5, 6)\n",
    "\n",
    "# Greater than comparison\n",
    "if tuple1 > tuple3:\n",
    "    print(\"tuple1 is greater than tuple3.\")\n",
    "else:\n",
    "    print(\"tuple1 is not greater than tuple3.\")"
   ]
  },
  {
   "cell_type": "markdown",
   "id": "89de8f77",
   "metadata": {},
   "source": [
    "### 19. Delete a tuple."
   ]
  },
  {
   "cell_type": "code",
   "execution_count": 126,
   "id": "583dd4dc",
   "metadata": {},
   "outputs": [],
   "source": [
    "my_tuple = (1, 2, 3, 4, 5)\n",
    "my_tuple = None\n",
    "my_tuple"
   ]
  },
  {
   "cell_type": "markdown",
   "id": "7f05cc43",
   "metadata": {},
   "source": [
    "### 20. Slice a tuple."
   ]
  },
  {
   "cell_type": "code",
   "execution_count": 127,
   "id": "42360c5a",
   "metadata": {},
   "outputs": [
    {
     "name": "stdout",
     "output_type": "stream",
     "text": [
      "(3, 4, 5, 6)\n"
     ]
    }
   ],
   "source": [
    "my_tuple = (1, 2, 3, 4, 5, 6, 7, 8, 9)\n",
    "# Slice the tuple to create a new tuple with elements from index 2 to 5 (inclusive)\n",
    "sliced_tuple = my_tuple[2:6]\n",
    "print(sliced_tuple)"
   ]
  },
  {
   "cell_type": "markdown",
   "id": "14bc6660",
   "metadata": {},
   "source": [
    "### 21. Find the maximum value in a tuple."
   ]
  },
  {
   "cell_type": "code",
   "execution_count": 128,
   "id": "43b7e09c",
   "metadata": {},
   "outputs": [
    {
     "name": "stdout",
     "output_type": "stream",
     "text": [
      "The maximum value in the tuple is: 30\n"
     ]
    }
   ],
   "source": [
    "my_tuple = (10, 5, 30, 15, 20)\n",
    "max_value = max(my_tuple)\n",
    "print(\"The maximum value in the tuple is:\", max_value)"
   ]
  },
  {
   "cell_type": "markdown",
   "id": "e7301c22",
   "metadata": {},
   "source": [
    "### 22. Find the minimum value in a tuple."
   ]
  },
  {
   "cell_type": "code",
   "execution_count": 129,
   "id": "f6a96f1f",
   "metadata": {},
   "outputs": [
    {
     "name": "stdout",
     "output_type": "stream",
     "text": [
      "The minimum value in the tuple is: 5\n"
     ]
    }
   ],
   "source": [
    "my_tuple = (10, 5, 30, 15, 20)\n",
    "max_value = min(my_tuple)\n",
    "print(\"The minimum value in the tuple is:\", max_value)"
   ]
  },
  {
   "cell_type": "markdown",
   "id": "432f478b",
   "metadata": {},
   "source": [
    "### 23. Convert a string to a tuple of characters."
   ]
  },
  {
   "cell_type": "code",
   "execution_count": 130,
   "id": "86a5c2a5",
   "metadata": {},
   "outputs": [
    {
     "name": "stdout",
     "output_type": "stream",
     "text": [
      "('H', 'e', 'l', 'l', 'o', ',', ' ', 'W', 'o', 'r', 'l', 'd', '!')\n"
     ]
    }
   ],
   "source": [
    "my_string = \"Hello, World!\"\n",
    "char_tuple = tuple(char for char in my_string)\n",
    "print(char_tuple)"
   ]
  },
  {
   "cell_type": "markdown",
   "id": "3fdf07f9",
   "metadata": {},
   "source": [
    "### 24. Convert a tuple of characters to a string."
   ]
  },
  {
   "cell_type": "code",
   "execution_count": 131,
   "id": "a77ea243",
   "metadata": {},
   "outputs": [
    {
     "name": "stdout",
     "output_type": "stream",
     "text": [
      "Hello, World!\n"
     ]
    }
   ],
   "source": [
    "char_tuple = ('H', 'e', 'l', 'l', 'o', ',', ' ', 'W', 'o', 'r', 'l', 'd', '!')\n",
    "my_string = ''.join(char_tuple)\n",
    "print(my_string)"
   ]
  },
  {
   "cell_type": "markdown",
   "id": "9089e209",
   "metadata": {},
   "source": [
    "### 25. Create a tuple from multiple data types."
   ]
  },
  {
   "cell_type": "code",
   "execution_count": 132,
   "id": "27e329a3",
   "metadata": {},
   "outputs": [
    {
     "name": "stdout",
     "output_type": "stream",
     "text": [
      "(1, 'apple', 3.14, True)\n"
     ]
    }
   ],
   "source": [
    "mixed_tuple = (1, \"apple\", 3.14, True)\n",
    "print(mixed_tuple)"
   ]
  },
  {
   "cell_type": "markdown",
   "id": "7720c9e8",
   "metadata": {},
   "source": [
    "### 26. Check if two tuples are identical."
   ]
  },
  {
   "cell_type": "code",
   "execution_count": 133,
   "id": "921352e9",
   "metadata": {},
   "outputs": [
    {
     "name": "stdout",
     "output_type": "stream",
     "text": [
      "The two tuples are identical.\n"
     ]
    }
   ],
   "source": [
    "tuple1 = (1, 2, 3, 4, 5)\n",
    "tuple2 = (1, 2, 3, 4, 5)\n",
    "\n",
    "if tuple1 == tuple2:\n",
    "    print(\"The two tuples are identical.\")\n",
    "else:\n",
    "    print(\"The two tuples are not identical.\")"
   ]
  },
  {
   "cell_type": "markdown",
   "id": "bf959a7b",
   "metadata": {},
   "source": [
    "### 27. Sort the elements of a tuple."
   ]
  },
  {
   "cell_type": "code",
   "execution_count": 134,
   "id": "e686c641",
   "metadata": {},
   "outputs": [
    {
     "name": "stdout",
     "output_type": "stream",
     "text": [
      "(1, 2, 5, 8, 9)\n"
     ]
    }
   ],
   "source": [
    "my_tuple = (5, 2, 9, 1, 8)\n",
    "sorted_list = sorted(my_tuple)\n",
    "sorted_tuple = tuple(sorted_list)\n",
    "print(sorted_tuple)"
   ]
  },
  {
   "cell_type": "markdown",
   "id": "825adf74",
   "metadata": {},
   "source": [
    "### 28. Convert a tuple of integers to a tuple of strings."
   ]
  },
  {
   "cell_type": "code",
   "execution_count": 135,
   "id": "4c982264",
   "metadata": {},
   "outputs": [
    {
     "name": "stdout",
     "output_type": "stream",
     "text": [
      "('1', '2', '3', '4', '5')\n"
     ]
    }
   ],
   "source": [
    "int_tuple = (1, 2, 3, 4, 5)\n",
    "str_tuple = tuple(str(x) for x in int_tuple)\n",
    "print(str_tuple)"
   ]
  },
  {
   "cell_type": "markdown",
   "id": "d256925b",
   "metadata": {},
   "source": [
    "### 29. Convert a tuple of strings to a tuple of integers."
   ]
  },
  {
   "cell_type": "code",
   "execution_count": 136,
   "id": "a52c4c58",
   "metadata": {},
   "outputs": [
    {
     "name": "stdout",
     "output_type": "stream",
     "text": [
      "(1, 2, 3, 4, 5)\n"
     ]
    }
   ],
   "source": [
    "str_tuple = ('1', '2', '3', '4', '5')\n",
    "int_tuple = tuple(int(x) for x in str_tuple)\n",
    "print(int_tuple)"
   ]
  },
  {
   "cell_type": "markdown",
   "id": "1c48757d",
   "metadata": {},
   "source": [
    "### 30. Merge two tuples."
   ]
  },
  {
   "cell_type": "code",
   "execution_count": 137,
   "id": "35700eff",
   "metadata": {},
   "outputs": [
    {
     "name": "stdout",
     "output_type": "stream",
     "text": [
      "(1, 2, 3, 4, 5, 6)\n"
     ]
    }
   ],
   "source": [
    "tuple1 = (1, 2, 3)\n",
    "tuple2 = (4, 5, 6)\n",
    "merged_tuple = tuple1 + tuple2\n",
    "print(merged_tuple)"
   ]
  },
  {
   "cell_type": "markdown",
   "id": "d78f3cb9",
   "metadata": {},
   "source": [
    "### 31. Flatten a nested tuple."
   ]
  },
  {
   "cell_type": "code",
   "execution_count": 138,
   "id": "e2193dda",
   "metadata": {},
   "outputs": [
    {
     "name": "stdout",
     "output_type": "stream",
     "text": [
      "(1, 2, 3, 4, 5, 6)\n"
     ]
    }
   ],
   "source": [
    "def flatten_nested_tuple(nested_tuple):\n",
    "    flat_tuple = ()\n",
    "    \n",
    "    for item in nested_tuple:\n",
    "        if isinstance(item, tuple):\n",
    "            flat_tuple += flatten_nested_tuple(item)\n",
    "        else:\n",
    "            flat_tuple += (item,)\n",
    "    \n",
    "    return flat_tuple\n",
    "\n",
    "nested_tuple = ((1, 2), (3, (4, 5)), 6)\n",
    "\n",
    "flat_tuple = flatten_nested_tuple(nested_tuple)\n",
    "print(flat_tuple)"
   ]
  },
  {
   "cell_type": "markdown",
   "id": "a4735726",
   "metadata": {},
   "source": [
    "### 32. Create a tuple of the first 5 prime numbers."
   ]
  },
  {
   "cell_type": "code",
   "execution_count": 139,
   "id": "216699e0",
   "metadata": {},
   "outputs": [
    {
     "name": "stdout",
     "output_type": "stream",
     "text": [
      "(2, 3, 5, 7, 11)\n"
     ]
    }
   ],
   "source": [
    "prime_numbers = (2, 3, 5, 7, 11)\n",
    "print(prime_numbers)"
   ]
  },
  {
   "cell_type": "markdown",
   "id": "6a20ce0e",
   "metadata": {},
   "source": [
    "### 33. Check if a tuple is a palindrome."
   ]
  },
  {
   "cell_type": "code",
   "execution_count": 140,
   "id": "c4b0b165",
   "metadata": {},
   "outputs": [
    {
     "name": "stdout",
     "output_type": "stream",
     "text": [
      "my_tuple1 is a palindrome.\n",
      "my_tuple2 is not a palindrome.\n"
     ]
    }
   ],
   "source": [
    "def is_palindrome(t):\n",
    "    return t == t[::-1]\n",
    "my_tuple1 = (1, 2, 3, 2, 1)\n",
    "my_tuple2 = (1, 2, 3, 4, 5)\n",
    "\n",
    "if is_palindrome(my_tuple1):\n",
    "    print(\"my_tuple1 is a palindrome.\")\n",
    "else:\n",
    "    print(\"my_tuple1 is not a palindrome.\")\n",
    "\n",
    "if is_palindrome(my_tuple2):\n",
    "    print(\"my_tuple2 is a palindrome.\")\n",
    "else:\n",
    "    print(\"my_tuple2 is not a palindrome.\")\n"
   ]
  },
  {
   "cell_type": "markdown",
   "id": "a60ce081",
   "metadata": {},
   "source": [
    "### 34. Create a tuple of squares of numbers from 1 to 5."
   ]
  },
  {
   "cell_type": "code",
   "execution_count": 141,
   "id": "d8bb85d2",
   "metadata": {},
   "outputs": [
    {
     "name": "stdout",
     "output_type": "stream",
     "text": [
      "(1, 4, 9, 16, 25)\n"
     ]
    }
   ],
   "source": [
    "squares_tuple = tuple(x ** 2 for x in range(1, 6))\n",
    "print(squares_tuple)"
   ]
  },
  {
   "cell_type": "markdown",
   "id": "4d24f77f",
   "metadata": {},
   "source": [
    "### 35. Filter out all even numbers from a tuple."
   ]
  },
  {
   "cell_type": "code",
   "execution_count": 142,
   "id": "ee2b368b",
   "metadata": {},
   "outputs": [
    {
     "name": "stdout",
     "output_type": "stream",
     "text": [
      "(1, 3, 5, 7, 9)\n"
     ]
    }
   ],
   "source": [
    "original_tuple = (1, 2, 3, 4, 5, 6, 7, 8, 9)\n",
    "filtered_tuple = tuple(x for x in original_tuple if x % 2 != 0)\n",
    "print(filtered_tuple)"
   ]
  },
  {
   "cell_type": "markdown",
   "id": "7d67d67a",
   "metadata": {},
   "source": [
    "### 36. Multiply all elements in a tuple by 2."
   ]
  },
  {
   "cell_type": "code",
   "execution_count": 143,
   "id": "9d7e9c7c",
   "metadata": {},
   "outputs": [
    {
     "name": "stdout",
     "output_type": "stream",
     "text": [
      "(2, 4, 6, 8, 10)\n"
     ]
    }
   ],
   "source": [
    "original_tuple = (1, 2, 3, 4, 5)\n",
    "result_tuple = tuple(x * 2 for x in original_tuple)\n",
    "print(result_tuple)"
   ]
  },
  {
   "cell_type": "markdown",
   "id": "a86e6290",
   "metadata": {},
   "source": [
    "### 37. Create a tuple of random numbers."
   ]
  },
  {
   "cell_type": "code",
   "execution_count": 144,
   "id": "95a6fda8",
   "metadata": {},
   "outputs": [
    {
     "name": "stdout",
     "output_type": "stream",
     "text": [
      "(80, 72, 41, 37, 15)\n"
     ]
    }
   ],
   "source": [
    "import random\n",
    "random_tuple = tuple(random.randint(1, 100) for _ in range(5))\n",
    "print(random_tuple)"
   ]
  },
  {
   "cell_type": "markdown",
   "id": "5b8754df",
   "metadata": {},
   "source": [
    "### 38. Check if a tuple is sorted."
   ]
  },
  {
   "cell_type": "code",
   "execution_count": 145,
   "id": "8dfe2feb",
   "metadata": {},
   "outputs": [
    {
     "name": "stdout",
     "output_type": "stream",
     "text": [
      "sorted_tuple is sorted.\n",
      "unsorted_tuple is not sorted.\n"
     ]
    }
   ],
   "source": [
    "def is_sorted(t):\n",
    "    return t == tuple(sorted(t))\n",
    "sorted_tuple = (1, 2, 3, 4, 5)\n",
    "unsorted_tuple = (5, 2, 8, 1, 4)\n",
    "\n",
    "if is_sorted(sorted_tuple):\n",
    "    print(\"sorted_tuple is sorted.\")\n",
    "else:\n",
    "    print(\"sorted_tuple is not sorted.\")\n",
    "\n",
    "if is_sorted(unsorted_tuple):\n",
    "    print(\"unsorted_tuple is sorted.\")\n",
    "else:\n",
    "    print(\"unsorted_tuple is not sorted.\")\n"
   ]
  },
  {
   "cell_type": "markdown",
   "id": "db59f2e3",
   "metadata": {},
   "source": [
    "### 39. Rotate a tuple to the left by `n` positions."
   ]
  },
  {
   "cell_type": "code",
   "execution_count": 146,
   "id": "787c9adf",
   "metadata": {},
   "outputs": [
    {
     "name": "stdout",
     "output_type": "stream",
     "text": [
      "(3, 4, 5, 1, 2)\n"
     ]
    }
   ],
   "source": [
    "def rotate_left_tuple(t, n):\n",
    "    n = n % len(t)  # Ensure n is within the length of the tuple\n",
    "    return t[n:] + t[:n]\n",
    "original_tuple = (1, 2, 3, 4, 5)\n",
    "rotated_tuple = rotate_left_tuple(original_tuple, 2)\n",
    "print(rotated_tuple)"
   ]
  },
  {
   "cell_type": "markdown",
   "id": "414434c4",
   "metadata": {},
   "source": [
    "### 40. Rotate a tuple to the right by `n` positions."
   ]
  },
  {
   "cell_type": "code",
   "execution_count": 147,
   "id": "55d4416d",
   "metadata": {},
   "outputs": [
    {
     "name": "stdout",
     "output_type": "stream",
     "text": [
      "(4, 5, 1, 2, 3)\n"
     ]
    }
   ],
   "source": [
    "def rotate_right_tuple(t, n):\n",
    "    n = n % len(t)\n",
    "    return t[-n:] + t[:-n]\n",
    "original_tuple = (1, 2, 3, 4, 5)\n",
    "rotated_tuple = rotate_right_tuple(original_tuple, 2)\n",
    "print(rotated_tuple)"
   ]
  },
  {
   "cell_type": "markdown",
   "id": "45e15105",
   "metadata": {},
   "source": [
    "### 41. Create a tuple of the first 5 Fibonacci numbers."
   ]
  },
  {
   "cell_type": "code",
   "execution_count": 148,
   "id": "9f95ef77",
   "metadata": {},
   "outputs": [
    {
     "name": "stdout",
     "output_type": "stream",
     "text": [
      "(0, 1, 1, 2, 3)\n"
     ]
    }
   ],
   "source": [
    "def generate_fibonacci(n):\n",
    "    fibonacci_sequence = [0, 1]\n",
    "    \n",
    "    while len(fibonacci_sequence) < n:\n",
    "        next_number = fibonacci_sequence[-1] + fibonacci_sequence[-2]\n",
    "        fibonacci_sequence.append(next_number)\n",
    "    return tuple(fibonacci_sequence)\n",
    "fibonacci_tuple = generate_fibonacci(5)\n",
    "print(fibonacci_tuple)"
   ]
  },
  {
   "cell_type": "markdown",
   "id": "3af9c045",
   "metadata": {},
   "source": [
    "### 42. Create a tuple from user input."
   ]
  },
  {
   "cell_type": "code",
   "execution_count": 149,
   "id": "980944f9",
   "metadata": {},
   "outputs": [
    {
     "name": "stdout",
     "output_type": "stream",
     "text": [
      "Enter a list of values separated by commas: 2,5,687,3254\n",
      "User input as a tuple: ('2', '5', '687', '3254')\n"
     ]
    }
   ],
   "source": [
    "input_string = input(\"Enter a list of values separated by commas: \")\n",
    "input_list = input_string.split(\",\")\n",
    "user_tuple = tuple(input_list)\n",
    "print(\"User input as a tuple:\", user_tuple)"
   ]
  },
  {
   "cell_type": "markdown",
   "id": "4fb02e5f",
   "metadata": {},
   "source": [
    "### 43. Swap two elements in a tuple."
   ]
  },
  {
   "cell_type": "code",
   "execution_count": 150,
   "id": "5e93963b",
   "metadata": {},
   "outputs": [
    {
     "name": "stdout",
     "output_type": "stream",
     "text": [
      "(1, 4, 3, 2, 5)\n"
     ]
    }
   ],
   "source": [
    "my_tuple = (1, 2, 3, 4, 5)\n",
    "my_list = list(my_tuple)\n",
    "index1 = 1  \n",
    "index2 = 3  \n",
    "# Swap the elements\n",
    "my_list[index1], my_list[index2] = my_list[index2], my_list[index1]\n",
    "swapped_tuple = tuple(my_list)\n",
    "print(swapped_tuple)"
   ]
  },
  {
   "cell_type": "markdown",
   "id": "2846e395",
   "metadata": {},
   "source": [
    "### 44. Reverse the elements of a tuple."
   ]
  },
  {
   "cell_type": "code",
   "execution_count": 151,
   "id": "96a5c053",
   "metadata": {},
   "outputs": [
    {
     "name": "stdout",
     "output_type": "stream",
     "text": [
      "(5, 4, 3, 2, 1)\n"
     ]
    }
   ],
   "source": [
    "original_tuple = (1, 2, 3, 4, 5)\n",
    "reversed_tuple = original_tuple[::-1]\n",
    "print(reversed_tuple)"
   ]
  },
  {
   "cell_type": "markdown",
   "id": "576a0eb4",
   "metadata": {},
   "source": [
    "### 45. Create a tuple of the first `n` powers of 2."
   ]
  },
  {
   "cell_type": "code",
   "execution_count": 152,
   "id": "eaa8abb3",
   "metadata": {},
   "outputs": [
    {
     "name": "stdout",
     "output_type": "stream",
     "text": [
      "(1, 2, 4, 8, 16)\n"
     ]
    }
   ],
   "source": [
    "def powers_of_2(n):\n",
    "    powers = []\n",
    "    for i in range(n):\n",
    "        powers.append(2 ** i)\n",
    "    return tuple(powers)\n",
    "power_of_2_tuple = powers_of_2(5)\n",
    "print(power_of_2_tuple)"
   ]
  },
  {
   "cell_type": "markdown",
   "id": "e376abe2",
   "metadata": {},
   "source": [
    "### 46. Find the longest string in a tuple of strings."
   ]
  },
  {
   "cell_type": "code",
   "execution_count": 153,
   "id": "8eec99f1",
   "metadata": {},
   "outputs": [
    {
     "name": "stdout",
     "output_type": "stream",
     "text": [
      "The longest string is: banana\n"
     ]
    }
   ],
   "source": [
    "string_tuple = (\"apple\", \"banana\", \"cherry\", \"date\", \"fig\")\n",
    "longest_string = max(string_tuple, key=len)\n",
    "print(\"The longest string is:\", longest_string)"
   ]
  },
  {
   "cell_type": "markdown",
   "id": "4524e703",
   "metadata": {},
   "source": [
    "### 47. Find the shortest string in a tuple of strings."
   ]
  },
  {
   "cell_type": "code",
   "execution_count": 154,
   "id": "2eb04dfb",
   "metadata": {},
   "outputs": [
    {
     "name": "stdout",
     "output_type": "stream",
     "text": [
      "The shortest string is: fig\n"
     ]
    }
   ],
   "source": [
    "string_tuple = (\"apple\", \"banana\", \"cherry\", \"date\", \"fig\")\n",
    "shortest_string = min(string_tuple, key=len)\n",
    "print(\"The shortest string is:\", shortest_string)"
   ]
  },
  {
   "cell_type": "markdown",
   "id": "bce06b4b",
   "metadata": {},
   "source": [
    "### 48. Create a tuple of the first `n` triangular numbers."
   ]
  },
  {
   "cell_type": "code",
   "execution_count": 155,
   "id": "7d08f31a",
   "metadata": {},
   "outputs": [
    {
     "name": "stdout",
     "output_type": "stream",
     "text": [
      "(1, 3, 6, 10, 15)\n"
     ]
    }
   ],
   "source": [
    "def triangular_numbers(n):\n",
    "    triangulars = []\n",
    "    for i in range(1, n + 1):\n",
    "        triangulars.append(i * (i + 1) // 2)\n",
    "    return tuple(triangulars)\n",
    "triangular_tuple = triangular_numbers(5)\n",
    "print(triangular_tuple)"
   ]
  },
  {
   "cell_type": "markdown",
   "id": "25b16925",
   "metadata": {},
   "source": [
    "### 49. Check if a tuple contains another tuple as a subsequence."
   ]
  },
  {
   "cell_type": "code",
   "execution_count": 156,
   "id": "15f40290",
   "metadata": {},
   "outputs": [
    {
     "name": "stdout",
     "output_type": "stream",
     "text": [
      "The sub_tuple is a subsequence of main_tuple.\n"
     ]
    }
   ],
   "source": [
    "def is_subsequence(subsequence, sequence):\n",
    "    m, n = len(subsequence), len(sequence)\n",
    "    i, j = 0, 0\n",
    "\n",
    "    while i < m and j < n:\n",
    "        if subsequence[i] == sequence[j]:\n",
    "            i += 1\n",
    "        j += 1\n",
    "\n",
    "    return i == m\n",
    "main_tuple = (1, 2, 3, 4, 5, 6, 7)\n",
    "sub_tuple = (3, 4, 5)\n",
    "\n",
    "if is_subsequence(sub_tuple, main_tuple):\n",
    "    print(\"The sub_tuple is a subsequence of main_tuple.\")\n",
    "else:\n",
    "    print(\"The sub_tuple is not a subsequence of main_tuple.\")\n"
   ]
  },
  {
   "cell_type": "markdown",
   "id": "977c1370",
   "metadata": {},
   "source": [
    "### 50. Create a tuple of alternating 1s and 0s of length `n`."
   ]
  },
  {
   "cell_type": "code",
   "execution_count": 157,
   "id": "a16111f5",
   "metadata": {},
   "outputs": [
    {
     "name": "stdout",
     "output_type": "stream",
     "text": [
      "(1, 0, 1, 0, 1, 0, 1, 0, 1, 0)\n"
     ]
    }
   ],
   "source": [
    "def alternating_ones_zeros(n):\n",
    "    return tuple(1 if i % 2 == 0 else 0 for i in range(n))\n",
    "\n",
    "# Create a tuple of alternating 1s and 0s of length 10\n",
    "alternating_tuple = alternating_ones_zeros(10)\n",
    "\n",
    "print(alternating_tuple)\n"
   ]
  },
  {
   "cell_type": "markdown",
   "id": "61fe052e",
   "metadata": {},
   "source": [
    "# Set Based Practice Problem :"
   ]
  },
  {
   "cell_type": "markdown",
   "id": "61c3f431",
   "metadata": {},
   "source": [
    "### 1. Create a set with integers from 1 to 5."
   ]
  },
  {
   "cell_type": "code",
   "execution_count": 158,
   "id": "a8962779",
   "metadata": {},
   "outputs": [
    {
     "data": {
      "text/plain": [
       "{1, 2, 3, 4, 5}"
      ]
     },
     "execution_count": 158,
     "metadata": {},
     "output_type": "execute_result"
    }
   ],
   "source": [
    "s1 = set(range(1,6))\n",
    "s1"
   ]
  },
  {
   "cell_type": "markdown",
   "id": "92ed1708",
   "metadata": {},
   "source": [
    "### 2. Add an element to a set."
   ]
  },
  {
   "cell_type": "code",
   "execution_count": 159,
   "id": "0013a663",
   "metadata": {},
   "outputs": [
    {
     "data": {
      "text/plain": [
       "{1, 2, 3, 4, 5, 6}"
      ]
     },
     "execution_count": 159,
     "metadata": {},
     "output_type": "execute_result"
    }
   ],
   "source": [
    "s1 = {1,2,3,4,5}\n",
    "s1.add(6)\n",
    "s1"
   ]
  },
  {
   "cell_type": "markdown",
   "id": "c66a95bc",
   "metadata": {},
   "source": [
    "### 3. Remove an element from a set."
   ]
  },
  {
   "cell_type": "code",
   "execution_count": 160,
   "id": "55963097",
   "metadata": {},
   "outputs": [
    {
     "data": {
      "text/plain": [
       "{1, 2, 4, 5}"
      ]
     },
     "execution_count": 160,
     "metadata": {},
     "output_type": "execute_result"
    }
   ],
   "source": [
    "s1= {1,2,3,4,5}\n",
    "s1.remove(3)\n",
    "s1"
   ]
  },
  {
   "cell_type": "markdown",
   "id": "3b4f9017",
   "metadata": {},
   "source": [
    "### 4. Check if an element exists in a set."
   ]
  },
  {
   "cell_type": "code",
   "execution_count": 161,
   "id": "87bf4921",
   "metadata": {},
   "outputs": [
    {
     "name": "stdout",
     "output_type": "stream",
     "text": [
      "10 exists in a set\n"
     ]
    }
   ],
   "source": [
    "s2 = {25,78,10,59,86}\n",
    "def check_element(set):\n",
    "    element = 10\n",
    "    if element in s2:\n",
    "        print(f\"{element} exists in a set\")\n",
    "    else:\n",
    "        print(f\"{element} does not exists in a set\")\n",
    "\n",
    "check = check_element(s2)\n"
   ]
  },
  {
   "cell_type": "markdown",
   "id": "f4bceb94",
   "metadata": {},
   "source": [
    "### 5. Find the length of a set without using the `len()` function."
   ]
  },
  {
   "cell_type": "code",
   "execution_count": 162,
   "id": "d00a25b4",
   "metadata": {},
   "outputs": [
    {
     "name": "stdout",
     "output_type": "stream",
     "text": [
      "7\n"
     ]
    }
   ],
   "source": [
    "s2 = {2,5,8,9,10,25,47}\n",
    "set_length = 0\n",
    "for i in s2:\n",
    "    set_length += 1\n",
    "print(set_length)"
   ]
  },
  {
   "cell_type": "markdown",
   "id": "0f0d0b62",
   "metadata": {},
   "source": [
    "### 6. Clear all elements from a set."
   ]
  },
  {
   "cell_type": "code",
   "execution_count": 163,
   "id": "9f4d55ac",
   "metadata": {},
   "outputs": [
    {
     "data": {
      "text/plain": [
       "set()"
      ]
     },
     "execution_count": 163,
     "metadata": {},
     "output_type": "execute_result"
    }
   ],
   "source": [
    "set2 = {25,78,95,24,36,68,58}\n",
    "set2.clear()\n",
    "set2"
   ]
  },
  {
   "cell_type": "markdown",
   "id": "fa933a96",
   "metadata": {},
   "source": [
    "### 7. Create a set of even numbers from 1 to 10."
   ]
  },
  {
   "cell_type": "code",
   "execution_count": 164,
   "id": "834ef7c0",
   "metadata": {},
   "outputs": [
    {
     "name": "stdout",
     "output_type": "stream",
     "text": [
      "{2, 4, 6, 8, 10}\n"
     ]
    }
   ],
   "source": [
    "s2 = set()\n",
    "for i in range(1,11):\n",
    "    if i % 2 == 0:\n",
    "        s2.add(i)\n",
    "print(s2)"
   ]
  },
  {
   "cell_type": "markdown",
   "id": "6ce675bf",
   "metadata": {},
   "source": [
    "### 8. Create a set of odd numbers from 1 to 10."
   ]
  },
  {
   "cell_type": "code",
   "execution_count": 168,
   "id": "02a55474",
   "metadata": {},
   "outputs": [
    {
     "name": "stdout",
     "output_type": "stream",
     "text": [
      "{1, 3, 5, 7, 9}\n"
     ]
    }
   ],
   "source": [
    "s3 = set()\n",
    "for i in range(1,11):\n",
    "    if i % 2 != 0:\n",
    "        s3.add(i)\n",
    "print(s3)"
   ]
  },
  {
   "cell_type": "markdown",
   "id": "3b38850e",
   "metadata": {},
   "source": [
    "### 9. Find the union of two sets."
   ]
  },
  {
   "cell_type": "code",
   "execution_count": 172,
   "id": "c258c47c",
   "metadata": {},
   "outputs": [
    {
     "name": "stdout",
     "output_type": "stream",
     "text": [
      "{1, 2, 3, 4, 5, 6, 7, 8, 9, 10}\n"
     ]
    }
   ],
   "source": [
    "s1 = {1,2,3,4,5}\n",
    "s2 = {6,7,8,9,10}\n",
    "union = s1.union(s2)\n",
    "print(union)"
   ]
  },
  {
   "cell_type": "markdown",
   "id": "83f7aa76",
   "metadata": {},
   "source": [
    "### 10. Find the intersection of two sets."
   ]
  },
  {
   "cell_type": "code",
   "execution_count": 175,
   "id": "c8f38d13",
   "metadata": {},
   "outputs": [
    {
     "name": "stdout",
     "output_type": "stream",
     "text": [
      "{6, 7}\n"
     ]
    }
   ],
   "source": [
    "s1 = {1,2,3,4,5,6,7}\n",
    "s2 = {6,7,8,9,10}\n",
    "intersection = s1.intersection(s2)\n",
    "print(intersection)"
   ]
  },
  {
   "cell_type": "markdown",
   "id": "bb027082",
   "metadata": {},
   "source": [
    "### 11. Find the difference between two sets."
   ]
  },
  {
   "cell_type": "code",
   "execution_count": 178,
   "id": "7280ec6a",
   "metadata": {},
   "outputs": [
    {
     "name": "stdout",
     "output_type": "stream",
     "text": [
      "{1, 2, 3, 4, 5}\n"
     ]
    }
   ],
   "source": [
    "s1 = {1,2,3,4,5,6,7}\n",
    "s2 = {6,7,8,9,10}\n",
    "difference = s1.difference(s2)\n",
    "print(difference)"
   ]
  },
  {
   "cell_type": "markdown",
   "id": "b7681a6c",
   "metadata": {},
   "source": [
    "### 12. Check if a set is a subset of another set."
   ]
  },
  {
   "cell_type": "code",
   "execution_count": 180,
   "id": "0f8fb0dd",
   "metadata": {},
   "outputs": [
    {
     "name": "stdout",
     "output_type": "stream",
     "text": [
      "s2 is a subset of s1\n"
     ]
    }
   ],
   "source": [
    "s1 = {1,2,3,4,5,6,7,8,9,10}\n",
    "s2 = {3,5,6,8,10}\n",
    "def check_subset(s1,s2):\n",
    "    if s2.issubset(s1):\n",
    "        print(\"s2 is a subset of s1\")\n",
    "check = check_subset(s1,s2)"
   ]
  },
  {
   "cell_type": "markdown",
   "id": "c33ff272",
   "metadata": {},
   "source": [
    "### 13. Check if a set is a superset of another set."
   ]
  },
  {
   "cell_type": "code",
   "execution_count": 184,
   "id": "94a9db9c",
   "metadata": {},
   "outputs": [
    {
     "name": "stdout",
     "output_type": "stream",
     "text": [
      "s1 is a superset of s2\n"
     ]
    }
   ],
   "source": [
    "s1 = {1, 2, 3, 4, 5, 6, 7, 8, 9, 10}\n",
    "s2 = {3, 5, 6, 8, 10}\n",
    "\n",
    "def check_superset(s1, s2):\n",
    "    if s1.issuperset(s2):\n",
    "        print(\"s1 is a superset of s2\")\n",
    "    else:\n",
    "        print(\"s1 is not a superset of s2\")\n",
    "\n",
    "check_superset(s1, s2)\n"
   ]
  },
  {
   "cell_type": "markdown",
   "id": "2271aa90",
   "metadata": {},
   "source": [
    "### 14. Create a set from a list."
   ]
  },
  {
   "cell_type": "code",
   "execution_count": 186,
   "id": "1af90dd7",
   "metadata": {
    "scrolled": true
   },
   "outputs": [
    {
     "name": "stdout",
     "output_type": "stream",
     "text": [
      "{48, 25, 45, 'apple'}\n"
     ]
    }
   ],
   "source": [
    "list1 = [25,48,'apple',45]\n",
    "set1 = set(list1)\n",
    "print(set1)"
   ]
  },
  {
   "cell_type": "markdown",
   "id": "5a44cb19",
   "metadata": {},
   "source": [
    "### 15. Convert a set to a list."
   ]
  },
  {
   "cell_type": "code",
   "execution_count": 187,
   "id": "cf64e213",
   "metadata": {},
   "outputs": [
    {
     "name": "stdout",
     "output_type": "stream",
     "text": [
      "[48, 25, 45, 'apple']\n"
     ]
    }
   ],
   "source": [
    "set2 = {48, 25, 45, 'apple'}\n",
    "list1 = list(set2) \n",
    "print(list1)"
   ]
  },
  {
   "cell_type": "markdown",
   "id": "2a8b5f77",
   "metadata": {},
   "source": [
    "### 16. Remove a random element from a set."
   ]
  },
  {
   "cell_type": "code",
   "execution_count": 188,
   "id": "e61a23de",
   "metadata": {},
   "outputs": [
    {
     "data": {
      "text/plain": [
       "{2, 7, 25, 54, 89, 152, 185, 485}"
      ]
     },
     "execution_count": 188,
     "metadata": {},
     "output_type": "execute_result"
    }
   ],
   "source": [
    "set2 = {2,7,89,54,152,78,25,185,485}\n",
    "set2.remove(78)\n",
    "set2"
   ]
  },
  {
   "cell_type": "markdown",
   "id": "5127c22f",
   "metadata": {},
   "source": [
    "### 17. Pop an element from a set."
   ]
  },
  {
   "cell_type": "code",
   "execution_count": 193,
   "id": "d20784b2",
   "metadata": {},
   "outputs": [
    {
     "name": "stdout",
     "output_type": "stream",
     "text": [
      "Original set: {89, 2, 485, 7, 78, 54, 152, 185, 25}\n",
      "Popped element: 89\n",
      "Updated set: {2, 485, 7, 78, 54, 152, 185, 25}\n"
     ]
    }
   ],
   "source": [
    "set2 = {2, 7, 89, 54, 152, 78, 25, 185, 485}\n",
    "print(\"Original set:\", set2)\n",
    "\n",
    "popped_element = set2.pop()\n",
    "\n",
    "print(\"Popped element:\", popped_element)\n",
    "print(\"Updated set:\", set2)\n"
   ]
  },
  {
   "cell_type": "markdown",
   "id": "420c98f7",
   "metadata": {},
   "source": [
    "### 18. Check if two sets have no elements in common."
   ]
  },
  {
   "cell_type": "code",
   "execution_count": 194,
   "id": "eb8d6fc2",
   "metadata": {},
   "outputs": [
    {
     "name": "stdout",
     "output_type": "stream",
     "text": [
      "The sets have no elements in common.\n"
     ]
    }
   ],
   "source": [
    "set1 = {1, 2, 3, 4}\n",
    "set2 = {5, 6, 7}\n",
    "\n",
    "if set1.isdisjoint(set2):\n",
    "    print(\"The sets have no elements in common.\")\n",
    "else:\n",
    "    print(\"The sets have elements in common.\")\n"
   ]
  },
  {
   "cell_type": "markdown",
   "id": "92cd670b",
   "metadata": {},
   "source": [
    "### 19. Find the symmetric difference between two sets."
   ]
  },
  {
   "cell_type": "code",
   "execution_count": 195,
   "id": "516950b5",
   "metadata": {},
   "outputs": [
    {
     "name": "stdout",
     "output_type": "stream",
     "text": [
      "{1, 2, 3, 6, 7, 8}\n"
     ]
    }
   ],
   "source": [
    "set1 = {1, 2, 3, 4, 5}\n",
    "set2 = {4, 5, 6, 7, 8}\n",
    "\n",
    "symmetric_diff = set1.symmetric_difference(set2)\n",
    "print(symmetric_diff)"
   ]
  },
  {
   "cell_type": "markdown",
   "id": "9fba4827",
   "metadata": {},
   "source": [
    "### 20. Update a set with elements from another set."
   ]
  },
  {
   "cell_type": "code",
   "execution_count": 196,
   "id": "960f7a3a",
   "metadata": {},
   "outputs": [
    {
     "name": "stdout",
     "output_type": "stream",
     "text": [
      "{1, 2, 3, 4, 5}\n"
     ]
    }
   ],
   "source": [
    "set1 = {1, 2, 3}\n",
    "set2 = {3, 4, 5}\n",
    "set1.update(set2)  \n",
    "print(set1)"
   ]
  },
  {
   "cell_type": "markdown",
   "id": "3fcb3c87",
   "metadata": {},
   "source": [
    "### 21. Create a set of the first 5 prime numbers."
   ]
  },
  {
   "cell_type": "code",
   "execution_count": 197,
   "id": "20570caf",
   "metadata": {},
   "outputs": [],
   "source": [
    "prime_numbers = {2, 3, 5, 7, 11}"
   ]
  },
  {
   "cell_type": "markdown",
   "id": "b1a422d7",
   "metadata": {},
   "source": [
    "### 22. Check if two sets are identical."
   ]
  },
  {
   "cell_type": "code",
   "execution_count": 198,
   "id": "dd907569",
   "metadata": {},
   "outputs": [
    {
     "name": "stdout",
     "output_type": "stream",
     "text": [
      "The sets are identical.\n"
     ]
    }
   ],
   "source": [
    "set1 = {1, 2, 3, 4, 5}\n",
    "set2 = {5, 4, 3, 2, 1}\n",
    "\n",
    "if set1 == set2:\n",
    "    print(\"The sets are identical.\")\n",
    "else:\n",
    "    print(\"The sets are not identical.\")"
   ]
  },
  {
   "cell_type": "markdown",
   "id": "11e9b115",
   "metadata": {},
   "source": [
    "### 23. Create a frozen set."
   ]
  },
  {
   "cell_type": "code",
   "execution_count": 200,
   "id": "f8daa07c",
   "metadata": {},
   "outputs": [
    {
     "name": "stdout",
     "output_type": "stream",
     "text": [
      "frozenset({1, 2, 3, 4, 5})\n"
     ]
    }
   ],
   "source": [
    "my_set = {1, 2, 3, 4, 5}\n",
    "my_frozen_set = frozenset(my_set)\n",
    "print(my_frozen_set)"
   ]
  },
  {
   "cell_type": "markdown",
   "id": "7540875d",
   "metadata": {},
   "source": [
    "### 24. Check if a set is disjoint with another set."
   ]
  },
  {
   "cell_type": "code",
   "execution_count": 203,
   "id": "4c464145",
   "metadata": {},
   "outputs": [
    {
     "name": "stdout",
     "output_type": "stream",
     "text": [
      "The sets are disjoint (have no common elements).\n"
     ]
    }
   ],
   "source": [
    "set1 = {1, 2, 3, 4}\n",
    "set2 = {5, 6, 7}\n",
    "if set1.isdisjoint(set2):\n",
    "    print(\"The sets are disjoint (have no common elements).\")\n",
    "else:\n",
    "    print(\"The sets have elements in common.\")"
   ]
  },
  {
   "cell_type": "markdown",
   "id": "d7f5c62e",
   "metadata": {},
   "source": [
    "### 25. Create a set of squares of numbers from 1 to 5."
   ]
  },
  {
   "cell_type": "code",
   "execution_count": 204,
   "id": "71507ec8",
   "metadata": {},
   "outputs": [
    {
     "name": "stdout",
     "output_type": "stream",
     "text": [
      "{1, 4, 9, 16, 25}\n"
     ]
    }
   ],
   "source": [
    "squares = {x**2 for x in range(1, 6)}\n",
    "print(squares)"
   ]
  },
  {
   "cell_type": "markdown",
   "id": "9fa3c033",
   "metadata": {},
   "source": [
    "### 26. Filter out all even numbers from a set."
   ]
  },
  {
   "cell_type": "code",
   "execution_count": 206,
   "id": "11987ead",
   "metadata": {},
   "outputs": [
    {
     "name": "stdout",
     "output_type": "stream",
     "text": [
      "{1, 3, 5, 7, 9}\n"
     ]
    }
   ],
   "source": [
    "my_set = {1, 2, 3, 4, 5, 6, 7, 8, 9, 10}\n",
    "odd_numbers_set = {x for x in my_set if x % 2 != 0}\n",
    "print(odd_numbers_set)"
   ]
  },
  {
   "cell_type": "markdown",
   "id": "818fa742",
   "metadata": {},
   "source": [
    "### 27. Multiply all elements in a set by 2."
   ]
  },
  {
   "cell_type": "code",
   "execution_count": 210,
   "id": "31dfaa2b",
   "metadata": {},
   "outputs": [
    {
     "data": {
      "text/plain": [
       "{4, 8, 10, 14, 16, 18}"
      ]
     },
     "execution_count": 210,
     "metadata": {},
     "output_type": "execute_result"
    }
   ],
   "source": [
    "set1= {2,4,5,7,8,9}\n",
    "result_set = {x*2 for x in set1}\n",
    "result_set"
   ]
  },
  {
   "cell_type": "markdown",
   "id": "ec0ba5ac",
   "metadata": {},
   "source": [
    "### 28. Create a set of random numbers."
   ]
  },
  {
   "cell_type": "code",
   "execution_count": 211,
   "id": "f1a90eb0",
   "metadata": {},
   "outputs": [
    {
     "name": "stdout",
     "output_type": "stream",
     "text": [
      "{97, 98, 3, 4, 99, 10, 85, 94, 26, 30}\n"
     ]
    }
   ],
   "source": [
    "import random\n",
    "random_set = set(random.sample(range(1,101),10))\n",
    "print(random_set)"
   ]
  },
  {
   "cell_type": "markdown",
   "id": "720a7349",
   "metadata": {},
   "source": [
    "### 29. Check if a set is empty."
   ]
  },
  {
   "cell_type": "code",
   "execution_count": 212,
   "id": "7080919d",
   "metadata": {},
   "outputs": [
    {
     "name": "stdout",
     "output_type": "stream",
     "text": [
      "The set is empty.\n"
     ]
    }
   ],
   "source": [
    "my_set = set()  \n",
    "if not my_set:\n",
    "    print(\"The set is empty.\")\n",
    "else:\n",
    "    print(\"The set is not empty.\")"
   ]
  },
  {
   "cell_type": "markdown",
   "id": "2090851a",
   "metadata": {},
   "source": [
    "### 30. Create a nested set (hint: use frozenset)."
   ]
  },
  {
   "cell_type": "code",
   "execution_count": 216,
   "id": "84d32ba1",
   "metadata": {},
   "outputs": [
    {
     "data": {
      "text/plain": [
       "{frozenset({1, 2, 3}), frozenset({4, 5, 6})}"
      ]
     },
     "execution_count": 216,
     "metadata": {},
     "output_type": "execute_result"
    }
   ],
   "source": [
    "nested_set = {frozenset({1, 2, 3}), frozenset({4, 5, 6})}\n",
    "nested_set"
   ]
  },
  {
   "cell_type": "markdown",
   "id": "acc7af3e",
   "metadata": {},
   "source": [
    "### 31. Remove an element from a set using the discard method."
   ]
  },
  {
   "cell_type": "code",
   "execution_count": 217,
   "id": "1d5cb092",
   "metadata": {},
   "outputs": [
    {
     "name": "stdout",
     "output_type": "stream",
     "text": [
      "{1, 2, 4, 5}\n"
     ]
    }
   ],
   "source": [
    "my_set = {1, 2, 3, 4, 5}\n",
    "my_set.discard(3)\n",
    "print(my_set)"
   ]
  },
  {
   "cell_type": "code",
   "execution_count": 218,
   "id": "f631143a",
   "metadata": {},
   "outputs": [],
   "source": [
    "### 32. Compare two sets."
   ]
  },
  {
   "cell_type": "code",
   "execution_count": 219,
   "id": "6c25b084",
   "metadata": {},
   "outputs": [
    {
     "name": "stdout",
     "output_type": "stream",
     "text": [
      "The sets are equal.\n"
     ]
    }
   ],
   "source": [
    "set1 = {1, 2, 3}\n",
    "set2 = {3, 2, 1}\n",
    "\n",
    "if set1 == set2:\n",
    "    print(\"The sets are equal.\")\n",
    "else:\n",
    "    print(\"The sets are not equal.\")\n"
   ]
  },
  {
   "cell_type": "markdown",
   "id": "7c517973",
   "metadata": {},
   "source": [
    "### 33. Create a set from a string."
   ]
  },
  {
   "cell_type": "code",
   "execution_count": 220,
   "id": "ef1985e4",
   "metadata": {},
   "outputs": [
    {
     "name": "stdout",
     "output_type": "stream",
     "text": [
      "{'e', 'h', 'l', 'o'}\n"
     ]
    }
   ],
   "source": [
    "my_string = \"hello\"\n",
    "my_set = set()\n",
    "\n",
    "for char in my_string:\n",
    "    my_set.add(char)\n",
    "\n",
    "print(my_set)\n"
   ]
  },
  {
   "cell_type": "markdown",
   "id": "7ccf40e3",
   "metadata": {},
   "source": [
    "### 34. Convert a set of strings to a set of integers."
   ]
  },
  {
   "cell_type": "code",
   "execution_count": 222,
   "id": "85720588",
   "metadata": {},
   "outputs": [
    {
     "name": "stdout",
     "output_type": "stream",
     "text": [
      "{1, 2, 3, 4, 5}\n"
     ]
    }
   ],
   "source": [
    "set_of_strings = {\"1\", \"2\", \"3\", \"4\", \"5\"}\n",
    "set_of_integers = set()\n",
    "for string in set_of_strings:\n",
    "    integer = int(string)\n",
    "    set_of_integers.add(integer)\n",
    "\n",
    "print(set_of_integers)"
   ]
  },
  {
   "cell_type": "markdown",
   "id": "d00e6a5c",
   "metadata": {},
   "source": [
    "### 35. Convert a set of integers to a set of strings."
   ]
  },
  {
   "cell_type": "code",
   "execution_count": 223,
   "id": "8a0b743d",
   "metadata": {},
   "outputs": [
    {
     "name": "stdout",
     "output_type": "stream",
     "text": [
      "{'3', '2', '4', '1', '5'}\n"
     ]
    }
   ],
   "source": [
    "set_of_integers = {1, 2, 3, 4, 5}\n",
    "set_of_strings = set()\n",
    "\n",
    "for integer in set_of_integers:\n",
    "    string = str(integer)\n",
    "    set_of_strings.add(string)\n",
    "\n",
    "print(set_of_strings)\n"
   ]
  },
  {
   "cell_type": "markdown",
   "id": "7c5d1b85",
   "metadata": {},
   "source": [
    "### 36. Create a set from a tuple."
   ]
  },
  {
   "cell_type": "code",
   "execution_count": 224,
   "id": "265a0250",
   "metadata": {},
   "outputs": [
    {
     "data": {
      "text/plain": [
       "{1, 2, 3, 4, 5}"
      ]
     },
     "execution_count": 224,
     "metadata": {},
     "output_type": "execute_result"
    }
   ],
   "source": [
    "my_tuple = (1, 2, 3, 4, 5)\n",
    "my_set = set(my_tuple)\n",
    "my_set"
   ]
  },
  {
   "cell_type": "markdown",
   "id": "671f7bbd",
   "metadata": {},
   "source": [
    "### 37. Convert a set to a tuple."
   ]
  },
  {
   "cell_type": "code",
   "execution_count": 225,
   "id": "b8d1366f",
   "metadata": {},
   "outputs": [
    {
     "data": {
      "text/plain": [
       "(1, 2, 3, 4, 5)"
      ]
     },
     "execution_count": 225,
     "metadata": {},
     "output_type": "execute_result"
    }
   ],
   "source": [
    "my_set = {1, 2, 3, 4, 5}\n",
    "my_tuple = tuple(my_set)\n",
    "my_tuple"
   ]
  },
  {
   "cell_type": "markdown",
   "id": "439114b3",
   "metadata": {},
   "source": [
    "### 38. Find the maximum value in a set."
   ]
  },
  {
   "cell_type": "code",
   "execution_count": 226,
   "id": "a38b3d06",
   "metadata": {},
   "outputs": [
    {
     "name": "stdout",
     "output_type": "stream",
     "text": [
      "The maximum value in the set is: 485\n"
     ]
    }
   ],
   "source": [
    "my_set = {2, 7, 89, 54, 152, 78, 25, 185, 485}\n",
    "max_value = max(my_set)\n",
    "print(\"The maximum value in the set is:\", max_value)"
   ]
  },
  {
   "cell_type": "markdown",
   "id": "abf5c1f6",
   "metadata": {},
   "source": [
    "### 39. Find the minimum value in a set."
   ]
  },
  {
   "cell_type": "code",
   "execution_count": 227,
   "id": "0e781dfa",
   "metadata": {},
   "outputs": [
    {
     "name": "stdout",
     "output_type": "stream",
     "text": [
      "The minimum value in the set is: 2\n"
     ]
    }
   ],
   "source": [
    "my_set = {2, 7, 89, 54, 152, 78, 25, 185, 485}\n",
    "min_value = min(my_set)\n",
    "print(\"The minimum value in the set is:\", min_value)"
   ]
  },
  {
   "cell_type": "markdown",
   "id": "d1ca6590",
   "metadata": {},
   "source": [
    "### 40. Create a set from user input."
   ]
  },
  {
   "cell_type": "code",
   "execution_count": 228,
   "id": "c184deeb",
   "metadata": {},
   "outputs": [
    {
     "name": "stdout",
     "output_type": "stream",
     "text": [
      "Enter values separated by spaces or commas: 25,78,14,25,69,32,89,75\n",
      "User set: {'25,78,14,25,69,32,89,75'}\n"
     ]
    }
   ],
   "source": [
    "user_input = input(\"Enter values separated by spaces or commas: \")\n",
    "values = user_input.split()\n",
    "user_set = set(values)\n",
    "print(\"User set:\", user_set)"
   ]
  },
  {
   "cell_type": "markdown",
   "id": "25a60a2a",
   "metadata": {},
   "source": [
    "### 41. Check if the intersection of two sets is empty."
   ]
  },
  {
   "cell_type": "code",
   "execution_count": 229,
   "id": "341126a8",
   "metadata": {},
   "outputs": [
    {
     "name": "stdout",
     "output_type": "stream",
     "text": [
      "The intersection of the sets is empty.\n"
     ]
    }
   ],
   "source": [
    "set1 = {1, 2, 3, 4}\n",
    "set2 = {5, 6, 7}\n",
    "if set1.isdisjoint(set2):\n",
    "    print(\"The intersection of the sets is empty.\")\n",
    "else:\n",
    "    print(\"The sets have elements in common.\")"
   ]
  },
  {
   "cell_type": "markdown",
   "id": "7f34e334",
   "metadata": {},
   "source": [
    "### 42. Create a set of the first 5 Fibonacci numbers."
   ]
  },
  {
   "cell_type": "code",
   "execution_count": 230,
   "id": "9e3b4315",
   "metadata": {},
   "outputs": [
    {
     "name": "stdout",
     "output_type": "stream",
     "text": [
      "{0, 1, 2, 3}\n"
     ]
    }
   ],
   "source": [
    "fibonacci_set = set()\n",
    "a, b = 0, 1\n",
    "for _ in range(5):\n",
    "    fibonacci_set.add(a)\n",
    "    a, b = b, a + b\n",
    "\n",
    "print(fibonacci_set)"
   ]
  },
  {
   "cell_type": "markdown",
   "id": "1ecb5219",
   "metadata": {},
   "source": [
    "### 43. Remove duplicates from a list using sets."
   ]
  },
  {
   "cell_type": "code",
   "execution_count": 231,
   "id": "0b9ed6b5",
   "metadata": {},
   "outputs": [
    {
     "name": "stdout",
     "output_type": "stream",
     "text": [
      "[1, 2, 3, 4, 5]\n"
     ]
    }
   ],
   "source": [
    "my_list = [1, 2, 2, 3, 4, 4, 5, 5]\n",
    "my_list = list(set(my_list))\n",
    "print(my_list)"
   ]
  },
  {
   "cell_type": "markdown",
   "id": "efce0590",
   "metadata": {},
   "source": [
    "### 44. Check if two sets have the same elements, regardless of their count."
   ]
  },
  {
   "cell_type": "code",
   "execution_count": 232,
   "id": "c6dc30a0",
   "metadata": {},
   "outputs": [
    {
     "name": "stdout",
     "output_type": "stream",
     "text": [
      "The sets have the same elements.\n"
     ]
    }
   ],
   "source": [
    "set1 = {1, 2, 3, 4, 5}\n",
    "set2 = {5, 4, 3, 2, 1}\n",
    "\n",
    "if set1 == set2:\n",
    "    print(\"The sets have the same elements.\")\n",
    "else:\n",
    "    print(\"The sets do not have the same elements.\")"
   ]
  },
  {
   "cell_type": "markdown",
   "id": "b9fbd152",
   "metadata": {},
   "source": [
    "### 45. Create a set of the first `n` powers of 2."
   ]
  },
  {
   "cell_type": "code",
   "execution_count": 233,
   "id": "a475a3be",
   "metadata": {},
   "outputs": [
    {
     "name": "stdout",
     "output_type": "stream",
     "text": [
      "{1, 2, 4, 8, 16}\n"
     ]
    }
   ],
   "source": [
    "n = 5 \n",
    "powers_of_2_set = {2 ** i for i in range(n)}\n",
    "print(powers_of_2_set)"
   ]
  },
  {
   "cell_type": "markdown",
   "id": "61ac2a2c",
   "metadata": {},
   "source": [
    "### 46. Find the common elements between a set and a list."
   ]
  },
  {
   "cell_type": "code",
   "execution_count": 236,
   "id": "564748cb",
   "metadata": {},
   "outputs": [
    {
     "name": "stdout",
     "output_type": "stream",
     "text": [
      "{3, 4, 5}\n"
     ]
    }
   ],
   "source": [
    "my_set = {1, 2, 3, 4, 5}\n",
    "my_list = [3, 4, 5, 6, 7]\n",
    "common_elements = my_set & set(my_list)\n",
    "print(common_elements)"
   ]
  },
  {
   "cell_type": "markdown",
   "id": "18854f86",
   "metadata": {},
   "source": [
    "### 47. Create a set of the first `n` triangular numbers."
   ]
  },
  {
   "cell_type": "code",
   "execution_count": 237,
   "id": "387c2d81",
   "metadata": {},
   "outputs": [
    {
     "name": "stdout",
     "output_type": "stream",
     "text": [
      "{1, 3, 6, 10, 15}\n"
     ]
    }
   ],
   "source": [
    "n = 5 \n",
    "triangular_numbers_set = {sum(range(1, i + 1)) for i in range(1, n + 1)}\n",
    "print(triangular_numbers_set)"
   ]
  },
  {
   "cell_type": "markdown",
   "id": "eed855b2",
   "metadata": {},
   "source": [
    "### 48. Check if a set contains another set as a subset."
   ]
  },
  {
   "cell_type": "code",
   "execution_count": 238,
   "id": "f4637b91",
   "metadata": {},
   "outputs": [
    {
     "name": "stdout",
     "output_type": "stream",
     "text": [
      "set2 is a subset of set1.\n"
     ]
    }
   ],
   "source": [
    "set1 = {1, 2, 3, 4, 5, 6}\n",
    "set2 = {2, 4, 6}\n",
    "\n",
    "if set2.issubset(set1):\n",
    "    print(\"set2 is a subset of set1.\")\n",
    "else:\n",
    "    print(\"set2 is not a subset of set1.\")"
   ]
  },
  {
   "cell_type": "markdown",
   "id": "f90d0783",
   "metadata": {},
   "source": [
    "### 49. Create a set of alternating 1s and 0s of length `n`."
   ]
  },
  {
   "cell_type": "code",
   "execution_count": 239,
   "id": "5905cddf",
   "metadata": {},
   "outputs": [
    {
     "name": "stdout",
     "output_type": "stream",
     "text": [
      "{0, 1}\n"
     ]
    }
   ],
   "source": [
    "n = 10\n",
    "alternating_set = {1 if i % 2 == 0 else 0 for i in range(n)}\n",
    "print(alternating_set)"
   ]
  },
  {
   "cell_type": "markdown",
   "id": "d209f6a3",
   "metadata": {},
   "source": [
    "### 50. Merge multiple sets into one."
   ]
  },
  {
   "cell_type": "code",
   "execution_count": 240,
   "id": "1e7851e7",
   "metadata": {},
   "outputs": [
    {
     "name": "stdout",
     "output_type": "stream",
     "text": [
      "{1, 2, 3, 4, 5, 6, 7}\n"
     ]
    }
   ],
   "source": [
    "set1 = {1, 2, 3}\n",
    "set2 = {3, 4, 5}\n",
    "set3 = {5, 6, 7}\n",
    "merged_set = set1.union(set2, set3)\n",
    "print(merged_set)"
   ]
  }
 ],
 "metadata": {
  "kernelspec": {
   "display_name": "Python 3 (ipykernel)",
   "language": "python",
   "name": "python3"
  },
  "language_info": {
   "codemirror_mode": {
    "name": "ipython",
    "version": 3
   },
   "file_extension": ".py",
   "mimetype": "text/x-python",
   "name": "python",
   "nbconvert_exporter": "python",
   "pygments_lexer": "ipython3",
   "version": "3.9.13"
  }
 },
 "nbformat": 4,
 "nbformat_minor": 5
}
