{
 "cells": [
  {
   "cell_type": "markdown",
   "id": "e802f4c7",
   "metadata": {},
   "source": [
    "### Problem 1: Bank Account Create a class representing a bank account with attributes like account number, account holder name, and balance. Implement methods to deposit and withdraw money from the account."
   ]
  },
  {
   "cell_type": "code",
   "execution_count": 1,
   "id": "d344aaa2",
   "metadata": {},
   "outputs": [
    {
     "name": "stdout",
     "output_type": "stream",
     "text": [
      "Deposited Amount $500. New balance: $1500\n",
      "Withdrew $200. New balance: $1300\n"
     ]
    }
   ],
   "source": [
    "class BankAccount:\n",
    "    def __init__(self, account_number, account_holder_name, balance = 0):\n",
    "        self.account_number = account_number\n",
    "        self.account_holder_name = account_holder_name\n",
    "        self.balance = balance\n",
    "    \n",
    "    def deposit(self,amount):\n",
    "        if amount > 0 :\n",
    "            self.balance += amount\n",
    "            return f\"Deposited Amount ${amount}. New balance: ${self.balance}\"\n",
    "        else:\n",
    "            return \"Invalid deposit amount. Amount must be greater than 0.\"\n",
    "\n",
    "    def withdraw(self,amount):\n",
    "        if amount >0 and amount <= self.balance:\n",
    "            self.balance -= amount\n",
    "            return f\"Withdrew ${amount}. New balance: ${self.balance}\"\n",
    "        elif amount <= 0:\n",
    "            return \"Invalid withdrawal amount. Amount must be greater than 0.\"\n",
    "        else:\n",
    "            return \"Insufficient balance for withdrawal\"\n",
    "\n",
    "# Example usage:\n",
    "if __name__ == \"__main__\":\n",
    "    account1 = BankAccount(\"12345\", \"John Doe\", 1000)\n",
    "    print(account1.deposit(500))\n",
    "    print(account1.withdraw(200))"
   ]
  },
  {
   "cell_type": "markdown",
   "id": "3a9a8f8d",
   "metadata": {},
   "source": [
    "### Problem 2: Employee Management Create a class representing an employee with attributes like employee ID, name, and salary. Implement methods to calculate the yearly bonus and display employee details."
   ]
  },
  {
   "cell_type": "code",
   "execution_count": 2,
   "id": "75f0a322",
   "metadata": {},
   "outputs": [
    {
     "name": "stdout",
     "output_type": "stream",
     "text": [
      "Employee Details:\n",
      "Employee ID: 101\n",
      "Name: John Doe\n",
      "Salary: $60000\n",
      "Yearly Bonus: $6000.0\n"
     ]
    }
   ],
   "source": [
    "class Employee:\n",
    "    def __init__(self, employee_id, name, salary):\n",
    "        self.employee_id = employee_id\n",
    "        self.name = name\n",
    "        self.salary = salary\n",
    "\n",
    "    def calculate_yearly_bonus(self, bonus_percentage):\n",
    "        bonus = (bonus_percentage / 100) * self.salary\n",
    "        return bonus\n",
    "\n",
    "    def display_employee_details(self):\n",
    "        details = f\"Employee ID: {self.employee_id}\\nName: {self.name}\\nSalary: ${self.salary}\"\n",
    "        return details\n",
    "    \n",
    "if __name__ == \"__main__\":\n",
    "    employee1 = Employee(101, \"John Doe\", 60000)\n",
    "    bonus_percentage = 10  # Bonus percentage (e.g., 10%)\n",
    "    \n",
    "    yearly_bonus = employee1.calculate_yearly_bonus(bonus_percentage)\n",
    "    employee_details = employee1.display_employee_details()\n",
    "    \n",
    "    print(\"Employee Details:\")\n",
    "    print(employee_details)\n",
    "    print(f\"Yearly Bonus: ${yearly_bonus}\")    "
   ]
  },
  {
   "cell_type": "markdown",
   "id": "3836b0c0",
   "metadata": {},
   "source": [
    "### Problem 3: Vehicle Rental Create a class representing a vehicle rental system. Implement methods to rent a vehicle, return a vehicle, and display available vehicles."
   ]
  },
  {
   "cell_type": "code",
   "execution_count": 5,
   "id": "94c833c7",
   "metadata": {},
   "outputs": [
    {
     "name": "stdout",
     "output_type": "stream",
     "text": [
      "Available Vehicles: Car A, Car B, Bike X, Bike Y\n",
      "Rented: Car A\n",
      "Available Vehicles: Car B, Bike X, Bike Y, Car A\n"
     ]
    }
   ],
   "source": [
    "class VehicleRentalSystem:\n",
    "    def __init__(self):\n",
    "        self.available_vehicles = []\n",
    "\n",
    "    def rent_vehicle(self, vehicle):\n",
    "        if vehicle in self.available_vehicles:\n",
    "            self.available_vehicles.remove(vehicle)\n",
    "            return f\"Rented: {vehicle}\"\n",
    "        else:\n",
    "            return \"Sorry, the vehicle is not available for rent.\"\n",
    "\n",
    "    def return_vehicle(self, vehicle):\n",
    "        if vehicle not in self.available_vehicles:\n",
    "            self.available_vehicles.append(vehicle)\n",
    "            return f\"Returned: {vehicle}\"\n",
    "        else:\n",
    "            return \"Invalid return. Vehicle is already available.\"\n",
    "\n",
    "    def display_available_vehicles(self):\n",
    "        return \"Available Vehicles: \" + \", \".join(self.available_vehicles)\n",
    "\n",
    "# Example usage:\n",
    "if __name__ == \"__main__\":\n",
    "    rental_system = VehicleRentalSystem()\n",
    "    \n",
    "    rental_system.available_vehicles = [\"Car A\", \"Car B\", \"Bike X\", \"Bike Y\"]\n",
    "    \n",
    "    print(rental_system.display_available_vehicles())\n",
    "    \n",
    "    rented_vehicle = rental_system.rent_vehicle(\"Car A\")\n",
    "    print(rented_vehicle)\n",
    "    \n",
    "    rental_system.return_vehicle(\"Car A\")\n",
    "    \n",
    "    print(rental_system.display_available_vehicles())\n"
   ]
  },
  {
   "cell_type": "markdown",
   "id": "3596c7bf",
   "metadata": {},
   "source": [
    "### Problem 4: Library Catalog Create classes representing a library and a book. Implement methods to add books to the library, borrow books, and display available books."
   ]
  },
  {
   "cell_type": "code",
   "execution_count": 6,
   "id": "94515a6f",
   "metadata": {},
   "outputs": [
    {
     "name": "stdout",
     "output_type": "stream",
     "text": [
      "Available Books:\n",
      "Python Programming by John Smith (ISBN: 978-1234567890)\n",
      "Data Science Essentials by Alice Johnson (ISBN: 978-0987654321)\n",
      "You have borrowed the book: Python Programming\n",
      "Available Books:\n",
      "Data Science Essentials by Alice Johnson (ISBN: 978-0987654321)\n",
      "You have borrowed the book: Data Science Essentials\n",
      "You have returned the book: Data Science Essentials\n",
      "Available Books:\n",
      "Data Science Essentials by Alice Johnson (ISBN: 978-0987654321)\n"
     ]
    }
   ],
   "source": [
    "class Book:\n",
    "    def __init__(self, title, author, ISBN):\n",
    "        self.title = title\n",
    "        self.author = author\n",
    "        self.ISBN = ISBN\n",
    "        self.is_available = True\n",
    "\n",
    "    def __str__(self):\n",
    "        return f\"{self.title} by {self.author} (ISBN: {self.ISBN})\"\n",
    "\n",
    "    def borrow(self):\n",
    "        if self.is_available:\n",
    "            self.is_available = False\n",
    "            return f\"You have borrowed the book: {self.title}\"\n",
    "        else:\n",
    "            return f\"Sorry, the book '{self.title}' is already borrowed.\"\n",
    "\n",
    "    def return_book(self):\n",
    "        if not self.is_available:\n",
    "            self.is_available = True\n",
    "            return f\"You have returned the book: {self.title}\"\n",
    "        else:\n",
    "            return f\"The book '{self.title}' is not currently checked out.\"\n",
    "\n",
    "\n",
    "class Library:\n",
    "    def __init__(self):\n",
    "        self.books = []\n",
    "\n",
    "    def add_book(self, book):\n",
    "        self.books.append(book)\n",
    "        return f\"Added book: {book}\"\n",
    "\n",
    "    def display_available_books(self):\n",
    "        available_books = [book for book in self.books if book.is_available]\n",
    "        if available_books:\n",
    "            return \"Available Books:\\n\" + \"\\n\".join(str(book) for book in available_books)\n",
    "        else:\n",
    "            return \"No books are currently available.\"\n",
    "\n",
    "# Example usage:\n",
    "if __name__ == \"__main__\":\n",
    "    library = Library()\n",
    "    \n",
    "    book1 = Book(\"Python Programming\", \"John Smith\", \"978-1234567890\")\n",
    "    book2 = Book(\"Data Science Essentials\", \"Alice Johnson\", \"978-0987654321\")\n",
    "    \n",
    "    library.add_book(book1)\n",
    "    library.add_book(book2)\n",
    "    \n",
    "    print(library.display_available_books())\n",
    "    \n",
    "    print(book1.borrow())\n",
    "    print(library.display_available_books())\n",
    "    \n",
    "    print(book2.borrow())\n",
    "    print(book2.return_book())\n",
    "    print(library.display_available_books())\n"
   ]
  },
  {
   "cell_type": "markdown",
   "id": "8236fa00",
   "metadata": {},
   "source": [
    "### Problem 5: Product Inventory Create classes representing a product and an inventory system. Implement methods to add products to the inventory, update product quantity, and display available products."
   ]
  },
  {
   "cell_type": "code",
   "execution_count": 1,
   "id": "88637abe",
   "metadata": {},
   "outputs": [
    {
     "name": "stdout",
     "output_type": "stream",
     "text": [
      "Available Products:\n",
      "Laptop (Product ID: 101) - Price: $800 - Quantity: 5\n",
      "Smartphone (Product ID: 102) - Price: $400 - Quantity: 10\n",
      "Updated quantity for Laptop to 3\n",
      "Updated quantity for Smartphone to 8\n",
      "Available Products:\n",
      "Laptop (Product ID: 101) - Price: $800 - Quantity: 3\n",
      "Smartphone (Product ID: 102) - Price: $400 - Quantity: 8\n"
     ]
    }
   ],
   "source": [
    "class Product:\n",
    "    def __init__(self, product_id, name, price, quantity):\n",
    "        self.product_id = product_id\n",
    "        self.name = name\n",
    "        self.price = price\n",
    "        self.quantity = quantity\n",
    "\n",
    "    def __str__(self):\n",
    "        return f\"{self.name} (Product ID: {self.product_id}) - Price: ${self.price} - Quantity: {self.quantity}\"\n",
    "\n",
    "    def update_quantity(self, new_quantity):\n",
    "        if new_quantity >= 0:\n",
    "            self.quantity = new_quantity\n",
    "            return f\"Updated quantity for {self.name} to {new_quantity}\"\n",
    "        else:\n",
    "            return \"Invalid quantity. Quantity must be non-negative.\"\n",
    "\n",
    "\n",
    "class InventorySystem:\n",
    "    def __init__(self):\n",
    "        self.products = []\n",
    "\n",
    "    def add_product(self, product):\n",
    "        self.products.append(product)\n",
    "        return f\"Added product: {product}\"\n",
    "\n",
    "    def display_available_products(self):\n",
    "        available_products = [product for product in self.products if product.quantity > 0]\n",
    "        if available_products:\n",
    "            return \"Available Products:\\n\" + \"\\n\".join(str(product) for product in available_products)\n",
    "        else:\n",
    "            return \"No products are currently available.\"\n",
    "\n",
    "# Example usage:\n",
    "if __name__ == \"__main__\":\n",
    "    inventory_system = InventorySystem()\n",
    "    \n",
    "    product1 = Product(101, \"Laptop\", 800, 5)\n",
    "    product2 = Product(102, \"Smartphone\", 400, 10)\n",
    "    \n",
    "    inventory_system.add_product(product1)\n",
    "    inventory_system.add_product(product2)\n",
    "    \n",
    "    print(inventory_system.display_available_products())\n",
    "    \n",
    "    print(product1.update_quantity(3))\n",
    "    print(product2.update_quantity(8))\n",
    "    print(inventory_system.display_available_products())\n"
   ]
  },
  {
   "cell_type": "markdown",
   "id": "610df39c",
   "metadata": {},
   "source": [
    "### Problem 6: Shape Calculation Create a class representing a shape with attributes like length, width, and height. Implement methods to calculate the area and perimeter of the shape."
   ]
  },
  {
   "cell_type": "code",
   "execution_count": 2,
   "id": "aae8bc3c",
   "metadata": {},
   "outputs": [
    {
     "name": "stdout",
     "output_type": "stream",
     "text": [
      "Rectangle Area: 50\n",
      "Rectangle Perimeter: 30\n",
      "Triangle Area: 6.0\n",
      "Triangle Perimeter: 12\n"
     ]
    }
   ],
   "source": [
    "class Shape:\n",
    "    def __init__(self, length=0, width=0, height=0):\n",
    "        self.length = length\n",
    "        self.width = width\n",
    "        self.height = height\n",
    "\n",
    "    def calculate_area(self):\n",
    "        pass\n",
    "\n",
    "    def calculate_perimeter(self):\n",
    "        pass\n",
    "\n",
    "class Rectangle(Shape):\n",
    "    def calculate_area(self):\n",
    "        return self.length * self.width\n",
    "\n",
    "    def calculate_perimeter(self):\n",
    "        return 2 * (self.length + self.width)\n",
    "\n",
    "class Triangle(Shape):\n",
    "    def calculate_area(self):\n",
    "        s = (self.length + self.width + self.height) / 2\n",
    "        return (s * (s - self.length) * (s - self.width) * (s - self.height))**0.5\n",
    "\n",
    "    def calculate_perimeter(self):\n",
    "        return self.length + self.width + self.height\n",
    "\n",
    "# Example usage:\n",
    "if __name__ == \"__main__\":\n",
    "    rectangle = Rectangle(5, 10)\n",
    "    triangle = Triangle(3, 4, 5)\n",
    "\n",
    "    print(\"Rectangle Area:\", rectangle.calculate_area())\n",
    "    print(\"Rectangle Perimeter:\", rectangle.calculate_perimeter())\n",
    "\n",
    "    print(\"Triangle Area:\", triangle.calculate_area())\n",
    "    print(\"Triangle Perimeter:\", triangle.calculate_perimeter())\n"
   ]
  },
  {
   "cell_type": "markdown",
   "id": "cfaffa10",
   "metadata": {},
   "source": [
    "### Problem 7: Student Management Create a class representing a student with attributes like student ID, name, and grades. Implement methods to calculate the average grade and display student details"
   ]
  },
  {
   "cell_type": "code",
   "execution_count": 3,
   "id": "664aeaea",
   "metadata": {},
   "outputs": [
    {
     "name": "stdout",
     "output_type": "stream",
     "text": [
      "Student ID: 101\n",
      "Name: John Doe\n",
      "Grades: 85, 92, 78\n",
      "Average Grade: 85.0\n",
      "Student ID: 102\n",
      "Name: Alice Johnson\n",
      "Grades: 91, 89, 95\n",
      "Average Grade: 91.66666666666667\n"
     ]
    }
   ],
   "source": [
    "class Student:\n",
    "    def __init__(self, student_id, name):\n",
    "        self.student_id = student_id\n",
    "        self.name = name\n",
    "        self.grades = []\n",
    "\n",
    "    def add_grade(self, grade):\n",
    "        self.grades.append(grade)\n",
    "\n",
    "    def calculate_average_grade(self):\n",
    "        if self.grades:\n",
    "            return sum(self.grades) / len(self.grades)\n",
    "        else:\n",
    "            return 0\n",
    "\n",
    "    def display_student_details(self):\n",
    "        details = f\"Student ID: {self.student_id}\\nName: {self.name}\\nGrades: {', '.join(map(str, self.grades))}\"\n",
    "        return details\n",
    "\n",
    "# Example usage:\n",
    "if __name__ == \"__main__\":\n",
    "    student1 = Student(101, \"John Doe\")\n",
    "    student1.add_grade(85)\n",
    "    student1.add_grade(92)\n",
    "    student1.add_grade(78)\n",
    "    \n",
    "    student2 = Student(102, \"Alice Johnson\")\n",
    "    student2.add_grade(91)\n",
    "    student2.add_grade(89)\n",
    "    student2.add_grade(95)\n",
    "    \n",
    "    print(student1.display_student_details())\n",
    "    print(f\"Average Grade: {student1.calculate_average_grade()}\")\n",
    "    \n",
    "    print(student2.display_student_details())\n",
    "    print(f\"Average Grade: {student2.calculate_average_grade()}\")\n"
   ]
  },
  {
   "cell_type": "markdown",
   "id": "a8c68b8d",
   "metadata": {},
   "source": [
    "### Problem 8: Email Management Create a class representing an email with attributes like sender, recipient, and subject. Implement methods to send an email and display email details."
   ]
  },
  {
   "cell_type": "code",
   "execution_count": 4,
   "id": "c8a31504",
   "metadata": {},
   "outputs": [
    {
     "name": "stdout",
     "output_type": "stream",
     "text": [
      "Sender: john@example.com\n",
      "Recipient: alice@example.com\n",
      "Subject: Meeting Request\n",
      "Message: Hi Alice, I would like to schedule a meeting for next week. Please let me know your availability.\n",
      "Status: Draft\n",
      "Email sent successfully.\n",
      "Sender: john@example.com\n",
      "Recipient: alice@example.com\n",
      "Subject: Meeting Request\n",
      "Message: Hi Alice, I would like to schedule a meeting for next week. Please let me know your availability.\n",
      "Status: Sent\n",
      "Sender: alice@example.com\n",
      "Recipient: john@example.com\n",
      "Subject: Re: Meeting Request\n",
      "Message: Hi John, Thanks for reaching out. I'm available on Monday and Wednesday.\n",
      "Status: Draft\n"
     ]
    }
   ],
   "source": [
    "class Email:\n",
    "    def __init__(self, sender, recipient, subject, message):\n",
    "        self.sender = sender\n",
    "        self.recipient = recipient\n",
    "        self.subject = subject\n",
    "        self.message = message\n",
    "        self.sent = False\n",
    "\n",
    "    def send_email(self):\n",
    "        self.sent = True\n",
    "        return \"Email sent successfully.\"\n",
    "\n",
    "    def display_email_details(self):\n",
    "        details = f\"Sender: {self.sender}\\nRecipient: {self.recipient}\\nSubject: {self.subject}\\nMessage: {self.message}\"\n",
    "        if self.sent:\n",
    "            details += \"\\nStatus: Sent\"\n",
    "        else:\n",
    "            details += \"\\nStatus: Draft\"\n",
    "        return details\n",
    "\n",
    "# Example usage:\n",
    "if __name__ == \"__main__\":\n",
    "    email1 = Email(\"john@example.com\", \"alice@example.com\", \"Meeting Request\", \"Hi Alice, I would like to schedule a meeting for next week. Please let me know your availability.\")\n",
    "    email2 = Email(\"alice@example.com\", \"john@example.com\", \"Re: Meeting Request\", \"Hi John, Thanks for reaching out. I'm available on Monday and Wednesday.\")\n",
    "\n",
    "    print(email1.display_email_details())\n",
    "    print(email1.send_email())\n",
    "    print(email1.display_email_details())\n",
    "\n",
    "    print(email2.display_email_details())\n"
   ]
  },
  {
   "cell_type": "markdown",
   "id": "20b2ff63",
   "metadata": {},
   "source": [
    "### Problem 9: Social Media Profile Create a class representing a social media profile with attributes like username and posts. Implement methods to add posts, display posts, and search for posts by keyword."
   ]
  },
  {
   "cell_type": "code",
   "execution_count": 5,
   "id": "0e033378",
   "metadata": {},
   "outputs": [
    {
     "name": "stdout",
     "output_type": "stream",
     "text": [
      "All Posts:\n",
      "Just had a great day at the beach!\n",
      "Enjoying a delicious meal with friends.\n",
      "Hiking in the mountains today.\n",
      "Posts containing 'beach':\n",
      "Just had a great day at the beach!\n"
     ]
    }
   ],
   "source": [
    "class SocialMediaProfile:\n",
    "    def __init__(self, username):\n",
    "        self.username = username\n",
    "        self.posts = []\n",
    "\n",
    "    def add_post(self, content):\n",
    "        self.posts.append(content)\n",
    "\n",
    "    def display_posts(self):\n",
    "        return \"\\n\".join(self.posts)\n",
    "\n",
    "    def search_posts(self, keyword):\n",
    "        matching_posts = [post for post in self.posts if keyword in post]\n",
    "        if matching_posts:\n",
    "            return \"\\n\".join(matching_posts)\n",
    "        else:\n",
    "            return \"No posts match the keyword.\"\n",
    "\n",
    "# Example usage:\n",
    "if __name__ == \"__main__\":\n",
    "    profile = SocialMediaProfile(\"johndoe\")\n",
    "    \n",
    "    profile.add_post(\"Just had a great day at the beach!\")\n",
    "    profile.add_post(\"Enjoying a delicious meal with friends.\")\n",
    "    profile.add_post(\"Hiking in the mountains today.\")\n",
    "    \n",
    "    print(\"All Posts:\")\n",
    "    print(profile.display_posts())\n",
    "    \n",
    "    keyword = \"beach\"\n",
    "    print(f\"Posts containing '{keyword}':\")\n",
    "    print(profile.search_posts(keyword))\n"
   ]
  },
  {
   "cell_type": "markdown",
   "id": "9c60953e",
   "metadata": {},
   "source": [
    "### Problem 10: ToDo List Create a class representing a ToDo list with attributes like tasks and due dates. Implement methods to add tasks, mark tasks as completed, and display pending tasks."
   ]
  },
  {
   "cell_type": "code",
   "execution_count": 6,
   "id": "7cad9389",
   "metadata": {},
   "outputs": [
    {
     "name": "stdout",
     "output_type": "stream",
     "text": [
      "Pending Tasks:\n",
      "Finish project (Due: 2023-11-15)\n",
      "Read a book (Due: 2023-11-20)\n"
     ]
    }
   ],
   "source": [
    "class ToDoList:\n",
    "    def __init__(self):\n",
    "        self.tasks = []\n",
    "\n",
    "    def add_task(self, task, due_date):\n",
    "        self.tasks.append({\"task\": task, \"due_date\": due_date, \"completed\": False})\n",
    "\n",
    "    def mark_task_as_completed(self, task):\n",
    "        for t in self.tasks:\n",
    "            if t[\"task\"] == task:\n",
    "                t[\"completed\"] = True\n",
    "\n",
    "    def display_pending_tasks(self):\n",
    "        pending_tasks = [task for task in self.tasks if not task[\"completed\"]]\n",
    "        if pending_tasks:\n",
    "            return \"\\n\".join([f\"{task['task']} (Due: {task['due_date']})\" for task in pending_tasks])\n",
    "        else:\n",
    "            return \"No pending tasks.\"\n",
    "\n",
    "# Example usage:\n",
    "if __name__ == \"__main__\":\n",
    "    todo_list = ToDoList()\n",
    "    \n",
    "    todo_list.add_task(\"Finish project\", \"2023-11-15\")\n",
    "    todo_list.add_task(\"Buy groceries\", \"2023-11-10\")\n",
    "    todo_list.add_task(\"Read a book\", \"2023-11-20\")\n",
    "    \n",
    "    todo_list.mark_task_as_completed(\"Buy groceries\")\n",
    "    \n",
    "    print(\"Pending Tasks:\")\n",
    "    print(todo_list.display_pending_tasks())\n"
   ]
  }
 ],
 "metadata": {
  "kernelspec": {
   "display_name": "Python 3 (ipykernel)",
   "language": "python",
   "name": "python3"
  },
  "language_info": {
   "codemirror_mode": {
    "name": "ipython",
    "version": 3
   },
   "file_extension": ".py",
   "mimetype": "text/x-python",
   "name": "python",
   "nbconvert_exporter": "python",
   "pygments_lexer": "ipython3",
   "version": "3.9.13"
  }
 },
 "nbformat": 4,
 "nbformat_minor": 5
}
