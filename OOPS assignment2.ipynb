{
 "cells": [
  {
   "cell_type": "markdown",
   "id": "839309bf",
   "metadata": {},
   "source": [
    "# Constructor:"
   ]
  },
  {
   "cell_type": "markdown",
   "id": "5a300244",
   "metadata": {},
   "source": [
    "### 1. What is a constructor in Python? Explain its purpose and usage."
   ]
  },
  {
   "cell_type": "markdown",
   "id": "bcb487d5",
   "metadata": {},
   "source": [
    "Constructor in python is a special method that is called when an object is created. The purpose of a python constructor is to assign values to the data members within the class when an object is initialized.\n",
    "Python constructors are defined using a special method named __init__(). This method is automatically called when you create an instance of a class. Here's a basic example of a constructor in Python."
   ]
  },
  {
   "cell_type": "code",
   "execution_count": 3,
   "id": "0604f79c",
   "metadata": {},
   "outputs": [],
   "source": [
    "class MyClass:\n",
    "    def __init__(self, param1, param2):\n",
    "        self.param1 = param1\n",
    "        self.param2 = param2\n",
    "\n",
    "# Create an instance of MyClass\n",
    "obj = MyClass(\"Value 1\", 42)\n"
   ]
  },
  {
   "cell_type": "markdown",
   "id": "4121f997",
   "metadata": {},
   "source": [
    "In the example above, __init__() is the constructor for the MyClass class. When you create an object obj of the MyClass class, the __init__() method is automatically called, and it initializes the object's param1 and param2 attributes with the values you provided.\n",
    "\n",
    "Constructors can be used to set default values, perform validation, and carry out other setup tasks necessary for the object to work correctly. They can also be used to create and configure instances of external objects or perform other initialization operations.\n",
    "\n",
    "It's worth noting that the self parameter is used within the constructor to refer to the instance being created. You can name it differently, but self is a convention that makes the code more readable and helps indicate that it refers to the instance's attributes."
   ]
  },
  {
   "cell_type": "markdown",
   "id": "18da85a6",
   "metadata": {},
   "source": [
    "### 2. Differentiate between a parameterless constructor and a parameterized constructor in Python."
   ]
  },
  {
   "cell_type": "markdown",
   "id": "64492006",
   "metadata": {},
   "source": [
    "Differentiate between a parameterless constructor and a parameterized constructor in Python:\n",
    "\n",
    "Parameterless Constructor: This is a constructor that takes no parameters other than self. It is used to initialize the object with default values or perform some basic setup tasks without relying on external input.\n",
    "\n",
    "Parameterized Constructor: This is a constructor that takes one or more parameters in addition to self. It allows you to pass values when creating an object, which can be used to initialize the object's attributes based on specific values provided during instantiation."
   ]
  },
  {
   "cell_type": "markdown",
   "id": "f200ed9e",
   "metadata": {},
   "source": [
    "### 3. How do you define a constructor in a Python class? Provide an example."
   ]
  },
  {
   "cell_type": "markdown",
   "id": "dd0053fd",
   "metadata": {},
   "source": [
    "To define a constructor in a Python class, you use the __init__ method. Here's an example:"
   ]
  },
  {
   "cell_type": "code",
   "execution_count": 2,
   "id": "e3e67f4f",
   "metadata": {},
   "outputs": [],
   "source": [
    "class MyClass:\n",
    "    def __init__(self, parameter1, parameter2):\n",
    "        self.attribute1 = parameter1\n",
    "        self.attribute2 = parameter2\n"
   ]
  },
  {
   "cell_type": "markdown",
   "id": "8b225352",
   "metadata": {},
   "source": [
    "In this example, __init__ is the constructor method, and it takes two parameters (parameter1 and parameter2) in addition to self. It initializes the object's attributes based on the values of these parameters."
   ]
  },
  {
   "cell_type": "markdown",
   "id": "088e9347",
   "metadata": {},
   "source": [
    "### 4. Explain the `__init__` method in Python and its role in constructors.1"
   ]
  },
  {
   "cell_type": "markdown",
   "id": "b8f3b0cc",
   "metadata": {},
   "source": [
    "The __init__ method in Python is a special method used to define constructors. Its primary role is to initialize the object when an instance of a class is created. It is automatically called when an object is instantiated from a class, and it allows you to set up the initial state of the object, including initializing its attributes and performing any necessary setup tasks. The self parameter in the __init__ method represents the instance of the object being created."
   ]
  },
  {
   "cell_type": "markdown",
   "id": "c250c337",
   "metadata": {},
   "source": [
    "### 5. In a class named `Person`, create a constructor that initializes the `name` and `age` attributes. Provide an example of creating an object of this class."
   ]
  },
  {
   "cell_type": "code",
   "execution_count": 5,
   "id": "a8e2ed0c",
   "metadata": {},
   "outputs": [
    {
     "name": "stdout",
     "output_type": "stream",
     "text": [
      "Alice\n",
      "30\n"
     ]
    }
   ],
   "source": [
    "class Person:\n",
    "    def __init__(self, name, age):\n",
    "        self.name = name\n",
    "        self.age = age\n",
    "\n",
    "# Creating an object of the Person class and invoking the constructor\n",
    "person1 = Person(\"Alice\", 30)\n",
    "\n",
    "# Accessing the attributes of the object\n",
    "print(person1.name)  # Outputs: \"Alice\"\n",
    "print(person1.age)   # Outputs: 30\n"
   ]
  },
  {
   "cell_type": "markdown",
   "id": "a23baafd",
   "metadata": {},
   "source": [
    "In this example, the Person class has a constructor that takes two parameters, name and age, which are used to initialize the name and age attributes of the object person1."
   ]
  },
  {
   "cell_type": "markdown",
   "id": "6a33cb30",
   "metadata": {},
   "source": [
    "### 6. How can you call a constructor explicitly in Python? Give an example."
   ]
  },
  {
   "cell_type": "markdown",
   "id": "ca49e647",
   "metadata": {},
   "source": [
    "We can call a constructor explicitly in Python by using the class name followed by parentheses and passing the necessary arguments. However, it's not a common practice, as Python automatically calls the constructor when you create an object using the class name."
   ]
  },
  {
   "cell_type": "markdown",
   "id": "0a4ba6c2",
   "metadata": {},
   "source": [
    "### 7. What is the significance of the `self` parameter in Python constructors? Explain with an example."
   ]
  },
  {
   "cell_type": "markdown",
   "id": "d0857b0f",
   "metadata": {},
   "source": [
    "In Python, the self parameter in constructors (and other instance methods) refers to the instance of the class itself. It is a convention in Python to use the name self for this parameter, although you could technically use any other name. The self parameter allows to access and manipulate the attributes and methods of the instance within the class."
   ]
  },
  {
   "cell_type": "code",
   "execution_count": 1,
   "id": "4fd8c3eb",
   "metadata": {},
   "outputs": [
    {
     "name": "stdout",
     "output_type": "stream",
     "text": [
      "The 2022 Toyota Camry's engine is now running.\n",
      "Is the engine running? True\n",
      "The 2022 Toyota Camry's engine is now stopped.\n",
      "Is the engine running? False\n"
     ]
    }
   ],
   "source": [
    "class Car:\n",
    "    def __init__(self, make, model, year):\n",
    "        self.make = make\n",
    "        self.model = model\n",
    "        self.year = year\n",
    "        self.is_running = False\n",
    "\n",
    "    def start_engine(self):\n",
    "        print(f\"The {self.year} {self.make} {self.model}'s engine is now running.\")\n",
    "        self.is_running = True\n",
    "\n",
    "    def stop_engine(self):\n",
    "        print(f\"The {self.year} {self.make} {self.model}'s engine is now stopped.\")\n",
    "        self.is_running = False\n",
    "\n",
    "my_car = Car(make=\"Toyota\", model=\"Camry\", year=2022)\n",
    "my_car.start_engine()\n",
    "print(f\"Is the engine running? {my_car.is_running}\")\n",
    "my_car.stop_engine()\n",
    "print(f\"Is the engine running? {my_car.is_running}\")\n"
   ]
  },
  {
   "cell_type": "markdown",
   "id": "95f46aa3",
   "metadata": {},
   "source": [
    "### 8. Discuss the concept of default constructors in Python. When are they used?"
   ]
  },
  {
   "cell_type": "markdown",
   "id": "e466ae71",
   "metadata": {},
   "source": [
    "Python doesn't have explicit default constructors.\n",
    "If you don't define a constructor (__init__ method) in a class, Python provides a default one that takes no arguments.\n",
    "You can still create instances without explicitly defining a constructor."
   ]
  },
  {
   "cell_type": "markdown",
   "id": "8f1020b8",
   "metadata": {},
   "source": [
    "### 9. Create a Python class called `Rectangle` with a constructor that initializes the `width` and `height` attributes. Provide a method to calculate the area of the rectangle."
   ]
  },
  {
   "cell_type": "code",
   "execution_count": 3,
   "id": "2cb765d8",
   "metadata": {},
   "outputs": [],
   "source": [
    "class Rectangle:\n",
    "    def __init__(self, width, height):\n",
    "        self.width = width\n",
    "        self.height = height\n",
    "\n",
    "    def calculate_area(self):\n",
    "        return self.width * self.height\n",
    "\n",
    "# Example usage:\n",
    "my_rectangle = Rectangle(width=5, height=10)\n",
    "area = my_rectangle.calculate_area()\n"
   ]
  },
  {
   "cell_type": "markdown",
   "id": "92eeba15",
   "metadata": {},
   "source": [
    "### 10. How can you have multiple constructors in a Python class? Explain with an example. Give all answers in short"
   ]
  },
  {
   "cell_type": "markdown",
   "id": "5d3ba3bf",
   "metadata": {},
   "source": [
    "Python does not support multiple constructors directly.\n",
    "You can use default parameter values to achieve similar functionality."
   ]
  },
  {
   "cell_type": "code",
   "execution_count": 5,
   "id": "adfb73d5",
   "metadata": {},
   "outputs": [],
   "source": [
    "class Rectangle:\n",
    "    def __init__(self, width=None, height=None):\n",
    "        if width is not None and height is not None:\n",
    "            self.width = width\n",
    "            self.height = height\n",
    "        else:\n",
    "            self.width = 0\n",
    "            self.height = 0\n",
    "\n",
    "    def calculate_area(self):\n",
    "        return self.width * self.height"
   ]
  },
  {
   "cell_type": "markdown",
   "id": "58eb3f44",
   "metadata": {},
   "source": [
    "This way, you can create an instance of Rectangle with or without specifying width and height during object creation. If not specified, default values (0 in this case) will be used."
   ]
  },
  {
   "cell_type": "markdown",
   "id": "da759bc7",
   "metadata": {},
   "source": [
    "### 11. What is method overloading, and how is it related to constructors in Python?"
   ]
  },
  {
   "cell_type": "markdown",
   "id": "112d432b",
   "metadata": {},
   "source": [
    "Method overloading in Python involves defining multiple methods with the same name in a class, but with different parameter lists.\n",
    "Python does not support method overloading in the traditional sense (as in languages like Java or C++).\n",
    "With constructors, you can use default parameter values or variable-length argument lists to achieve similar effects."
   ]
  },
  {
   "cell_type": "markdown",
   "id": "f2bd3bd4",
   "metadata": {},
   "source": [
    "### 12. Explain the use of the `super()` function in Python constructors. Provide an example."
   ]
  },
  {
   "cell_type": "markdown",
   "id": "ca60a993",
   "metadata": {},
   "source": [
    "super() Function in Python Constructors:\n",
    "The super() function is used to call a method from the parent class.\n",
    "In constructors, it is commonly used to call the constructor of the parent class."
   ]
  },
  {
   "cell_type": "code",
   "execution_count": 6,
   "id": "f084ce4d",
   "metadata": {},
   "outputs": [],
   "source": [
    "class Parent:\n",
    "    def __init__(self, x):\n",
    "        self.x = x\n",
    "\n",
    "class Child(Parent):\n",
    "    def __init__(self, x, y):\n",
    "        super().__init__(x)\n",
    "        self.y = y\n"
   ]
  },
  {
   "cell_type": "markdown",
   "id": "959ef1bb",
   "metadata": {},
   "source": [
    "### 13. Create a class called `Book` with a constructor that initializes the `title`, `author`, and `published_year` attributes. Provide a method to display book details."
   ]
  },
  {
   "cell_type": "code",
   "execution_count": 8,
   "id": "ac92307b",
   "metadata": {},
   "outputs": [
    {
     "name": "stdout",
     "output_type": "stream",
     "text": [
      "Title: The Great Gatsby\n",
      "Author: F. Scott Fitzgerald\n",
      "Published Year: 1925\n"
     ]
    }
   ],
   "source": [
    "class Book:\n",
    "    def __init__(self, title, author, published_year):\n",
    "        self.title = title\n",
    "        self.author = author\n",
    "        self.published_year = published_year\n",
    "\n",
    "    def display_details(self):\n",
    "        print(f\"Title: {self.title}\")\n",
    "        print(f\"Author: {self.author}\")\n",
    "        print(f\"Published Year: {self.published_year}\")\n",
    "\n",
    "# Example usage:\n",
    "my_book = Book(title=\"The Great Gatsby\", author=\"F. Scott Fitzgerald\", published_year=1925)\n",
    "my_book.display_details()\n"
   ]
  },
  {
   "cell_type": "markdown",
   "id": "34dbfe33",
   "metadata": {},
   "source": [
    "### 14. Discuss the differences between constructors and regular methods in Python classes."
   ]
  },
  {
   "cell_type": "markdown",
   "id": "8c6867c5",
   "metadata": {},
   "source": [
    "Differences between Constructors and Regular Methods:\n",
    "\n",
    "Constructors:\n",
    "Invoked automatically when an object is created.\n",
    "Used for initializing instance variables and performing setup tasks.\n",
    "Named __init__ in Python.\n",
    "Regular Methods:\n",
    "Invoked explicitly on an object.\n",
    "Perform specific actions or operations on the object's attributes.\n",
    "Defined like any other function but takes self as the first parameter."
   ]
  },
  {
   "cell_type": "markdown",
   "id": "b2a76bf1",
   "metadata": {},
   "source": [
    "### 15. Explain the role of the `self` parameter in instance variable initialization within a constructor."
   ]
  },
  {
   "cell_type": "markdown",
   "id": "23514294",
   "metadata": {},
   "source": [
    "In a constructor, self refers to the instance of the class being created.\n",
    "It is used to access and manipulate the instance variables of the class.\n",
    "Enables differentiation between instance variables and parameters passed to the constructor."
   ]
  },
  {
   "cell_type": "markdown",
   "id": "0492a3d0",
   "metadata": {},
   "source": [
    "### 16. How do you prevent a class from having multiple instances by using constructors in Python? Provide an example"
   ]
  },
  {
   "cell_type": "code",
   "execution_count": 9,
   "id": "1ebefc25",
   "metadata": {},
   "outputs": [
    {
     "ename": "ValueError",
     "evalue": "An instance already exists.",
     "output_type": "error",
     "traceback": [
      "\u001b[1;31m---------------------------------------------------------------------------\u001b[0m",
      "\u001b[1;31mValueError\u001b[0m                                Traceback (most recent call last)",
      "\u001b[1;32m~\\AppData\\Local\\Temp\\ipykernel_8368\\1916464480.py\u001b[0m in \u001b[0;36m<module>\u001b[1;34m\u001b[0m\n\u001b[0;32m     13\u001b[0m \u001b[1;31m# Creates an instance\u001b[0m\u001b[1;33m\u001b[0m\u001b[1;33m\u001b[0m\u001b[0m\n\u001b[0;32m     14\u001b[0m \u001b[1;33m\u001b[0m\u001b[0m\n\u001b[1;32m---> 15\u001b[1;33m \u001b[0minstance2\u001b[0m \u001b[1;33m=\u001b[0m \u001b[0mSingleton\u001b[0m\u001b[1;33m(\u001b[0m\u001b[1;33m)\u001b[0m\u001b[1;33m\u001b[0m\u001b[1;33m\u001b[0m\u001b[0m\n\u001b[0m\u001b[0;32m     16\u001b[0m \u001b[1;31m# Raises ValueError: An instance already exists.\u001b[0m\u001b[1;33m\u001b[0m\u001b[1;33m\u001b[0m\u001b[0m\n",
      "\u001b[1;32m~\\AppData\\Local\\Temp\\ipykernel_8368\\1916464480.py\u001b[0m in \u001b[0;36m__new__\u001b[1;34m(cls)\u001b[0m\n\u001b[0;32m      7\u001b[0m             \u001b[1;32mreturn\u001b[0m \u001b[0msuper\u001b[0m\u001b[1;33m(\u001b[0m\u001b[0mSingleton\u001b[0m\u001b[1;33m,\u001b[0m \u001b[0mcls\u001b[0m\u001b[1;33m)\u001b[0m\u001b[1;33m.\u001b[0m\u001b[0m__new__\u001b[0m\u001b[1;33m(\u001b[0m\u001b[0mcls\u001b[0m\u001b[1;33m)\u001b[0m\u001b[1;33m\u001b[0m\u001b[1;33m\u001b[0m\u001b[0m\n\u001b[0;32m      8\u001b[0m         \u001b[1;32melse\u001b[0m\u001b[1;33m:\u001b[0m\u001b[1;33m\u001b[0m\u001b[1;33m\u001b[0m\u001b[0m\n\u001b[1;32m----> 9\u001b[1;33m             \u001b[1;32mraise\u001b[0m \u001b[0mValueError\u001b[0m\u001b[1;33m(\u001b[0m\u001b[1;34m\"An instance already exists.\"\u001b[0m\u001b[1;33m)\u001b[0m\u001b[1;33m\u001b[0m\u001b[1;33m\u001b[0m\u001b[0m\n\u001b[0m\u001b[0;32m     10\u001b[0m \u001b[1;33m\u001b[0m\u001b[0m\n\u001b[0;32m     11\u001b[0m \u001b[1;31m# Example usage:\u001b[0m\u001b[1;33m\u001b[0m\u001b[1;33m\u001b[0m\u001b[0m\n",
      "\u001b[1;31mValueError\u001b[0m: An instance already exists."
     ]
    }
   ],
   "source": [
    "class Singleton:\n",
    "    _instance_created = False\n",
    "\n",
    "    def __new__(cls):\n",
    "        if not cls._instance_created:\n",
    "            cls._instance_created = True\n",
    "            return super(Singleton, cls).__new__(cls)\n",
    "        else:\n",
    "            raise ValueError(\"An instance already exists.\")\n",
    "\n",
    "# Example usage:\n",
    "instance1 = Singleton()\n",
    "# Creates an instance\n",
    "\n",
    "instance2 = Singleton()\n",
    "# Raises ValueError: An instance already exists.\n"
   ]
  },
  {
   "cell_type": "markdown",
   "id": "9a5f9f97",
   "metadata": {},
   "source": [
    "### 17.Create a Python class called `Student` with a constructor that takes a list of subjects as a parameter and initializes the `subjects` attribute."
   ]
  },
  {
   "cell_type": "code",
   "execution_count": 10,
   "id": "c4423ce4",
   "metadata": {},
   "outputs": [],
   "source": [
    "class Student:\n",
    "    def __init__(self, subjects):\n",
    "        self.subjects = subjects\n",
    "\n",
    "# Example usage:\n",
    "student1 = Student(subjects=[\"Math\", \"Science\", \"History\"])\n"
   ]
  },
  {
   "cell_type": "markdown",
   "id": "0c68cd47",
   "metadata": {},
   "source": [
    "This Student class takes a list of subjects as a parameter during object creation and initializes the subjects attribute."
   ]
  },
  {
   "cell_type": "markdown",
   "id": "b380f677",
   "metadata": {},
   "source": [
    "### 18. What is the purpose of the `__del__` method in Python classes, and how does it relate to constructors?"
   ]
  },
  {
   "cell_type": "markdown",
   "id": "776aad0a",
   "metadata": {},
   "source": [
    "__del__ Method in Python Classes:\n",
    "\n",
    "The __del__ method is called when an object is about to be destroyed.\n",
    "It is used for performing cleanup tasks, releasing resources, or finalizing operations.\n",
    "It is related to constructors in the sense that it provides a way to define actions that should be taken when an object is no longer needed."
   ]
  },
  {
   "cell_type": "markdown",
   "id": "41ce2df9",
   "metadata": {},
   "source": [
    "### 19. Explain the use of constructor chaining in Python. Provide a practical example."
   ]
  },
  {
   "cell_type": "markdown",
   "id": "3056c627",
   "metadata": {},
   "source": [
    "Constructor Chaining in Python:\n",
    "\n",
    "Constructor chaining involves calling one constructor from another within the same class.\n",
    "\n",
    "It can be achieved using super() to invoke the constructor of the parent class."
   ]
  },
  {
   "cell_type": "code",
   "execution_count": 11,
   "id": "971e7a06",
   "metadata": {},
   "outputs": [],
   "source": [
    "class Parent:\n",
    "    def __init__(self, x):\n",
    "        self.x = x\n",
    "\n",
    "class Child(Parent):\n",
    "    def __init__(self, x, y):\n",
    "        super().__init__(x)\n",
    "        self.y = y\n",
    "\n",
    "# Example usage:\n",
    "child_instance = Child(x=10, y=20)\n"
   ]
  },
  {
   "cell_type": "markdown",
   "id": "382b4285",
   "metadata": {},
   "source": [
    "### 20. Create a Python class called `Car` with a default constructor that initializes the `make` and `model` attributes. Provide a method to display car information.1"
   ]
  },
  {
   "cell_type": "code",
   "execution_count": 13,
   "id": "7b9572ff",
   "metadata": {},
   "outputs": [
    {
     "name": "stdout",
     "output_type": "stream",
     "text": [
      "Car: Toyota Camry\n"
     ]
    }
   ],
   "source": [
    "class Car:\n",
    "    def __init__(self, make, model):\n",
    "        self.make = make\n",
    "        self.model = model\n",
    "\n",
    "    def display_info(self):\n",
    "        print(f\"Car: {self.make} {self.model}\")\n",
    "\n",
    "# Example usage:\n",
    "my_car = Car(make=\"Toyota\", model=\"Camry\")\n",
    "my_car.display_info()\n"
   ]
  },
  {
   "cell_type": "markdown",
   "id": "705c8a86",
   "metadata": {},
   "source": [
    "This Car class has a default constructor that initializes make and model attributes. It also provides a method (display_info) to print the car information"
   ]
  },
  {
   "cell_type": "code",
   "execution_count": 14,
   "id": "d28593e3",
   "metadata": {},
   "outputs": [
    {
     "name": "stdout",
     "output_type": "stream",
     "text": [
      "Chi-square statistic: 100.43354552413346\n",
      "P-value: 1.5528613848407914e-22\n",
      "Degrees of freedom: 2\n",
      "Expected frequencies:\n",
      "[[ 35.58913043  15.41086957]\n",
      " [150.73043478  65.26956522]\n",
      " [455.68043478 197.31956522]]\n",
      "Reject the null hypothesis: There is a significant association.\n"
     ]
    }
   ],
   "source": [
    "import numpy as np\n",
    "from scipy.stats import chi2_contingency\n",
    "\n",
    "# Observed frequencies\n",
    "observed = np.array([[29, 22], [95, 121], [518, 135]])\n",
    "\n",
    "# Perform chi-square test for independence\n",
    "chi2, p, dof, expected = chi2_contingency(observed)\n",
    "\n",
    "# Print results\n",
    "print(f\"Chi-square statistic: {chi2}\")\n",
    "print(f\"P-value: {p}\")\n",
    "print(f\"Degrees of freedom: {dof}\")\n",
    "print(\"Expected frequencies:\")\n",
    "print(expected)\n",
    "\n",
    "# Check significance\n",
    "alpha = 0.05\n",
    "if p < alpha:\n",
    "    print(\"Reject the null hypothesis: There is a significant association.\")\n",
    "else:\n",
    "    print(\"Fail to reject the null hypothesis: There is no significant association.\")\n"
   ]
  },
  {
   "cell_type": "markdown",
   "id": "aa7b0665",
   "metadata": {},
   "source": [
    "# Inheritance:"
   ]
  },
  {
   "cell_type": "markdown",
   "id": "8ef06246",
   "metadata": {},
   "source": [
    "### 1. What is inheritance in Python? Explain its significance in object-oriented programming."
   ]
  },
  {
   "cell_type": "markdown",
   "id": "fbafcf00",
   "metadata": {},
   "source": [
    "Inheritance is a fundamental concept in object-oriented programming (OOP) that allows a class (called the child or derived class) to inherit attributes and methods from another class (called the parent or base class). It promotes code reusability and establishes a relationship between classes."
   ]
  },
  {
   "cell_type": "markdown",
   "id": "4e55b8fe",
   "metadata": {},
   "source": [
    "### 2. Differentiate between single inheritance and multiple inheritance in Python. Provide examples for each."
   ]
  },
  {
   "cell_type": "markdown",
   "id": "7a8a19c2",
   "metadata": {},
   "source": [
    "In single inheritance, a class can inherit attributes and methods from only one parent class."
   ]
  },
  {
   "cell_type": "code",
   "execution_count": 5,
   "id": "2507c72a",
   "metadata": {},
   "outputs": [
    {
     "name": "stdout",
     "output_type": "stream",
     "text": [
      "Animal speaks\n",
      "Dog barks\n"
     ]
    }
   ],
   "source": [
    "class Animal:\n",
    "    def speak(self):\n",
    "        print(\"Animal speaks\")\n",
    "\n",
    "class Dog(Animal):\n",
    "    def bark(self):\n",
    "        print(\"Dog barks\")\n",
    "\n",
    "# Example usage\n",
    "dog = Dog()\n",
    "dog.speak()  # Inherited from Animal\n",
    "dog.bark()   # Defined in Dog class"
   ]
  },
  {
   "cell_type": "markdown",
   "id": "8c20791b",
   "metadata": {},
   "source": [
    "In multiple inheritance, a class can inherit from more than one parent class."
   ]
  },
  {
   "cell_type": "code",
   "execution_count": 4,
   "id": "826bcf32",
   "metadata": {},
   "outputs": [
    {
     "name": "stdout",
     "output_type": "stream",
     "text": [
      "Dog barks\n",
      "Bird chirps\n",
      "Dog can fly\n"
     ]
    }
   ],
   "source": [
    "class Bird:\n",
    "    def chirp(self):\n",
    "        print(\"Bird chirps\")\n",
    "\n",
    "class FlyingDog(Dog, Bird):\n",
    "    def fly(self):\n",
    "        print(\"Dog can fly\")\n",
    "\n",
    "# Example usage\n",
    "flying_dog = FlyingDog()\n",
    "flying_dog.speak()  # Inherited from Animal (via Dog)\n",
    "flying_dog.chirp()  # Inherited from Bird\n",
    "flying_dog.fly()    # Defined in FlyingDog class"
   ]
  },
  {
   "cell_type": "markdown",
   "id": "f68ccbdd",
   "metadata": {},
   "source": [
    "### 3. Create a Python class called `Vehicle` with attributes `color` and `speed`. Then, create a child class called `Car` that inherits from `Vehicle` and adds a `brand` attribute. Provide an example of creating a `Car` object."
   ]
  },
  {
   "cell_type": "code",
   "execution_count": 3,
   "id": "82011afd",
   "metadata": {},
   "outputs": [
    {
     "name": "stdout",
     "output_type": "stream",
     "text": [
      "Color: Blue, Speed: 120, Brand: Toyota\n"
     ]
    }
   ],
   "source": [
    "class Vehicle:\n",
    "    def __init__(self, color, speed):\n",
    "        self.color = color\n",
    "        self.speed = speed\n",
    "\n",
    "class Car(Vehicle):\n",
    "    def __init__(self, color, speed, brand):\n",
    "        super().__init__(color, speed)\n",
    "        self.brand = brand\n",
    "\n",
    "# Example usage\n",
    "my_car = Car(color=\"Blue\", speed=120, brand=\"Toyota\")\n",
    "print(f\"Color: {my_car.color}, Speed: {my_car.speed}, Brand: {my_car.brand}\")"
   ]
  },
  {
   "cell_type": "markdown",
   "id": "3c5d7b62",
   "metadata": {},
   "source": [
    "### 4. Explain the concept of method overriding in inheritance. Provide a practical example."
   ]
  },
  {
   "cell_type": "markdown",
   "id": "e70f6cf7",
   "metadata": {},
   "source": [
    "Method overriding occurs when a child class provides a specific implementation for a method that is already defined in its parent class."
   ]
  },
  {
   "cell_type": "code",
   "execution_count": 2,
   "id": "228f841b",
   "metadata": {},
   "outputs": [
    {
     "name": "stdout",
     "output_type": "stream",
     "text": [
      "Dog barks\n"
     ]
    }
   ],
   "source": [
    "class Animal:\n",
    "    def speak(self):\n",
    "        print(\"Animal speaks\")\n",
    "\n",
    "class Dog(Animal):\n",
    "    def speak(self):\n",
    "        print(\"Dog barks\")\n",
    "\n",
    "# Example usage\n",
    "dog = Dog()\n",
    "dog.speak()  # Overrides the speak method in Animal"
   ]
  },
  {
   "cell_type": "markdown",
   "id": "51ae4bfe",
   "metadata": {},
   "source": [
    "### 5. How can you access the methods and attributes of a parent class from a child class in Python? Give an example."
   ]
  },
  {
   "cell_type": "markdown",
   "id": "7ae885b6",
   "metadata": {},
   "source": [
    "You can access the methods and attributes of a parent class using the super() function."
   ]
  },
  {
   "cell_type": "code",
   "execution_count": 1,
   "id": "e9c754d2",
   "metadata": {},
   "outputs": [
    {
     "name": "stdout",
     "output_type": "stream",
     "text": [
      "Animal speaks\n",
      "Dog barks\n"
     ]
    }
   ],
   "source": [
    "class Animal:\n",
    "    def speak(self):\n",
    "        print(\"Animal speaks\")\n",
    "\n",
    "class Dog(Animal):\n",
    "    def speak(self):\n",
    "        super().speak()  # Access the speak method from the parent class\n",
    "        print(\"Dog barks\")\n",
    "\n",
    "# Example usage\n",
    "dog = Dog()\n",
    "dog.speak()  # Calls both the parent's speak and the overridden speak in Dog"
   ]
  },
  {
   "cell_type": "markdown",
   "id": "54fa3317",
   "metadata": {},
   "source": [
    "### 6. Discuss the use of the `super()` function in Python inheritance. When and why is it used? Provide an example."
   ]
  },
  {
   "cell_type": "markdown",
   "id": "6b17abc1",
   "metadata": {},
   "source": [
    "The super() function is used to call a method from a parent class in the child class. It is particularly useful when you want to extend the functionality of the method in the child class while still utilizing the code from the parent class."
   ]
  },
  {
   "cell_type": "code",
   "execution_count": 6,
   "id": "c9676b53",
   "metadata": {},
   "outputs": [
    {
     "name": "stdout",
     "output_type": "stream",
     "text": [
      "Animal speaks\n",
      "Dog barks\n"
     ]
    }
   ],
   "source": [
    "class Animal:\n",
    "    def speak(self):\n",
    "        print(\"Animal speaks\")\n",
    "\n",
    "class Dog(Animal):\n",
    "    def speak(self):\n",
    "        super().speak()  # Calls the speak method from the parent class\n",
    "        print(\"Dog barks\")\n",
    "\n",
    "# Example usage\n",
    "dog = Dog()\n",
    "dog.speak()  # Calls both the parent's speak and the overridden speak in Dog"
   ]
  },
  {
   "cell_type": "markdown",
   "id": "72309e5a",
   "metadata": {},
   "source": [
    "### 7. Create a Python class called `Animal` with a method `speak()`. Then, create child classes `Dog` and `Cat`"
   ]
  },
  {
   "cell_type": "code",
   "execution_count": 7,
   "id": "0474de04",
   "metadata": {},
   "outputs": [
    {
     "name": "stdout",
     "output_type": "stream",
     "text": [
      "Dog barks\n",
      "Cat meows\n"
     ]
    }
   ],
   "source": [
    "class Animal:\n",
    "    def speak(self):\n",
    "        print(\"Animal speaks\")\n",
    "\n",
    "class Dog(Animal):\n",
    "    def speak(self):\n",
    "        print(\"Dog barks\")\n",
    "\n",
    "class Cat(Animal):\n",
    "    def speak(self):\n",
    "        print(\"Cat meows\")\n",
    "\n",
    "# Example usage\n",
    "dog = Dog()\n",
    "cat = Cat()\n",
    "\n",
    "dog.speak()  # Outputs: Dog barks\n",
    "cat.speak()  # Outputs: Cat meows"
   ]
  },
  {
   "cell_type": "markdown",
   "id": "ad5a7a9f",
   "metadata": {},
   "source": [
    "### 8. Explain the role of the `isinstance()` function in Python and how it relates to inheritance."
   ]
  },
  {
   "cell_type": "markdown",
   "id": "45c98f8f",
   "metadata": {},
   "source": [
    "The isinstance() function is used to check if an object is an instance of a particular class or a tuple of classes. It takes two parameters - the object to check and the class or tuple of classes to check against. It is often used to verify inheritance relationships."
   ]
  },
  {
   "cell_type": "markdown",
   "id": "a07f7f5f",
   "metadata": {},
   "source": [
    "### 9. What is the purpose of the `issubclass()` function in Python? Provide an example."
   ]
  },
  {
   "cell_type": "markdown",
   "id": "4d030272",
   "metadata": {},
   "source": [
    "The issubclass() function checks if a class is a subclass of another class. It takes two parameters - the potential subclass and the potential superclass. It returns True if the relationship holds."
   ]
  },
  {
   "cell_type": "code",
   "execution_count": 8,
   "id": "c8261abb",
   "metadata": {},
   "outputs": [
    {
     "name": "stdout",
     "output_type": "stream",
     "text": [
      "True\n"
     ]
    }
   ],
   "source": [
    "class A:\n",
    "    pass\n",
    "\n",
    "class B(A):\n",
    "    pass\n",
    "\n",
    "print(issubclass(B, A))  # Outputs: True"
   ]
  },
  {
   "cell_type": "markdown",
   "id": "dac047d6",
   "metadata": {},
   "source": [
    "### 10. Discuss the concept of constructor inheritance in Python. How are constructors inherited in child classes?"
   ]
  },
  {
   "cell_type": "markdown",
   "id": "360d5828",
   "metadata": {},
   "source": [
    "Constructors are inherited in Python, and the super() function is typically used to call the constructor of the parent class in the child class. This ensures that the initialization code in the parent class is executed before the child class's specific initialization."
   ]
  },
  {
   "cell_type": "code",
   "execution_count": 9,
   "id": "706f98bd",
   "metadata": {},
   "outputs": [
    {
     "name": "stdout",
     "output_type": "stream",
     "text": [
      "Species: Canine, Breed: Labrador\n"
     ]
    }
   ],
   "source": [
    "class Animal:\n",
    "    def __init__(self, species):\n",
    "        self.species = species\n",
    "\n",
    "class Dog(Animal):\n",
    "    def __init__(self, species, breed):\n",
    "        super().__init__(species)\n",
    "        self.breed = breed\n",
    "\n",
    "# Example usage\n",
    "my_dog = Dog(species=\"Canine\", breed=\"Labrador\")\n",
    "print(f\"Species: {my_dog.species}, Breed: {my_dog.breed}\")"
   ]
  },
  {
   "cell_type": "markdown",
   "id": "2be15160",
   "metadata": {},
   "source": [
    "### 11. Create a Python class called `Shape` with a method `area()` that calculates the area of a shape. Then, create child classes `Circle` and `Rectangle` that inherit from `Shape` and implement the `area()` method accordingly. Provide an example."
   ]
  },
  {
   "cell_type": "code",
   "execution_count": 10,
   "id": "7f4a27a1",
   "metadata": {},
   "outputs": [
    {
     "name": "stdout",
     "output_type": "stream",
     "text": [
      "Circle Area: 78.5\n",
      "Rectangle Area: 24\n"
     ]
    }
   ],
   "source": [
    "class Shape:\n",
    "    def area(self):\n",
    "        pass  # To be implemented by child classes\n",
    "\n",
    "class Circle(Shape):\n",
    "    def __init__(self, radius):\n",
    "        self.radius = radius\n",
    "\n",
    "    def area(self):\n",
    "        return 3.14 * self.radius * self.radius\n",
    "\n",
    "class Rectangle(Shape):\n",
    "    def __init__(self, length, width):\n",
    "        self.length = length\n",
    "        self.width = width\n",
    "\n",
    "    def area(self):\n",
    "        return self.length * self.width\n",
    "\n",
    "# Example usage\n",
    "circle = Circle(radius=5)\n",
    "rectangle = Rectangle(length=4, width=6)\n",
    "\n",
    "print(f\"Circle Area: {circle.area()}\")\n",
    "print(f\"Rectangle Area: {rectangle.area()}\")\n"
   ]
  },
  {
   "cell_type": "markdown",
   "id": "18b8c2fb",
   "metadata": {},
   "source": [
    "### 12. Explain the use of abstract base classes (ABCs) in Python and how they relate to inheritance. Provide an example using the `abc` module."
   ]
  },
  {
   "cell_type": "markdown",
   "id": "73a51e53",
   "metadata": {},
   "source": [
    "Abstract Base Classes are used to define abstract methods that must be implemented by concrete (non-abstract) subclasses. The abc module provides a way to define ABCs."
   ]
  },
  {
   "cell_type": "code",
   "execution_count": 11,
   "id": "0efab702",
   "metadata": {},
   "outputs": [],
   "source": [
    "from abc import ABC, abstractmethod\n",
    "\n",
    "class Shape(ABC):\n",
    "    @abstractmethod\n",
    "    def area(self):\n",
    "        pass\n",
    "\n",
    "class Circle(Shape):\n",
    "    def __init__(self, radius):\n",
    "        self.radius = radius\n",
    "\n",
    "    def area(self):\n",
    "        return 3.14 * self.radius * self.radius\n",
    "\n",
    "# Example usage\n",
    "# Raises an error if a subclass does not implement the abstract method area()"
   ]
  },
  {
   "cell_type": "markdown",
   "id": "ebfe4438",
   "metadata": {},
   "source": [
    "### 13. How can you prevent a child class from modifying certain attributes or methods inherited from a parent class in Python?"
   ]
  },
  {
   "cell_type": "markdown",
   "id": "baee6305",
   "metadata": {},
   "source": [
    "You can make attributes or methods private by prefixing them with double underscores __. This makes them harder to access or modify from outside the class."
   ]
  },
  {
   "cell_type": "code",
   "execution_count": 12,
   "id": "66e2844b",
   "metadata": {},
   "outputs": [
    {
     "name": "stdout",
     "output_type": "stream",
     "text": [
      "42\n"
     ]
    }
   ],
   "source": [
    "class Parent:\n",
    "    def __init__(self):\n",
    "        self.__private_attribute = 42\n",
    "\n",
    "    def get_private_attribute(self):\n",
    "        return self.__private_attribute\n",
    "\n",
    "class Child(Parent):\n",
    "    def modify_attribute(self, new_value):\n",
    "        # This will raise an error because __private_attribute is not directly accessible\n",
    "        # self.__private_attribute = new_value\n",
    "        pass\n",
    "\n",
    "# Example usage\n",
    "child = Child()\n",
    "print(child.get_private_attribute())  # Accessing the private attribute using a getter"
   ]
  },
  {
   "cell_type": "markdown",
   "id": "3c8a860e",
   "metadata": {},
   "source": [
    "### 14. Create a Python class called `Employee` with attributes `name` and `salary`. Then, create a child class `Manager` that inherits from `Employee` and adds an attribute `department`. Provide an example."
   ]
  },
  {
   "cell_type": "code",
   "execution_count": 13,
   "id": "dd11c0be",
   "metadata": {},
   "outputs": [
    {
     "name": "stdout",
     "output_type": "stream",
     "text": [
      "Manager: John, Salary: 80000, Department: HR\n"
     ]
    }
   ],
   "source": [
    "class Employee:\n",
    "    def __init__(self, name, salary):\n",
    "        self.name = name\n",
    "        self.salary = salary\n",
    "\n",
    "class Manager(Employee):\n",
    "    def __init__(self, name, salary, department):\n",
    "        super().__init__(name, salary)\n",
    "        self.department = department\n",
    "\n",
    "# Example usage\n",
    "manager = Manager(name=\"John\", salary=80000, department=\"HR\")\n",
    "print(f\"Manager: {manager.name}, Salary: {manager.salary}, Department: {manager.department}\")"
   ]
  },
  {
   "cell_type": "markdown",
   "id": "34c84e59",
   "metadata": {},
   "source": [
    "### 15. Discuss the concept of method overloading in Python inheritance. How does it differ from method overriding?"
   ]
  },
  {
   "cell_type": "markdown",
   "id": "a2df4444",
   "metadata": {},
   "source": [
    "Method Overloading: In Python, method overloading is not supported in the traditional sense (as in some other languages). However, you can achieve a form of method overloading by using default values or variable-length argument lists. Multiple methods can have the same name, but with different parameters."
   ]
  },
  {
   "cell_type": "code",
   "execution_count": 15,
   "id": "0f141187",
   "metadata": {},
   "outputs": [],
   "source": [
    "class MathOperations:\n",
    "    def add(self, a, b=0):\n",
    "        return a + b\n",
    "\n",
    "# Example usage\n",
    "math_ops = MathOperations()\n",
    "result1 = math_ops.add(5)\n",
    "result2 = math_ops.add(3, 7)"
   ]
  },
  {
   "cell_type": "markdown",
   "id": "14a13fa6",
   "metadata": {},
   "source": [
    "Method Overriding: Method overriding occurs when a child class provides a specific implementation for a method that is already defined in its parent class. It allows a subclass to provide a specialized version of a method that is already provided by its superclass."
   ]
  },
  {
   "cell_type": "code",
   "execution_count": 16,
   "id": "d6d796fc",
   "metadata": {},
   "outputs": [
    {
     "name": "stdout",
     "output_type": "stream",
     "text": [
      "Dog barks\n"
     ]
    }
   ],
   "source": [
    "class Animal:\n",
    "    def speak(self):\n",
    "        print(\"Animal speaks\")\n",
    "\n",
    "class Dog(Animal):\n",
    "    def speak(self):\n",
    "        print(\"Dog barks\")\n",
    "\n",
    "# Example usage\n",
    "dog = Dog()\n",
    "dog.speak()  # Overrides the speak method in Animal"
   ]
  },
  {
   "cell_type": "markdown",
   "id": "cf97d641",
   "metadata": {},
   "source": [
    "### 16. Explain the purpose of the `__init__()` method in Python inheritance and how it is utilized in child classes."
   ]
  },
  {
   "cell_type": "markdown",
   "id": "aca50914",
   "metadata": {},
   "source": [
    "Purpose of __init__() Method in Inheritance:\n",
    "The __init__() method in Python is a constructor method that is automatically called when an object is created from a class. In the context of inheritance, the __init__() method of a child class can be used to initialize attributes specific to that class, and the super().__init__() can be used to call the constructor of the parent class to initialize its attributes."
   ]
  },
  {
   "cell_type": "markdown",
   "id": "cfd32834",
   "metadata": {},
   "source": [
    "### 17. Create a Python class called `Bird` with a method `fly()`. Then, create child classes `Eagle` and `Sparrow` that inherit from `Bird` and implement the `fly()` method differently. Provide an example of using these classes."
   ]
  },
  {
   "cell_type": "code",
   "execution_count": 17,
   "id": "b8b6af07",
   "metadata": {},
   "outputs": [
    {
     "name": "stdout",
     "output_type": "stream",
     "text": [
      "Eagle soars high in the sky\n",
      "Sparrow flutters around the garden\n"
     ]
    }
   ],
   "source": [
    "class Bird:\n",
    "    def fly(self):\n",
    "        pass  # To be implemented by child classes\n",
    "\n",
    "class Eagle(Bird):\n",
    "    def fly(self):\n",
    "        print(\"Eagle soars high in the sky\")\n",
    "\n",
    "class Sparrow(Bird):\n",
    "    def fly(self):\n",
    "        print(\"Sparrow flutters around the garden\")\n",
    "\n",
    "# Example usage\n",
    "eagle = Eagle()\n",
    "sparrow = Sparrow()\n",
    "\n",
    "eagle.fly()    # Outputs: Eagle soars high in the sky\n",
    "sparrow.fly()  # Outputs: Sparrow flutters around the garden"
   ]
  },
  {
   "cell_type": "markdown",
   "id": "b6bb27ef",
   "metadata": {},
   "source": [
    "### 18. What is the \"diamond problem\" in multiple inheritance, and how does Python address it?"
   ]
  },
  {
   "cell_type": "markdown",
   "id": "745218fd",
   "metadata": {},
   "source": [
    "The \"diamond problem\" occurs in multiple inheritance when a class inherits from two classes that have a common ancestor. If the derived class calls a method that is defined in both parent classes, it is ambiguous which method to call. Python addresses this by using the C3 linearization algorithm (C3 superclass linearization), which determines the order in which classes are considered during method resolution."
   ]
  },
  {
   "cell_type": "markdown",
   "id": "1705af99",
   "metadata": {},
   "source": [
    "### 19. Discuss the concept of \"is-a\" and \"has-a\" relationships in inheritance, and provide examples of each."
   ]
  },
  {
   "cell_type": "markdown",
   "id": "04e20958",
   "metadata": {},
   "source": [
    "\"is-a\" Relationship: It indicates that a class is a subtype of another class. Inheritance is used to represent an \"is-a\" relationship. For example, a Car is a type of Vehicle."
   ]
  },
  {
   "cell_type": "code",
   "execution_count": 18,
   "id": "08ea0bb3",
   "metadata": {},
   "outputs": [],
   "source": [
    "class Vehicle:\n",
    "    pass\n",
    "\n",
    "class Car(Vehicle):\n",
    "    pass"
   ]
  },
  {
   "cell_type": "markdown",
   "id": "29a560d7",
   "metadata": {},
   "source": [
    "\"has-a\" Relationship: It indicates that a class has another class as a component or attribute. Composition is often used to represent a \"has-a\" relationship. For example, a Car has an Engine."
   ]
  },
  {
   "cell_type": "code",
   "execution_count": 19,
   "id": "e709ccb0",
   "metadata": {},
   "outputs": [],
   "source": [
    "class Engine:\n",
    "    pass\n",
    "\n",
    "class Car:\n",
    "    def __init__(self):\n",
    "        self.engine = Engine()"
   ]
  },
  {
   "cell_type": "markdown",
   "id": "77658ea8",
   "metadata": {},
   "source": [
    "### 20. Create a Python class hierarchy for a university system. Start with a base class `Person` and create child classes `Student` and `Professor`, each with their own attributes and methods. Provide an example of using these classes in a university context."
   ]
  },
  {
   "cell_type": "code",
   "execution_count": 20,
   "id": "7b813334",
   "metadata": {},
   "outputs": [
    {
     "name": "stdout",
     "output_type": "stream",
     "text": [
      "Alice is studying\n",
      "Dr. Smith is teaching\n"
     ]
    }
   ],
   "source": [
    "class Person:\n",
    "    def __init__(self, name, age):\n",
    "        self.name = name\n",
    "        self.age = age\n",
    "\n",
    "class Student(Person):\n",
    "    def __init__(self, name, age, student_id):\n",
    "        super().__init__(name, age)\n",
    "        self.student_id = student_id\n",
    "\n",
    "    def study(self):\n",
    "        print(f\"{self.name} is studying\")\n",
    "\n",
    "class Professor(Person):\n",
    "    def __init__(self, name, age, employee_id):\n",
    "        super().__init__(name, age)\n",
    "        self.employee_id = employee_id\n",
    "\n",
    "    def teach(self):\n",
    "        print(f\"{self.name} is teaching\")\n",
    "\n",
    "# Example usage\n",
    "student = Student(name=\"Alice\", age=20, student_id=\"123\")\n",
    "professor = Professor(name=\"Dr. Smith\", age=45, employee_id=\"456\")\n",
    "\n",
    "student.study()\n",
    "professor.teach()"
   ]
  },
  {
   "cell_type": "markdown",
   "id": "c9e75c72",
   "metadata": {},
   "source": [
    "# Encapsulation"
   ]
  },
  {
   "cell_type": "markdown",
   "id": "77c29b2a",
   "metadata": {},
   "source": [
    "### 1. Explain the concept of encapsulation in Python. What is its role in object-oriented programming?"
   ]
  },
  {
   "cell_type": "markdown",
   "id": "defef59a",
   "metadata": {},
   "source": [
    "Encapsulation is one of the core concepts of object-oriented programming (OOP) that involves bundling the data (attributes) and methods (functions) that operate on the data into a single unit known as a class. Encapsulation helps in hiding the internal details of the object and providing a clear and well-defined interface to the outside world. It enhances modularity and promotes information hiding."
   ]
  },
  {
   "cell_type": "markdown",
   "id": "f7bba900",
   "metadata": {},
   "source": [
    "### 2. Describe the key principles of encapsulation, including access control and data hiding."
   ]
  },
  {
   "cell_type": "markdown",
   "id": "bbf989ca",
   "metadata": {},
   "source": [
    "Principles of Encapsulation:\n",
    "\n",
    "Access Control: It restricts the access to certain components of a class. Access control defines the visibility of attributes and methods from outside the class.\n",
    "Data Hiding: It involves making the internal details of an object inaccessible to the outside world. This is achieved by using private attributes and methods."
   ]
  },
  {
   "cell_type": "markdown",
   "id": "1b087a9a",
   "metadata": {},
   "source": [
    "### 3. How can you achieve encapsulation in Python classes? Provide an example."
   ]
  },
  {
   "cell_type": "markdown",
   "id": "9d053d1e",
   "metadata": {},
   "source": [
    "Encapsulation in Python is often achieved through the use of access modifiers and private attributes/methods. Access modifiers control the visibility of attributes and methods."
   ]
  },
  {
   "cell_type": "code",
   "execution_count": 21,
   "id": "868296ad",
   "metadata": {},
   "outputs": [
    {
     "name": "stdout",
     "output_type": "stream",
     "text": [
      "42\n",
      "secret\n"
     ]
    }
   ],
   "source": [
    "class MyClass:\n",
    "    def __init__(self):\n",
    "        self._protected_attribute = 42  # Protected attribute\n",
    "        self.__private_attribute = \"secret\"  # Private attribute\n",
    "\n",
    "    def get_private_attribute(self):\n",
    "        return self.__private_attribute\n",
    "\n",
    "    def set_private_attribute(self, value):\n",
    "        self.__private_attribute = value\n",
    "\n",
    "# Example usage\n",
    "obj = MyClass()\n",
    "print(obj._protected_attribute)  # Accessing a protected attribute\n",
    "print(obj.get_private_attribute())  # Accessing a private attribute through a method\n",
    "obj.set_private_attribute(\"new_secret\")  # Modifying a private attribute through a method"
   ]
  },
  {
   "cell_type": "markdown",
   "id": "3c28453d",
   "metadata": {},
   "source": [
    "### 4. Discuss the difference between public, private, and protected access modifiers in Python."
   ]
  },
  {
   "cell_type": "markdown",
   "id": "5f4c9a7f",
   "metadata": {},
   "source": [
    "Public: Attributes and methods are accessible from outside the class.\n",
    "Private: Attributes and methods are not accessible directly from outside the class. They are prefixed with double underscores __.\n",
    "Protected: Attributes and methods are accessible within the class and its subclasses. They are prefixed with a single underscore _."
   ]
  },
  {
   "cell_type": "markdown",
   "id": "024796f9",
   "metadata": {},
   "source": [
    "### 5. Create a Python class called `Person` with a private attribute `__name`. Provide methods to get and set the name attribute."
   ]
  },
  {
   "cell_type": "code",
   "execution_count": 22,
   "id": "68e13712",
   "metadata": {},
   "outputs": [
    {
     "name": "stdout",
     "output_type": "stream",
     "text": [
      "John\n"
     ]
    }
   ],
   "source": [
    "class Person:\n",
    "    def __init__(self, name):\n",
    "        self.__name = name  # Private attribute\n",
    "\n",
    "    def get_name(self):\n",
    "        return self.__name\n",
    "\n",
    "    def set_name(self, new_name):\n",
    "        self.__name = new_name\n",
    "\n",
    "# Example usage\n",
    "person = Person(name=\"John\")\n",
    "print(person.get_name())  # Accessing the private attribute through a method\n",
    "person.set_name(\"Alice\")  # Modifying the private attribute through a method"
   ]
  },
  {
   "cell_type": "markdown",
   "id": "0dbb15dd",
   "metadata": {},
   "source": [
    "### 6. Explain the purpose of getter and setter methods in encapsulation. Provide examples."
   ]
  },
  {
   "cell_type": "markdown",
   "id": "2bf8250e",
   "metadata": {},
   "source": [
    "Getter Methods: They are used to retrieve the value of a private attribute. They provide controlled access to the attribute from outside the class.\n",
    "Setter Methods: They are used to modify the value of a private attribute. They allow controlled modification of the attribute."
   ]
  },
  {
   "cell_type": "code",
   "execution_count": 23,
   "id": "10e32562",
   "metadata": {},
   "outputs": [
    {
     "name": "stdout",
     "output_type": "stream",
     "text": [
      "42\n"
     ]
    }
   ],
   "source": [
    "class MyClass:\n",
    "    def __init__(self):\n",
    "        self.__my_private_attribute = 42\n",
    "\n",
    "    def get_private_attribute(self):\n",
    "        return self.__my_private_attribute\n",
    "\n",
    "    def set_private_attribute(self, value):\n",
    "        self.__my_private_attribute = value\n",
    "\n",
    "# Example usage\n",
    "obj = MyClass()\n",
    "print(obj.get_private_attribute())  # Using a getter\n",
    "obj.set_private_attribute(100)      # Using a setter"
   ]
  },
  {
   "cell_type": "markdown",
   "id": "46346110",
   "metadata": {},
   "source": [
    "### 7. What is name mangling in Python, and how does it affect encapsulation?"
   ]
  },
  {
   "cell_type": "markdown",
   "id": "def4a7de",
   "metadata": {},
   "source": [
    "Name mangling is a mechanism in Python that adds a prefix to the names of variables in a class to make them less accessible from outside the class. It involves adding a double underscore __ as a prefix to the variable name. It affects encapsulation by making it more difficult to access private attributes directly."
   ]
  },
  {
   "cell_type": "markdown",
   "id": "22b668af",
   "metadata": {},
   "source": [
    "### 8. Create a Python class called `BankAccount` with private attributes for the account balance (`__balance`) and account number (`__account_number`). Provide methods for depositing and withdrawing money."
   ]
  },
  {
   "cell_type": "code",
   "execution_count": 24,
   "id": "47adcb8a",
   "metadata": {},
   "outputs": [],
   "source": [
    "class BankAccount:\n",
    "    def __init__(self, account_number, initial_balance):\n",
    "        self.__account_number = account_number  # Private attribute\n",
    "        self.__balance = initial_balance        # Private attribute\n",
    "\n",
    "    def deposit(self, amount):\n",
    "        self.__balance += amount\n",
    "\n",
    "    def withdraw(self, amount):\n",
    "        if amount <= self.__balance:\n",
    "            self.__balance -= amount\n",
    "        else:\n",
    "            print(\"Insufficient funds\")\n",
    "\n",
    "# Example usage\n",
    "account = BankAccount(account_number=\"123456\", initial_balance=1000)\n",
    "account.deposit(500)\n",
    "account.withdraw(200)"
   ]
  },
  {
   "cell_type": "markdown",
   "id": "2a245f42",
   "metadata": {},
   "source": [
    "### 9. Discuss the advantages of encapsulation in terms of code maintainability and security."
   ]
  },
  {
   "cell_type": "markdown",
   "id": "eca43a88",
   "metadata": {},
   "source": [
    "Code Maintainability: Encapsulation provides a clear and well-defined interface to the outside world, making it easier to understand and maintain code.\n",
    "Security: Private attributes and methods restrict direct access, reducing the chances of unintended modifications or misuse."
   ]
  },
  {
   "cell_type": "markdown",
   "id": "8c9646c4",
   "metadata": {},
   "source": [
    "### 10. How can you access private attributes in Python? Provide an example demonstrating the use of name mangling."
   ]
  },
  {
   "cell_type": "code",
   "execution_count": 25,
   "id": "0b289d03",
   "metadata": {},
   "outputs": [
    {
     "name": "stdout",
     "output_type": "stream",
     "text": [
      "42\n"
     ]
    }
   ],
   "source": [
    "class MyClass:\n",
    "    def __init__(self):\n",
    "        self.__private_attribute = 42\n",
    "\n",
    "# Example usage\n",
    "obj = MyClass()\n",
    "# Accessing private attribute using name mangling\n",
    "print(obj._MyClass__private_attribute)"
   ]
  },
  {
   "cell_type": "markdown",
   "id": "5be211c9",
   "metadata": {},
   "source": [
    "### 11. Create a Python class hierarchy for a school system, including classes for students, teachers, and courses, and implement encapsulation principles to protect sensitive information."
   ]
  },
  {
   "cell_type": "code",
   "execution_count": 26,
   "id": "8881da78",
   "metadata": {},
   "outputs": [],
   "source": [
    "class Person:\n",
    "    def __init__(self, name, age):\n",
    "        self.__name = name\n",
    "        self.__age = age\n",
    "\n",
    "class Student(Person):\n",
    "    def __init__(self, name, age, student_id):\n",
    "        super().__init__(name, age)\n",
    "        self.__student_id = student_id\n",
    "\n",
    "class Teacher(Person):\n",
    "    def __init__(self, name, age, employee_id):\n",
    "        super().__init__(name, age)\n",
    "        self.__employee_id = employee_id\n",
    "\n",
    "class Course:\n",
    "    def __init__(self, course_name, course_code):\n",
    "        self.__course_name = course_name\n",
    "        self.__course_code = course_code\n",
    "\n",
    "# Example usage\n",
    "student = Student(name=\"Alice\", age=18, student_id=\"S123\")\n",
    "teacher = Teacher(name=\"Mr. Smith\", age=35, employee_id=\"T456\")\n",
    "course = Course(course_name=\"Math\", course_code=\"M101\")"
   ]
  },
  {
   "cell_type": "markdown",
   "id": "e15318d8",
   "metadata": {},
   "source": [
    "### 12. Explain the concept of property decorators in Python and how they relate to encapsulation."
   ]
  },
  {
   "cell_type": "markdown",
   "id": "aa9b4d53",
   "metadata": {},
   "source": [
    "Property decorators provide a more elegant way to create getters and setters."
   ]
  },
  {
   "cell_type": "code",
   "execution_count": 27,
   "id": "7714f1fe",
   "metadata": {},
   "outputs": [
    {
     "name": "stdout",
     "output_type": "stream",
     "text": [
      "42\n"
     ]
    }
   ],
   "source": [
    "class MyClass:\n",
    "    def __init__(self):\n",
    "        self.__my_private_attribute = 42\n",
    "\n",
    "    @property\n",
    "    def private_attribute(self):\n",
    "        return self.__my_private_attribute\n",
    "\n",
    "    @private_attribute.setter\n",
    "    def private_attribute(self, value):\n",
    "        self.__my_private_attribute = value\n",
    "\n",
    "# Example usage\n",
    "obj = MyClass()\n",
    "print(obj.private_attribute)  # Using the property as a getter\n",
    "obj.private_attribute = 100    # Using the property as a setter"
   ]
  },
  {
   "cell_type": "markdown",
   "id": "d386ff5e",
   "metadata": {},
   "source": [
    "### 13. What is data hiding, and why is it important in encapsulation? Provide examples."
   ]
  },
  {
   "cell_type": "markdown",
   "id": "5cb545bd",
   "metadata": {},
   "source": [
    "Data hiding involves making the internal details of an object inaccessible to the outside world. Private attributes and methods facilitate data hiding."
   ]
  },
  {
   "cell_type": "code",
   "execution_count": 28,
   "id": "767320e1",
   "metadata": {},
   "outputs": [],
   "source": [
    "class MyClass:\n",
    "    def __init__(self):\n",
    "        self.__private_data = \"sensitive information\""
   ]
  },
  {
   "cell_type": "markdown",
   "id": "da47cac3",
   "metadata": {},
   "source": [
    "### 14. Create a Python class called `Employee` with private attributes for salary (`__salary`) and employee ID ('__employee_id'). Provide a method to calculate yearly bonuses"
   ]
  },
  {
   "cell_type": "code",
   "execution_count": 29,
   "id": "a9409e0a",
   "metadata": {},
   "outputs": [],
   "source": [
    "class Employee:\n",
    "    def __init__(self, salary, employee_id):\n",
    "        self.__salary = salary\n",
    "        self.__employee_id = employee_id\n",
    "\n",
    "    def calculate_bonus(self):\n",
    "        return 0.1 * self.__salary  # Example bonus calculation\n",
    "\n",
    "# Example usage\n",
    "emp = Employee(salary=50000, employee_id=\"E123\")\n",
    "bonus = emp.calculate_bonus()"
   ]
  },
  {
   "cell_type": "markdown",
   "id": "013f0111",
   "metadata": {},
   "source": [
    "### 15. Discuss the use of accessors and mutators in encapsulation. How do they help maintain control over attribute access?"
   ]
  },
  {
   "cell_type": "markdown",
   "id": "b589ca94",
   "metadata": {},
   "source": [
    "Accessors: Methods (getters) that retrieve the values of private attributes.\n",
    "Mutators: Methods (setters) that modify the values of private attributes"
   ]
  },
  {
   "cell_type": "code",
   "execution_count": 30,
   "id": "decd6302",
   "metadata": {},
   "outputs": [],
   "source": [
    "class MyClass:\n",
    "    def __init__(self):\n",
    "        self.__my_private_attribute = 42\n",
    "\n",
    "    def get_private_attribute(self):\n",
    "        return self.__my_private_attribute\n",
    "\n",
    "    def set_private_attribute(self, value):\n",
    "        self.__my_private_attribute = value"
   ]
  },
  {
   "cell_type": "markdown",
   "id": "fc512b2d",
   "metadata": {},
   "source": [
    "### 16. What are the potential drawbacks or disadvantages of using encapsulation in Python?"
   ]
  },
  {
   "cell_type": "markdown",
   "id": "3b479416",
   "metadata": {},
   "source": [
    "\n",
    "While encapsulation offers several benefits in terms of code organization, maintainability, and security, it also comes with potential drawbacks. Here are some of the drawbacks or disadvantages of using encapsulation in Python:\n",
    "\n",
    "Increased Complexity: Encapsulation can make the code more complex, especially for those who are new to the codebase. The use of getter and setter methods, along with access modifiers, can add extra lines of code and make the code harder to read and understand.\n",
    "\n",
    "Performance Overhead: The use of getter and setter methods may introduce a slight performance overhead compared to direct attribute access. In performance-critical applications, this overhead might be a concern.\n",
    "\n",
    "Rigidity: Encapsulation can make it harder to change the internal implementation of a class without affecting its users. If there are many dependencies on the internal details of a class, modifying those details may require changes in multiple places.\n",
    "\n",
    "Potential Boilerplate Code: Implementing encapsulation using getter and setter methods can lead to boilerplate code, especially in classes with many attributes. This can make the code verbose and less concise.\n",
    "\n",
    "Difficulty in Testing: In some cases, encapsulation might make it more challenging to write unit tests, especially if the internal state of an object is not easily accessible for testing purposes.\n",
    "\n",
    "Overuse of Accessors and Mutators: There's a risk of overusing getter and setter methods, leading to excessive accessors and mutators that might not provide significant value. This can contribute to code bloat.\n",
    "\n",
    "Lack of Strict Enforcement: While access modifiers like private and protected exist in Python, they are not strictly enforced. Python does not prevent direct access to private members, and it relies on conventions and developer discipline.\n",
    "\n",
    "Possible Misuse: In some cases, developers might misuse encapsulation by making too many details private, hindering collaboration and reuse of code.\n",
    "\n",
    "It's important to strike a balance and use encapsulation judiciously based on the specific needs of the application. While it offers advantages, developers should be mindful of the potential drawbacks and assess the trade-offs in each situation."
   ]
  },
  {
   "cell_type": "markdown",
   "id": "0ce2f002",
   "metadata": {},
   "source": [
    "### 17. Create a Python class for a library system that encapsulates book information, including titles, authors, and availability status."
   ]
  },
  {
   "cell_type": "code",
   "execution_count": 31,
   "id": "5fdc81af",
   "metadata": {},
   "outputs": [
    {
     "name": "stdout",
     "output_type": "stream",
     "text": [
      "The Great Gatsby\n",
      "F. Scott Fitzgerald\n",
      "True\n",
      "Book 'The Great Gatsby' by F. Scott Fitzgerald has been borrowed.\n",
      "False\n",
      "Book 'The Great Gatsby' has been returned.\n"
     ]
    }
   ],
   "source": [
    "class Book:\n",
    "    def __init__(self, title, author, availability=True):\n",
    "        self.__title = title\n",
    "        self.__author = author\n",
    "        self.__availability = availability\n",
    "\n",
    "    def get_title(self):\n",
    "        return self.__title\n",
    "\n",
    "    def get_author(self):\n",
    "        return self.__author\n",
    "\n",
    "    def is_available(self):\n",
    "        return self.__availability\n",
    "\n",
    "    def borrow_book(self):\n",
    "        if self.__availability:\n",
    "            self.__availability = False\n",
    "            print(f\"Book '{self.__title}' by {self.__author} has been borrowed.\")\n",
    "        else:\n",
    "            print(f\"Sorry, '{self.__title}' is currently unavailable.\")\n",
    "\n",
    "    def return_book(self):\n",
    "        self.__availability = True\n",
    "        print(f\"Book '{self.__title}' has been returned.\")\n",
    "\n",
    "# Example usage\n",
    "book1 = Book(title=\"The Great Gatsby\", author=\"F. Scott Fitzgerald\")\n",
    "book2 = Book(title=\"To Kill a Mockingbird\", author=\"Harper Lee\")\n",
    "\n",
    "print(book1.get_title())      # Get book title\n",
    "print(book1.get_author())     # Get book author\n",
    "print(book1.is_available())   # Check availability\n",
    "book1.borrow_book()           # Borrow the book\n",
    "print(book1.is_available())   # Check availability again\n",
    "book1.return_book()           # Return the book"
   ]
  },
  {
   "cell_type": "markdown",
   "id": "1ab40363",
   "metadata": {},
   "source": [
    "### 18. Explain how encapsulation enhances code reusability and modularity in Python programs."
   ]
  },
  {
   "cell_type": "markdown",
   "id": "196cfbf8",
   "metadata": {},
   "source": [
    "Encapsulation plays a crucial role in enhancing code reusability and modularity in Python programs. Here's how encapsulation contributes to these aspects:\n",
    "\n",
    "Code Organization:\n",
    "\n",
    "Encapsulation allows developers to organize code into classes and objects, providing a natural and intuitive way to represent real-world entities.\n",
    "Each class encapsulates a set of attributes and methods, making it a self-contained unit with a well-defined purpose.\n",
    "Abstraction:\n",
    "\n",
    "Encapsulation encourages the use of abstraction, where the internal details of a class are hidden, and only essential features are exposed.\n",
    "Abstraction simplifies the understanding of complex systems by focusing on high-level functionalities without delving into implementation details.\n",
    "Reuse of Classes:\n",
    "\n",
    "Encapsulation enables the creation of reusable classes that can be easily integrated into different parts of a program or even in different projects.\n",
    "Once a class is designed and implemented, it can be used as a building block for other components without the need to understand or modify its internal workings.\n",
    "Modularity:\n",
    "\n",
    "Each class encapsulates a specific set of functionalities, promoting modularity by breaking down a program into smaller, manageable components.\n",
    "Modules can be independently developed, tested, and maintained, leading to a more modular and maintainable codebase.\n",
    "Encapsulation of State:\n",
    "\n",
    "By encapsulating the state (attributes) of an object within a class, encapsulation helps in managing and controlling the access to the object's data.\n",
    "This ensures that the internal state remains consistent and valid, enhancing the reliability and predictability of the code.\n",
    "Information Hiding:\n",
    "\n",
    "Encapsulation incorporates the principle of information hiding, where the internal details of a class are shielded from external entities.\n",
    "This protects the implementation details, reducing dependencies and allowing changes to be made to the internal structure of a class without affecting its users.\n",
    "Defined Interfaces:\n",
    "\n",
    "Encapsulation leads to well-defined interfaces for classes, making it clear how external components can interact with the encapsulated data and methods.\n",
    "This well-defined interface serves as a contract, promoting interoperability and easing the integration of different components.\n",
    "Encapsulation and Inheritance:\n",
    "\n",
    "Inheritance, another key concept in object-oriented programming, often relies on encapsulation. A base class provides a well-defined interface, and subclasses inherit and extend this interface.\n",
    "Subclasses encapsulate specialized behaviors while reusing the common functionality of the base class."
   ]
  },
  {
   "cell_type": "markdown",
   "id": "2cfc34ef",
   "metadata": {},
   "source": [
    "### 19. Describe the concept of information hiding in encapsulation. Why is it essential in software development?"
   ]
  },
  {
   "cell_type": "markdown",
   "id": "c75803c7",
   "metadata": {},
   "source": [
    "\n",
    "Information hiding is a key concept associated with encapsulation in software development. It involves restricting the access to certain details of an object and exposing only what is necessary or relevant for external use. In other words, information hiding shields the internal workings, data, and implementation details of a class or module, making them hidden from the external world.\n",
    "\n",
    "Here are the primary reasons why information hiding is essential in software development:\n",
    "\n",
    "Abstraction:\n",
    "\n",
    "Information hiding allows developers to create abstractions, where only the essential features and functionalities of an object or module are exposed to the outside world.\n",
    "Abstraction simplifies the understanding of complex systems by presenting a high-level view without exposing the underlying complexity.\n",
    "Modularity:\n",
    "\n",
    "Information hiding promotes modularity by encapsulating the implementation details of a module within a well-defined boundary.\n",
    "Modules with clear interfaces can be independently developed, tested, and maintained, leading to a more modular and scalable codebase.\n",
    "Reduced Complexity:\n",
    "\n",
    "By hiding the internal details, information hiding reduces the complexity seen by users of a class or module.\n",
    "Users interact with a well-defined interface, and they don't need to be concerned with the intricacies of how the functionality is implemented.\n",
    "Encapsulation of State:\n",
    "\n",
    "Information hiding enables the encapsulation of an object's state (attributes) within a class. Users interact with the object through methods, which control access to and modification of the state.\n",
    "This encapsulation of state ensures that the internal data remains consistent and valid, preventing unintended interference.\n",
    "Encapsulation of Behavior:\n",
    "\n",
    "Information hiding also applies to encapsulating the behavior of an object. Users only need to know how to interact with the object (through its methods), not how those methods are implemented.\n",
    "Changes to the internal behavior of a class can be made without affecting the external code that relies on its services.\n",
    "Flexibility and Maintainability:\n",
    "\n",
    "Information hiding increases the flexibility of a system. Since users rely on well-defined interfaces, changes to the internal implementation can be made without affecting external code.\n",
    "This flexibility contributes to the maintainability of the codebase by allowing developers to make improvements or optimizations without disrupting existing functionality.\n",
    "Security:\n",
    "\n",
    "Information hiding enhances security by preventing unauthorized access to sensitive data or critical functionalities. Private members, such as attributes or methods, are not directly accessible from outside the class, reducing the risk of misuse.\n",
    "Ease of Evolution:\n",
    "\n",
    "Systems are subject to change and evolution over time. Information hiding facilitates changes in the implementation details without affecting the code that uses the encapsulated components.\n",
    "This property is crucial for software that needs to adapt to evolving requirements or incorporate updates."
   ]
  },
  {
   "cell_type": "markdown",
   "id": "ddcc5d97",
   "metadata": {},
   "source": [
    "### 20. Create a Python class called `Customer` with private attributes for customer details like name, address, and contact information. Implement encapsulation to ensure data integrity and security."
   ]
  },
  {
   "cell_type": "code",
   "execution_count": 32,
   "id": "1aecbac5",
   "metadata": {},
   "outputs": [
    {
     "name": "stdout",
     "output_type": "stream",
     "text": [
      "Customer Name: John Doe\n",
      "Customer Address: 123 Main St\n",
      "Customer Contact Info: johndoe@email.com\n",
      "\n",
      "Modified Customer Name: Alice Smith\n",
      "Modified Customer Address: 456 Oak Ave\n",
      "Modified Customer Contact Info: alicesmith@email.com\n"
     ]
    }
   ],
   "source": [
    "class Customer:\n",
    "    def __init__(self, name, address, contact_info):\n",
    "        # Private attributes\n",
    "        self.__name = name\n",
    "        self.__address = address\n",
    "        self.__contact_info = contact_info\n",
    "\n",
    "    # Getter methods\n",
    "    def get_name(self):\n",
    "        return self.__name\n",
    "\n",
    "    def get_address(self):\n",
    "        return self.__address\n",
    "\n",
    "    def get_contact_info(self):\n",
    "        return self.__contact_info\n",
    "\n",
    "    # Setter methods\n",
    "    def set_name(self, new_name):\n",
    "        self.__name = new_name\n",
    "\n",
    "    def set_address(self, new_address):\n",
    "        self.__address = new_address\n",
    "\n",
    "    def set_contact_info(self, new_contact_info):\n",
    "        self.__contact_info = new_contact_info\n",
    "\n",
    "# Example usage\n",
    "customer = Customer(name=\"John Doe\", address=\"123 Main St\", contact_info=\"johndoe@email.com\")\n",
    "\n",
    "# Accessing private attributes using getters\n",
    "print(\"Customer Name:\", customer.get_name())\n",
    "print(\"Customer Address:\", customer.get_address())\n",
    "print(\"Customer Contact Info:\", customer.get_contact_info())\n",
    "\n",
    "# Modifying private attributes using setters\n",
    "customer.set_name(\"Alice Smith\")\n",
    "customer.set_address(\"456 Oak Ave\")\n",
    "customer.set_contact_info(\"alicesmith@email.com\")\n",
    "\n",
    "# Accessing modified attributes\n",
    "print(\"\\nModified Customer Name:\", customer.get_name())\n",
    "print(\"Modified Customer Address:\", customer.get_address())\n",
    "print(\"Modified Customer Contact Info:\", customer.get_contact_info())"
   ]
  },
  {
   "cell_type": "markdown",
   "id": "5fca29de",
   "metadata": {},
   "source": [
    "# Polymorphism"
   ]
  },
  {
   "cell_type": "markdown",
   "id": "b20b3c40",
   "metadata": {},
   "source": [
    "### 1. What is polymorphism in Python? Explain how it is related to object-oriented programming."
   ]
  },
  {
   "cell_type": "markdown",
   "id": "d2591fa0",
   "metadata": {},
   "source": [
    "Definition: Polymorphism is a fundamental concept in object-oriented programming (OOP) that allows objects of different types to be treated as objects of a common type. It enables a single interface to represent different types of objects, providing flexibility and code reuse.\n",
    "Related to OOP: In OOP, polymorphism is closely related to inheritance and encapsulation. It allows objects to exhibit different behaviors based on their types, and it facilitates the creation of code that can work with objects of multiple types without knowing their specific classes"
   ]
  },
  {
   "cell_type": "markdown",
   "id": "31a2a362",
   "metadata": {},
   "source": [
    "### 2. Describe the difference between compile-time polymorphism and runtime polymorphism in Python."
   ]
  },
  {
   "cell_type": "markdown",
   "id": "ec17c58a",
   "metadata": {},
   "source": [
    "Compile-time Polymorphism (Static Binding): Occurs at compile time. Method overloading is an example, where multiple methods with the same name exist in the same class, but their signatures (parameters) differ.\n",
    "Runtime Polymorphism (Dynamic Binding): Occurs at runtime. Method overriding is an example, where a subclass provides a specific implementation for a method that is already defined in its superclass."
   ]
  },
  {
   "cell_type": "markdown",
   "id": "cb7cba6a",
   "metadata": {},
   "source": [
    "### 3. Create a Python class hierarchy for shapes (e.g., circle, square, triangle) and demonstrate polymorphism through a common method, such as `calculate_area()`."
   ]
  },
  {
   "cell_type": "code",
   "execution_count": 34,
   "id": "0fc4e6b0",
   "metadata": {},
   "outputs": [
    {
     "name": "stdout",
     "output_type": "stream",
     "text": [
      "Area of Circle: 78.5\n",
      "Area of Square: 16\n",
      "Area of Triangle: 9.0\n"
     ]
    }
   ],
   "source": [
    "class Shape:\n",
    "    def calculate_area(self):\n",
    "        pass\n",
    "\n",
    "class Circle(Shape):\n",
    "    def __init__(self, radius):\n",
    "        self.radius = radius\n",
    "\n",
    "    def calculate_area(self):\n",
    "        return 3.14 * self.radius**2\n",
    "\n",
    "class Square(Shape):\n",
    "    def __init__(self, side_length):\n",
    "        self.side_length = side_length\n",
    "\n",
    "    def calculate_area(self):\n",
    "        return self.side_length**2\n",
    "\n",
    "class Triangle(Shape):\n",
    "    def __init__(self, base, height):\n",
    "        self.base = base\n",
    "        self.height = height\n",
    "\n",
    "    def calculate_area(self):\n",
    "        return 0.5 * self.base * self.height\n",
    "\n",
    "# Example usage\n",
    "shapes = [Circle(5), Square(4), Triangle(3, 6)]\n",
    "for shape in shapes:\n",
    "    print(f\"Area of {type(shape).__name__}: {shape.calculate_area()}\")\n"
   ]
  },
  {
   "cell_type": "markdown",
   "id": "3f30c9f3",
   "metadata": {},
   "source": [
    "### 4. Explain the concept of method overriding in polymorphism. Provide an example."
   ]
  },
  {
   "cell_type": "markdown",
   "id": "588a47e5",
   "metadata": {},
   "source": [
    "Method overriding occurs when a subclass provides a specific implementation for a method that is already defined in its superclass."
   ]
  },
  {
   "cell_type": "code",
   "execution_count": 35,
   "id": "eeb89b92",
   "metadata": {},
   "outputs": [
    {
     "name": "stdout",
     "output_type": "stream",
     "text": [
      "Dog barks\n"
     ]
    }
   ],
   "source": [
    "class Animal:\n",
    "    def speak(self):\n",
    "        print(\"Animal speaks\")\n",
    "\n",
    "class Dog(Animal):\n",
    "    def speak(self):\n",
    "        print(\"Dog barks\")\n",
    "\n",
    "# Example usage\n",
    "dog = Dog()\n",
    "dog.speak()  # Calls the overridden speak method in Dog class"
   ]
  },
  {
   "cell_type": "markdown",
   "id": "50e41688",
   "metadata": {},
   "source": [
    "### 5. How is polymorphism different from method overloading in Python? Provide examples for both."
   ]
  },
  {
   "cell_type": "markdown",
   "id": "997b64d7",
   "metadata": {},
   "source": [
    "Polymorphism: Refers to the ability of objects to exhibit different behaviors based on their types. It includes both compile-time and runtime polymorphism.\n",
    "Method Overloading: Involves defining multiple methods with the same name in the same class but with different parameter lists."
   ]
  },
  {
   "cell_type": "code",
   "execution_count": 36,
   "id": "2508fff3",
   "metadata": {},
   "outputs": [],
   "source": [
    "class Example:\n",
    "    def add(self, a, b):\n",
    "        return a + b\n",
    "\n",
    "    def add(self, a, b, c):\n",
    "        return a + b + c"
   ]
  },
  {
   "cell_type": "markdown",
   "id": "18e34c3a",
   "metadata": {},
   "source": [
    "### 6. Create a Python class called `Animal` with a method `speak()`. Then, create child classes like `Dog`, `Cat`, and `Bird`, each with their own `speak()` method. Demonstrate polymorphism by calling the `speak()` method on objects of different subclasses."
   ]
  },
  {
   "cell_type": "code",
   "execution_count": 37,
   "id": "0f34dda4",
   "metadata": {},
   "outputs": [
    {
     "name": "stdout",
     "output_type": "stream",
     "text": [
      "Dog barks\n",
      "Cat meows\n",
      "Bird chirps\n"
     ]
    }
   ],
   "source": [
    "class Animal:\n",
    "    def speak(self):\n",
    "        print(\"Animal speaks\")\n",
    "\n",
    "class Dog(Animal):\n",
    "    def speak(self):\n",
    "        print(\"Dog barks\")\n",
    "\n",
    "class Cat(Animal):\n",
    "    def speak(self):\n",
    "        print(\"Cat meows\")\n",
    "\n",
    "class Bird(Animal):\n",
    "    def speak(self):\n",
    "        print(\"Bird chirps\")\n",
    "\n",
    "# Example usage\n",
    "animals = [Dog(), Cat(), Bird()]\n",
    "for animal in animals:\n",
    "    animal.speak()  # Calls the speak method specific to each subclass"
   ]
  },
  {
   "cell_type": "markdown",
   "id": "bf57fc48",
   "metadata": {},
   "source": [
    "### 7. Discuss the use of abstract methods and classes in achieving polymorphism in Python. Provide an example using the `abc` module."
   ]
  },
  {
   "cell_type": "code",
   "execution_count": 38,
   "id": "ab58cb25",
   "metadata": {},
   "outputs": [],
   "source": [
    "from abc import ABC, abstractmethod\n",
    "\n",
    "class Shape(ABC):\n",
    "    @abstractmethod\n",
    "    def calculate_area(self):\n",
    "        pass\n",
    "\n",
    "class Circle(Shape):\n",
    "    def __init__(self, radius):\n",
    "        self.radius = radius\n",
    "\n",
    "    def calculate_area(self):\n",
    "        return 3.14 * self.radius**2\n"
   ]
  },
  {
   "cell_type": "markdown",
   "id": "2c4a4f50",
   "metadata": {},
   "source": [
    "### 8. Create a Python class hierarchy for a vehicle system (e.g., car, bicycle, boat) and implement a polymorphic `start()` method that prints a message specific to each vehicle type."
   ]
  },
  {
   "cell_type": "code",
   "execution_count": 39,
   "id": "a6bcccc6",
   "metadata": {},
   "outputs": [
    {
     "name": "stdout",
     "output_type": "stream",
     "text": [
      "Car engine started\n",
      "Bicycle pedaling started\n",
      "Boat engine started\n"
     ]
    }
   ],
   "source": [
    "class Vehicle:\n",
    "    def start(self):\n",
    "        pass\n",
    "\n",
    "class Car(Vehicle):\n",
    "    def start(self):\n",
    "        print(\"Car engine started\")\n",
    "\n",
    "class Bicycle(Vehicle):\n",
    "    def start(self):\n",
    "        print(\"Bicycle pedaling started\")\n",
    "\n",
    "class Boat(Vehicle):\n",
    "    def start(self):\n",
    "        print(\"Boat engine started\")\n",
    "\n",
    "# Example usage\n",
    "vehicles = [Car(), Bicycle(), Boat()]\n",
    "for vehicle in vehicles:\n",
    "    vehicle.start()  # Calls the start method specific to each vehicle type"
   ]
  },
  {
   "cell_type": "markdown",
   "id": "e03641e9",
   "metadata": {},
   "source": [
    "### 9. Explain the significance of the `isinstance()` and `issubclass()` functions in Python polymorphism."
   ]
  },
  {
   "cell_type": "markdown",
   "id": "a7df204c",
   "metadata": {},
   "source": [
    "isinstance(object, class_or_tuple): Checks if the object is an instance of the specified class or any of the specified classes in the tuple.\n",
    "issubclass(class, classinfo): Checks if a class is a subclass of another class or a tuple of classes."
   ]
  },
  {
   "cell_type": "markdown",
   "id": "3debfb9e",
   "metadata": {},
   "source": [
    "### 10. What is the role of the `@abstractmethod` decorator in achieving polymorphism in Python? Provide an example."
   ]
  },
  {
   "cell_type": "code",
   "execution_count": 40,
   "id": "3bdbce63",
   "metadata": {},
   "outputs": [],
   "source": [
    "from abc import ABC, abstractmethod\n",
    "\n",
    "class Shape(ABC):\n",
    "    @abstractmethod\n",
    "    def calculate_area(self):\n",
    "        pass\n",
    "\n",
    "class Circle(Shape):\n",
    "    def __init__(self, radius):\n",
    "        self.radius = radius\n",
    "\n",
    "    def calculate_area(self):\n",
    "        return 3.14 * self.radius**2"
   ]
  },
  {
   "cell_type": "markdown",
   "id": "34b647ca",
   "metadata": {},
   "source": [
    "In this example, the @abstractmethod decorator is used to declare an abstract method calculate_area in the abstract base class Shape. Subclasses, like Circle, must provide a concrete implementation for this method."
   ]
  },
  {
   "cell_type": "markdown",
   "id": "3cf8e1b8",
   "metadata": {},
   "source": [
    "### 11. Create a Python class called `Shape` with a polymorphic method `area()` that calculates the area of"
   ]
  },
  {
   "cell_type": "code",
   "execution_count": 42,
   "id": "9ddab8bc",
   "metadata": {},
   "outputs": [],
   "source": [
    "class Shape:\n",
    "    def area(self):\n",
    "        pass\n",
    "\n",
    "class Circle(Shape):\n",
    "    def __init__(self, radius):\n",
    "        self.radius = radius\n",
    "\n",
    "    def area(self):\n",
    "        return 3.14 * self.radius**2\n",
    "\n",
    "class Rectangle(Shape):\n",
    "    def __init__(self, length, width):\n",
    "        self.length = length\n",
    "        self.width = width\n",
    "\n",
    "    def area(self):\n",
    "        return self.length * self.width\n",
    "\n",
    "class Triangle(Shape):\n",
    "    def __init__(self, base, height):\n",
    "        self.base = base\n",
    "        self.height = height\n",
    "\n",
    "    def area(self):\n",
    "        return 0.5 * self.base * self.height"
   ]
  },
  {
   "cell_type": "markdown",
   "id": "eac4735a",
   "metadata": {},
   "source": [
    "### 12. Discuss the benefits of polymorphism in terms of code reusability and flexibility in Python programs."
   ]
  },
  {
   "cell_type": "markdown",
   "id": "f011224d",
   "metadata": {},
   "source": [
    "Code Reusability: Polymorphism allows a single interface (method) to be reused for different object types, reducing redundancy and promoting code reuse.\n",
    "Flexibility: Code becomes more adaptable to changes as it can work seamlessly with new classes that adhere to the same interface. This makes the code more flexible and extensible."
   ]
  },
  {
   "cell_type": "markdown",
   "id": "e04c43da",
   "metadata": {},
   "source": [
    "### 13. Explain the use of the `super()` function in Python polymorphism. How does it help call methods of parent classes?"
   ]
  },
  {
   "cell_type": "markdown",
   "id": "41f9ca1c",
   "metadata": {},
   "source": [
    "The super() function is used to call methods from the parent class. In the context of polymorphism, it helps in achieving method overriding while still having access to the functionality of the parent class."
   ]
  },
  {
   "cell_type": "code",
   "execution_count": 43,
   "id": "eda54a73",
   "metadata": {},
   "outputs": [
    {
     "name": "stdout",
     "output_type": "stream",
     "text": [
      "Animal speaks\n",
      "Dog barks\n"
     ]
    }
   ],
   "source": [
    "class Animal:\n",
    "    def speak(self):\n",
    "        print(\"Animal speaks\")\n",
    "\n",
    "class Dog(Animal):\n",
    "    def speak(self):\n",
    "        super().speak()  # Call the speak method of the parent class\n",
    "        print(\"Dog barks\")\n",
    "\n",
    "# Example usage\n",
    "dog = Dog()\n",
    "dog.speak()"
   ]
  },
  {
   "cell_type": "markdown",
   "id": "8cd8e146",
   "metadata": {},
   "source": [
    "### 14. Create a Python class hierarchy for a banking system with various account types (e.g., savings, checking, credit card) and demonstrate polymorphism by implementing a common withdraw() method."
   ]
  },
  {
   "cell_type": "code",
   "execution_count": 44,
   "id": "10bc176d",
   "metadata": {},
   "outputs": [],
   "source": [
    "class BankAccount:\n",
    "    def withdraw(self, amount):\n",
    "        pass\n",
    "\n",
    "class SavingsAccount(BankAccount):\n",
    "    def withdraw(self, amount):\n",
    "        print(f\"Withdrawing {amount} from Savings Account\")\n",
    "\n",
    "class CheckingAccount(BankAccount):\n",
    "    def withdraw(self, amount):\n",
    "        print(f\"Withdrawing {amount} from Checking Account\")\n",
    "\n",
    "class CreditCardAccount(BankAccount):\n",
    "    def withdraw(self, amount):\n",
    "        print(f\"Withdrawing {amount} from Credit Card Account\")"
   ]
  },
  {
   "cell_type": "markdown",
   "id": "33c9340f",
   "metadata": {},
   "source": [
    "### 15. Describe the concept of operator overloading in Python and how it relates to polymorphism. Provide examples using operators like `+` and `*`."
   ]
  },
  {
   "cell_type": "markdown",
   "id": "8c4fd4f5",
   "metadata": {},
   "source": [
    "Operator overloading allows the same operator to have different meanings for different classes, promoting polymorphic behavior."
   ]
  },
  {
   "cell_type": "code",
   "execution_count": 45,
   "id": "de851e1c",
   "metadata": {},
   "outputs": [],
   "source": [
    "class ComplexNumber:\n",
    "    def __init__(self, real, imaginary):\n",
    "        self.real = real\n",
    "        self.imaginary = imaginary\n",
    "\n",
    "    def __add__(self, other):\n",
    "        return ComplexNumber(self.real + other.real, self.imaginary + other.imaginary)\n",
    "\n",
    "# Example usage\n",
    "c1 = ComplexNumber(2, 3)\n",
    "c2 = ComplexNumber(1, 4)\n",
    "result = c1 + c2  # Calls the __add__ method with polymorphic behavior"
   ]
  },
  {
   "cell_type": "markdown",
   "id": "9c6cc7bb",
   "metadata": {},
   "source": [
    "### 16. What is dynamic polymorphism, and how is it achieved in Python?"
   ]
  },
  {
   "cell_type": "markdown",
   "id": "fda39f9f",
   "metadata": {},
   "source": [
    "Dynamic polymorphism, also known as runtime polymorphism, is achieved in Python through method overriding. The method that gets called is determined at runtime based on the actual type of the object.\n",
    "Example: See previous examples with method overriding."
   ]
  },
  {
   "cell_type": "markdown",
   "id": "65483814",
   "metadata": {},
   "source": [
    "### 17. Create a python class hierarchy for employees in a company (e.g., manager, developer, desiner) and implement polymorphism through a common calculate_salary() method."
   ]
  },
  {
   "cell_type": "code",
   "execution_count": null,
   "id": "bec08181",
   "metadata": {},
   "outputs": [],
   "source": [
    "class Employee:\n",
    "    def calculate_salary(self):\n",
    "        pass\n",
    "\n",
    "class Manager(Employee):\n",
    "    def calculate_salary(self):\n",
    "        print(\"Calculating salary for Manager\")\n",
    "\n",
    "class Developer(Employee):\n",
    "    def calculate_salary(self):\n",
    "        print(\"Calculating salary for Developer\")\n",
    "\n",
    "class Designer(Employee):\n",
    "    def calculate_salary(self):\n",
    "        print(\"Calculating salary for Designer\")\n"
   ]
  },
  {
   "cell_type": "markdown",
   "id": "9800464d",
   "metadata": {},
   "source": [
    "### 18. Discuss the concept of function pointers and how they can be used to achieve polymorphism in Python."
   ]
  },
  {
   "cell_type": "markdown",
   "id": "a62ce654",
   "metadata": {},
   "source": [
    "In Python, the concept of function pointers is less explicit due to the dynamic typing nature. However, functions can be passed as arguments, allowing for polymorphic behavior.\n",
    "Example: Function pointers are not explicitly used in Python, but functions can be passed as arguments."
   ]
  },
  {
   "cell_type": "markdown",
   "id": "a81ba148",
   "metadata": {},
   "source": [
    "### 19. Explain the role of interfaces and abstract classes in polymorphism, drawing comparisons between them."
   ]
  },
  {
   "cell_type": "markdown",
   "id": "082ea01e",
   "metadata": {},
   "source": [
    "Abstract Classes: Can have both abstract (unimplemented) and concrete (implemented) methods. Can have attributes. Subclasses must provide concrete implementations for abstract methods.\n",
    "Interfaces: Can only have abstract methods. No attribute or method implementation. Subclasses must provide concrete implementations for all methods.\n",
    "Example: See previous example with abstract class Shape."
   ]
  },
  {
   "cell_type": "markdown",
   "id": "f6585d37",
   "metadata": {},
   "source": [
    "### 20. Create a python class for zoo simulation, demonstrating polymorphism with different animal types(e.g.,mammals, birds, reptiles) and their behaviour(e.g., eating, sleeping, making sounds)"
   ]
  },
  {
   "cell_type": "code",
   "execution_count": 46,
   "id": "c67e626b",
   "metadata": {},
   "outputs": [
    {
     "name": "stdout",
     "output_type": "stream",
     "text": [
      "Mammal sound\n",
      "Bird sound\n",
      "Reptile sound\n"
     ]
    }
   ],
   "source": [
    "class Animal:\n",
    "    def make_sound(self):\n",
    "        pass\n",
    "\n",
    "class Mammal(Animal):\n",
    "    def make_sound(self):\n",
    "        print(\"Mammal sound\")\n",
    "\n",
    "class Bird(Animal):\n",
    "    def make_sound(self):\n",
    "        print(\"Bird sound\")\n",
    "\n",
    "class Reptile(Animal):\n",
    "    def make_sound(self):\n",
    "        print(\"Reptile sound\")\n",
    "\n",
    "# Example usage\n",
    "zoo = [Mammal(), Bird(), Reptile()]\n",
    "for animal in zoo:\n",
    "    animal.make_sound()  # Calls the make_sound method specific to each animal type"
   ]
  },
  {
   "cell_type": "markdown",
   "id": "2c3ec7b5",
   "metadata": {},
   "source": [
    "# Abstraction"
   ]
  },
  {
   "cell_type": "markdown",
   "id": "c7282d0b",
   "metadata": {},
   "source": [
    "### 1. What is abstraction in Python, and how does it relate to object-oriented programming?"
   ]
  },
  {
   "cell_type": "markdown",
   "id": "0ed73f8b",
   "metadata": {},
   "source": [
    "Abstraction in Python:\n",
    "Abstraction is a fundamental concept in object-oriented programming (OOP) and refers to the process of simplifying complex systems by modeling classes based on the essential properties and behaviors they share. It involves focusing on the relevant aspects of an object while ignoring unnecessary details. Abstraction allows developers to create models that represent real-world entities in a more manageable and understandable way.\n",
    "\n",
    "In Python, abstraction is closely tied to the following OOP principles:\n",
    "Class and Object:\n",
    "Class: A blueprint or template that defines the properties (attributes) and behaviors (methods) common to a group of objects.\n",
    "Object: An instance of a class, representing a specific entity with its unique characteristics.\n",
    "\n",
    "Encapsulation:\n",
    "Encapsulation: The bundling of data (attributes) and methods that operate on the data into a single unit, i.e., a class.\n",
    "Access Modifiers: Control the access to the internal details of a class, allowing certain information to be hidden or restricted.\n",
    "\n",
    "Inheritance:\n",
    "Inheritance: The mechanism by which a new class (subclass or derived class) can inherit properties and behaviors from an existing class (superclass or base class).\n",
    "Subclass: Inherits attributes and methods from a superclass and may provide additional or overridden functionality.\n",
    "\n",
    "Polymorphism:\n",
    "Polymorphism: The ability of objects to take on multiple forms based on their types. It allows a single interface to represent different types of objects.\n",
    "Method Overriding: The ability of a subclass to provide a specific implementation for a method that is already defined in its superclass.\n",
    "\n",
    "Abstract Classes and Interfaces:\n",
    "Abstract Classes: Classes that may contain abstract methods (methods without a concrete implementation) and can't be instantiated directly. They serve as templates for concrete subclasses.\n",
    "Interfaces: Represented by abstract classes with only abstract methods. Used to define a common interface that multiple classes must implement.\n",
    "\n",
    "Relation to Object-Oriented Programming (OOP):\n",
    "Abstraction is a core principle of OOP, and it plays a crucial role in modeling real-world systems in a software environment. The key aspects of how abstraction relates to OOP include:\n",
    "\n",
    "Modeling Real-World Entities:\n",
    "Abstraction allows developers to model real-world entities as classes, representing both their attributes and behaviors. This modeling approach helps in understanding and solving complex problems in a structured manner.\n",
    "\n",
    "Code Organization:\n",
    "Abstraction promotes code organization by encapsulating related attributes and behaviors within classes. This makes the code more modular, maintainable, and scalable.\n",
    "\n",
    "Complexity Reduction:\n",
    "By abstracting away unnecessary details and focusing on essential features, OOP reduces the complexity of code. This simplification enhances readability and comprehension.\n",
    "\n",
    "Code Reusability:\n",
    "Abstraction facilitates code reusability by creating classes that can be reused in different parts of a program or even in different projects. This reuse is possible because classes provide well-defined interfaces for interaction.\n",
    "\n",
    "Flexibility and Extensibility:\n",
    "Abstraction allows for flexibility in designing systems. New classes can be created by extending existing classes through inheritance, and polymorphism enables these classes to be used interchangeably.\n",
    "\n",
    "Modularity:\n",
    "OOP promotes modularity through abstraction. Each class acts as a module with a specific purpose, and these modules can be developed, tested, and maintained independently."
   ]
  },
  {
   "cell_type": "markdown",
   "id": "e719e5ba",
   "metadata": {},
   "source": [
    "### 2. Describe the benefits of abstraction in terms of code organization and complexity reduction."
   ]
  },
  {
   "cell_type": "code",
   "execution_count": null,
   "id": "bba771ab",
   "metadata": {},
   "outputs": [],
   "source": [
    "from abc import ABC, abstractmethod\n",
    "\n",
    "class Shape(ABC):\n",
    "    @abstractmethod\n",
    "    def calculate_area(self):\n",
    "        pass\n",
    "\n",
    "class Circle(Shape):\n",
    "    def __init__(self, radius):\n",
    "        self.radius = radius\n",
    "\n",
    "    def calculate_area(self):\n",
    "        return 3.14 * self.radius**2\n",
    "\n",
    "class Rectangle(Shape):\n",
    "    def __init__(self, length, width):\n",
    "        self.length = length\n",
    "        self.width = width\n",
    "\n",
    "    def calculate_area(self):\n",
    "        return self.length * self.width\n",
    "\n",
    "# Example usage\n",
    "circle = Circle(radius=5)\n",
    "rectangle = Rectangle(length=4, width=3)\n",
    "\n",
    "print(\"Area of Circle:\", circle.calculate_area())\n",
    "print(\"Area of Rectangle:\", rectangle.calculate_area())"
   ]
  },
  {
   "cell_type": "markdown",
   "id": "35d965eb",
   "metadata": {},
   "source": [
    "### 3. Create a Python class called `Shape` with an abstract method `calculate_area()`. Then, create child classes (e.g., `Circle`, `Rectangle`) that implement the `calculate_area()` method. Provide an example of using these classes."
   ]
  },
  {
   "cell_type": "code",
   "execution_count": 47,
   "id": "fed69d79",
   "metadata": {},
   "outputs": [
    {
     "name": "stdout",
     "output_type": "stream",
     "text": [
      "Area of Circle: 78.5\n",
      "Area of Rectangle: 12\n"
     ]
    }
   ],
   "source": [
    "from abc import ABC, abstractmethod\n",
    "\n",
    "class Shape(ABC):\n",
    "    @abstractmethod\n",
    "    def calculate_area(self):\n",
    "        pass\n",
    "\n",
    "class Circle(Shape):\n",
    "    def __init__(self, radius):\n",
    "        self.radius = radius\n",
    "\n",
    "    def calculate_area(self):\n",
    "        return 3.14 * self.radius**2\n",
    "\n",
    "class Rectangle(Shape):\n",
    "    def __init__(self, length, width):\n",
    "        self.length = length\n",
    "        self.width = width\n",
    "\n",
    "    def calculate_area(self):\n",
    "        return self.length * self.width\n",
    "\n",
    "# Example usage\n",
    "circle = Circle(radius=5)\n",
    "rectangle = Rectangle(length=4, width=3)\n",
    "\n",
    "print(\"Area of Circle:\", circle.calculate_area())\n",
    "print(\"Area of Rectangle:\", rectangle.calculate_area())"
   ]
  },
  {
   "cell_type": "markdown",
   "id": "93049253",
   "metadata": {},
   "source": [
    "### 4. Explain the concept of abstract classes in Python and how they are defined using the `abc` module. Provide an example"
   ]
  },
  {
   "cell_type": "code",
   "execution_count": 48,
   "id": "3a48eb27",
   "metadata": {},
   "outputs": [
    {
     "name": "stdout",
     "output_type": "stream",
     "text": [
      "Implementation of abstract method\n"
     ]
    }
   ],
   "source": [
    "from abc import ABC, abstractmethod\n",
    "\n",
    "class MyAbstractClass(ABC):\n",
    "    @abstractmethod\n",
    "    def abstract_method(self):\n",
    "        pass\n",
    "\n",
    "class ConcreteClass(MyAbstractClass):\n",
    "    def abstract_method(self):\n",
    "        print(\"Implementation of abstract method\")\n",
    "\n",
    "# Example usage\n",
    "obj = ConcreteClass()\n",
    "obj.abstract_method()\n"
   ]
  },
  {
   "cell_type": "markdown",
   "id": "6aed889e",
   "metadata": {},
   "source": [
    "### 5. How do abstract classes differ from regular classes in Python? Discuss their use cases."
   ]
  },
  {
   "cell_type": "markdown",
   "id": "46edb7c8",
   "metadata": {},
   "source": [
    "Abstract Classes: Can have abstract methods (unimplemented) and may also have concrete methods. Cannot be instantiated directly; must be subclassed. Used when a common interface is needed for multiple classes.\n",
    "Regular Classes: Can be instantiated directly. May have both attributes and methods. Used when a concrete implementation is needed."
   ]
  },
  {
   "cell_type": "markdown",
   "id": "4603ef61",
   "metadata": {},
   "source": [
    "### 6. Create a Python class for a bank account and demonstrate abstraction by hiding the account balance and providing methods to deposit and withdraw funds"
   ]
  },
  {
   "cell_type": "code",
   "execution_count": 49,
   "id": "d6595b23",
   "metadata": {},
   "outputs": [],
   "source": [
    "class BankAccount:\n",
    "    def __init__(self):\n",
    "        self._balance = 0  # Encapsulation: hiding the balance\n",
    "\n",
    "    def deposit(self, amount):\n",
    "        self._balance += amount\n",
    "\n",
    "    def withdraw(self, amount):\n",
    "        if amount <= self._balance:\n",
    "            self._balance -= amount\n",
    "        else:\n",
    "            print(\"Insufficient funds\")\n",
    "\n",
    "# Example usage\n",
    "account = BankAccount()\n",
    "account.deposit(1000)\n",
    "account.withdraw(500)"
   ]
  },
  {
   "cell_type": "markdown",
   "id": "8cc0dc40",
   "metadata": {},
   "source": [
    "### 7. Discuss the concept of interface classes in Python and their role in achieving abstraction."
   ]
  },
  {
   "cell_type": "markdown",
   "id": "d9486877",
   "metadata": {},
   "source": [
    "In Python, interface classes are often represented by abstract classes with only abstract methods.\n",
    "Example: See previous example with abstract class Shape"
   ]
  },
  {
   "cell_type": "markdown",
   "id": "61ad5ab7",
   "metadata": {},
   "source": [
    "### 8. Create a Python class hierarchy for animals and implement abstraction by defining common methods (e.g., `eat()`, `sleep()`) in an abstract base class."
   ]
  },
  {
   "cell_type": "code",
   "execution_count": 50,
   "id": "13aa9554",
   "metadata": {},
   "outputs": [],
   "source": [
    "from abc import ABC, abstractmethod\n",
    "\n",
    "class Animal(ABC):\n",
    "    @abstractmethod\n",
    "    def eat(self):\n",
    "        pass\n",
    "\n",
    "    @abstractmethod\n",
    "    def sleep(self):\n",
    "        pass\n",
    "\n",
    "class Lion(Animal):\n",
    "    def eat(self):\n",
    "        print(\"Lion eats meat\")\n",
    "\n",
    "    def sleep(self):\n",
    "        print(\"Lion sleeps on the rock\")\n",
    "\n",
    "class Parrot(Animal):\n",
    "    def eat(self):\n",
    "        print(\"Parrot eats seeds\")\n",
    "\n",
    "    def sleep(self):\n",
    "        print(\"Parrot sleeps on the perch\")\n"
   ]
  },
  {
   "cell_type": "markdown",
   "id": "76990af1",
   "metadata": {},
   "source": [
    "### 9. Explain the significance of encapsulation in achieving abstraction. Provide examples."
   ]
  },
  {
   "cell_type": "markdown",
   "id": "e612d259",
   "metadata": {},
   "source": [
    "\n",
    "Significance of Encapsulation in Achieving Abstraction:\n",
    "\n",
    "Encapsulation is a key concept in object-oriented programming (OOP) and plays a significant role in achieving abstraction. Encapsulation involves bundling data (attributes) and the methods that operate on the data into a single unit, i.e., a class. It provides a way to control access to the internal details of a class, allowing certain information to be hidden or restricted. The relationship between encapsulation and abstraction is closely intertwined, and encapsulation serves as a means to achieve abstraction in several ways:\n",
    "\n",
    "Hiding Implementation Details:\n",
    "\n",
    "Encapsulation allows developers to hide the internal details of a class, exposing only the essential features to the outside world. This helps in abstracting away unnecessary complexities, making the interface of the class simpler and more focused.\n",
    "Information Control:\n",
    "\n",
    "By encapsulating data and providing controlled access through methods (getters and setters), encapsulation allows developers to control how external entities interact with the internal state of an object. This control is crucial for maintaining data integrity and enforcing specific rules or constraints.\n",
    "Reducing Complexity:\n",
    "\n",
    "Encapsulation reduces complexity by encapsulating the implementation details within a class. External entities need not concern themselves with the internal workings of the class, making it easier to understand and use. This reduction in complexity contributes to the abstraction of the underlying functionality.\n",
    "Enhancing Security:\n",
    "\n",
    "Encapsulation contributes to the security of a system by preventing direct access to sensitive data. Data members can be declared as private, and access is provided through public methods. This ensures that external entities can only interact with the class in a controlled manner, reducing the risk of unintended modifications.\n",
    "Improving Maintainability:\n",
    "\n",
    "Encapsulation makes code more maintainable by localizing changes. If the internal implementation of a class needs to be modified, the external code that uses the class remains unaffected as long as the public interface remains unchanged. This separation of concerns simplifies maintenance and updates.\n",
    "Code Organization:\n",
    "\n",
    "Encapsulation organizes code by grouping related attributes and methods within a class. This grouping aligns with the concept of abstraction, where a class represents a higher-level abstraction of a real-world entity. The encapsulated unit becomes a modular and self-contained component of the overall system."
   ]
  },
  {
   "cell_type": "code",
   "execution_count": 51,
   "id": "f1e7d212",
   "metadata": {},
   "outputs": [
    {
     "name": "stdout",
     "output_type": "stream",
     "text": [
      "Student Name: John\n",
      "Student Age: 20\n",
      "Modified Student Name: Alice\n",
      "Modified Student Age: 22\n"
     ]
    }
   ],
   "source": [
    "class Student:\n",
    "    def __init__(self, name, age):\n",
    "        self.__name = name  # Encapsulation: private attribute\n",
    "        self.__age = age    # Encapsulation: private attribute\n",
    "\n",
    "    def get_name(self):\n",
    "        return self.__name\n",
    "\n",
    "    def set_name(self, new_name):\n",
    "        self.__name = new_name\n",
    "\n",
    "    def get_age(self):\n",
    "        return self.__age\n",
    "\n",
    "    def set_age(self, new_age):\n",
    "        if new_age > 0:\n",
    "            self.__age = new_age\n",
    "\n",
    "# Example usage\n",
    "student = Student(name=\"John\", age=20)\n",
    "\n",
    "# Accessing attributes through encapsulated methods\n",
    "print(\"Student Name:\", student.get_name())\n",
    "print(\"Student Age:\", student.get_age())\n",
    "\n",
    "# Modifying attributes through encapsulated methods\n",
    "student.set_name(\"Alice\")\n",
    "student.set_age(22)\n",
    "\n",
    "# Accessing modified attributes\n",
    "print(\"Modified Student Name:\", student.get_name())\n",
    "print(\"Modified Student Age:\", student.get_age())"
   ]
  },
  {
   "cell_type": "markdown",
   "id": "72ceb16f",
   "metadata": {},
   "source": [
    "### 10. What is the purpose of abstract methods, and how do they enforce abstraction in Python classes?"
   ]
  },
  {
   "cell_type": "markdown",
   "id": "f7a60fab",
   "metadata": {},
   "source": [
    "Abstract methods in Python are methods declared in an abstract class (or interface) that do not have an implementation in the abstract class itself. Instead, their implementation is provided by concrete subclasses that inherit from the abstract class. The primary purposes of abstract methods are as follows:\n",
    "\n",
    "Define a Common Interface:\n",
    "\n",
    "Abstract methods define a common interface that concrete subclasses must adhere to. They specify a set of methods that any concrete subclass must implement, ensuring a consistent structure across all subclasses.\n",
    "Enforce Contractual Obligations:\n",
    "\n",
    "Abstract methods serve as a contractual agreement between the abstract class and its subclasses. By declaring certain methods as abstract, the abstract class sets an expectation that all concrete subclasses must provide their own implementations for these methods.\n",
    "Promote Polymorphism:\n",
    "\n",
    "Abstract methods contribute to the concept of polymorphism, allowing objects of different classes to be treated uniformly based on their shared interface. This polymorphic behavior is achieved when different concrete subclasses implement the same abstract method in their unique ways.\n",
    "Encourage Code Reusability:\n",
    "\n",
    "Abstract methods encourage code reusability by defining a common set of methods that can be shared among multiple subclasses. This promotes a modular and extensible design where new subclasses can be added without modifying the existing abstract class.\n",
    "Support Abstraction:\n",
    "\n",
    "Abstract methods play a crucial role in achieving abstraction. They help in creating a high-level abstraction by defining the essential behaviors that subclasses must implement, while leaving the specific implementation details to the subclasses.\n",
    "Enforcing Abstraction in Python Classes:\n",
    "\n",
    "In Python, abstraction is achieved through abstract classes, which may include one or more abstract methods. The abc (Abstract Base Classes) module provides a mechanism for defining abstract classes and abstract methods. The @abstractmethod decorator is used to declare a method as abstract within an abstract class."
   ]
  },
  {
   "cell_type": "markdown",
   "id": "7c743db0",
   "metadata": {},
   "source": [
    "### 11. Create a Python class for a vehicle system and demonstrate abstraction by defining common methods (e.g., `start()`, `stop()`) in an abstract base class."
   ]
  },
  {
   "cell_type": "code",
   "execution_count": 52,
   "id": "836ffe5e",
   "metadata": {},
   "outputs": [
    {
     "name": "stdout",
     "output_type": "stream",
     "text": [
      "Car started\n",
      "Car stopped\n",
      "Bicycle started\n",
      "Bicycle stopped\n"
     ]
    }
   ],
   "source": [
    "from abc import ABC, abstractmethod\n",
    "\n",
    "class Vehicle(ABC):\n",
    "    @abstractmethod\n",
    "    def start(self):\n",
    "        pass\n",
    "\n",
    "    @abstractmethod\n",
    "    def stop(self):\n",
    "        pass\n",
    "\n",
    "class Car(Vehicle):\n",
    "    def start(self):\n",
    "        print(\"Car started\")\n",
    "\n",
    "    def stop(self):\n",
    "        print(\"Car stopped\")\n",
    "\n",
    "class Bicycle(Vehicle):\n",
    "    def start(self):\n",
    "        print(\"Bicycle started\")\n",
    "\n",
    "    def stop(self):\n",
    "        print(\"Bicycle stopped\")\n",
    "\n",
    "# Example usage\n",
    "car = Car()\n",
    "bicycle = Bicycle()\n",
    "\n",
    "car.start()\n",
    "car.stop()\n",
    "\n",
    "bicycle.start()\n",
    "bicycle.stop()"
   ]
  },
  {
   "cell_type": "markdown",
   "id": "27182776",
   "metadata": {},
   "source": [
    "### 12. Describe the use of abstract properties in Python and how they can be employed in abstract classes."
   ]
  },
  {
   "cell_type": "code",
   "execution_count": 53,
   "id": "cfe084e1",
   "metadata": {},
   "outputs": [
    {
     "name": "stdout",
     "output_type": "stream",
     "text": [
      "Area of Circle: 78.5\n",
      "Area of Rectangle: 12\n"
     ]
    }
   ],
   "source": [
    "from abc import ABC, abstractmethod\n",
    "\n",
    "class Shape(ABC):\n",
    "    @property\n",
    "    @abstractmethod\n",
    "    def area(self):\n",
    "        pass\n",
    "\n",
    "class Circle(Shape):\n",
    "    def __init__(self, radius):\n",
    "        self._radius = radius\n",
    "\n",
    "    @property\n",
    "    def area(self):\n",
    "        return 3.14 * self._radius**2\n",
    "\n",
    "class Rectangle(Shape):\n",
    "    def __init__(self, length, width):\n",
    "        self._length = length\n",
    "        self._width = width\n",
    "\n",
    "    @property\n",
    "    def area(self):\n",
    "        return self._length * self._width\n",
    "\n",
    "# Example usage\n",
    "circle = Circle(radius=5)\n",
    "rectangle = Rectangle(length=4, width=3)\n",
    "\n",
    "print(\"Area of Circle:\", circle.area)\n",
    "print(\"Area of Rectangle:\", rectangle.area)"
   ]
  },
  {
   "cell_type": "markdown",
   "id": "d2446e58",
   "metadata": {},
   "source": [
    "### 13. Create a Python class hierarchy for employees in a company (e.g., manager, developer, designer) and implement abstraction by defining a common `get_salary()` method."
   ]
  },
  {
   "cell_type": "code",
   "execution_count": 54,
   "id": "3fc1e680",
   "metadata": {},
   "outputs": [
    {
     "name": "stdout",
     "output_type": "stream",
     "text": [
      "Manager Salary: 80000\n",
      "Developer Salary: 60000\n",
      "Designer Salary: 70000\n"
     ]
    }
   ],
   "source": [
    "from abc import ABC, abstractmethod\n",
    "\n",
    "class Employee(ABC):\n",
    "    @abstractmethod\n",
    "    def get_salary(self):\n",
    "        pass\n",
    "\n",
    "class Manager(Employee):\n",
    "    def get_salary(self):\n",
    "        return 80000\n",
    "\n",
    "class Developer(Employee):\n",
    "    def get_salary(self):\n",
    "        return 60000\n",
    "\n",
    "class Designer(Employee):\n",
    "    def get_salary(self):\n",
    "        return 70000\n",
    "\n",
    "# Example usage\n",
    "manager = Manager()\n",
    "developer = Developer()\n",
    "designer = Designer()\n",
    "\n",
    "print(\"Manager Salary:\", manager.get_salary())\n",
    "print(\"Developer Salary:\", developer.get_salary())\n",
    "print(\"Designer Salary:\", designer.get_salary())"
   ]
  },
  {
   "cell_type": "markdown",
   "id": "34c51ea2",
   "metadata": {},
   "source": [
    "### 14. Discuss the differences between abstract classes and concrete classes in Python, including their instantiation."
   ]
  },
  {
   "cell_type": "markdown",
   "id": "e22beb83",
   "metadata": {},
   "source": [
    "Abstract Class: Cannot be instantiated directly. May contain abstract methods. Serves as a blueprint.\n",
    "Concrete Class: Can be instantiated directly. Implements all abstract methods. Provides a complete, tangible implementation."
   ]
  },
  {
   "cell_type": "markdown",
   "id": "9ff59391",
   "metadata": {},
   "source": [
    "### 15. Explain the concept of abstract data types (ADTs) and their role in achieving abstraction in Python."
   ]
  },
  {
   "cell_type": "markdown",
   "id": "266076f6",
   "metadata": {},
   "source": [
    "Abstract Data Types (ADTs) are high-level descriptions of data structures or objects, focusing on their behavior rather than their specific implementation.\n",
    "ADTs help achieve abstraction by providing a clear interface and hiding the internal details of the data structure. Examples include stacks, queues, and lists."
   ]
  },
  {
   "cell_type": "markdown",
   "id": "eff44ba0",
   "metadata": {},
   "source": [
    "### 16. Create a Python class for a computer system, demonstrating abstraction by defining common methods (e.g., poer_on(), shutdown()) in an abstract base class."
   ]
  },
  {
   "cell_type": "code",
   "execution_count": 55,
   "id": "1bc4f48a",
   "metadata": {},
   "outputs": [
    {
     "name": "stdout",
     "output_type": "stream",
     "text": [
      "Laptop powered on\n",
      "Laptop shut down\n",
      "Desktop powered on\n",
      "Desktop shut down\n"
     ]
    }
   ],
   "source": [
    "from abc import ABC, abstractmethod\n",
    "\n",
    "class ComputerSystem(ABC):\n",
    "    @abstractmethod\n",
    "    def power_on(self):\n",
    "        pass\n",
    "\n",
    "    @abstractmethod\n",
    "    def shutdown(self):\n",
    "        pass\n",
    "\n",
    "class Laptop(ComputerSystem):\n",
    "    def power_on(self):\n",
    "        print(\"Laptop powered on\")\n",
    "\n",
    "    def shutdown(self):\n",
    "        print(\"Laptop shut down\")\n",
    "\n",
    "class Desktop(ComputerSystem):\n",
    "    def power_on(self):\n",
    "        print(\"Desktop powered on\")\n",
    "\n",
    "    def shutdown(self):\n",
    "        print(\"Desktop shut down\")\n",
    "\n",
    "# Example usage\n",
    "laptop = Laptop()\n",
    "desktop = Desktop()\n",
    "\n",
    "laptop.power_on()\n",
    "laptop.shutdown()\n",
    "\n",
    "desktop.power_on()\n",
    "desktop.shutdown()"
   ]
  },
  {
   "cell_type": "markdown",
   "id": "15b3c1b4",
   "metadata": {},
   "source": [
    "### 17. Discuss the benefits of using abstraction in large-scale software development projects.1"
   ]
  },
  {
   "cell_type": "markdown",
   "id": "debc8660",
   "metadata": {},
   "source": [
    "Code Organization: Abstraction organizes code into manageable units, enhancing readability and maintainability.\n",
    "Complexity Reduction: Abstraction reduces complexity by focusing on essential features and hiding unnecessary details.\n",
    "Flexibility: Abstraction allows for flexible design, accommodating changes and additions without disrupting the entire system.\n",
    "Modularity: Abstraction promotes modularity, where components can be developed and tested independently.\n",
    "Reusability: Abstraction facilitates code reuse, as abstract classes provide a blueprint for creating similar, yet specialized, classes."
   ]
  },
  {
   "cell_type": "markdown",
   "id": "b36194ff",
   "metadata": {},
   "source": [
    "### 18. Explain how abstraction enhances code reusability and modularity in Python programs."
   ]
  },
  {
   "cell_type": "markdown",
   "id": "543a3940",
   "metadata": {},
   "source": [
    "Code Reusability: Abstraction provides a common interface, enabling the reuse of abstract classes in various contexts and projects.\n",
    "Modularity: Abstraction divides code into modular components, making it easier to understand, maintain, and extend."
   ]
  },
  {
   "cell_type": "markdown",
   "id": "32d464b9",
   "metadata": {},
   "source": [
    "### 19. Create a Python class for a library system, implementing abstraction by defining common methods (e.g., `add_book()`, `borrow_book()`) in an abstract base class."
   ]
  },
  {
   "cell_type": "code",
   "execution_count": 56,
   "id": "06f3f6b9",
   "metadata": {},
   "outputs": [
    {
     "name": "stdout",
     "output_type": "stream",
     "text": [
      "Book 'The Great Gatsby' added to the public library\n",
      "Book 'The Great Gatsby' borrowed from the public library\n",
      "Book 'Introduction to Physics' added to the school library\n",
      "Book 'Introduction to Physics' borrowed from the school library\n"
     ]
    }
   ],
   "source": [
    "from abc import ABC, abstractmethod\n",
    "\n",
    "class LibrarySystem(ABC):\n",
    "    @abstractmethod\n",
    "    def add_book(self, book):\n",
    "        pass\n",
    "\n",
    "    @abstractmethod\n",
    "    def borrow_book(self, book):\n",
    "        pass\n",
    "\n",
    "class PublicLibrary(LibrarySystem):\n",
    "    def add_book(self, book):\n",
    "        print(f\"Book '{book}' added to the public library\")\n",
    "\n",
    "    def borrow_book(self, book):\n",
    "        print(f\"Book '{book}' borrowed from the public library\")\n",
    "\n",
    "class SchoolLibrary(LibrarySystem):\n",
    "    def add_book(self, book):\n",
    "        print(f\"Book '{book}' added to the school library\")\n",
    "\n",
    "    def borrow_book(self, book):\n",
    "        print(f\"Book '{book}' borrowed from the school library\")\n",
    "\n",
    "# Example usage\n",
    "public_library = PublicLibrary()\n",
    "school_library = SchoolLibrary()\n",
    "\n",
    "public_library.add_book(\"The Great Gatsby\")\n",
    "public_library.borrow_book(\"The Great Gatsby\")\n",
    "\n",
    "school_library.add_book(\"Introduction to Physics\")\n",
    "school_library.borrow_book(\"Introduction to Physics\")"
   ]
  },
  {
   "cell_type": "markdown",
   "id": "51cf5da0",
   "metadata": {},
   "source": [
    "### 20. Describe the concept of method abstraction in python anf how it relates to polymorphism"
   ]
  },
  {
   "cell_type": "markdown",
   "id": "adb43ca5",
   "metadata": {},
   "source": [
    "Method Abstraction: Refers to the concept of providing a common method signature in an abstract class, allowing concrete subclasses to implement the method according to their specific requirements.\n",
    "Polymorphism: Method abstraction enables polymorphic behavior, where objects of different classes can be treated uniformly through a shared method interface."
   ]
  },
  {
   "cell_type": "markdown",
   "id": "54f97bf7",
   "metadata": {},
   "source": [
    "# Composition"
   ]
  },
  {
   "cell_type": "markdown",
   "id": "ff5177c8",
   "metadata": {},
   "source": [
    "### 1. Explain the concept of composition in Python and how it is used to build complex objects from simpler ones."
   ]
  },
  {
   "cell_type": "markdown",
   "id": "5de2c2e2",
   "metadata": {},
   "source": [
    "Composition is a concept in object-oriented programming (OOP) where a class is composed of objects of other classes, allowing the creation of complex objects from simpler ones.\n",
    "Rather than relying on inheritance, composition involves creating relationships between classes by including instances of other classes as attributes."
   ]
  },
  {
   "cell_type": "markdown",
   "id": "0918a742",
   "metadata": {},
   "source": [
    "### 2. Describe the difference between composition and inheritance in object-oriented programming."
   ]
  },
  {
   "cell_type": "markdown",
   "id": "fa85f269",
   "metadata": {},
   "source": [
    "Inheritance: Establishes an \"is-a\" relationship, where a subclass inherits properties and behaviors from a superclass.\n",
    "Composition: Establishes a \"has-a\" relationship, where a class is composed of instances of other classes, incorporating their functionality."
   ]
  },
  {
   "cell_type": "markdown",
   "id": "f3cbe91a",
   "metadata": {},
   "source": [
    "### 3. Create a Python class called `Author` with attributes for name and birthdate. Then, create a `Book` class that contains an instance of `Author` as a composition. Provide an example of creating a `Book` object."
   ]
  },
  {
   "cell_type": "code",
   "execution_count": 58,
   "id": "893c4595",
   "metadata": {},
   "outputs": [
    {
     "name": "stdout",
     "output_type": "stream",
     "text": [
      "Book Title: Python Basics\n",
      "Author Name: Jane Doe\n",
      "Author Birthdate: 1990-01-01\n",
      "Publish Date: 2022-01-01\n"
     ]
    }
   ],
   "source": [
    "class Author:\n",
    "    def __init__(self, name, birthdate):\n",
    "        self.name = name\n",
    "        self.birthdate = birthdate\n",
    "\n",
    "class Book:\n",
    "    def __init__(self, title, author, publish_date):\n",
    "        self.title = title\n",
    "        self.author = author  # Composition: Book has an Author\n",
    "        self.publish_date = publish_date\n",
    "\n",
    "# Example usage\n",
    "author = Author(name=\"Jane Doe\", birthdate=\"1990-01-01\")\n",
    "book = Book(title=\"Python Basics\", author=author, publish_date=\"2022-01-01\")\n",
    "\n",
    "print(\"Book Title:\", book.title)\n",
    "print(\"Author Name:\", book.author.name)\n",
    "print(\"Author Birthdate:\", book.author.birthdate)\n",
    "print(\"Publish Date:\", book.publish_date)"
   ]
  },
  {
   "cell_type": "markdown",
   "id": "74ec284d",
   "metadata": {},
   "source": [
    "### 4. Discuss the benefits of using composition over inheritance in Python, especially in terms of code flexibility and reusability."
   ]
  },
  {
   "cell_type": "markdown",
   "id": "dbda5f50",
   "metadata": {},
   "source": [
    "Code Flexibility: Composition allows for flexible combinations of classes, enabling the creation of diverse and adaptable objects.\n",
    "Code Reusability: Composition promotes code reusability by allowing the reuse of existing classes in various combinations, avoiding the limitations of a fixed inheritance hierarchy.\n",
    "Reduced Coupling: Composition results in lower coupling between classes, as changes in one class do not necessarily affect the others, leading to more maintainable code.\n",
    "Improved Readability: Composition often leads to clearer and more readable code, as the relationships between classes are explicit."
   ]
  },
  {
   "cell_type": "markdown",
   "id": "ebb03e4d",
   "metadata": {},
   "source": [
    "### 5. How can you implement composition in Python classes? Provide examples of using composition to create `mcomplex objects."
   ]
  },
  {
   "cell_type": "markdown",
   "id": "fa09b729",
   "metadata": {},
   "source": [
    "Composition is implemented by including instances of other classes as attributes within a class."
   ]
  },
  {
   "cell_type": "code",
   "execution_count": 59,
   "id": "fe6d0f2e",
   "metadata": {},
   "outputs": [
    {
     "name": "stdout",
     "output_type": "stream",
     "text": [
      "Car starting...\n",
      "Engine started\n"
     ]
    }
   ],
   "source": [
    "class Engine:\n",
    "    def start(self):\n",
    "        print(\"Engine started\")\n",
    "\n",
    "class Car:\n",
    "    def __init__(self):\n",
    "        self.engine = Engine()  # Composition: Car has an Engine\n",
    "\n",
    "    def start(self):\n",
    "        print(\"Car starting...\")\n",
    "        self.engine.start()\n",
    "\n",
    "# Example usage\n",
    "my_car = Car()\n",
    "my_car.start()"
   ]
  },
  {
   "cell_type": "markdown",
   "id": "2f69d34c",
   "metadata": {},
   "source": [
    "### 6. Create a Python class hierarchy for a music player system, using composition to represent playlists and songs."
   ]
  },
  {
   "cell_type": "code",
   "execution_count": 60,
   "id": "1d8fb322",
   "metadata": {},
   "outputs": [],
   "source": [
    "class Song:\n",
    "    def __init__(self, title, artist):\n",
    "        self.title = title\n",
    "        self.artist = artist\n",
    "\n",
    "class Playlist:\n",
    "    def __init__(self):\n",
    "        self.songs = []  # Composition: Playlist has Songs\n",
    "\n",
    "    def add_song(self, song):\n",
    "        self.songs.append(song)\n",
    "\n",
    "# Example usage\n",
    "song1 = Song(title=\"Song1\", artist=\"Artist1\")\n",
    "song2 = Song(title=\"Song2\", artist=\"Artist2\")\n",
    "\n",
    "playlist = Playlist()\n",
    "playlist.add_song(song1)\n",
    "playlist.add_song(song2)"
   ]
  },
  {
   "cell_type": "markdown",
   "id": "e3829a00",
   "metadata": {},
   "source": [
    "### 7. Explain the concept of \"has-a\" relationships in composition and how it helps design software systems."
   ]
  },
  {
   "cell_type": "markdown",
   "id": "9652319b",
   "metadata": {},
   "source": [
    "Composition represents \"has-a\" relationships, where a class has components or attributes that are instances of other classes.\n",
    "For example, a Car has an Engine, and a Book has an Author"
   ]
  },
  {
   "cell_type": "markdown",
   "id": "f554ee66",
   "metadata": {},
   "source": [
    "### 8. Create a Python class for a computer system, using composition to represent components like CPU, RAM, and storage devices."
   ]
  },
  {
   "cell_type": "code",
   "execution_count": 61,
   "id": "8e5862e9",
   "metadata": {},
   "outputs": [
    {
     "name": "stdout",
     "output_type": "stream",
     "text": [
      "Computer executing...\n",
      "CPU processing data\n",
      "RAM reading data\n"
     ]
    }
   ],
   "source": [
    "class CPU:\n",
    "    def process(self):\n",
    "        print(\"CPU processing data\")\n",
    "\n",
    "class RAM:\n",
    "    def read(self):\n",
    "        print(\"RAM reading data\")\n",
    "\n",
    "class Computer:\n",
    "    def __init__(self):\n",
    "        self.cpu = CPU()  # Composition: Computer has a CPU\n",
    "        self.ram = RAM()  # Composition: Computer has RAM\n",
    "\n",
    "    def execute(self):\n",
    "        print(\"Computer executing...\")\n",
    "        self.cpu.process()\n",
    "        self.ram.read()\n",
    "\n",
    "# Example usage\n",
    "my_computer = Computer()\n",
    "my_computer.execute()"
   ]
  },
  {
   "cell_type": "markdown",
   "id": "1bda5f30",
   "metadata": {},
   "source": [
    "### 9. Describe the concept of \"delegation\" in composition and how it simplifies the design of complex systems."
   ]
  },
  {
   "cell_type": "markdown",
   "id": "a4cd9047",
   "metadata": {},
   "source": [
    "Delegation in composition involves passing the responsibility of a task to another class. The delegating class holds an instance of the delegated class and calls its methods when needed.\n",
    "This simplifies the design by allowing each class to focus on its specific responsibilities"
   ]
  },
  {
   "cell_type": "code",
   "execution_count": 62,
   "id": "22223d1f",
   "metadata": {},
   "outputs": [
    {
     "name": "stdout",
     "output_type": "stream",
     "text": [
      "Processing document...\n",
      "Printing document: Report\n"
     ]
    }
   ],
   "source": [
    "class Printer:\n",
    "    def print_document(self, document):\n",
    "        print(\"Printing document:\", document)\n",
    "\n",
    "class Office:\n",
    "    def __init__(self):\n",
    "        self.printer = Printer()  # Composition: Office has a Printer\n",
    "\n",
    "    def process_document(self, document):\n",
    "        print(\"Processing document...\")\n",
    "        self.printer.print_document(document)\n",
    "\n",
    "# Example usage\n",
    "office = Office()\n",
    "office.process_document(\"Report\")"
   ]
  },
  {
   "cell_type": "markdown",
   "id": "96d70681",
   "metadata": {},
   "source": [
    "### 10. Create a Python class for a car, using composition to represent components like the engine, wheels, and transmission.\n",
    "\n"
   ]
  },
  {
   "cell_type": "code",
   "execution_count": 64,
   "id": "81bd3dfe",
   "metadata": {},
   "outputs": [
    {
     "name": "stdout",
     "output_type": "stream",
     "text": [
      "Starting the car...\n",
      "Engine started\n",
      "Driving the car at speed 60 mph\n",
      "Wheels rotating\n",
      "Changing gear to D\n",
      "Shifted to gear D\n",
      "Stopping the car...\n",
      "Engine stopped\n"
     ]
    }
   ],
   "source": [
    "class Engine:\n",
    "    def start(self):\n",
    "        print(\"Engine started\")\n",
    "\n",
    "    def stop(self):\n",
    "        print(\"Engine stopped\")\n",
    "\n",
    "class Wheels:\n",
    "    def rotate(self):\n",
    "        print(\"Wheels rotating\")\n",
    "\n",
    "class Transmission:\n",
    "    def shift_gear(self, gear):\n",
    "        print(f\"Shifted to gear {gear}\")\n",
    "\n",
    "class Car:\n",
    "    def __init__(self):\n",
    "        self.engine = Engine()  # Composition: Car has an Engine\n",
    "        self.wheels = Wheels()  # Composition: Car has Wheels\n",
    "        self.transmission = Transmission()  # Composition: Car has Transmission\n",
    "\n",
    "    def start(self):\n",
    "        print(\"Starting the car...\")\n",
    "        self.engine.start()\n",
    "\n",
    "    def stop(self):\n",
    "        print(\"Stopping the car...\")\n",
    "        self.engine.stop()\n",
    "\n",
    "    def drive(self, speed):\n",
    "        print(f\"Driving the car at speed {speed} mph\")\n",
    "        self.wheels.rotate()\n",
    "\n",
    "    def change_gear(self, gear):\n",
    "        print(f\"Changing gear to {gear}\")\n",
    "        self.transmission.shift_gear(gear)\n",
    "\n",
    "# Example usage\n",
    "my_car = Car()\n",
    "\n",
    "# Starting, driving, and changing gear\n",
    "my_car.start()\n",
    "my_car.drive(speed=60)\n",
    "my_car.change_gear(gear=\"D\")\n",
    "\n",
    "# Stopping the car\n",
    "my_car.stop()"
   ]
  },
  {
   "cell_type": "markdown",
   "id": "c80b2a89",
   "metadata": {},
   "source": [
    "### 11. How can you encapsulate and hide the details of composed objects in Python classes to maintain abstraction?"
   ]
  },
  {
   "cell_type": "markdown",
   "id": "3dfc2dac",
   "metadata": {},
   "source": [
    "To encapsulate and hide the details of composed objects, you can use private attributes and provide well-defined interfaces through methods.\n",
    "Implement methods in the containing class that delegate to the composed objects, exposing only the necessary functionality."
   ]
  },
  {
   "cell_type": "code",
   "execution_count": 66,
   "id": "b8bafb0b",
   "metadata": {},
   "outputs": [
    {
     "name": "stdout",
     "output_type": "stream",
     "text": [
      "Starting the car...\n",
      "Engine started\n",
      "Driving the car at speed 60 mph\n",
      "Wheels rotating\n",
      "Changing gear to D\n",
      "Shifted to gear D\n",
      "Stopping the car...\n",
      "Engine stopped\n"
     ]
    }
   ],
   "source": [
    "class Car:\n",
    "    def __init__(self):\n",
    "        self._engine = Engine()\n",
    "        self._wheels = Wheels()\n",
    "        self._transmission = Transmission()\n",
    "\n",
    "    def start(self):\n",
    "        print(\"Starting the car...\")\n",
    "        self._engine.start()\n",
    "\n",
    "    def stop(self):\n",
    "        print(\"Stopping the car...\")\n",
    "        self._engine.stop()\n",
    "\n",
    "    def drive(self, speed):\n",
    "        print(f\"Driving the car at speed {speed} mph\")\n",
    "        self._wheels.rotate()\n",
    "\n",
    "    def change_gear(self, gear):\n",
    "        print(f\"Changing gear to {gear}\")\n",
    "        self._transmission.shift_gear(gear)\n",
    "\n",
    "# Example usage\n",
    "my_car = Car()\n",
    "my_car.start()\n",
    "my_car.drive(speed=60)\n",
    "my_car.change_gear(gear=\"D\")\n",
    "my_car.stop()"
   ]
  },
  {
   "cell_type": "markdown",
   "id": "a7d54e33",
   "metadata": {},
   "source": [
    "### 12. Create a Python class for a university course, using composition to represent students, instructors, and course materials."
   ]
  },
  {
   "cell_type": "code",
   "execution_count": 67,
   "id": "295d87a9",
   "metadata": {},
   "outputs": [],
   "source": [
    "class Student:\n",
    "    def __init__(self, name):\n",
    "        self.name = name\n",
    "\n",
    "class Instructor:\n",
    "    def __init__(self, name):\n",
    "        self.name = name\n",
    "\n",
    "class Course:\n",
    "    def __init__(self, title, instructor):\n",
    "        self.title = title\n",
    "        self.instructor = instructor\n",
    "        self.students = []\n",
    "\n",
    "    def add_student(self, student):\n",
    "        self.students.append(student)\n",
    "\n",
    "# Example usage\n",
    "professor = Instructor(name=\"Dr. Smith\")\n",
    "student1 = Student(name=\"Alice\")\n",
    "student2 = Student(name=\"Bob\")\n",
    "\n",
    "python_course = Course(title=\"Python Programming\", instructor=professor)\n",
    "python_course.add_student(student1)\n",
    "python_course.add_student(student2)"
   ]
  },
  {
   "cell_type": "markdown",
   "id": "79baa554",
   "metadata": {},
   "source": [
    "### 13. Discuss the challenges and drawbacks of composition, such as increased complexity and potential for tight coupling between objects."
   ]
  },
  {
   "cell_type": "markdown",
   "id": "fc7ac10e",
   "metadata": {},
   "source": [
    "Increased Complexity: Composition can lead to increased complexity in code, especially as the number of composed objects grows.\n",
    "Tight Coupling: In some cases, there might be a risk of tight coupling between the containing class and the composed objects, making the code less flexible."
   ]
  },
  {
   "cell_type": "markdown",
   "id": "89174013",
   "metadata": {},
   "source": [
    "### 14. Create a Python class hierarchy for a restaurant system, using composition to represent menus, dishes, and ingredients."
   ]
  },
  {
   "cell_type": "code",
   "execution_count": 69,
   "id": "bcdb73f8",
   "metadata": {},
   "outputs": [],
   "source": [
    "class Ingredient:\n",
    "    def __init__(self, name):\n",
    "        self.name = name\n",
    "\n",
    "class Dish:\n",
    "    def __init__(self, name, ingredients):\n",
    "        self.name = name\n",
    "        self.ingredients = ingredients\n",
    "\n",
    "class Menu:\n",
    "    def __init__(self, name, dishes):\n",
    "        self.name = name\n",
    "        self.dishes = dishes\n",
    "\n",
    "# Example usage\n",
    "ingredient1 = Ingredient(name=\"Tomato\")\n",
    "ingredient2 = Ingredient(name=\"Cheese\")\n",
    "\n",
    "dish1 = Dish(name=\"Margherita Pizza\", ingredients=[ingredient1, ingredient2])\n",
    "dish2 = Dish(name=\"Spaghetti Bolognese\", ingredients=[ingredient1, ingredient2])\n",
    "\n",
    "menu = Menu(name=\"Italian Menu\", dishes=[dish1, dish2])"
   ]
  },
  {
   "cell_type": "markdown",
   "id": "10cea2e6",
   "metadata": {},
   "source": [
    "### 15. Explain how composition enhances code maintainability and modularity in Python programs."
   ]
  },
  {
   "cell_type": "markdown",
   "id": "db2ed32a",
   "metadata": {},
   "source": [
    "Composition enhances code maintainability by promoting a modular design where each class has a specific responsibility.\n",
    "Changes to one class do not necessarily affect others, leading to code that is easier to understand and modify."
   ]
  },
  {
   "cell_type": "markdown",
   "id": "3bd47bda",
   "metadata": {},
   "source": [
    "### 16. Create a Python class for a computer game character, using composition to represent attributes like weapons, armor, and inventory."
   ]
  },
  {
   "cell_type": "code",
   "execution_count": 70,
   "id": "84336d63",
   "metadata": {},
   "outputs": [
    {
     "name": "stdout",
     "output_type": "stream",
     "text": [
      "Sword\n",
      "Steel Armor\n"
     ]
    }
   ],
   "source": [
    "class Weapon:\n",
    "    def __init__(self, name):\n",
    "        self.name = name\n",
    "\n",
    "class Armor:\n",
    "    def __init__(self, name):\n",
    "        self.name = name\n",
    "\n",
    "class Inventory:\n",
    "    def __init__(self):\n",
    "        self.items = []\n",
    "\n",
    "class GameCharacter:\n",
    "    def __init__(self, name):\n",
    "        self.name = name\n",
    "        self.weapon = Weapon(name=\"Sword\")\n",
    "        self.armor = Armor(name=\"Steel Armor\")\n",
    "        self.inventory = Inventory()\n",
    "\n",
    "# Example usage\n",
    "player_character = GameCharacter(name=\"Hero\")\n",
    "print(player_character.weapon.name)\n",
    "print(player_character.armor.name)"
   ]
  },
  {
   "cell_type": "markdown",
   "id": "d48c8ac4",
   "metadata": {},
   "source": [
    "### 17. Describe the concept of \"aggregation\" in composition and how it differs from simple composition."
   ]
  },
  {
   "cell_type": "markdown",
   "id": "67313034",
   "metadata": {},
   "source": [
    "Aggregation is a form of composition where one object is composed of other objects, but the composed objects can exist independently.\n",
    "It differs from simple composition in that the lifetime of the composed objects is not strictly tied to the containing object."
   ]
  },
  {
   "cell_type": "markdown",
   "id": "5a485bb2",
   "metadata": {},
   "source": [
    "### 18. Create a Python class for a house, using composition to represent rooms, furniture, and appliances."
   ]
  },
  {
   "cell_type": "code",
   "execution_count": 71,
   "id": "d34d97c1",
   "metadata": {},
   "outputs": [
    {
     "name": "stdout",
     "output_type": "stream",
     "text": [
      "Living Room\n",
      "Sofa\n"
     ]
    }
   ],
   "source": [
    "class Room:\n",
    "    def __init__(self, name):\n",
    "        self.name = name\n",
    "\n",
    "class Furniture:\n",
    "    def __init__(self, name):\n",
    "        self.name = name\n",
    "\n",
    "class Appliance:\n",
    "    def __init__(self, name):\n",
    "        self.name = name\n",
    "\n",
    "class House:\n",
    "    def __init__(self):\n",
    "        self.rooms = [Room(name=\"Living Room\"), Room(name=\"Bedroom\")]\n",
    "        self.furniture = Furniture(name=\"Sofa\")\n",
    "        self.appliances = Appliance(name=\"Refrigerator\")\n",
    "\n",
    "# Example usage\n",
    "my_house = House()\n",
    "print(my_house.rooms[0].name)\n",
    "print(my_house.furniture.name)"
   ]
  },
  {
   "cell_type": "markdown",
   "id": "1dfd7a7e",
   "metadata": {},
   "source": [
    "### 19. How can you achieve flexibility in composed objects by allowing them to be replaced or modified dynamically at runtime?"
   ]
  },
  {
   "cell_type": "markdown",
   "id": "f6e12bb5",
   "metadata": {},
   "source": [
    "Allow composed objects to be replaced or modified dynamically by providing methods in the containing class for such changes.\n",
    "Use setters or methods to update or replace composed objects at runtime."
   ]
  },
  {
   "cell_type": "markdown",
   "id": "5904f1c5",
   "metadata": {},
   "source": [
    "### 20. Create a Python class for a social media application, using composition to represent users, posts, and comments."
   ]
  },
  {
   "cell_type": "code",
   "execution_count": 72,
   "id": "b229dd6b",
   "metadata": {},
   "outputs": [
    {
     "name": "stdout",
     "output_type": "stream",
     "text": [
      "Alice\n",
      "Hello, world!\n"
     ]
    }
   ],
   "source": [
    "class Post:\n",
    "    def __init__(self, content):\n",
    "        self.content = content\n",
    "\n",
    "class Comment:\n",
    "    def __init__(self, text, user):\n",
    "        self.text = text\n",
    "        self.user = user\n",
    "\n",
    "class User:\n",
    "    def __init__(self, name):\n",
    "        self.name = name\n",
    "        self.posts = []\n",
    "        self.comments = []\n",
    "\n",
    "class SocialMediaApp:\n",
    "    def __init__(self):\n",
    "        self.users = [User(name=\"Alice\"), User(name=\"Bob\")]\n",
    "        self.posts = [Post(content=\"Hello, world!\")]\n",
    "\n",
    "# Example usage\n",
    "social_media_app = SocialMediaApp()\n",
    "print(social_media_app.users[0].name)\n",
    "print(social_media_app.posts[0].content)"
   ]
  }
 ],
 "metadata": {
  "kernelspec": {
   "display_name": "Python 3 (ipykernel)",
   "language": "python",
   "name": "python3"
  },
  "language_info": {
   "codemirror_mode": {
    "name": "ipython",
    "version": 3
   },
   "file_extension": ".py",
   "mimetype": "text/x-python",
   "name": "python",
   "nbconvert_exporter": "python",
   "pygments_lexer": "ipython3",
   "version": "3.11.5"
  }
 },
 "nbformat": 4,
 "nbformat_minor": 5
}
