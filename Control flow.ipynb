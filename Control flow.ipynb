{
 "cells": [
  {
   "cell_type": "markdown",
   "id": "1b00df9f",
   "metadata": {},
   "source": [
    "## Basic If-Else Statements:"
   ]
  },
  {
   "cell_type": "markdown",
   "id": "d4126197",
   "metadata": {},
   "source": [
    "### 1. Write a Python program to check if a given number is positive or negative."
   ]
  },
  {
   "cell_type": "code",
   "execution_count": 1,
   "id": "ca29986a",
   "metadata": {},
   "outputs": [
    {
     "name": "stdout",
     "output_type": "stream",
     "text": [
      "Enter a number: 84\n",
      "number is positive\n"
     ]
    }
   ],
   "source": [
    "number = float(input(\"Enter a number: \"))\n",
    "## check if number is positive or negative\n",
    "if number > 0:\n",
    "    print(\"number is positive\")\n",
    "elif number <0 :\n",
    "    print(\"number is negative\")\n",
    "else:\n",
    "    print(\"number is zero\")"
   ]
  },
  {
   "cell_type": "markdown",
   "id": "69cbefbf",
   "metadata": {},
   "source": [
    "### 2. Create a program that determines if a person is eligible to vote based on their age. "
   ]
  },
  {
   "cell_type": "code",
   "execution_count": 2,
   "id": "1178db70",
   "metadata": {},
   "outputs": [
    {
     "name": "stdout",
     "output_type": "stream",
     "text": [
      "Enter your age: 75\n",
      "You are eligible to vote\n"
     ]
    }
   ],
   "source": [
    "age = int(input(\"Enter your age: \"))\n",
    "if age > 18:\n",
    "    print(\"You are eligible to vote\")\n",
    "else:\n",
    "    print(\"You are not eligible to vote\")"
   ]
  },
  {
   "cell_type": "markdown",
   "id": "1d163bbf",
   "metadata": {},
   "source": [
    "### 3. Develop a program to find the maximum of two numbers using if-else statements."
   ]
  },
  {
   "cell_type": "code",
   "execution_count": 3,
   "id": "038f2e02",
   "metadata": {},
   "outputs": [
    {
     "name": "stdout",
     "output_type": "stream",
     "text": [
      "Enter the first number: 58\n",
      "Enter the second number: 25\n",
      "The maximum number is : 58\n"
     ]
    }
   ],
   "source": [
    "num_1 = int(input(\"Enter the first number: \"))\n",
    "num_2 = int(input(\"Enter the second number: \"))\n",
    "if num_1> num_2:\n",
    "    max_num = num_1\n",
    "else:\n",
    "    max_num = num_2\n",
    "print(\"The maximum number is :\", max_num)"
   ]
  },
  {
   "cell_type": "markdown",
   "id": "4956c8cb",
   "metadata": {},
   "source": [
    "### 4. Write a Python script to classify a given year as a leap year or not."
   ]
  },
  {
   "cell_type": "code",
   "execution_count": 4,
   "id": "ade16110",
   "metadata": {
    "scrolled": true
   },
   "outputs": [
    {
     "name": "stdout",
     "output_type": "stream",
     "text": [
      "Enter a year: 2080\n",
      "2080  is a leap year\n"
     ]
    }
   ],
   "source": [
    "year = int(input(\"Enter a year: \"))\n",
    "if (year % 4 == 0 and year % 100 != 0) or (year % 400 ==0):\n",
    "    print(year, \" is a leap year\")\n",
    "else:\n",
    "    print(year,\"is not a leap year\")"
   ]
  },
  {
   "cell_type": "markdown",
   "id": "fb2cd77f",
   "metadata": {},
   "source": [
    "### 5.Create a program that checks whether a character is a vowel or a consonant."
   ]
  },
  {
   "cell_type": "code",
   "execution_count": 5,
   "id": "d14b1c59",
   "metadata": {},
   "outputs": [
    {
     "name": "stdout",
     "output_type": "stream",
     "text": [
      "enter a character: f\n",
      "f is a consonent\n"
     ]
    }
   ],
   "source": [
    "char = input(\"enter a character: \")\n",
    "char = char.lower()\n",
    "\n",
    "if char.isalpha() and len(char)==1:\n",
    "    if char in \"aeiou\":\n",
    "        print(f\"{char} is a vowel\")\n",
    "    else:\n",
    "        print(f\"{char} is a consonent\")\n",
    "else:\n",
    "    print(\"Please enter a single alphabetic character\")\n",
    "\n",
    "    "
   ]
  },
  {
   "cell_type": "markdown",
   "id": "5bd65ca0",
   "metadata": {},
   "source": [
    "### 6. Implement a program to determine whether a given number is even or odd."
   ]
  },
  {
   "cell_type": "code",
   "execution_count": 6,
   "id": "ad109a19",
   "metadata": {},
   "outputs": [
    {
     "name": "stdout",
     "output_type": "stream",
     "text": [
      "enter a number: 87\n",
      "given number is odd\n"
     ]
    }
   ],
   "source": [
    "number = int(input(\"enter a number: \"))\n",
    "if number % 2== 0:\n",
    "    print(\"given number is even\")\n",
    "else:\n",
    "    print(\"given number is odd\")"
   ]
  },
  {
   "cell_type": "markdown",
   "id": "0d86f566",
   "metadata": {},
   "source": [
    "### 7. Write a Python function to calculate the absolute value of a number without using the `abs()` function.1"
   ]
  },
  {
   "cell_type": "code",
   "execution_count": 7,
   "id": "2f834392",
   "metadata": {},
   "outputs": [
    {
     "name": "stdout",
     "output_type": "stream",
     "text": [
      "Enter a number: 89.2\n",
      "The absolute value is: 89.2\n"
     ]
    }
   ],
   "source": [
    "def absolute_value(number):\n",
    "    if number < 0:\n",
    "        return -number\n",
    "    else:\n",
    "        return number\n",
    "num = float(input(\"Enter a number: \"))\n",
    "result = absolute_value(num)\n",
    "print(\"The absolute value is:\", result)\n"
   ]
  },
  {
   "cell_type": "markdown",
   "id": "64cd2294",
   "metadata": {},
   "source": [
    "### 8. Develop a program that determines the largest of three given numbers using if-else statements."
   ]
  },
  {
   "cell_type": "code",
   "execution_count": 8,
   "id": "367e4c66",
   "metadata": {},
   "outputs": [
    {
     "name": "stdout",
     "output_type": "stream",
     "text": [
      "enter a number: 56\n",
      "enter a number: 58\n",
      "enter a number: 894\n",
      "The largest number is:  894\n"
     ]
    }
   ],
   "source": [
    "num1 = int(input(\"enter a number: \"))\n",
    "num2 = int(input(\"enter a number: \"))\n",
    "num3 = int(input(\"enter a number: \"))\n",
    "\n",
    "if num1 >= num2 and num1 >= num3:\n",
    "    largest = num1\n",
    "elif num2 >= num1 and num2 >= num3:\n",
    "    largest = num2\n",
    "else:\n",
    "    largest = num3\n",
    "    \n",
    "print(\"The largest number is: \", largest)"
   ]
  },
  {
   "cell_type": "markdown",
   "id": "8031b4fc",
   "metadata": {},
   "source": [
    "### 9. Create a program that checks if a given string is a palindrome."
   ]
  },
  {
   "cell_type": "code",
   "execution_count": 9,
   "id": "d21f135b",
   "metadata": {
    "scrolled": true
   },
   "outputs": [
    {
     "name": "stdout",
     "output_type": "stream",
     "text": [
      "enter a string: gfdgs4we\n",
      "gfdgs4we is not a palindrome\n"
     ]
    }
   ],
   "source": [
    "string = input(\"enter a string: \")\n",
    "string = string.replace(\" \", \"\").lower()\n",
    "if string == string[::-1]:\n",
    "    print(f\"{string} is palindrome\")\n",
    "else:\n",
    "    print(f\"{string} is not a palindrome\")"
   ]
  },
  {
   "cell_type": "markdown",
   "id": "7a8c25db",
   "metadata": {},
   "source": [
    "### 10. Write a Python program to calculate the grade based on a student's score."
   ]
  },
  {
   "cell_type": "code",
   "execution_count": 10,
   "id": "bc47836f",
   "metadata": {},
   "outputs": [
    {
     "name": "stdout",
     "output_type": "stream",
     "text": [
      "enter marks89\n",
      "The student's grade is:B\n"
     ]
    }
   ],
   "source": [
    "student_score = int(input(\"enter marks\"))\n",
    "if student_score >=90:\n",
    "    grade = 'A'\n",
    "elif student_score >=80:\n",
    "    grade = 'B'\n",
    "elif student_score>=70:\n",
    "    grade = \"c\"\n",
    "elif student_score >= 60:\n",
    "    grade = 'D'\n",
    "else:\n",
    "    print(\"FAIL\")\n",
    "print(f\"The student's grade is:{grade}\")\n"
   ]
  },
  {
   "cell_type": "markdown",
   "id": "a8921752",
   "metadata": {},
   "source": [
    "# Nested If-Else Statements:"
   ]
  },
  {
   "cell_type": "markdown",
   "id": "bb1913f2",
   "metadata": {},
   "source": [
    "### 11. Write a program to find the largest among three numbers using nested if-else statements."
   ]
  },
  {
   "cell_type": "code",
   "execution_count": 11,
   "id": "d6bcb822",
   "metadata": {},
   "outputs": [
    {
     "name": "stdout",
     "output_type": "stream",
     "text": [
      "Enter the first number: 6514\n",
      "Enter the second number: 65486\n",
      "Enter the third number: 4896\n",
      "65486.0is greater amongst the three numbers\n"
     ]
    }
   ],
   "source": [
    "num1 = float(input(\"Enter the first number: \"))\n",
    "num2 = float(input(\"Enter the second number: \"))\n",
    "num3 = float(input(\"Enter the third number: \"))\n",
    "if num1 > num2:\n",
    "    if num1 > num3:\n",
    "        print(f\"{num1} is greater amongst the three numbers\")\n",
    "    else:\n",
    "        print(f\"{num3}is greater amongst the three numbers\")\n",
    "else: \n",
    "    if num2>num3:\n",
    "        print(f\"{num2}is greater amongst the three numbers\")\n",
    "    else:\n",
    "        print(f\"{num3}is greater amongst the three numbers\")"
   ]
  },
  {
   "cell_type": "markdown",
   "id": "1fc8cd1f",
   "metadata": {},
   "source": [
    "### 12. Implement a program to determine if a triangle is equilateral, isosceles, or scalene."
   ]
  },
  {
   "cell_type": "code",
   "execution_count": 12,
   "id": "bdc049ad",
   "metadata": {},
   "outputs": [
    {
     "name": "stdout",
     "output_type": "stream",
     "text": [
      "enter side 1: 85\n",
      "enter side 2: 285\n",
      "enter side 3: 821\n",
      "These side lengths do not form a valid triangle.\n"
     ]
    }
   ],
   "source": [
    "side1 = float(input(\"enter side 1: \"))\n",
    "side2 = float(input(\"enter side 2: \"))\n",
    "side3 = float(input(\"enter side 3: \"))\n",
    "if side1 + side2 > side3 and side1 + side3 > side2 and side2 + side3 > side1:\n",
    "    if side1 == side2 == side3:\n",
    "        print(\"This is an equilateral triangle.\")\n",
    "    elif side1 == side2 or side1 == side3 or side2 == side3:\n",
    "        print(\"This is an isosceles triangle.\")\n",
    "    else:\n",
    "        print(\"This is a scalene triangle.\")\n",
    "else:\n",
    "    print(\"These side lengths do not form a valid triangle.\")\n",
    "        "
   ]
  },
  {
   "cell_type": "markdown",
   "id": "f8296e44",
   "metadata": {},
   "source": [
    "### 13. Develop a program that checks if a year is a leap year and also if it is a century year."
   ]
  },
  {
   "cell_type": "code",
   "execution_count": 13,
   "id": "283c9f74",
   "metadata": {},
   "outputs": [
    {
     "name": "stdout",
     "output_type": "stream",
     "text": [
      "Enter a year: 2089\n",
      "2089 is neither a leap year nor a century year.\n"
     ]
    }
   ],
   "source": [
    "year = int(input(\"Enter a year: \"))\n",
    "is_leap_year = (year % 4 == 0) and (year % 100 != 0 or year % 400 == 0)\n",
    "is_century_year = (year % 100 == 0)\n",
    "if is_leap_year and is_century_year:\n",
    "    print(f\"{year} is a leap year and a century year.\")\n",
    "elif is_leap_year:\n",
    "    print(f\"{year} is a leap year but not a century year.\")\n",
    "elif is_century_year:\n",
    "    print(f\"{year} is not a leap year, but it's a century year.\")\n",
    "else:\n",
    "    print(f\"{year} is neither a leap year nor a century year.\")\n"
   ]
  },
  {
   "cell_type": "markdown",
   "id": "7f200f37",
   "metadata": {},
   "source": [
    "### 14. Write a Python script to determine if a number is positive, negative, or zero."
   ]
  },
  {
   "cell_type": "code",
   "execution_count": 14,
   "id": "c37ae169",
   "metadata": {},
   "outputs": [
    {
     "name": "stdout",
     "output_type": "stream",
     "text": [
      "Enter a number: 02\n",
      "The number is positive.\n"
     ]
    }
   ],
   "source": [
    "number = float(input(\"Enter a number: \"))\n",
    "\n",
    "if number > 0:\n",
    "    print(\"The number is positive.\")\n",
    "elif number < 0:\n",
    "    print(\"The number is negative.\")\n",
    "else:\n",
    "    print(\"The number is zero.\")\n"
   ]
  },
  {
   "cell_type": "markdown",
   "id": "832aed2d",
   "metadata": {},
   "source": [
    "### 15. Create a program to check if a person is a teenager (between 13 and 19 years old)."
   ]
  },
  {
   "cell_type": "code",
   "execution_count": 15,
   "id": "898a167d",
   "metadata": {},
   "outputs": [
    {
     "name": "stdout",
     "output_type": "stream",
     "text": [
      "Enter the person's age: 28\n",
      "The person is not a teenager.\n"
     ]
    }
   ],
   "source": [
    "age = int(input(\"Enter the person's age: \"))\n",
    "\n",
    "if age >= 13 and age <= 19:\n",
    "    print(\"The person is a teenager.\")\n",
    "else:\n",
    "    print(\"The person is not a teenager.\")\n"
   ]
  },
  {
   "cell_type": "markdown",
   "id": "bdcd6f35",
   "metadata": {},
   "source": [
    "### 16. Develop a program that determines the type of angle based on its measure (acute, obtuse, or right)."
   ]
  },
  {
   "cell_type": "code",
   "execution_count": 16,
   "id": "dd6b4c69",
   "metadata": {},
   "outputs": [
    {
     "name": "stdout",
     "output_type": "stream",
     "text": [
      "Enter the measure of the angle (in degrees): 25\n",
      "The angle is a Acute angle.\n"
     ]
    }
   ],
   "source": [
    "angle = float(input(\"Enter the measure of the angle (in degrees): \"))\n",
    "\n",
    "if angle < 90:\n",
    "    angle_type = \"Acute\"\n",
    "elif angle == 90:\n",
    "    angle_type = \"Right\"\n",
    "elif angle > 90 and angle < 180:\n",
    "    angle_type = \"Obtuse\"\n",
    "else:\n",
    "    angle_type = \"Invalid\"\n",
    "\n",
    "if angle_type == \"Invalid\":\n",
    "    print(\"Invalid angle measure. Angle must be between 0 and 180 degrees.\")\n",
    "else:\n",
    "    print(f\"The angle is a {angle_type} angle.\")\n"
   ]
  },
  {
   "cell_type": "markdown",
   "id": "23862319",
   "metadata": {},
   "source": [
    "### 17. Write a Python program to calculate the roots of a quadratic equation."
   ]
  },
  {
   "cell_type": "code",
   "execution_count": 17,
   "id": "5519daa6",
   "metadata": {},
   "outputs": [
    {
     "name": "stdout",
     "output_type": "stream",
     "text": [
      "Enter the coefficient a: 25\n",
      "Enter the coefficient b: 25\n",
      "Enter the coefficient c: 1\n",
      "Root 1: -0.041742430504416034\n",
      "Root 2: -0.9582575694955839\n"
     ]
    }
   ],
   "source": [
    "import math\n",
    "\n",
    "# Get the coefficients of the quadratic equation from the user\n",
    "a = float(input(\"Enter the coefficient a: \"))\n",
    "b = float(input(\"Enter the coefficient b: \"))\n",
    "c = float(input(\"Enter the coefficient c: \"))\n",
    "\n",
    "discriminant = b**2 - 4*a*c\n",
    "\n",
    "if discriminant > 0:\n",
    "    root1 = (-b + math.sqrt(discriminant)) / (2*a)\n",
    "    root2 = (-b - math.sqrt(discriminant)) / (2*a)\n",
    "    print(f\"Root 1: {root1}\\nRoot 2: {root2}\")\n",
    "elif discriminant == 0:\n",
    "    root = -b / (2*a)\n",
    "    print(f\"Root: {root}\")\n",
    "else:\n",
    "    real_part = -b / (2*a)\n",
    "    imaginary_part = math.sqrt(abs(discriminant)) / (2*a)\n",
    "    print(f\"Root 1: {real_part} + {imaginary_part}i\")\n",
    "    print(f\"Root 2: {real_part} - {imaginary_part}i\")\n"
   ]
  },
  {
   "cell_type": "markdown",
   "id": "0711d1a7",
   "metadata": {},
   "source": [
    "### 18. Implement a program to determine the day of the week based on a user-provided number (1 for Monday, 2 for Tuesday, etc.)."
   ]
  },
  {
   "cell_type": "code",
   "execution_count": 18,
   "id": "da8e637c",
   "metadata": {},
   "outputs": [
    {
     "name": "stdout",
     "output_type": "stream",
     "text": [
      "Enter a number (1-7) to represent a day of the week: 6\n",
      "Day 6 corresponds to Saturday.\n"
     ]
    }
   ],
   "source": [
    "# Get a number from the user (1 for Monday, 2 for Tuesday, etc.)\n",
    "day_number = int(input(\"Enter a number (1-7) to represent a day of the week: \"))\n",
    "\n",
    "if 1 <= day_number <= 7:\n",
    "    days_of_week = [\"Monday\", \"Tuesday\", \"Wednesday\", \"Thursday\", \"Friday\", \"Saturday\", \"Sunday\"]\n",
    "    day = days_of_week[day_number - 1]\n",
    "    print(f\"Day {day_number} corresponds to {day}.\")\n",
    "else:\n",
    "    print(\"Invalid input. Please enter a number between 1 and 7.\")\n"
   ]
  },
  {
   "cell_type": "markdown",
   "id": "4629dc3f",
   "metadata": {},
   "source": [
    "### 19. Create a program that determines if a year is a leap year and also if it is evenly divisible by 400."
   ]
  },
  {
   "cell_type": "code",
   "execution_count": 19,
   "id": "844d64f3",
   "metadata": {},
   "outputs": [
    {
     "name": "stdout",
     "output_type": "stream",
     "text": [
      "Enter a year: 2026\n",
      "2026 is not a leap year.\n"
     ]
    }
   ],
   "source": [
    "# Get the year as input from the user\n",
    "year = int(input(\"Enter a year: \"))\n",
    "\n",
    "is_leap_year = (year % 4 == 0) and (year % 100 != 0 or year % 400 == 0)\n",
    "\n",
    "if is_leap_year:\n",
    "    if year % 400 == 0:\n",
    "        print(f\"{year} is a leap year and evenly divisible by 400.\")\n",
    "    else:\n",
    "        print(f\"{year} is a leap year but not evenly divisible by 400.\")\n",
    "else:\n",
    "    print(f\"{year} is not a leap year.\")\n"
   ]
  },
  {
   "cell_type": "markdown",
   "id": "a2835cce",
   "metadata": {},
   "source": [
    "### 20. Develop a program that checks if a given number is prime or not using nested if-else statements."
   ]
  },
  {
   "cell_type": "code",
   "execution_count": 20,
   "id": "37cacf7c",
   "metadata": {},
   "outputs": [
    {
     "name": "stdout",
     "output_type": "stream",
     "text": [
      "Enter a number: 26\n",
      "26 is not a prime number.\n"
     ]
    }
   ],
   "source": [
    "# Get a number as input from the user\n",
    "num = int(input(\"Enter a number: \"))\n",
    "\n",
    "# Check if the number is prime\n",
    "if num <= 1:\n",
    "    is_prime = False  # Numbers less than or equal to 1 are not prime\n",
    "else:\n",
    "    is_prime = True\n",
    "    for i in range(2, int(num**0.5) + 1):\n",
    "        if num % i == 0:\n",
    "            is_prime = False\n",
    "            break\n",
    "\n",
    "if is_prime:\n",
    "    print(f\"{num} is a prime number.\")\n",
    "else:\n",
    "    print(f\"{num} is not a prime number.\")\n"
   ]
  },
  {
   "cell_type": "markdown",
   "id": "2206b5c9",
   "metadata": {},
   "source": [
    "# Elif Statements:"
   ]
  },
  {
   "cell_type": "markdown",
   "id": "79b40529",
   "metadata": {},
   "source": [
    "### 21. Write a Python program to assign grades based on different ranges of scores using elif statements."
   ]
  },
  {
   "cell_type": "code",
   "execution_count": 21,
   "id": "aa2afa2c",
   "metadata": {},
   "outputs": [
    {
     "name": "stdout",
     "output_type": "stream",
     "text": [
      "Enter the student's score: 98\n",
      "The student's score of 98.0 corresponds to grade A.\n"
     ]
    }
   ],
   "source": [
    "# Get the student's score as input\n",
    "score = float(input(\"Enter the student's score: \"))\n",
    "\n",
    "\n",
    "if score >= 90:\n",
    "    grade = 'A'\n",
    "elif score >= 80:\n",
    "    grade = 'B'\n",
    "elif score >= 70:\n",
    "    grade = 'C'\n",
    "elif score >= 60:\n",
    "    grade = 'D'\n",
    "else:\n",
    "    grade = 'F'\n",
    "\n",
    "print(f\"The student's score of {score} corresponds to grade {grade}.\")\n"
   ]
  },
  {
   "cell_type": "markdown",
   "id": "03ce04fc",
   "metadata": {},
   "source": [
    "### 22. Implement a program to determine the type of a triangle based on its angles."
   ]
  },
  {
   "cell_type": "code",
   "execution_count": 22,
   "id": "1d18653d",
   "metadata": {},
   "outputs": [
    {
     "name": "stdout",
     "output_type": "stream",
     "text": [
      "Enter the first angle: 98\n",
      "Enter the second angle: 98\n",
      "Enter the third angle: 87\n",
      "The angles do not form a valid triangle.\n"
     ]
    }
   ],
   "source": [
    "angle1 = int(input(\"Enter the first angle: \"))\n",
    "angle2 = int(input(\"Enter the second angle: \"))\n",
    "angle3 = int(input(\"Enter the third angle: \"))\n",
    "\n",
    "\n",
    "if angle1 + angle2 + angle3 == 180:\n",
    "    if angle1 == angle2 == angle3:\n",
    "        triangle_type = \"Equilateral\"\n",
    "    elif angle1 == angle2 or angle1 == angle3 or angle2 == angle3:\n",
    "        triangle_type = \"Isosceles\"\n",
    "    else:\n",
    "        triangle_type = \"Scalene\"\n",
    "    print(f\"This is a {triangle_type} triangle.\")\n",
    "else:\n",
    "    print(\"The angles do not form a valid triangle.\")\n"
   ]
  },
  {
   "cell_type": "markdown",
   "id": "b1467fe2",
   "metadata": {},
   "source": [
    "### 23. Develop a program to categorize a given person's BMI into underweight, normal, overweight, or obese using elif statements."
   ]
  },
  {
   "cell_type": "code",
   "execution_count": 23,
   "id": "8df80777",
   "metadata": {},
   "outputs": [
    {
     "name": "stdout",
     "output_type": "stream",
     "text": [
      "Enter the person's weight (in kilograms): 85\n",
      "Enter the person's height (in meters): 252\n",
      "The person's BMI is 0.00, which falls into the 'Underweight' category.\n"
     ]
    }
   ],
   "source": [
    "# Get the person's weight and height as input\n",
    "weight = float(input(\"Enter the person's weight (in kilograms): \"))\n",
    "height = float(input(\"Enter the person's height (in meters): \"))\n",
    "bmi = weight / (height ** 2)\n",
    "\n",
    "# Categorize the BMI\n",
    "if bmi < 18.5:\n",
    "    category = \"Underweight\"\n",
    "elif 18.5 <= bmi < 24.9:\n",
    "    category = \"Normal\"\n",
    "elif 25.0 <= bmi < 29.9:\n",
    "    category = \"Overweight\"\n",
    "else:\n",
    "    category = \"Obese\"\n",
    "\n",
    "# Display the BMI category\n",
    "print(f\"The person's BMI is {bmi:.2f}, which falls into the '{category}' category.\")\n"
   ]
  },
  {
   "cell_type": "markdown",
   "id": "070d0153",
   "metadata": {},
   "source": [
    "### 24. Create a program that determines whether a given number is positive, negative, or zero using elif statements."
   ]
  },
  {
   "cell_type": "code",
   "execution_count": 24,
   "id": "f24f82d3",
   "metadata": {},
   "outputs": [
    {
     "name": "stdout",
     "output_type": "stream",
     "text": [
      "Enter a number: 25\n",
      "The number is positive.\n"
     ]
    }
   ],
   "source": [
    "# Get a number as input from the user\n",
    "number = float(input(\"Enter a number: \"))\n",
    "\n",
    "# Determine if the number is positive, negative, or zero\n",
    "if number > 0:\n",
    "    print(\"The number is positive.\")\n",
    "elif number < 0:\n",
    "    print(\"The number is negative.\")\n",
    "else:\n",
    "    print(\"The number is zero.\")\n"
   ]
  },
  {
   "cell_type": "markdown",
   "id": "801cc496",
   "metadata": {},
   "source": [
    "### 25. Write a Python script to determine the type of a character (uppercase, lowercase, or special) using elif statements."
   ]
  },
  {
   "cell_type": "code",
   "execution_count": null,
   "id": "448021eb",
   "metadata": {},
   "outputs": [],
   "source": []
  },
  {
   "cell_type": "code",
   "execution_count": 25,
   "id": "63c84657",
   "metadata": {},
   "outputs": [
    {
     "name": "stdout",
     "output_type": "stream",
     "text": [
      "Enter a character: n\n",
      "The character 'n' is of type: Lowercase\n"
     ]
    }
   ],
   "source": [
    "# Get a character as input from the user\n",
    "character = input(\"Enter a character: \")\n",
    "\n",
    "# Check the type of character\n",
    "if character.isupper():\n",
    "    char_type = \"Uppercase\"\n",
    "elif character.islower():\n",
    "    char_type = \"Lowercase\"\n",
    "else:\n",
    "    char_type = \"Special character\"\n",
    "\n",
    "# Display the result\n",
    "print(f\"The character '{character}' is of type: {char_type}\")\n"
   ]
  },
  {
   "cell_type": "markdown",
   "id": "2421061b",
   "metadata": {},
   "source": [
    "### 26. Implement a program to calculate the discounted price based on different purchase amounts using elif statements."
   ]
  },
  {
   "cell_type": "code",
   "execution_count": 26,
   "id": "b0fe9852",
   "metadata": {},
   "outputs": [
    {
     "name": "stdout",
     "output_type": "stream",
     "text": [
      "Enter the purchase amount: 625\n",
      "Purchase amount: $625.00\n",
      "Discount: 10%\n",
      "Discounted price: $562.50\n"
     ]
    }
   ],
   "source": [
    "# Get the purchase amount from the user\n",
    "purchase_amount = float(input(\"Enter the purchase amount: \"))\n",
    "\n",
    "# Initialize variables for discounts\n",
    "discount_percentage = 0\n",
    "discounted_price = purchase_amount\n",
    "\n",
    "# Determine the discount based on the purchase amount\n",
    "if purchase_amount >= 100:\n",
    "    discount_percentage = 10\n",
    "elif purchase_amount >= 50:\n",
    "    discount_percentage = 5\n",
    "\n",
    "# Calculate the discounted price\n",
    "if discount_percentage > 0:\n",
    "    discount = (discount_percentage / 100) * purchase_amount\n",
    "    discounted_price = purchase_amount - discount\n",
    "\n",
    "# Display the result\n",
    "print(f\"Purchase amount: ${purchase_amount:.2f}\")\n",
    "if discount_percentage > 0:\n",
    "    print(f\"Discount: {discount_percentage}%\")\n",
    "    print(f\"Discounted price: ${discounted_price:.2f}\")\n",
    "else:\n",
    "    print(\"No discount applied.\")\n"
   ]
  },
  {
   "cell_type": "markdown",
   "id": "cf4cc12c",
   "metadata": {},
   "source": [
    "### 27. Develop a program to calculate the electricity bill based on different consumption slabs using elif statements."
   ]
  },
  {
   "cell_type": "code",
   "execution_count": 27,
   "id": "301a287a",
   "metadata": {},
   "outputs": [
    {
     "name": "stdout",
     "output_type": "stream",
     "text": [
      "Enter the electricity consumption in kilowatt-hours: 25\n",
      "Electricity Consumption: 25.0 kWh\n",
      "Total Bill: $2.50\n"
     ]
    }
   ],
   "source": [
    "# Get the electricity consumption in kilowatt-hours from the user\n",
    "consumption = float(input(\"Enter the electricity consumption in kilowatt-hours: \"))\n",
    "\n",
    "# Initialize variables for rates and total bill\n",
    "rate1 = 0.10  # Rate for the first 100 kWh\n",
    "rate2 = 0.15  # Rate for the next 200 kWh\n",
    "rate3 = 0.20  # Rate for consumption above 300 kWh\n",
    "total_bill = 0.0\n",
    "\n",
    "# Calculate the electricity bill based on different slabs\n",
    "if consumption <= 100:\n",
    "    total_bill = consumption * rate1\n",
    "elif consumption <= 300:\n",
    "    total_bill = (100 * rate1) + ((consumption - 100) * rate2)\n",
    "else:\n",
    "    total_bill = (100 * rate1) + (200 * rate2) + ((consumption - 300) * rate3)\n",
    "\n",
    "# Display the electricity bill\n",
    "print(f\"Electricity Consumption: {consumption} kWh\")\n",
    "print(f\"Total Bill: ${total_bill:.2f}\")\n"
   ]
  },
  {
   "cell_type": "markdown",
   "id": "b0087fe1",
   "metadata": {},
   "source": [
    "### 28. Create a program to determine the type of quadrilateral based on its angles and sides using elif statements."
   ]
  },
  {
   "cell_type": "code",
   "execution_count": 28,
   "id": "1aa02f69",
   "metadata": {},
   "outputs": [
    {
     "name": "stdout",
     "output_type": "stream",
     "text": [
      "Enter the first angle (in degrees): 90\n",
      "Enter the second angle (in degrees): 20\n",
      "Enter the third angle (in degrees): 60\n",
      "Enter the fourth angle (in degrees): 10\n",
      "Enter the length of the first side: 10\n",
      "Enter the length of the second side: 25\n",
      "Enter the length of the third side: 98\n",
      "Enter the length of the fourth side: 24\n",
      "The quadrilateral is a Quadrilateral.\n"
     ]
    }
   ],
   "source": [
    "# Get the angles and sides of the quadrilateral from the user\n",
    "angle1 = float(input(\"Enter the first angle (in degrees): \"))\n",
    "angle2 = float(input(\"Enter the second angle (in degrees): \"))\n",
    "angle3 = float(input(\"Enter the third angle (in degrees): \"))\n",
    "angle4 = float(input(\"Enter the fourth angle (in degrees): \"))\n",
    "side1 = float(input(\"Enter the length of the first side: \"))\n",
    "side2 = float(input(\"Enter the length of the second side: \"))\n",
    "side3 = float(input(\"Enter the length of the third side: \"))\n",
    "side4 = float(input(\"Enter the length of the fourth side: \"))\n",
    "\n",
    "# Check the type of quadrilateral based on angles and sides\n",
    "if angle1 == angle2 == angle3 == angle4 == 90:\n",
    "    if side1 == side2 == side3 == side4:\n",
    "        quadrilateral_type = \"Square\"\n",
    "    elif side1 == side2 and side3 == side4:\n",
    "        quadrilateral_type = \"Rectangle\"\n",
    "    else:\n",
    "        quadrilateral_type = \"Quadrilateral\"\n",
    "elif angle1 == angle2 == angle3 == angle4:\n",
    "    if side1 == side2 == side3 == side4:\n",
    "        quadrilateral_type = \"Rhombus\"\n",
    "    else:\n",
    "        quadrilateral_type = \"Quadrilateral\"\n",
    "else:\n",
    "    quadrilateral_type = \"Quadrilateral\"\n",
    "\n",
    "# Display the result\n",
    "print(f\"The quadrilateral is a {quadrilateral_type}.\")"
   ]
  },
  {
   "cell_type": "markdown",
   "id": "37e5bf4f",
   "metadata": {},
   "source": [
    "### 29. Write a Python script to determine the season based on a user-provided month using elif statements."
   ]
  },
  {
   "cell_type": "code",
   "execution_count": 29,
   "id": "41c1d0ae",
   "metadata": {},
   "outputs": [
    {
     "name": "stdout",
     "output_type": "stream",
     "text": [
      "Enter a month (e.g., January, February, etc.): january\n",
      "January is in the Winter season.\n"
     ]
    }
   ],
   "source": [
    "# Get the month as input from the user\n",
    "month = input(\"Enter a month (e.g., January, February, etc.): \")\n",
    "\n",
    "# Convert the input to lowercase for case-insensitive comparison\n",
    "month = month.lower()\n",
    "\n",
    "# Determine the season based on the month\n",
    "if month in ['december', 'january', 'february']:\n",
    "    season = \"Winter\"\n",
    "elif month in ['march', 'april', 'may']:\n",
    "    season = \"Spring\"\n",
    "elif month in ['june', 'july', 'august']:\n",
    "    season = \"Summer\"\n",
    "elif month in ['september', 'october', 'november']:\n",
    "    season = \"Autumn\"\n",
    "else:\n",
    "    season = \"Invalid\"\n",
    "\n",
    "# Display the result\n",
    "if season == \"Invalid\":\n",
    "    print(\"Invalid input. Please enter a valid month.\")\n",
    "else:\n",
    "    print(f\"{month.capitalize()} is in the {season} season.\")\n"
   ]
  },
  {
   "cell_type": "markdown",
   "id": "3c2b945c",
   "metadata": {},
   "source": [
    "### 30. Implement a program to determine the type of a year (leap or common) and month (30 or 31 days) using elif statements."
   ]
  },
  {
   "cell_type": "code",
   "execution_count": 30,
   "id": "01e6397c",
   "metadata": {},
   "outputs": [
    {
     "name": "stdout",
     "output_type": "stream",
     "text": [
      "Enter a year: 2001\n",
      "Enter a month (e.g., January, February, etc.): january\n",
      "2001 is a Common year, and January has 31 days.\n"
     ]
    }
   ],
   "source": [
    "# Get the year and month as input from the user\n",
    "year = int(input(\"Enter a year: \"))\n",
    "month = input(\"Enter a month (e.g., January, February, etc.): \")\n",
    "\n",
    "# Convert the input month to lowercase for case-insensitive comparison\n",
    "month = month.lower()\n",
    "\n",
    "# Determine the type of year (leap or common)\n",
    "if year % 4 == 0 and (year % 100 != 0 or year % 400 == 0):\n",
    "    year_type = \"Leap\"\n",
    "else:\n",
    "    year_type = \"Common\"\n",
    "\n",
    "# Determine the number of days in the month\n",
    "if month in ['january', 'march', 'may', 'july', 'august', 'october', 'december']:\n",
    "    days_in_month = 31\n",
    "elif month in ['april', 'june', 'september', 'november']:\n",
    "    days_in_month = 30\n",
    "elif month == 'february':\n",
    "    if year_type == \"Leap\":\n",
    "        days_in_month = 29\n",
    "    else:\n",
    "        days_in_month = 28\n",
    "else:\n",
    "    year_type = \"Invalid\"\n",
    "    days_in_month = \"Invalid\"\n",
    "\n",
    "# Display the result\n",
    "if year_type == \"Invalid\":\n",
    "    print(\"Invalid input. Please enter a valid year and month.\")\n",
    "else:\n",
    "    print(f\"{year} is a {year_type} year, and {month.capitalize()} has {days_in_month} days.\")\n"
   ]
  },
  {
   "cell_type": "markdown",
   "id": "33a0bd3b",
   "metadata": {},
   "source": [
    "# Basic Level:"
   ]
  },
  {
   "cell_type": "markdown",
   "id": "2eec3de9",
   "metadata": {},
   "source": [
    "### 1. Write a Python program that checks if a given number is positive, negative, or zero."
   ]
  },
  {
   "cell_type": "code",
   "execution_count": 32,
   "id": "9b9688f1",
   "metadata": {},
   "outputs": [
    {
     "name": "stdout",
     "output_type": "stream",
     "text": [
      "Enter a number: 596\n",
      "Positive number\n"
     ]
    }
   ],
   "source": [
    "number = float(input(\"Enter a number: \"))\n",
    "\n",
    "if number > 0:\n",
    "    print(\"Positive number\")\n",
    "elif number < 0:\n",
    "    print(\"Negative number\")\n",
    "else:\n",
    "    print(\"Zero\")\n"
   ]
  },
  {
   "cell_type": "markdown",
   "id": "ced28bd4",
   "metadata": {},
   "source": [
    "### 2. Create a program to determine if a person is eligible to vote based on their age."
   ]
  },
  {
   "cell_type": "code",
   "execution_count": 33,
   "id": "9e65546c",
   "metadata": {},
   "outputs": [
    {
     "name": "stdout",
     "output_type": "stream",
     "text": [
      "Enter your age: 12\n",
      "You are not eligible to vote.\n"
     ]
    }
   ],
   "source": [
    "age = int(input(\"Enter your age: \"))\n",
    "\n",
    "if age >= 18:\n",
    "    print(\"You are eligible to vote.\")\n",
    "else:\n",
    "    print(\"You are not eligible to vote.\")\n"
   ]
  },
  {
   "cell_type": "markdown",
   "id": "5e23e97b",
   "metadata": {},
   "source": [
    "### 3. Write a program to find the maximum of two given numbers using conditional statements.1m"
   ]
  },
  {
   "cell_type": "code",
   "execution_count": 34,
   "id": "dd76abb1",
   "metadata": {},
   "outputs": [
    {
     "name": "stdout",
     "output_type": "stream",
     "text": [
      "Enter the first number: 52\n",
      "Enter the second number: 545\n",
      "The maximum number is 545.0.\n"
     ]
    }
   ],
   "source": [
    "num1 = float(input(\"Enter the first number: \"))\n",
    "num2 = float(input(\"Enter the second number: \"))\n",
    "\n",
    "if num1 > num2:\n",
    "    print(f\"The maximum number is {num1}.\")\n",
    "else:\n",
    "    print(f\"The maximum number is {num2}.\")\n"
   ]
  },
  {
   "cell_type": "markdown",
   "id": "860bef8b",
   "metadata": {},
   "source": [
    "### 4. Develop a program that calculates the grade of a student based on their exam score."
   ]
  },
  {
   "cell_type": "code",
   "execution_count": 35,
   "id": "3a65c23d",
   "metadata": {},
   "outputs": [
    {
     "name": "stdout",
     "output_type": "stream",
     "text": [
      "Enter the exam score: 15\n",
      "Grade: F\n"
     ]
    }
   ],
   "source": [
    "score = float(input(\"Enter the exam score: \"))\n",
    "\n",
    "if score >= 90:\n",
    "    grade = \"A\"\n",
    "elif score >= 80:\n",
    "    grade = \"B\"\n",
    "elif score >= 70:\n",
    "    grade = \"C\"\n",
    "elif score >= 60:\n",
    "    grade = \"D\"\n",
    "else:\n",
    "    grade = \"F\"\n",
    "\n",
    "print(f\"Grade: {grade}\")\n"
   ]
  },
  {
   "cell_type": "markdown",
   "id": "6046f68d",
   "metadata": {},
   "source": [
    "### 5. Create a program that checks if a year is a leap year or not."
   ]
  },
  {
   "cell_type": "code",
   "execution_count": 36,
   "id": "f95d0e76",
   "metadata": {},
   "outputs": [
    {
     "name": "stdout",
     "output_type": "stream",
     "text": [
      "Enter a year: 2000\n",
      "2000 is a leap year.\n"
     ]
    }
   ],
   "source": [
    "year = int(input(\"Enter a year: \"))\n",
    "\n",
    "if (year % 4 == 0 and year % 100 != 0) or (year % 400 == 0):\n",
    "    print(f\"{year} is a leap year.\")\n",
    "else:\n",
    "    print(f\"{year} is not a leap year.\")\n"
   ]
  },
  {
   "cell_type": "markdown",
   "id": "a5424dad",
   "metadata": {},
   "source": [
    "### 6. Write a program to classify a triangle based on its sides' lengths."
   ]
  },
  {
   "cell_type": "code",
   "execution_count": 37,
   "id": "689d2868",
   "metadata": {},
   "outputs": [
    {
     "name": "stdout",
     "output_type": "stream",
     "text": [
      "Enter the length of the first side: 25\n",
      "Enter the length of the second side: 285\n",
      "Enter the length of the third side: 68\n",
      "Scalene triangle\n"
     ]
    }
   ],
   "source": [
    "side1 = float(input(\"Enter the length of the first side: \"))\n",
    "side2 = float(input(\"Enter the length of the second side: \"))\n",
    "side3 = float(input(\"Enter the length of the third side: \"))\n",
    "\n",
    "if side1 == side2 == side3:\n",
    "    print(\"Equilateral triangle\")\n",
    "elif side1 == side2 or side1 == side3 or side2 == side3:\n",
    "    print(\"Isosceles triangle\")\n",
    "else:\n",
    "    print(\"Scalene triangle\")\n"
   ]
  },
  {
   "cell_type": "markdown",
   "id": "f28b9c3f",
   "metadata": {},
   "source": [
    "### 7.  Build a program that determines the largest of three given numbers."
   ]
  },
  {
   "cell_type": "code",
   "execution_count": 38,
   "id": "6737a41b",
   "metadata": {},
   "outputs": [
    {
     "name": "stdout",
     "output_type": "stream",
     "text": [
      "Enter the first number: 89\n",
      "Enter the second number: 568\n",
      "Enter the third number: 898\n",
      "The larget number among the given three numbers is: 898.0\n"
     ]
    }
   ],
   "source": [
    "num1 = float(input(\"Enter the first number: \"))\n",
    "num2 = float(input(\"Enter the second number: \"))\n",
    "num3 = float(input(\"Enter the third number: \"))\n",
    "output= max(num1,num2,num3)\n",
    "print(f\"The larget number among the given three numbers is: {output}\")"
   ]
  },
  {
   "cell_type": "markdown",
   "id": "77d0621a",
   "metadata": {},
   "source": [
    "### 8. Develop a program that checks whether a character is a vowel or a consonant."
   ]
  },
  {
   "cell_type": "code",
   "execution_count": 39,
   "id": "9a74abaf",
   "metadata": {},
   "outputs": [
    {
     "name": "stdout",
     "output_type": "stream",
     "text": [
      "Character is a vowel\n",
      "character is consonant\n"
     ]
    }
   ],
   "source": [
    "def check_char(char):\n",
    "    vowels = ['a','e','i','o','u']\n",
    "    if char in vowels:\n",
    "        print(\"Character is a vowel\")\n",
    "    else:\n",
    "        print(\"character is consonant\")\n",
    "check_char('a')\n",
    "check_char('b')"
   ]
  },
  {
   "cell_type": "markdown",
   "id": "c43ec329",
   "metadata": {},
   "source": [
    "### 9. Create a program to calculate the total cost of a shopping cart based on discounts."
   ]
  },
  {
   "cell_type": "code",
   "execution_count": 40,
   "id": "10ea865b",
   "metadata": {},
   "outputs": [
    {
     "name": "stdout",
     "output_type": "stream",
     "text": [
      "Total cost of the shopping cart: $44.00\n"
     ]
    }
   ],
   "source": [
    "cart = {'item1': 10.0, 'item2': 20.0, 'item3': 15.0}\n",
    "discounts = {'item1': 0.1}  # 10% discount for 'item1'\n",
    "\n",
    "total_cost = sum(price * (1 - discounts.get(item, 0)) for item, price in cart.items())\n",
    "\n",
    "print(f'Total cost of the shopping cart: ${total_cost:.2f}')\n"
   ]
  },
  {
   "cell_type": "markdown",
   "id": "e6e88d45",
   "metadata": {},
   "source": [
    "### 10. Write a program that checks if a given number is even or odd."
   ]
  },
  {
   "cell_type": "code",
   "execution_count": 41,
   "id": "57de8fa2",
   "metadata": {},
   "outputs": [
    {
     "name": "stdout",
     "output_type": "stream",
     "text": [
      "Enter a number: 58\n",
      "58 is even.\n"
     ]
    }
   ],
   "source": [
    "def check_even_or_odd(number):\n",
    "    if number % 2 == 0:\n",
    "        print(f\"{number} is even.\")\n",
    "    else:\n",
    "        print(f\"{number} is odd.\")\n",
    "\n",
    "# Example usage:\n",
    "number = int(input(\"Enter a number: \"))  # Prompt the user for input\n",
    "check_even_or_odd(number)\n"
   ]
  },
  {
   "cell_type": "markdown",
   "id": "f46e7b56",
   "metadata": {},
   "source": [
    "# Intermediate Level:"
   ]
  },
  {
   "cell_type": "markdown",
   "id": "adf8dce5",
   "metadata": {},
   "source": [
    "### 11. Write a program that calculates the roots of a quadratic equation ."
   ]
  },
  {
   "cell_type": "code",
   "execution_count": 46,
   "id": "dd3fd3ac",
   "metadata": {},
   "outputs": [
    {
     "name": "stdout",
     "output_type": "stream",
     "text": [
      "Enter the coefficient a: 89\n",
      "Enter the coefficient b: 659\n",
      "Enter the coefficient c: 26\n",
      "Roots: (-0.039666211443697134, -7.364828170578775)\n"
     ]
    }
   ],
   "source": [
    "import math\n",
    "\n",
    "def quadratic_roots(a, b, c):\n",
    "    discriminant = b**2 - 4*a*c\n",
    "\n",
    "    if discriminant > 0:\n",
    "        root1 = (-b + math.sqrt(discriminant)) / (2*a)\n",
    "        root2 = (-b - math.sqrt(discriminant)) / (2*a)\n",
    "        return root1, root2\n",
    "    elif discriminant == 0:\n",
    "        root = -b / (2*a)\n",
    "        return root,\n",
    "    else:\n",
    "        real_part = -b / (2*a)\n",
    "        imaginary_part = math.sqrt(abs(discriminant)) / (2*a)\n",
    "        return (real_part + imaginary_part*1j, real_part - imaginary_part*1j)\n",
    "\n",
    "a = float(input(\"Enter the coefficient a: \"))\n",
    "b = float(input(\"Enter the coefficient b: \"))\n",
    "c = float(input(\"Enter the coefficient c: \"))\n",
    "\n",
    "roots = quadratic_roots(a, b, c)\n",
    "print(\"Roots:\", roots)\n"
   ]
  },
  {
   "cell_type": "markdown",
   "id": "9e0305f7",
   "metadata": {},
   "source": [
    "### 12. Create a program that determines the day of the week based on the day number (1-7)."
   ]
  },
  {
   "cell_type": "code",
   "execution_count": 47,
   "id": "ddaf4d05",
   "metadata": {},
   "outputs": [
    {
     "name": "stdout",
     "output_type": "stream",
     "text": [
      "Enter a day number (1-7): 7\n",
      "The day of the week is: Sunday\n"
     ]
    }
   ],
   "source": [
    "day_number = int(input(\"Enter a day number (1-7): \"))\n",
    "\n",
    "days = [\"Monday\", \"Tuesday\", \"Wednesday\", \"Thursday\", \"Friday\", \"Saturday\", \"Sunday\"]\n",
    "\n",
    "if 1 <= day_number <= 7:\n",
    "    day_name = days[day_number - 1]\n",
    "    print(\"The day of the week is:\", day_name)\n",
    "else:\n",
    "    print(\"Invalid day number. Please enter a number between 1 and 7.\")\n"
   ]
  },
  {
   "cell_type": "markdown",
   "id": "bde20d0e",
   "metadata": {},
   "source": [
    "### 13. Develop a program that calculates the factorial of a given number using recursion"
   ]
  },
  {
   "cell_type": "code",
   "execution_count": 48,
   "id": "28bb93df",
   "metadata": {},
   "outputs": [
    {
     "name": "stdout",
     "output_type": "stream",
     "text": [
      "Enter a number: 25\n",
      "Factorial of 25 is 15511210043330985984000000\n"
     ]
    }
   ],
   "source": [
    "def factorial(n):\n",
    "    if n == 0:\n",
    "        return 1\n",
    "    else:\n",
    "        return n * factorial(n - 1)\n",
    "\n",
    "n = int(input(\"Enter a number: \"))\n",
    "result = factorial(n)\n",
    "print(f\"Factorial of {n} is {result}\")\n"
   ]
  },
  {
   "cell_type": "markdown",
   "id": "922cb728",
   "metadata": {},
   "source": [
    "### 14. Write a program to find the largest among three numbers without using the `max()` function."
   ]
  },
  {
   "cell_type": "code",
   "execution_count": 49,
   "id": "ce71cf41",
   "metadata": {},
   "outputs": [
    {
     "name": "stdout",
     "output_type": "stream",
     "text": [
      "Enter the first number: 89\n",
      "Enter the second number: 58\n",
      "Enter the third number: 56\n",
      "The largest number is: 89.0\n"
     ]
    }
   ],
   "source": [
    "num1 = float(input(\"Enter the first number: \"))\n",
    "num2 = float(input(\"Enter the second number: \"))\n",
    "num3 = float(input(\"Enter the third number: \"))\n",
    "\n",
    "if num1 >= num2 and num1 >= num3:\n",
    "    largest = num1\n",
    "elif num2 >= num1 and num2 >= num3:\n",
    "    largest = num2\n",
    "else:\n",
    "    largest = num3\n",
    "\n",
    "print(\"The largest number is:\", largest)\n"
   ]
  },
  {
   "cell_type": "markdown",
   "id": "75d19409",
   "metadata": {},
   "source": [
    "### 15. Create a program that simulates a basic ATM transaction menu."
   ]
  },
  {
   "cell_type": "code",
   "execution_count": 51,
   "id": "a670f7be",
   "metadata": {},
   "outputs": [
    {
     "name": "stdout",
     "output_type": "stream",
     "text": [
      "ATM Menu:\n",
      "1. Check Balance\n",
      "2. Deposit\n",
      "3. Withdraw\n",
      "4. Quit\n",
      "Enter your choice: 3\n",
      "Enter the withdrawal amount: 25\n",
      "Withdrawal successful. New balance: 975.0\n",
      "ATM Menu:\n",
      "1. Check Balance\n",
      "2. Deposit\n",
      "3. Withdraw\n",
      "4. Quit\n",
      "Enter your choice: 4\n",
      "Thank you for using the ATM. Goodbye!\n"
     ]
    }
   ],
   "source": [
    "balance = 1000  # Initial balance\n",
    "\n",
    "while True:\n",
    "    print(\"ATM Menu:\")\n",
    "    print(\"1. Check Balance\")\n",
    "    print(\"2. Deposit\")\n",
    "    print(\"3. Withdraw\")\n",
    "    print(\"4. Quit\")\n",
    "    \n",
    "    choice = int(input(\"Enter your choice: \"))  # Missing closing parenthesis\n",
    "    \n",
    "    if choice == 1:\n",
    "        print(\"Balance:\", balance)\n",
    "    elif choice == 2:\n",
    "        deposit_amount = float(input(\"Enter the deposit amount: \"))\n",
    "        balance += deposit_amount\n",
    "        print(\"Deposit successful. New balance:\", balance)\n",
    "    elif choice == 3:\n",
    "        withdrawal_amount = float(input(\"Enter the withdrawal amount: \"))\n",
    "        if withdrawal_amount <= balance:\n",
    "            balance -= withdrawal_amount\n",
    "            print(\"Withdrawal successful. New balance:\", balance)\n",
    "        else:\n",
    "            print(\"Insufficient balance.\")\n",
    "    elif choice == 4:\n",
    "        print(\"Thank you for using the ATM. Goodbye!\")\n",
    "        break\n",
    "    else:\n",
    "        print(\"Invalid choice. Please try again.\")\n"
   ]
  },
  {
   "cell_type": "markdown",
   "id": "ecbffd93",
   "metadata": {},
   "source": [
    "### 16. Build a program that checks if a given string is a palindrome or not."
   ]
  },
  {
   "cell_type": "code",
   "execution_count": 52,
   "id": "0c5b9851",
   "metadata": {},
   "outputs": [
    {
     "name": "stdout",
     "output_type": "stream",
     "text": [
      "Enter a string: madam\n",
      "It's a palindrome.\n"
     ]
    }
   ],
   "source": [
    "def is_palindrome(s):\n",
    "    s = s.lower().replace(\" \", \"\")\n",
    "    return s == s[::-1]\n",
    "\n",
    "input_string = input(\"Enter a string: \")\n",
    "if is_palindrome(input_string):\n",
    "    print(\"It's a palindrome.\")\n",
    "else:\n",
    "    print(\"It's not a palindrome.\")\n"
   ]
  },
  {
   "cell_type": "markdown",
   "id": "0fa2df58",
   "metadata": {},
   "source": [
    "### 17. Write a program that calculates the average of a list of numbers, excluding the smallest and largest values."
   ]
  },
  {
   "cell_type": "code",
   "execution_count": 54,
   "id": "9c08ba6d",
   "metadata": {},
   "outputs": [
    {
     "name": "stdout",
     "output_type": "stream",
     "text": [
      "Enter a list of numbers separated by spaces: 25 1 1 58 36 \n",
      "Average (excluding the smallest and largest values): 20.666666666666668\n"
     ]
    }
   ],
   "source": [
    "numbers = [float(x) for x in input(\"Enter a list of numbers separated by spaces: \").split()]\n",
    "if len(numbers) >= 3:\n",
    "    numbers.remove(min(numbers))\n",
    "    numbers.remove(max(numbers))\n",
    "    average = sum(numbers) / len(numbers)\n",
    "    print(\"Average (excluding the smallest and largest values):\", average)\n",
    "else:\n",
    "    print(\"Please enter at least three numbers.\")\n"
   ]
  },
  {
   "cell_type": "markdown",
   "id": "8e2fd7ee",
   "metadata": {},
   "source": [
    "### 18. Develop a program that converts a given temperature from Celsius to Fahrenheit"
   ]
  },
  {
   "cell_type": "code",
   "execution_count": 55,
   "id": "b57250bb",
   "metadata": {},
   "outputs": [
    {
     "name": "stdout",
     "output_type": "stream",
     "text": [
      "Enter temperature in Celsius: 82\n",
      "82.0°C is equal to 179.6°F\n"
     ]
    }
   ],
   "source": [
    "# Function to convert Celsius to Fahrenheit\n",
    "def celsius_to_fahrenheit(celsius):\n",
    "    fahrenheit = (celsius * 9/5) + 32\n",
    "    return fahrenheit\n",
    "\n",
    "# Input temperature in Celsius\n",
    "celsius = float(input(\"Enter temperature in Celsius: \"))\n",
    "\n",
    "# Convert and display the temperature in Fahrenheit\n",
    "fahrenheit = celsius_to_fahrenheit(celsius)\n",
    "print(f\"{celsius}°C is equal to {fahrenheit}°F\")\n"
   ]
  },
  {
   "cell_type": "markdown",
   "id": "87868c79",
   "metadata": {},
   "source": [
    "### 19. Create a program that simulates a basic calculator for addition, subtraction, multiplication, and division."
   ]
  },
  {
   "cell_type": "code",
   "execution_count": 56,
   "id": "cbe1b1bb",
   "metadata": {},
   "outputs": [
    {
     "name": "stdout",
     "output_type": "stream",
     "text": [
      "Calculator Menu:\n",
      "1. Addition\n",
      "2. Subtraction\n",
      "3. Multiplication\n",
      "4. Division\n",
      "5. Quit\n",
      "Enter your choice (1/2/3/4/5): 2\n",
      "Enter the first number: 59\n",
      "Enter the second number: 78\n",
      "Result: -19.0\n",
      "Calculator Menu:\n",
      "1. Addition\n",
      "2. Subtraction\n",
      "3. Multiplication\n",
      "4. Division\n",
      "5. Quit\n",
      "Enter your choice (1/2/3/4/5): 5\n",
      "Exiting the calculator.\n"
     ]
    }
   ],
   "source": [
    "# Function to perform addition\n",
    "def add(x, y):\n",
    "    return x + y\n",
    "\n",
    "# Function to perform subtraction\n",
    "def subtract(x, y):\n",
    "    return x - y\n",
    "\n",
    "# Function to perform multiplication\n",
    "def multiply(x, y):\n",
    "    return x * y\n",
    "\n",
    "# Function to perform division\n",
    "def divide(x, y):\n",
    "    if y == 0:\n",
    "        return \"Cannot divide by zero\"\n",
    "    return x / y\n",
    "\n",
    "while True:\n",
    "    print(\"Calculator Menu:\")\n",
    "    print(\"1. Addition\")\n",
    "    print(\"2. Subtraction\")\n",
    "    print(\"3. Multiplication\")\n",
    "    print(\"4. Division\")\n",
    "    print(\"5. Quit\")\n",
    "\n",
    "    choice = input(\"Enter your choice (1/2/3/4/5): \")\n",
    "\n",
    "    if choice == '5':\n",
    "        print(\"Exiting the calculator.\")\n",
    "        break\n",
    "\n",
    "    if choice in ('1', '2', '3', '4'):\n",
    "        num1 = float(input(\"Enter the first number: \"))\n",
    "        num2 = float(input(\"Enter the second number: \"))\n",
    "\n",
    "        if choice == '1':\n",
    "            print(\"Result:\", add(num1, num2))\n",
    "        elif choice == '2':\n",
    "            print(\"Result:\", subtract(num1, num2))\n",
    "        elif choice == '3':\n",
    "            print(\"Result:\", multiply(num1, num2))\n",
    "        elif choice == '4':\n",
    "            print(\"Result:\", divide(num1, num2))\n",
    "        else:\n",
    "            print(\"Invalid input. Please select a valid option.\")\n"
   ]
  },
  {
   "cell_type": "markdown",
   "id": "62e507f4",
   "metadata": {},
   "source": [
    "### 20. Write a program that determines the roots of a cubic equation using the Cardano formula."
   ]
  },
  {
   "cell_type": "code",
   "execution_count": null,
   "id": "f3ac9637",
   "metadata": {},
   "outputs": [],
   "source": [
    "import cmath  # Import the complex math library\n",
    "\n",
    "def solve_cubic(a, b, c, d):\n",
    "    # Calculate discriminant and its components\n",
    "    p = b / (3 * a)\n",
    "    q = (c - (b**2) / (3 * a)) / a\n",
    "    delta = (q**3) + (p**3)\n",
    "\n",
    "    if delta > 0:\n",
    "        # Case 1: One real root and two complex roots\n",
    "        A = (-q + cmath.sqrt(delta))**(1/3)\n",
    "        B = (-q - cmath.sqrt(delta))**(1/3)\n",
    "        real_root = A + B - p\n",
    "        complex_roots = -0.5 * (A + B) - p, (A - B) * (3**0.5) * 0.5j\n",
    "        return real_root, complex_roots\n",
    "    elif delta == 0:\n",
    "        # Case 2: Three real roots, two of them are equal\n",
    "        K = q**(1/3)\n",
    "        real_roots = -2 * K - p, K - p, K - p\n",
    "        return real_roots\n",
    "    else:\n",
    "        # Case 3: Three real roots\n",
    "        phi = cmath.phase(-delta)\n",
    "        rho = abs(cmath.sqrt(delta))\n",
    "        K = (rho**(1/3)) * cmath.exp(1j * phi / 3)\n",
    "        real_roots = 2 * K - p, -K - p * (1 + 1j * 3**0.5), -K - p * (1 - 1j * 3**0.5)\n",
    "        return real_roots\n",
    "\n",
    "# Input coefficients of the cubic equation: ax^3 + bx^2 + cx + d = 0\n",
    "a = float(input(\"Enter the coefficient a: \"))\n",
    "b = float(input(\"Enter the coefficient b: \"))\n",
    "c = float(input(\"Enter the coefficient c: \"))\n",
    "d = float(input(\"Enter the coefficient d: \"))\n",
    "\n",
    "roots = solve_cubic(a, b, c, d)\n",
    "print(\"Roots of the cubic equation:\")\n",
    "for root in roots:\n",
    "    print(root)\n"
   ]
  },
  {
   "cell_type": "markdown",
   "id": "d98d3b60",
   "metadata": {},
   "source": [
    "# Advanced Level:"
   ]
  },
  {
   "cell_type": "markdown",
   "id": "5868b2c3",
   "metadata": {},
   "source": [
    "### 21. Create a program that calculates the income tax based on the user's income and tax brackets."
   ]
  },
  {
   "cell_type": "code",
   "execution_count": 58,
   "id": "b90d1416",
   "metadata": {},
   "outputs": [
    {
     "name": "stdout",
     "output_type": "stream",
     "text": [
      "Enter your income: 100000\n",
      "Your income tax is: $25000.00\n"
     ]
    }
   ],
   "source": [
    "# Define tax brackets and their corresponding tax rates\n",
    "tax_brackets = [\n",
    "    (10000, 0.10),\n",
    "    (30000, 0.20),\n",
    "    (70000, 0.30),\n",
    "]\n",
    "\n",
    "# Function to calculate income tax\n",
    "def calculate_income_tax(income):\n",
    "    tax = 0\n",
    "    remaining_income = income\n",
    "\n",
    "    for bracket, rate in tax_brackets:\n",
    "        if remaining_income <= 0:\n",
    "            break\n",
    "\n",
    "        if remaining_income < bracket:\n",
    "            tax += remaining_income * rate\n",
    "            break\n",
    "\n",
    "        tax += bracket * rate\n",
    "        remaining_income -= bracket\n",
    "\n",
    "    return tax\n",
    "\n",
    "# Input user's income\n",
    "income = float(input(\"Enter your income: \"))\n",
    "\n",
    "# Calculate income tax\n",
    "income_tax = calculate_income_tax(income)\n",
    "\n",
    "# Display the income tax\n",
    "print(f\"Your income tax is: ${income_tax:.2f}\")\n"
   ]
  },
  {
   "cell_type": "markdown",
   "id": "897ea647",
   "metadata": {},
   "source": [
    "### 22. Write a program that simulates a rock-paper-scissors game against the computer.\n"
   ]
  },
  {
   "cell_type": "code",
   "execution_count": 59,
   "id": "920c05fc",
   "metadata": {},
   "outputs": [
    {
     "name": "stdout",
     "output_type": "stream",
     "text": [
      "Choose rock, paper, or scissors (or 'quit' to end): rock\n",
      "Computer chose rock\n",
      "It's a tie!\n",
      "Choose rock, paper, or scissors (or 'quit' to end): scissors\n",
      "Computer chose rock\n",
      "Computer wins!\n",
      "Choose rock, paper, or scissors (or 'quit' to end): quit\n",
      "Thanks for playing!\n"
     ]
    }
   ],
   "source": [
    "import random\n",
    "\n",
    "def get_computer_choice():\n",
    "    choices = [\"rock\", \"paper\", \"scissors\"]\n",
    "    return random.choice(choices)\n",
    "\n",
    "def determine_winner(player, computer):\n",
    "    if player == computer:\n",
    "        return \"It's a tie!\"\n",
    "    elif (player == \"rock\" and computer == \"scissors\") or \\\n",
    "         (player == \"scissors\" and computer == \"paper\") or \\\n",
    "         (player == \"paper\" and computer == \"rock\"):\n",
    "        return \"You win!\"\n",
    "    else:\n",
    "        return \"Computer wins!\"\n",
    "\n",
    "while True:\n",
    "    player_choice = input(\"Choose rock, paper, or scissors (or 'quit' to end): \").lower()\n",
    "    \n",
    "    if player_choice == \"quit\":\n",
    "        print(\"Thanks for playing!\")\n",
    "        break\n",
    "    \n",
    "    if player_choice not in [\"rock\", \"paper\", \"scissors\"]:\n",
    "        print(\"Invalid choice. Please choose rock, paper, or scissors.\")\n",
    "        continue\n",
    "    \n",
    "    computer_choice = get_computer_choice()\n",
    "    print(f\"Computer chose {computer_choice}\")\n",
    "    \n",
    "    result = determine_winner(player_choice, computer_choice)\n",
    "    print(result)\n"
   ]
  },
  {
   "cell_type": "markdown",
   "id": "12bd7596",
   "metadata": {},
   "source": [
    "### 23. Develop a program that generates a random password based on user preferences (length,complexity)."
   ]
  },
  {
   "cell_type": "code",
   "execution_count": 60,
   "id": "e22c81f2",
   "metadata": {},
   "outputs": [
    {
     "name": "stdout",
     "output_type": "stream",
     "text": [
      "Enter the desired password length: 5\n",
      "Include special characters? (yes/no): no\n",
      "Generated password: nK6V2\n"
     ]
    }
   ],
   "source": [
    "import random\n",
    "import string\n",
    "\n",
    "def generate_password(length, complex=True):\n",
    "    characters = string.ascii_letters + string.digits\n",
    "    if complex:\n",
    "        characters += string.punctuation\n",
    "    \n",
    "    password = ''.join(random.choice(characters) for _ in range(length))\n",
    "    return password\n",
    "\n",
    "length = int(input(\"Enter the desired password length: \"))\n",
    "complexity = input(\"Include special characters? (yes/no): \").lower() == \"yes\"\n",
    "\n",
    "password = generate_password(length, complexity)\n",
    "print(\"Generated password:\", password)\n"
   ]
  },
  {
   "cell_type": "markdown",
   "id": "2841ebb3",
   "metadata": {},
   "source": [
    "### 24. Create a program that implements a simple text-based adventure game with branching scenarios."
   ]
  },
  {
   "cell_type": "code",
   "execution_count": 63,
   "id": "5babb72d",
   "metadata": {},
   "outputs": [
    {
     "name": "stdout",
     "output_type": "stream",
     "text": [
      "You wake up in a mysterious forest. What do you do?\n",
      "1. Explore deeper into the forest\n",
      "2. Follow a nearby path\n",
      "3. Climb a tree to get a better view\n",
      "Enter your choice: 1\n",
      "You find a hidden cave. Do you enter it?\n",
      "1. Yes, enter the cave\n",
      "2. No, continue exploring the forest\n",
      "Enter your choice: 1\n",
      "You find a treasure chest. What do you do?\n",
      "1. Open the treasure chest\n",
      "2. Leave the cave\n",
      "Enter your choice: 1\n",
      "You open the treasure chest and find a valuable artifact. Your adventure continues...\n"
     ]
    }
   ],
   "source": [
    "# Define scenarios and options\n",
    "scenarios = {\n",
    "    'start': (\"You wake up in a mysterious forest. What do you do?\", [\n",
    "        (\"Explore deeper into the forest\", 'forest'),\n",
    "        (\"Follow a nearby path\", 'path'),\n",
    "        (\"Climb a tree to get a better view\", 'tree')\n",
    "    ]),\n",
    "    'forest': (\"You find a hidden cave. Do you enter it?\", [\n",
    "        (\"Yes, enter the cave\", 'cave'),\n",
    "        (\"No, continue exploring the forest\", 'continue_exploring')\n",
    "    ]),\n",
    "    'path': (\"You come across a friendly village. What do you do?\", [\n",
    "        (\"Visit the village\", 'village'),\n",
    "        (\"Continue on the path\", 'continue_on_path')\n",
    "    ]),\n",
    "    'tree': (\"You climb a tree and see a nearby river. What do you do?\", [\n",
    "        (\"Head towards the river\", 'river'),\n",
    "        (\"Descend and explore the forest\", 'continue_exploring')\n",
    "    ]),\n",
    "    'cave': (\"You find a treasure chest. What do you do?\", [\n",
    "        (\"Open the treasure chest\", 'treasure'),\n",
    "        (\"Leave the cave\", 'leave_cave')\n",
    "    ]),\n",
    "    'village': (\"You visit the village and are welcomed by the villagers. Your adventure continues...\", []),\n",
    "    'river': (\"You follow the river and eventually reach a tranquil meadow. Your adventure continues...\", []),\n",
    "    'treasure': (\"You open the treasure chest and find a valuable artifact. Your adventure continues...\", []),\n",
    "    'continue_exploring': (\"You continue exploring the forest. Your adventure continues...\", []),\n",
    "    'continue_on_path': (\"You continue on the path. Your adventure continues...\", []),\n",
    "    'leave_cave': (\"You leave the cave and return to the forest. Your adventure continues...\", []),\n",
    "    # Add more scenarios and options as needed\n",
    "    'game_over': (\"Game over. Thanks for playing!\", [])\n",
    "}\n",
    "\n",
    "# Function to play the game\n",
    "def play_game():\n",
    "    current_scene = 'start'\n",
    "    while current_scene:\n",
    "        text, options = scenarios[current_scene]\n",
    "        print(text)\n",
    "        if not options:\n",
    "            break\n",
    "        for i, (option_text, next_scene) in enumerate(options, 1):\n",
    "            print(f\"{i}. {option_text}\")\n",
    "        choice = input(\"Enter your choice: \")\n",
    "        if choice.isnumeric() and 1 <= int(choice) <= len(options):\n",
    "            current_scene = options[int(choice) - 1][1]\n",
    "        else:\n",
    "            print(\"Invalid choice. Please select a valid option.\")\n",
    "\n",
    "# Start the game\n",
    "play_game()\n"
   ]
  },
  {
   "cell_type": "markdown",
   "id": "c2a9f365",
   "metadata": {},
   "source": [
    "### 25. Build a program that solves a linear equation for x, considering different cases"
   ]
  },
  {
   "cell_type": "code",
   "execution_count": 65,
   "id": "f0167a7f",
   "metadata": {},
   "outputs": [
    {
     "name": "stdout",
     "output_type": "stream",
     "text": [
      "Enter the value of 'a': 75\n",
      "Enter the value of 'b': 25\n",
      "The solution for x is: -0.3333333333333333\n"
     ]
    }
   ],
   "source": [
    "# Solve the equation ax + b = 0 for x\n",
    "a = float(input(\"Enter the value of 'a': \"))\n",
    "b = float(input(\"Enter the value of 'b': \"))\n",
    "\n",
    "if a == 0:\n",
    "    if b == 0:\n",
    "        print(\"Infinite solutions (any value of x is a solution)\")\n",
    "    else:\n",
    "        print(\"No solution (the equation is not valid)\")\n",
    "else:\n",
    "    x = -b / a\n",
    "    print(f\"The solution for x is: {x}\")\n"
   ]
  },
  {
   "cell_type": "markdown",
   "id": "a8b9df10",
   "metadata": {},
   "source": [
    "### 26. Write a program that simulates a basic quiz game with multiple-choice questions and scoring"
   ]
  },
  {
   "cell_type": "code",
   "execution_count": 66,
   "id": "f756900f",
   "metadata": {},
   "outputs": [
    {
     "name": "stdout",
     "output_type": "stream",
     "text": [
      "Question 1: What is the capital of France?\n",
      "1. London\n",
      "2. Berlin\n",
      "3. Paris\n",
      "4. Madrid\n",
      "Enter the number of your answer: 2\n",
      "Question 2: Which planet is known as the Red Planet?\n",
      "1. Mars\n",
      "2. Venus\n",
      "3. Earth\n",
      "4. Jupiter\n",
      "Enter the number of your answer: 1\n",
      "You got 1/2 questions correct.\n"
     ]
    }
   ],
   "source": [
    "questions = [\n",
    "    {\"question\": \"What is the capital of France?\",\n",
    "     \"options\": [\"London\", \"Berlin\", \"Paris\", \"Madrid\"],\n",
    "     \"correct_option\": 2},\n",
    "    {\"question\": \"Which planet is known as the Red Planet?\",\n",
    "     \"options\": [\"Mars\", \"Venus\", \"Earth\", \"Jupiter\"],\n",
    "     \"correct_option\": 0},\n",
    "    # Add more questions and options\n",
    "]\n",
    "\n",
    "score = 0\n",
    "\n",
    "for i, question in enumerate(questions, 1):\n",
    "    print(f\"Question {i}: {question['question']}\")\n",
    "    for j, option in enumerate(question['options']):\n",
    "        print(f\"{j + 1}. {option}\")\n",
    "    answer = int(input(\"Enter the number of your answer: \"))\n",
    "    if answer - 1 == question['correct_option']:\n",
    "        score += 1\n",
    "\n",
    "print(f\"You got {score}/{len(questions)} questions correct.\")\n"
   ]
  },
  {
   "cell_type": "markdown",
   "id": "15651171",
   "metadata": {},
   "source": [
    "### 27. Develop a program that determines whether a given year is a prime number or not."
   ]
  },
  {
   "cell_type": "code",
   "execution_count": 67,
   "id": "ad746830",
   "metadata": {},
   "outputs": [
    {
     "name": "stdout",
     "output_type": "stream",
     "text": [
      "Enter a year: 2005\n",
      "2005 is not a prime year.\n"
     ]
    }
   ],
   "source": [
    "def is_prime(year):\n",
    "    if year <= 1:\n",
    "        return False\n",
    "    if year <= 3:\n",
    "        return True\n",
    "    if year % 2 == 0 or year % 3 == 0:\n",
    "        return False\n",
    "    i = 5\n",
    "    while i * i <= year:\n",
    "        if year % i == 0 or year % (i + 2) == 0:\n",
    "            return False\n",
    "        i += 6\n",
    "    return True\n",
    "\n",
    "year = int(input(\"Enter a year: \"))\n",
    "if is_prime(year):\n",
    "    print(f\"{year} is a prime year.\")\n",
    "else:\n",
    "    print(f\"{year} is not a prime year.\")\n"
   ]
  },
  {
   "cell_type": "markdown",
   "id": "5fe35854",
   "metadata": {},
   "source": [
    "### 28. Create a program that sorts three numbers in ascending order using conditional statements"
   ]
  },
  {
   "cell_type": "code",
   "execution_count": 68,
   "id": "08e7d8c1",
   "metadata": {},
   "outputs": [
    {
     "name": "stdout",
     "output_type": "stream",
     "text": [
      "Enter the first number: 25\n",
      "Enter the second number: 25\n",
      "Enter the third number: 8574\n",
      "Numbers in ascending order: [25.0, 25.0, 8574.0]\n"
     ]
    }
   ],
   "source": [
    "num1 = float(input(\"Enter the first number: \"))\n",
    "num2 = float(input(\"Enter the second number: \"))\n",
    "num3 = float(input(\"Enter the third number: \"))\n",
    "\n",
    "if num1 <= num2 <= num3:\n",
    "    sorted_nums = [num1, num2, num3]\n",
    "elif num1 <= num3 <= num2:\n",
    "    sorted_nums = [num1, num3, num2]\n",
    "elif num2 <= num1 <= num3:\n",
    "    sorted_nums = [num2, num1, num3]\n",
    "elif num2 <= num3 <= num1:\n",
    "    sorted_nums = [num2, num3, num1]\n",
    "elif num3 <= num1 <= num2:\n",
    "    sorted_nums = [num3, num1, num2]\n",
    "else:\n",
    "    sorted_nums = [num3, num2, num1]\n",
    "\n",
    "print(\"Numbers in ascending order:\", sorted_nums)\n"
   ]
  },
  {
   "cell_type": "markdown",
   "id": "35284ab3",
   "metadata": {},
   "source": [
    "### 29. Build a program that determines the roots of a quartic equation using numerical methods."
   ]
  },
  {
   "cell_type": "code",
   "execution_count": 70,
   "id": "cc7f8cad",
   "metadata": {},
   "outputs": [
    {
     "name": "stdout",
     "output_type": "stream",
     "text": [
      "Enter the coefficient a: 2\n",
      "Enter the coefficient b: 4\n",
      "Enter the coefficient c: 6\n",
      "Enter the coefficient d: 8\n",
      "Enter the coefficient e: 10\n",
      "Roots of the quartic equation: [-1.00105754 -1.00105754 -1.00105754 -1.00105753]\n"
     ]
    }
   ],
   "source": [
    "import numpy as np\n",
    "from scipy.optimize import root\n",
    "\n",
    "# Define the quartic equation in the form: ax^4 + bx^3 + cx^2 + dx + e = 0\n",
    "a = float(input(\"Enter the coefficient a: \"))\n",
    "b = float(input(\"Enter the coefficient b: \"))\n",
    "c = float(input(\"Enter the coefficient c: \"))\n",
    "d = float(input(\"Enter the coefficient d: \"))\n",
    "e = float(input(\"Enter the coefficient e: \"))\n",
    "\n",
    "# Define a function for the quartic equation\n",
    "def quartic_equation(x):\n",
    "    return a * x**4 + b * x**3 + c * x**2 + d * x + e\n",
    "\n",
    "# Use a numerical solver to find the roots\n",
    "sol = root(quartic_equation, [0, 0, 0, 0])\n",
    "\n",
    "roots = sol.x\n",
    "print(\"Roots of the quartic equation:\", roots)\n"
   ]
  },
  {
   "cell_type": "markdown",
   "id": "a227245d",
   "metadata": {},
   "source": [
    "### 30. Write a program that calculates the BMI (Body Mass Index) and provides health recommendations based on the user's input.\n",
    "\n"
   ]
  },
  {
   "cell_type": "code",
   "execution_count": 72,
   "id": "5ade8092",
   "metadata": {},
   "outputs": [
    {
     "name": "stdout",
     "output_type": "stream",
     "text": [
      "Enter your weight in kilograms: 51\n",
      "Enter your height in meters: 1.52\n",
      "Your BMI is: 22.07\n",
      "Your weight is in the healthy range. Keep up the good work!\n"
     ]
    }
   ],
   "source": [
    "# Function to calculate BMI\n",
    "def calculate_bmi(weight, height):\n",
    "    return weight / (height ** 2)\n",
    "\n",
    "# Input weight and height\n",
    "weight = float(input(\"Enter your weight in kilograms: \"))\n",
    "height = float(input(\"Enter your height in meters: \"))\n",
    "\n",
    "bmi = calculate_bmi(weight, height)\n",
    "print(f\"Your BMI is: {bmi:.2f}\")\n",
    "\n",
    "# Provide health recommendations based on BMI\n",
    "if bmi < 18.5:\n",
    "    print(\"You are underweight. You should consider gaining some weight.\")\n",
    "elif 18.5 <= bmi < 24.9:\n",
    "    print(\"Your weight is in the healthy range. Keep up the good work!\")\n",
    "elif 25 <= bmi < 29.9:\n",
    "    print(\"You are overweight. Consider a balanced diet and regular exercise.\")\n",
    "else:\n",
    "    print(\"You are obese. Consult a healthcare professional for guidance.\")\n"
   ]
  },
  {
   "cell_type": "markdown",
   "id": "70d91f3c",
   "metadata": {},
   "source": [
    "# Challenge Level:"
   ]
  },
  {
   "cell_type": "markdown",
   "id": "d1c0ddc7",
   "metadata": {},
   "source": [
    "### 31. Create a program that validates a password based on complexity rules (length, characters, etc.)."
   ]
  },
  {
   "cell_type": "code",
   "execution_count": 73,
   "id": "4f02de1c",
   "metadata": {},
   "outputs": [
    {
     "name": "stdout",
     "output_type": "stream",
     "text": [
      "Enter a password: ankita@13\n",
      "Invalid password. Password must be at least 8 characters long and contain at least one digit, one uppercase letter, and one special character.\n"
     ]
    }
   ],
   "source": [
    "import re\n",
    "\n",
    "def is_valid_password(password):\n",
    "    # Password must be at least 8 characters long and contain at least one digit, one uppercase letter, and one special character.\n",
    "    return bool(re.match(r'^(?=.*\\d)(?=.*[A-Z])(?=.*\\W).{8,}$', password))\n",
    "\n",
    "password = input(\"Enter a password: \")\n",
    "if is_valid_password(password):\n",
    "    print(\"Valid password.\")\n",
    "else:\n",
    "    print(\"Invalid password. Password must be at least 8 characters long and contain at least one digit, one uppercase letter, and one special character.\")\n"
   ]
  },
  {
   "cell_type": "markdown",
   "id": "64177621",
   "metadata": {},
   "source": [
    "### 33. Write a program that calculates the greatest common divisor (GCD) of two numbers using the Euclidean algorithm."
   ]
  },
  {
   "cell_type": "code",
   "execution_count": 77,
   "id": "6759cd3d",
   "metadata": {},
   "outputs": [
    {
     "name": "stdout",
     "output_type": "stream",
     "text": [
      "Enter the first number: 25\n",
      "Enter the second number: 65\n",
      "The GCD of 25 and 65 is 5\n"
     ]
    }
   ],
   "source": [
    "def euclidean_gcd(a, b):\n",
    "    while b:\n",
    "        a, b = b, a % b\n",
    "    return a\n",
    "\n",
    "num1 = int(input(\"Enter the first number: \"))\n",
    "num2 = int(input(\"Enter the second number: \"))\n",
    "\n",
    "gcd = euclidean_gcd(num1, num2)\n",
    "print(f\"The GCD of {num1} and {num2} is {gcd}\")\n"
   ]
  },
  {
   "cell_type": "markdown",
   "id": "1b919dcd",
   "metadata": {},
   "source": [
    "### 36. Write a program that generates Fibonacci numbers up to a specified term using iterative methods."
   ]
  },
  {
   "cell_type": "code",
   "execution_count": 78,
   "id": "1eeebea3",
   "metadata": {},
   "outputs": [
    {
     "name": "stdout",
     "output_type": "stream",
     "text": [
      "Enter the number of Fibonacci terms to generate: 25\n",
      "Fibonacci sequence up to term 25: [0, 1, 1, 2, 3, 5, 8, 13, 21, 34, 55, 89, 144, 233, 377, 610, 987, 1597, 2584, 4181, 6765, 10946, 17711, 28657, 46368]\n"
     ]
    }
   ],
   "source": [
    "def generate_fibonacci(n):\n",
    "    fib_sequence = [0, 1]\n",
    "    while len(fib_sequence) < n:\n",
    "        next_fib = fib_sequence[-1] + fib_sequence[-2]\n",
    "        fib_sequence.append(next_fib)\n",
    "    return fib_sequence\n",
    "\n",
    "n = int(input(\"Enter the number of Fibonacci terms to generate: \"))\n",
    "fib_sequence = generate_fibonacci(n)\n",
    "print(f\"Fibonacci sequence up to term {n}: {fib_sequence}\")\n"
   ]
  },
  {
   "cell_type": "markdown",
   "id": "0bc91af9",
   "metadata": {},
   "source": [
    "### 37. Develop a program that calculates the nth term of the Fibonacci sequence using memoization."
   ]
  },
  {
   "cell_type": "code",
   "execution_count": 79,
   "id": "95951566",
   "metadata": {},
   "outputs": [
    {
     "name": "stdout",
     "output_type": "stream",
     "text": [
      "Enter the term of the Fibonacci sequence to calculate: 25\n",
      "The 25-th term of the Fibonacci sequence is: 75025\n"
     ]
    }
   ],
   "source": [
    "def fibonacci(n, memo={}):\n",
    "    if n in memo:\n",
    "        return memo[n]\n",
    "    if n <= 2:\n",
    "        return 1\n",
    "    memo[n] = fibonacci(n - 1, memo) + fibonacci(n - 2, memo)\n",
    "    return memo[n]\n",
    "\n",
    "n = int(input(\"Enter the term of the Fibonacci sequence to calculate: \"))\n",
    "result = fibonacci(n)\n",
    "print(f\"The {n}-th term of the Fibonacci sequence is: {result}\")\n"
   ]
  },
  {
   "cell_type": "markdown",
   "id": "558e32df",
   "metadata": {},
   "source": [
    "### 38. Create a program that generates a calendar for a given month and year using conditional statements."
   ]
  },
  {
   "cell_type": "code",
   "execution_count": 80,
   "id": "6bcdbaa6",
   "metadata": {},
   "outputs": [
    {
     "name": "stdout",
     "output_type": "stream",
     "text": [
      "Enter the year: 2000\n",
      "Enter the month (1-12): 12\n",
      "Calendar for December 2000:\n",
      "   December 2000\n",
      "Mo Tu We Th Fr Sa Su\n",
      "             1  2  3\n",
      " 4  5  6  7  8  9 10\n",
      "11 12 13 14 15 16 17\n",
      "18 19 20 21 22 23 24\n",
      "25 26 27 28 29 30 31\n",
      "\n"
     ]
    }
   ],
   "source": [
    "import calendar\n",
    "\n",
    "year = int(input(\"Enter the year: \"))\n",
    "month = int(input(\"Enter the month (1-12): \"))\n",
    "\n",
    "cal = calendar.month(year, month)\n",
    "print(f\"Calendar for {calendar.month_name[month]} {year}:\\n{cal}\")\n"
   ]
  },
  {
   "cell_type": "markdown",
   "id": "033c2f08",
   "metadata": {},
   "source": [
    "### 40. Write a program that generates the prime factors of a given number using trial division."
   ]
  },
  {
   "cell_type": "code",
   "execution_count": 83,
   "id": "41c59e6c",
   "metadata": {},
   "outputs": [
    {
     "name": "stdout",
     "output_type": "stream",
     "text": [
      "Enter a number to find its prime factors: 1025\n",
      "Prime factors of 1025: [5, 5, 41]\n"
     ]
    }
   ],
   "source": [
    "def prime_factors(n):\n",
    "    factors = []\n",
    "    divisor = 2\n",
    "    while n > 1:\n",
    "        while n % divisor == 0:\n",
    "            factors.append(divisor)\n",
    "            n //= divisor\n",
    "        divisor += 1\n",
    "    return factors\n",
    "\n",
    "n = int(input(\"Enter a number to find its prime factors: \"))\n",
    "factors = prime_factors(n)\n",
    "print(f\"Prime factors of {n}: {factors}\")\n"
   ]
  },
  {
   "cell_type": "code",
   "execution_count": null,
   "id": "f6fc2106",
   "metadata": {},
   "outputs": [],
   "source": []
  }
 ],
 "metadata": {
  "kernelspec": {
   "display_name": "Python 3 (ipykernel)",
   "language": "python",
   "name": "python3"
  },
  "language_info": {
   "codemirror_mode": {
    "name": "ipython",
    "version": 3
   },
   "file_extension": ".py",
   "mimetype": "text/x-python",
   "name": "python",
   "nbconvert_exporter": "python",
   "pygments_lexer": "ipython3",
   "version": "3.9.13"
  }
 },
 "nbformat": 4,
 "nbformat_minor": 5
}
