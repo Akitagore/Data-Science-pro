{
 "cells": [
  {
   "cell_type": "markdown",
   "id": "5449d2c6",
   "metadata": {},
   "source": [
    "### For Loop :-\n",
    "\n"
   ]
  },
  {
   "cell_type": "markdown",
   "id": "736b0758",
   "metadata": {},
   "source": [
    "### 1. Write a Python program to print numbers from 1 to 10 using a for loop."
   ]
  },
  {
   "cell_type": "code",
   "execution_count": 3,
   "id": "e9b1e32a",
   "metadata": {
    "scrolled": true
   },
   "outputs": [
    {
     "name": "stdout",
     "output_type": "stream",
     "text": [
      "1\n",
      "2\n",
      "3\n",
      "4\n",
      "5\n",
      "6\n",
      "7\n",
      "8\n",
      "9\n",
      "10\n"
     ]
    }
   ],
   "source": [
    "for num in range(1,11):\n",
    "    print(num)"
   ]
  },
  {
   "cell_type": "markdown",
   "id": "d9515f1e",
   "metadata": {},
   "source": [
    "### 2. Explain the difference between a for loop and a while loop in Python."
   ]
  },
  {
   "cell_type": "markdown",
   "id": "806cf691",
   "metadata": {},
   "source": [
    "For Loop:\n",
    "\n",
    "1.Used for iterating over a sequence (e.g., list, tuple, string).\n",
    "2.Executes a block of code for each item in the sequence.\n",
    "3.Controlled by the length of the sequence.\n",
    "\n",
    "While Loop:\n",
    "\n",
    "1.Used for repeated execution based on a condition.\n",
    "2.Continues as long as the given condition is true.\n",
    "3.Be cautious to avoid infinite loops."
   ]
  },
  {
   "cell_type": "code",
   "execution_count": 4,
   "id": "7e5e7d96",
   "metadata": {},
   "outputs": [
    {
     "name": "stdout",
     "output_type": "stream",
     "text": [
      "1\n",
      "2\n",
      "3\n",
      "4\n",
      "5\n",
      "1\n",
      "2\n",
      "3\n",
      "4\n",
      "5\n"
     ]
    }
   ],
   "source": [
    "## For loop\n",
    "for i in range(1, 6):\n",
    "    print(i)\n",
    "count = 1\n",
    "## While loop\n",
    "while count <= 5:\n",
    "    print(count)\n",
    "    count += 1"
   ]
  },
  {
   "cell_type": "markdown",
   "id": "58474451",
   "metadata": {},
   "source": [
    "### 3. Write a Python program to calculate the sum of all numbers from 1 to 100 using a for loop."
   ]
  },
  {
   "cell_type": "code",
   "execution_count": 11,
   "id": "9b7e1fed",
   "metadata": {},
   "outputs": [
    {
     "name": "stdout",
     "output_type": "stream",
     "text": [
      "Sum of numbers from 1 to 100: 5050\n"
     ]
    }
   ],
   "source": [
    "sum_numbers = 0\n",
    "\n",
    "for i in range(1, 101):\n",
    "    sum_numbers += i  \n",
    "print(\"Sum of numbers from 1 to 100:\", sum_numbers)\n"
   ]
  },
  {
   "cell_type": "markdown",
   "id": "3d7f9b2c",
   "metadata": {},
   "source": [
    "### 4. How do you iterate through a list using a for loop in Python?\n"
   ]
  },
  {
   "cell_type": "code",
   "execution_count": 12,
   "id": "d9619ada",
   "metadata": {},
   "outputs": [
    {
     "name": "stdout",
     "output_type": "stream",
     "text": [
      "1\n",
      "2\n",
      "3\n",
      "4\n",
      "5\n"
     ]
    }
   ],
   "source": [
    "my_list = [1, 2, 3, 4, 5]\n",
    "\n",
    "for element in my_list:\n",
    "    print(element)"
   ]
  },
  {
   "cell_type": "markdown",
   "id": "72fd1cae",
   "metadata": {},
   "source": [
    "### 5.Write a Python program to find the product of all elements in a list using a for loop.\n"
   ]
  },
  {
   "cell_type": "code",
   "execution_count": 1,
   "id": "fd34527a",
   "metadata": {},
   "outputs": [
    {
     "name": "stdout",
     "output_type": "stream",
     "text": [
      "The product of all elements in the list is: 120\n"
     ]
    }
   ],
   "source": [
    "def product_of_elements(lst):\n",
    "    result = 1\n",
    "    for num in lst:\n",
    "        result *= num\n",
    "    return result\n",
    "\n",
    "# Example usage:\n",
    "my_list = [2, 3, 4, 5]\n",
    "result = product_of_elements(my_list)\n",
    "print(f\"The product of all elements in the list is: {result}\")"
   ]
  },
  {
   "cell_type": "markdown",
   "id": "b20dd27b",
   "metadata": {},
   "source": [
    "### 6.Create a Python program that prints all even numbers from 1 to 20 using a for loop."
   ]
  },
  {
   "cell_type": "code",
   "execution_count": 8,
   "id": "74fc6336",
   "metadata": {},
   "outputs": [
    {
     "name": "stdout",
     "output_type": "stream",
     "text": [
      "2\n",
      "4\n",
      "6\n",
      "8\n",
      "10\n",
      "12\n",
      "14\n",
      "16\n",
      "18\n",
      "20\n"
     ]
    }
   ],
   "source": [
    "for num in range(1, 21):\n",
    "    if num % 2 == 0:\n",
    "        print(num)\n"
   ]
  },
  {
   "cell_type": "markdown",
   "id": "78fe03be",
   "metadata": {},
   "source": [
    "### 7.Write a Python program that calculates the factorial of a number using a for loop"
   ]
  },
  {
   "cell_type": "code",
   "execution_count": 7,
   "id": "eee6ce6e",
   "metadata": {},
   "outputs": [
    {
     "name": "stdout",
     "output_type": "stream",
     "text": [
      "The factorial of 5 is: 120\n"
     ]
    }
   ],
   "source": [
    "def factorial(n):\n",
    "    result = 1\n",
    "    for i in range(1, n + 1):\n",
    "        result *= i\n",
    "    return result\n",
    "\n",
    "number = 5\n",
    "result = factorial(number)\n",
    "print(f\"The factorial of {number} is: {result}\")\n"
   ]
  },
  {
   "cell_type": "markdown",
   "id": "d0cff325",
   "metadata": {},
   "source": [
    "### 8.How can you iterate through the characters of a string using a for loop in Python?"
   ]
  },
  {
   "cell_type": "code",
   "execution_count": 6,
   "id": "ae9583a6",
   "metadata": {},
   "outputs": [
    {
     "name": "stdout",
     "output_type": "stream",
     "text": [
      "H\n",
      "e\n",
      "l\n",
      "l\n",
      "o\n",
      ",\n",
      " \n",
      "W\n",
      "o\n",
      "r\n",
      "l\n",
      "d\n",
      "!\n"
     ]
    }
   ],
   "source": [
    "my_string = \"Hello, World!\"\n",
    "for char in my_string:\n",
    "    print(char)\n"
   ]
  },
  {
   "cell_type": "markdown",
   "id": "b6054e60",
   "metadata": {},
   "source": [
    "### 9.Write a Python program to find the largest number in a list using a for loop."
   ]
  },
  {
   "cell_type": "code",
   "execution_count": 5,
   "id": "6ae4f0dd",
   "metadata": {},
   "outputs": [
    {
     "name": "stdout",
     "output_type": "stream",
     "text": [
      "The largest number in the list is: 8\n"
     ]
    }
   ],
   "source": [
    "def find_largest_number(lst):\n",
    "    largest = lst[0]\n",
    "    for num in lst:\n",
    "        if num > largest:\n",
    "            largest = num\n",
    "    return largest\n",
    "\n",
    "my_list = [3, 7, 2, 8, 5]\n",
    "result = find_largest_number(my_list)\n",
    "print(f\"The largest number in the list is: {result}\")"
   ]
  },
  {
   "cell_type": "markdown",
   "id": "7eadaeb2",
   "metadata": {},
   "source": [
    "### 10. Create a Python program that prints the Fibonacci sequence up to a specified limit using a for loop."
   ]
  },
  {
   "cell_type": "code",
   "execution_count": 4,
   "id": "bb44b882",
   "metadata": {},
   "outputs": [
    {
     "name": "stdout",
     "output_type": "stream",
     "text": [
      "0\n",
      "1\n",
      "1\n",
      "2\n",
      "3\n",
      "5\n",
      "8\n",
      "13\n",
      "21\n",
      "34\n"
     ]
    }
   ],
   "source": [
    "def fibonacci(limit):\n",
    "    fib_sequence = [0, 1]\n",
    "    while fib_sequence[-1] + fib_sequence[-2] <= limit:\n",
    "        fib_sequence.append(fib_sequence[-1] + fib_sequence[-2])\n",
    "    \n",
    "    for num in fib_sequence:\n",
    "        print(num)\n",
    "\n",
    "fibonacci(50)"
   ]
  },
  {
   "cell_type": "markdown",
   "id": "7beef978",
   "metadata": {},
   "source": [
    "### 11.Write a Python program to count the number of vowels in a given string using a for loop.\n"
   ]
  },
  {
   "cell_type": "code",
   "execution_count": 9,
   "id": "8cdd8307",
   "metadata": {},
   "outputs": [
    {
     "name": "stdout",
     "output_type": "stream",
     "text": [
      "The number of vowels in the given string is: 3\n"
     ]
    }
   ],
   "source": [
    "def count_vowels(input_string):\n",
    "    vowels = \"aeiouAEIOU\"\n",
    "    count = 0\n",
    "    for char in input_string:\n",
    "        if char in vowels:\n",
    "            count += 1\n",
    "    return count\n",
    "\n",
    "# Example usage:\n",
    "my_string = \"Hello, World!\"\n",
    "result = count_vowels(my_string)\n",
    "print(f\"The number of vowels in the given string is: {result}\")"
   ]
  },
  {
   "cell_type": "markdown",
   "id": "c664de6b",
   "metadata": {},
   "source": [
    "### 12.Create a Python program that generates a multiplication table for a given number using a for loop."
   ]
  },
  {
   "cell_type": "code",
   "execution_count": 12,
   "id": "af8b7793",
   "metadata": {},
   "outputs": [
    {
     "name": "stdout",
     "output_type": "stream",
     "text": [
      "5 x 1 = 5\n",
      "5 x 2 = 10\n",
      "5 x 3 = 15\n",
      "5 x 4 = 20\n",
      "5 x 5 = 25\n",
      "5 x 6 = 30\n",
      "5 x 7 = 35\n",
      "5 x 8 = 40\n",
      "5 x 9 = 45\n",
      "5 x 10 = 50\n"
     ]
    }
   ],
   "source": [
    "def multiplication_table(number):\n",
    "    for i in range(1, 11):\n",
    "        result = number * i\n",
    "        print(f\"{number} x {i} = {result}\")\n",
    "\n",
    "# Example usage:\n",
    "multiplication_table(5)\n"
   ]
  },
  {
   "cell_type": "markdown",
   "id": "5489ea4f",
   "metadata": {},
   "source": [
    "### 13.Write a Python program to reverse a list using a for loop"
   ]
  },
  {
   "cell_type": "code",
   "execution_count": 13,
   "id": "7474a8ed",
   "metadata": {},
   "outputs": [
    {
     "name": "stdout",
     "output_type": "stream",
     "text": [
      "The reversed list is: [5, 4, 3, 2, 1]\n"
     ]
    }
   ],
   "source": [
    "def reverse_list(input_list):\n",
    "    reversed_list = []\n",
    "    for item in input_list[::-1]:\n",
    "        reversed_list.append(item)\n",
    "    return reversed_list\n",
    "\n",
    "# Example usage:\n",
    "my_list = [1, 2, 3, 4, 5]\n",
    "result = reverse_list(my_list)\n",
    "print(f\"The reversed list is: {result}\")\n"
   ]
  },
  {
   "cell_type": "markdown",
   "id": "0735e793",
   "metadata": {},
   "source": [
    "### 14.Write a Python program to find the common elements between two lists using a for loop."
   ]
  },
  {
   "cell_type": "code",
   "execution_count": 14,
   "id": "359a8a0c",
   "metadata": {},
   "outputs": [
    {
     "name": "stdout",
     "output_type": "stream",
     "text": [
      "The common elements are: [3, 4, 5]\n"
     ]
    }
   ],
   "source": [
    "def common_elements(list1, list2):\n",
    "    common = []\n",
    "    for item in list1:\n",
    "        if item in list2:\n",
    "            common.append(item)\n",
    "    return common\n",
    "\n",
    "# Example usage:\n",
    "list_a = [1, 2, 3, 4, 5]\n",
    "list_b = [3, 4, 5, 6, 7]\n",
    "result = common_elements(list_a, list_b)\n",
    "print(f\"The common elements are: {result}\")\n"
   ]
  },
  {
   "cell_type": "markdown",
   "id": "66b2832c",
   "metadata": {},
   "source": [
    "### 15.Explain how to use a for loop to iterate through the keys and values of a dictionary in Python."
   ]
  },
  {
   "cell_type": "code",
   "execution_count": 15,
   "id": "43bf0ff6",
   "metadata": {},
   "outputs": [
    {
     "name": "stdout",
     "output_type": "stream",
     "text": [
      "Key: a, Value: 1\n",
      "Key: b, Value: 2\n",
      "Key: c, Value: 3\n"
     ]
    }
   ],
   "source": [
    "my_dict = {'a': 1, 'b': 2, 'c': 3}\n",
    "for key, value in my_dict.items():\n",
    "    print(f\"Key: {key}, Value: {value}\")\n"
   ]
  },
  {
   "cell_type": "markdown",
   "id": "3253d8ce",
   "metadata": {},
   "source": [
    "### 16.Write a Python program to find the GCD (Greatest Common Divisor) of two numbers using a for loop."
   ]
  },
  {
   "cell_type": "code",
   "execution_count": 16,
   "id": "97c24ee2",
   "metadata": {},
   "outputs": [
    {
     "name": "stdout",
     "output_type": "stream",
     "text": [
      "The GCD of 36 and 48 is: 12\n"
     ]
    }
   ],
   "source": [
    "def gcd(a, b):\n",
    "    while b:\n",
    "        a, b = b, a % b\n",
    "    return a\n",
    "\n",
    "# Example usage:\n",
    "num1 = 36\n",
    "num2 = 48\n",
    "result = gcd(num1, num2)\n",
    "print(f\"The GCD of {num1} and {num2} is: {result}\")\n"
   ]
  },
  {
   "cell_type": "markdown",
   "id": "d3b34992",
   "metadata": {},
   "source": [
    "### 17.Create a Python program that checks if a string is a palindrome using a for loop."
   ]
  },
  {
   "cell_type": "code",
   "execution_count": 17,
   "id": "ddd5ea2e",
   "metadata": {},
   "outputs": [
    {
     "name": "stdout",
     "output_type": "stream",
     "text": [
      "The string is a palindrome: True\n"
     ]
    }
   ],
   "source": [
    "def is_palindrome(input_string):\n",
    "    clean_string = ''.join(char.lower() for char in input_string if char.isalnum())\n",
    "    for i in range(len(clean_string) // 2):\n",
    "        if clean_string[i] != clean_string[-1 - i]:\n",
    "            return False\n",
    "    return True\n",
    "\n",
    "# Example usage:\n",
    "my_string = \"A man, a plan, a canal, Panama!\"\n",
    "result = is_palindrome(my_string)\n",
    "print(f\"The string is a palindrome: {result}\")\n"
   ]
  },
  {
   "cell_type": "markdown",
   "id": "cf03eec7",
   "metadata": {},
   "source": [
    "### 18. Write a Python program to remove duplicates from a list using a for loop."
   ]
  },
  {
   "cell_type": "code",
   "execution_count": 18,
   "id": "e5bc0193",
   "metadata": {},
   "outputs": [
    {
     "name": "stdout",
     "output_type": "stream",
     "text": [
      "The list without duplicates is: [1, 2, 3, 4, 5]\n"
     ]
    }
   ],
   "source": [
    "def remove_duplicates(input_list):\n",
    "    unique_list = []\n",
    "    for item in input_list:\n",
    "        if item not in unique_list:\n",
    "            unique_list.append(item)\n",
    "    return unique_list\n",
    "\n",
    "# Example usage:\n",
    "my_list = [1, 2, 2, 3, 4, 4, 5]\n",
    "result = remove_duplicates(my_list)\n",
    "print(f\"The list without duplicates is: {result}\")\n"
   ]
  },
  {
   "cell_type": "markdown",
   "id": "7536d8c6",
   "metadata": {},
   "source": [
    "### 19.Create a Python program that counts the number of words in a sentence using a for loop."
   ]
  },
  {
   "cell_type": "code",
   "execution_count": 19,
   "id": "8d68fff0",
   "metadata": {},
   "outputs": [
    {
     "name": "stdout",
     "output_type": "stream",
     "text": [
      "The number of words in the sentence is: 5\n"
     ]
    }
   ],
   "source": [
    "def count_words(sentence):\n",
    "    words = sentence.split()\n",
    "    return len(words)\n",
    "\n",
    "# Example usage:\n",
    "my_sentence = \"This is a sample sentence.\"\n",
    "result = count_words(my_sentence)\n",
    "print(f\"The number of words in the sentence is: {result}\")\n"
   ]
  },
  {
   "cell_type": "markdown",
   "id": "5d03b5e3",
   "metadata": {},
   "source": [
    "### 20.Write a Python program to find the sum of all odd numbers from 1 to 50 using a for loop."
   ]
  },
  {
   "cell_type": "code",
   "execution_count": 20,
   "id": "dfd5722c",
   "metadata": {},
   "outputs": [
    {
     "name": "stdout",
     "output_type": "stream",
     "text": [
      "The sum of all odd numbers from 1 to 50 is: 625\n"
     ]
    }
   ],
   "source": [
    "sum_odd_numbers = 0\n",
    "for num in range(1, 51, 2):\n",
    "    sum_odd_numbers += num\n",
    "\n",
    "print(f\"The sum of all odd numbers from 1 to 50 is: {sum_odd_numbers}\")\n"
   ]
  },
  {
   "cell_type": "markdown",
   "id": "aac1b00f",
   "metadata": {},
   "source": [
    "### 21.Write a Python program that checks if a given year is a leap year using a for loop."
   ]
  },
  {
   "cell_type": "code",
   "execution_count": 21,
   "id": "9c4bb9cf",
   "metadata": {},
   "outputs": [
    {
     "name": "stdout",
     "output_type": "stream",
     "text": [
      "2024 is a leap year: True\n"
     ]
    }
   ],
   "source": [
    "def is_leap_year(year):\n",
    "    # Leap years are divisible by 4, except for years that are divisible by 100 but not divisible by 400.\n",
    "    if (year % 4 == 0 and year % 100 != 0) or (year % 400 == 0):\n",
    "        return True\n",
    "    else:\n",
    "        return False\n",
    "\n",
    "# Example usage:\n",
    "year_to_check = 2024\n",
    "result = is_leap_year(year_to_check)\n",
    "print(f\"{year_to_check} is a leap year: {result}\")\n"
   ]
  },
  {
   "cell_type": "markdown",
   "id": "597aff0d",
   "metadata": {},
   "source": [
    "### 22. Create a Python program that calculates the square root of a number using a for loop."
   ]
  },
  {
   "cell_type": "code",
   "execution_count": 22,
   "id": "d572d3f4",
   "metadata": {},
   "outputs": [
    {
     "name": "stdout",
     "output_type": "stream",
     "text": [
      "The square root of 25 is approximately: 5.0\n"
     ]
    }
   ],
   "source": [
    "def square_root(number):\n",
    "    if number < 0:\n",
    "        return \"Cannot calculate the square root of a negative number.\"\n",
    "    \n",
    "    # Using the Babylonian method for approximating square roots\n",
    "    guess = number / 2\n",
    "    for _ in range(10):  # Adjust the number of iterations for better precision\n",
    "        guess = 0.5 * (guess + number / guess)\n",
    "    \n",
    "    return guess\n",
    "\n",
    "# Example usage:\n",
    "number_to_sqrt = 25\n",
    "result = square_root(number_to_sqrt)\n",
    "print(f\"The square root of {number_to_sqrt} is approximately: {result}\")\n"
   ]
  },
  {
   "cell_type": "markdown",
   "id": "1e249c68",
   "metadata": {},
   "source": [
    "### 23.Write a Python program to find the LCM (Least Common Multiple) of two numbers using a for loop."
   ]
  },
  {
   "cell_type": "code",
   "execution_count": 25,
   "id": "52dc7677",
   "metadata": {},
   "outputs": [
    {
     "name": "stdout",
     "output_type": "stream",
     "text": [
      "The LCM of 12 and 18 is: 36\n"
     ]
    }
   ],
   "source": [
    "def find_lcm(num1, num2):\n",
    "    # The LCM is the product of the numbers divided by their GCD\n",
    "    def gcd(a, b):\n",
    "        while b:\n",
    "            a, b = b, a % b\n",
    "        return a\n",
    "    \n",
    "    return (num1 * num2) // gcd(num1, num2)\n",
    "\n",
    "# Example usage:\n",
    "num1 = 12\n",
    "num2 = 18\n",
    "result = find_lcm(num1, num2)\n",
    "print(f\"The LCM of {num1} and {num2} is: {result}\")"
   ]
  },
  {
   "cell_type": "markdown",
   "id": "5ff74251",
   "metadata": {},
   "source": [
    "### If else :"
   ]
  },
  {
   "cell_type": "markdown",
   "id": "fe51fd33",
   "metadata": {},
   "source": [
    "### 1. Write a Python program to check if a number is positive, negative, or zero using an if-else statement."
   ]
  },
  {
   "cell_type": "code",
   "execution_count": 26,
   "id": "c9f0632d",
   "metadata": {},
   "outputs": [
    {
     "name": "stdout",
     "output_type": "stream",
     "text": [
      "Enter a number: 25\n",
      "The number is positive.\n"
     ]
    }
   ],
   "source": [
    "number = float(input(\"Enter a number: \"))\n",
    "\n",
    "if number > 0:\n",
    "    print(\"The number is positive.\")\n",
    "elif number < 0:\n",
    "    print(\"The number is negative.\")\n",
    "else:\n",
    "    print(\"The number is zero.\")"
   ]
  },
  {
   "cell_type": "markdown",
   "id": "826fecb6",
   "metadata": {},
   "source": [
    "### 2. Create a Python program that checks if a given number is even or odd using an if-else statement."
   ]
  },
  {
   "cell_type": "code",
   "execution_count": 28,
   "id": "13aa859b",
   "metadata": {},
   "outputs": [
    {
     "name": "stdout",
     "output_type": "stream",
     "text": [
      "Enter a number: 98\n",
      "The number is even.\n"
     ]
    }
   ],
   "source": [
    "number = int(input(\"Enter a number: \"))\n",
    "\n",
    "if number % 2 == 0:\n",
    "    print(\"The number is even.\")\n",
    "else:\n",
    "    print(\"The number is odd.\")"
   ]
  },
  {
   "cell_type": "markdown",
   "id": "10cf965d",
   "metadata": {},
   "source": [
    "### 3.How can you use nested if-else statements in Python, and provide an example? "
   ]
  },
  {
   "cell_type": "code",
   "execution_count": 41,
   "id": "b3b90d1e",
   "metadata": {},
   "outputs": [
    {
     "name": "stdout",
     "output_type": "stream",
     "text": [
      "Enter a number: 58\n",
      "The number is positive.\n"
     ]
    }
   ],
   "source": [
    "number = float(input(\"Enter a number: \"))\n",
    "\n",
    "if number > 0:\n",
    "    print(\"The number is positive.\")\n",
    "elif number < 0:\n",
    "    print(\"The number is negative.\")\n",
    "else:\n",
    "    print(\"The number is zero.\")\n"
   ]
  },
  {
   "cell_type": "markdown",
   "id": "c00d0ba3",
   "metadata": {},
   "source": [
    "### 4.Write a Python program to determine the largest of three numbers using if-else.\n"
   ]
  },
  {
   "cell_type": "code",
   "execution_count": 40,
   "id": "95b1bf8e",
   "metadata": {},
   "outputs": [
    {
     "name": "stdout",
     "output_type": "stream",
     "text": [
      "Enter the first number: 25\n",
      "Enter the second number: 89\n",
      "Enter the third number: 68\n",
      "89.0 is the largest.\n"
     ]
    }
   ],
   "source": [
    "num1 = float(input(\"Enter the first number: \"))\n",
    "num2 = float(input(\"Enter the second number: \"))\n",
    "num3 = float(input(\"Enter the third number: \"))\n",
    "\n",
    "if num1 >= num2 and num1 >= num3:\n",
    "    print(f\"{num1} is the largest.\")\n",
    "elif num2 >= num1 and num2 >= num3:\n",
    "    print(f\"{num2} is the largest.\")\n",
    "else:\n",
    "    print(f\"{num3} is the largest.\")\n"
   ]
  },
  {
   "cell_type": "markdown",
   "id": "65ba8e01",
   "metadata": {},
   "source": [
    "### 5.Write a Python program that calculates the absolute value of a number using if-else."
   ]
  },
  {
   "cell_type": "code",
   "execution_count": 38,
   "id": "66abda28",
   "metadata": {},
   "outputs": [
    {
     "name": "stdout",
     "output_type": "stream",
     "text": [
      "Enter a number: 5\n",
      "The absolute value of 5.0 is: 5.0\n"
     ]
    }
   ],
   "source": [
    "number = float(input(\"Enter a number: \"))\n",
    "\n",
    "if number < 0:\n",
    "    absolute_value = -number\n",
    "else:\n",
    "    absolute_value = number\n",
    "\n",
    "print(f\"The absolute value of {number} is: {absolute_value}\")\n"
   ]
  },
  {
   "cell_type": "markdown",
   "id": "0edfeb98",
   "metadata": {},
   "source": [
    "### 6.Create a Python program that checks if a given character is a vowel or consonant using if-else."
   ]
  },
  {
   "cell_type": "code",
   "execution_count": 37,
   "id": "5a9f9468",
   "metadata": {},
   "outputs": [
    {
     "name": "stdout",
     "output_type": "stream",
     "text": [
      "Enter a character: l\n",
      "l is a consonant.\n"
     ]
    }
   ],
   "source": [
    "character = input(\"Enter a character: \")\n",
    "\n",
    "if character.lower() in ['a', 'e', 'i', 'o', 'u']:\n",
    "    print(f\"{character} is a vowel.\")\n",
    "else:\n",
    "    print(f\"{character} is a consonant.\")\n"
   ]
  },
  {
   "cell_type": "markdown",
   "id": "934bf1a8",
   "metadata": {},
   "source": [
    "### 7.Write a Python program to determine if a user is eligible to vote based on their age using if-else."
   ]
  },
  {
   "cell_type": "code",
   "execution_count": 36,
   "id": "dcccea10",
   "metadata": {},
   "outputs": [
    {
     "name": "stdout",
     "output_type": "stream",
     "text": [
      "Enter your age: 25\n",
      "You are eligible to vote.\n"
     ]
    }
   ],
   "source": [
    "age = int(input(\"Enter your age: \"))\n",
    "\n",
    "if age >= 18:\n",
    "    print(\"You are eligible to vote.\")\n",
    "else:\n",
    "    print(\"You are not eligible to vote.\")\n"
   ]
  },
  {
   "cell_type": "markdown",
   "id": "e32fb4d6",
   "metadata": {},
   "source": [
    "### 8.Create a Python program that calculates the discount amount based on the purchase amount using if-else."
   ]
  },
  {
   "cell_type": "code",
   "execution_count": 35,
   "id": "cf03c55e",
   "metadata": {},
   "outputs": [
    {
     "name": "stdout",
     "output_type": "stream",
     "text": [
      "Enter the purchase amount: 655\n",
      "Discount amount: 32.75\n",
      "Final amount after discount: 622.25\n"
     ]
    }
   ],
   "source": [
    "purchase_amount = float(input(\"Enter the purchase amount: \"))\n",
    "\n",
    "if purchase_amount >= 1000:\n",
    "    discount_percentage = 10\n",
    "else:\n",
    "    discount_percentage = 5\n",
    "\n",
    "discount_amount = (discount_percentage / 100) * purchase_amount\n",
    "final_amount = purchase_amount - discount_amount\n",
    "\n",
    "print(f\"Discount amount: {discount_amount}\")\n",
    "print(f\"Final amount after discount: {final_amount}\")\n"
   ]
  },
  {
   "cell_type": "markdown",
   "id": "cfcfc709",
   "metadata": {},
   "source": [
    "### 9.Write a Python program to check if a number is within a specified range using if-else."
   ]
  },
  {
   "cell_type": "code",
   "execution_count": 34,
   "id": "8baae14b",
   "metadata": {},
   "outputs": [
    {
     "name": "stdout",
     "output_type": "stream",
     "text": [
      "Enter a number: 25\n",
      "25.0 is within the specified range.\n"
     ]
    }
   ],
   "source": [
    "number = float(input(\"Enter a number: \"))\n",
    "lower_limit = 10\n",
    "upper_limit = 50\n",
    "\n",
    "if lower_limit <= number <= upper_limit:\n",
    "    print(f\"{number} is within the specified range.\")\n",
    "else:\n",
    "    print(f\"{number} is outside the specified range.\")\n"
   ]
  },
  {
   "cell_type": "markdown",
   "id": "14f5d0d5",
   "metadata": {},
   "source": [
    "### 10.Create a Python program that determines the grade of a student based on their score using if-else"
   ]
  },
  {
   "cell_type": "code",
   "execution_count": 33,
   "id": "a638da75",
   "metadata": {},
   "outputs": [
    {
     "name": "stdout",
     "output_type": "stream",
     "text": [
      "Enter the student's score: 89\n",
      "The student's grade is: B\n"
     ]
    }
   ],
   "source": [
    "score = float(input(\"Enter the student's score: \"))\n",
    "\n",
    "if 90 <= score <= 100:\n",
    "    grade = 'A'\n",
    "elif 80 <= score < 90:\n",
    "    grade = 'B'\n",
    "elif 70 <= score < 80:\n",
    "    grade = 'C'\n",
    "elif 60 <= score < 70:\n",
    "    grade = 'D'\n",
    "else:\n",
    "    grade = 'F'\n",
    "\n",
    "print(f\"The student's grade is: {grade}\")\n"
   ]
  },
  {
   "cell_type": "markdown",
   "id": "a724d014",
   "metadata": {},
   "source": [
    "### 11.Write a Python program to check if a string is empty or not using if-else.\n"
   ]
  },
  {
   "cell_type": "code",
   "execution_count": 44,
   "id": "e230cd3f",
   "metadata": {},
   "outputs": [
    {
     "name": "stdout",
     "output_type": "stream",
     "text": [
      "Enter a string: fyt\n",
      "The string is not empty.\n"
     ]
    }
   ],
   "source": [
    "user_input = input(\"Enter a string: \")\n",
    "\n",
    "if user_input:\n",
    "    print(\"The string is not empty.\")\n",
    "else:\n",
    "    print(\"The string is empty.\")\n"
   ]
  },
  {
   "cell_type": "markdown",
   "id": "23f33ee0",
   "metadata": {},
   "source": [
    "### 12.Create a Python program that identifies the type of a triangle (e.g., equilateral, isosceles, or scalene) based on input values using if-else."
   ]
  },
  {
   "cell_type": "code",
   "execution_count": 45,
   "id": "878ca509",
   "metadata": {},
   "outputs": [
    {
     "name": "stdout",
     "output_type": "stream",
     "text": [
      "Enter the length of the first side: 25\n",
      "Enter the length of the second side: 12\n",
      "Enter the length of the third side: 12\n",
      "It's an isosceles triangle.\n"
     ]
    }
   ],
   "source": [
    "side1 = float(input(\"Enter the length of the first side: \"))\n",
    "side2 = float(input(\"Enter the length of the second side: \"))\n",
    "side3 = float(input(\"Enter the length of the third side: \"))\n",
    "\n",
    "if side1 == side2 == side3:\n",
    "    print(\"It's an equilateral triangle.\")\n",
    "elif side1 == side2 or side1 == side3 or side2 == side3:\n",
    "    print(\"It's an isosceles triangle.\")\n",
    "else:\n",
    "    print(\"It's a scalene triangle.\")\n"
   ]
  },
  {
   "cell_type": "markdown",
   "id": "a3935e00",
   "metadata": {},
   "source": [
    "### 13.Write a Python program to determine the day of the week based on a user-provided number using if-else."
   ]
  },
  {
   "cell_type": "code",
   "execution_count": 46,
   "id": "437811c4",
   "metadata": {},
   "outputs": [
    {
     "name": "stdout",
     "output_type": "stream",
     "text": [
      "Enter a number (1-7) representing the day of the week: 5\n",
      "The day of the week is Friday.\n"
     ]
    }
   ],
   "source": [
    "day_number = int(input(\"Enter a number (1-7) representing the day of the week: \"))\n",
    "\n",
    "if 1 <= day_number <= 7:\n",
    "    days = [\"Monday\", \"Tuesday\", \"Wednesday\", \"Thursday\", \"Friday\", \"Saturday\", \"Sunday\"]\n",
    "    print(f\"The day of the week is {days[day_number - 1]}.\")\n",
    "else:\n",
    "    print(\"Invalid input. Please enter a number between 1 and 7.\")\n"
   ]
  },
  {
   "cell_type": "markdown",
   "id": "0115f19f",
   "metadata": {},
   "source": [
    "### 14.Create a Python program that checks if a given year is a leap year using both if-else and a function."
   ]
  },
  {
   "cell_type": "code",
   "execution_count": 47,
   "id": "4396886d",
   "metadata": {},
   "outputs": [
    {
     "name": "stdout",
     "output_type": "stream",
     "text": [
      "Enter a year: 2008\n",
      "2008 is a leap year.\n"
     ]
    }
   ],
   "source": [
    "def is_leap_year(year):\n",
    "    if (year % 4 == 0 and year % 100 != 0) or (year % 400 == 0):\n",
    "        return True\n",
    "    else:\n",
    "        return False\n",
    "\n",
    "user_year = int(input(\"Enter a year: \"))\n",
    "\n",
    "if is_leap_year(user_year):\n",
    "    print(f\"{user_year} is a leap year.\")\n",
    "else:\n",
    "    print(f\"{user_year} is not a leap year.\")\n"
   ]
  },
  {
   "cell_type": "markdown",
   "id": "e8e32ea8",
   "metadata": {},
   "source": [
    "### 15.How do you use the \"assert\" statement in Python to add debugging checks within if-else blocks?"
   ]
  },
  {
   "cell_type": "code",
   "execution_count": 48,
   "id": "863fbae2",
   "metadata": {},
   "outputs": [
    {
     "name": "stdout",
     "output_type": "stream",
     "text": [
      "Enter a number: 25\n",
      "The number is odd.\n"
     ]
    }
   ],
   "source": [
    "user_input = int(input(\"Enter a number: \"))\n",
    "\n",
    "# Debugging check using assert\n",
    "assert user_input >= 0, \"Input should be a non-negative number.\"\n",
    "\n",
    "if user_input % 2 == 0:\n",
    "    print(\"The number is even.\")\n",
    "else:\n",
    "    print(\"The number is odd.\")\n"
   ]
  },
  {
   "cell_type": "markdown",
   "id": "c582a8a4",
   "metadata": {},
   "source": [
    "### 16.Create a Python program that determines the eligibility of a person for a senior citizen discount based on age using if-else."
   ]
  },
  {
   "cell_type": "code",
   "execution_count": 49,
   "id": "378c1d3c",
   "metadata": {},
   "outputs": [
    {
     "name": "stdout",
     "output_type": "stream",
     "text": [
      "Enter your age: 58\n",
      "You are not eligible for a senior citizen discount.\n"
     ]
    }
   ],
   "source": [
    "age = int(input(\"Enter your age: \"))\n",
    "\n",
    "if age >= 60:\n",
    "    print(\"You are eligible for a senior citizen discount.\")\n",
    "else:\n",
    "    print(\"You are not eligible for a senior citizen discount.\")\n"
   ]
  },
  {
   "cell_type": "markdown",
   "id": "55f25e24",
   "metadata": {},
   "source": [
    "### 17.Write a Python program to categorize a given character as uppercase, lowercase, or neither using if-else."
   ]
  },
  {
   "cell_type": "code",
   "execution_count": 50,
   "id": "86c87ee5",
   "metadata": {},
   "outputs": [
    {
     "name": "stdout",
     "output_type": "stream",
     "text": [
      "Enter a character: df\n",
      "df is a lowercase letter.\n"
     ]
    }
   ],
   "source": [
    "character = input(\"Enter a character: \")\n",
    "\n",
    "if character.isalpha():\n",
    "    if character.isupper():\n",
    "        print(f\"{character} is an uppercase letter.\")\n",
    "    else:\n",
    "        print(f\"{character} is a lowercase letter.\")\n",
    "else:\n",
    "    print(f\"{character} is not a letter.\")\n"
   ]
  },
  {
   "cell_type": "markdown",
   "id": "913f8cc4",
   "metadata": {},
   "source": [
    "### 18.Write a Python program to determine the roots of a quadratic equation using if-else."
   ]
  },
  {
   "cell_type": "code",
   "execution_count": 52,
   "id": "00624b62",
   "metadata": {},
   "outputs": [
    {
     "name": "stdout",
     "output_type": "stream",
     "text": [
      "Enter the coefficient 'a': 25\n",
      "Enter the coefficient 'b': 254\n",
      "Enter the coefficient 'c': 46\n",
      "The roots are real and distinct: -0.18445100116442517 and -9.975548998835574\n"
     ]
    }
   ],
   "source": [
    "import math\n",
    "\n",
    "a = float(input(\"Enter the coefficient 'a': \"))\n",
    "b = float(input(\"Enter the coefficient 'b': \"))\n",
    "c = float(input(\"Enter the coefficient 'c': \"))\n",
    "\n",
    "discriminant = b**2 - 4*a*c\n",
    "\n",
    "if discriminant > 0:\n",
    "    root1 = (-b + math.sqrt(discriminant)) / (2*a)\n",
    "    root2 = (-b - math.sqrt(discriminant)) / (2*a)\n",
    "    print(f\"The roots are real and distinct: {root1} and {root2}\")\n",
    "elif discriminant == 0:\n",
    "    root = -b / (2*a)\n",
    "    print(f\"The root is real and equal: {root}\")\n",
    "else:\n",
    "    print(\"The roots are complex.\")\n"
   ]
  },
  {
   "cell_type": "markdown",
   "id": "cf55565b",
   "metadata": {},
   "source": [
    "### 19.Create a Python program that checks if a given year is a century year or not using if-else."
   ]
  },
  {
   "cell_type": "code",
   "execution_count": 53,
   "id": "acb463ca",
   "metadata": {},
   "outputs": [
    {
     "name": "stdout",
     "output_type": "stream",
     "text": [
      "Enter a year: 2005\n",
      "2005 is not a century year.\n"
     ]
    }
   ],
   "source": [
    "year = int(input(\"Enter a year: \"))\n",
    "\n",
    "if year % 100 == 0:\n",
    "    print(f\"{year} is a century year.\")\n",
    "else:\n",
    "    print(f\"{year} is not a century year.\")\n"
   ]
  },
  {
   "cell_type": "markdown",
   "id": "26b0c36f",
   "metadata": {},
   "source": [
    "### 20.Write a Python program to determine if a given number is a perfect square using if-else."
   ]
  },
  {
   "cell_type": "code",
   "execution_count": 54,
   "id": "c8253e7f",
   "metadata": {},
   "outputs": [
    {
     "name": "stdout",
     "output_type": "stream",
     "text": [
      "Enter a number: 5\n",
      "5 is not a perfect square.\n"
     ]
    }
   ],
   "source": [
    "number = int(input(\"Enter a number: \"))\n",
    "\n",
    "if number > 0 and int(math.sqrt(number))**2 == number:\n",
    "    print(f\"{number} is a perfect square.\")\n",
    "else:\n",
    "    print(f\"{number} is not a perfect square.\")\n"
   ]
  },
  {
   "cell_type": "markdown",
   "id": "df650623",
   "metadata": {},
   "source": [
    "### 21.Explain the purpose of the \"continue\" and \"break\" statements within if-else loops."
   ]
  },
  {
   "cell_type": "markdown",
   "id": "4b9f9282",
   "metadata": {},
   "source": [
    "The continue statement is used to skip the rest of the code inside a loop for the current iteration and move to the next iteration.\n",
    "The break statement is used to exit the loop prematurely, skipping the remaining iterations."
   ]
  },
  {
   "cell_type": "markdown",
   "id": "691078a1",
   "metadata": {},
   "source": [
    "### 22.Create a Python program that calculates the BMI (Body Mass Index) of a person based on their weight and height using if-else."
   ]
  },
  {
   "cell_type": "code",
   "execution_count": 1,
   "id": "9c0545c1",
   "metadata": {},
   "outputs": [
    {
     "name": "stdout",
     "output_type": "stream",
     "text": [
      "Enter your weight in kilograms: 25\n",
      "Enter your height in meters: 2\n",
      "Your BMI is 6.25, which is considered underweight.\n"
     ]
    }
   ],
   "source": [
    "weight = float(input(\"Enter your weight in kilograms: \"))\n",
    "height = float(input(\"Enter your height in meters: \"))\n",
    "\n",
    "bmi = weight / (height ** 2)\n",
    "\n",
    "if 18.5 <= bmi <= 24.9:\n",
    "    print(f\"Your BMI is {bmi:.2f}, which is considered normal.\")\n",
    "elif bmi < 18.5:\n",
    "    print(f\"Your BMI is {bmi:.2f}, which is considered underweight.\")\n",
    "else:\n",
    "    print(f\"Your BMI is {bmi:.2f}, which is considered overweight.\")\n"
   ]
  },
  {
   "cell_type": "markdown",
   "id": "948e5b7a",
   "metadata": {},
   "source": [
    "### 23.How can you use the \"filter()\" function with if-else statements to filter elements from a list?"
   ]
  },
  {
   "cell_type": "code",
   "execution_count": 2,
   "id": "6487d5f2",
   "metadata": {},
   "outputs": [
    {
     "name": "stdout",
     "output_type": "stream",
     "text": [
      "The even numbers in the list are: [2, 4, 6, 8, 10]\n"
     ]
    }
   ],
   "source": [
    "numbers = [1, 2, 3, 4, 5, 6, 7, 8, 9, 10]\n",
    "\n",
    "filtered_numbers = filter(lambda x: x % 2 == 0, numbers)\n",
    "\n",
    "print(f\"The even numbers in the list are: {list(filtered_numbers)}\")\n"
   ]
  },
  {
   "cell_type": "markdown",
   "id": "47221865",
   "metadata": {},
   "source": [
    "### 24.Write a Python program to determine if a given number is prime or not using if-else."
   ]
  },
  {
   "cell_type": "code",
   "execution_count": 3,
   "id": "383f2e0b",
   "metadata": {},
   "outputs": [
    {
     "name": "stdout",
     "output_type": "stream",
     "text": [
      "Enter a number: 58\n",
      "58 is not a prime number.\n"
     ]
    }
   ],
   "source": [
    "def is_prime(number):\n",
    "    if number < 2:\n",
    "        return False\n",
    "    for i in range(2, int(number**0.5) + 1):\n",
    "        if number % i == 0:\n",
    "            return False\n",
    "    return True\n",
    "\n",
    "user_number = int(input(\"Enter a number: \"))\n",
    "\n",
    "if is_prime(user_number):\n",
    "    print(f\"{user_number} is a prime number.\")\n",
    "else:\n",
    "    print(f\"{user_number} is not a prime number.\")\n"
   ]
  },
  {
   "cell_type": "code",
   "execution_count": null,
   "id": "8842535d",
   "metadata": {},
   "outputs": [],
   "source": [
    "Map :-\n",
    "\n",
    "\n",
    "Explain the purpose of the `map()` function in Python and provide an example of how it can be used to apply a function to each element of an iterable.\n",
    "Write a Python program that uses the `map()` function to square each element of a list of numbers.\n",
    "How does the `map()` function differ from a list comprehension in Python, and when would you choose one over the other?\n",
    "Create a Python program that uses the `map()` function to convert a list of names to uppercase.\n",
    "Write a Python program that uses the `map()` function to calculate the length of each word in a list of strings.\n",
    "How can you use the `map()` function to apply a custom function to elements of multiple lists simultaneously in Python?\n",
    "Create a Python program that uses `map()` to convert a list of temperatures from Celsius to Fahrenheit.\n",
    "Write a Python program that uses the `map()` function to round each element of a list of floating-point numbers to the nearest integer.\n"
   ]
  },
  {
   "cell_type": "markdown",
   "id": "5983b8c2",
   "metadata": {},
   "source": [
    "### Map :-"
   ]
  },
  {
   "cell_type": "markdown",
   "id": "adaeef66",
   "metadata": {},
   "source": [
    "### 1.Explain the purpose of the `map()` function in Python and provide an example of how it can be used to apply a function to each element of an iterable."
   ]
  },
  {
   "cell_type": "markdown",
   "id": "f466bacd",
   "metadata": {},
   "source": [
    "The map() function in Python is a built-in function that applies a specified function to all items in an iterable (e.g., list, tuple) and returns an iterator that produces the results. The purpose of map() is to efficiently perform operations on each element of an iterable without the need for explicit loops.\n",
    "The syntax of the map() function is as follows:\n",
    "map(function, iterable, ...)\n",
    "function: The function to apply to each item in the iterable(s).\n",
    "iterable: One or more iterables (e.g., lists, tuples) whose elements will be passed to the function."
   ]
  },
  {
   "cell_type": "code",
   "execution_count": 10,
   "id": "5c3cd3bd",
   "metadata": {},
   "outputs": [
    {
     "name": "stdout",
     "output_type": "stream",
     "text": [
      "[1, 4, 9, 16, 25]\n"
     ]
    }
   ],
   "source": [
    "def square(x):\n",
    "    return x**2\n",
    "numbers = [1, 2, 3, 4, 5]\n",
    "squared_numbers = map(square, numbers)\n",
    "result_list = list(squared_numbers)\n",
    "print(result_list)"
   ]
  },
  {
   "cell_type": "markdown",
   "id": "4436edf5",
   "metadata": {},
   "source": [
    "### 2.Write a Python program that uses the `map()` function to square each element of a list of numbers."
   ]
  },
  {
   "cell_type": "code",
   "execution_count": 9,
   "id": "bd7846a4",
   "metadata": {},
   "outputs": [
    {
     "name": "stdout",
     "output_type": "stream",
     "text": [
      "[1, 4, 9, 16, 25]\n"
     ]
    }
   ],
   "source": [
    "# Function to square a number\n",
    "def square(x):\n",
    "    return x**2\n",
    "\n",
    "# List of numbers\n",
    "numbers = [1, 2, 3, 4, 5]\n",
    "\n",
    "# Using map() to square each element of the list\n",
    "squared_numbers = map(square, numbers)\n",
    "\n",
    "# Converting the result to a list\n",
    "result_list = list(squared_numbers)\n",
    "\n",
    "print(result_list)\n",
    "# Output: [1, 4, 9, 16, 25]"
   ]
  },
  {
   "cell_type": "markdown",
   "id": "57d9eec1",
   "metadata": {},
   "source": [
    "### 3.How does the `map()` function differ from a list comprehension in Python, and when would you choose one over the other?"
   ]
  },
  {
   "cell_type": "markdown",
   "id": "847f8533",
   "metadata": {},
   "source": [
    "Both map() and list comprehensions are used for applying a function to each element of an iterable, but they have some differences:\n",
    "map() returns an iterator, which can be more memory-efficient for large datasets.\n",
    "List comprehensions may be more concise and readable in some cases"
   ]
  },
  {
   "cell_type": "code",
   "execution_count": 8,
   "id": "81ecbfe1",
   "metadata": {},
   "outputs": [
    {
     "name": "stdout",
     "output_type": "stream",
     "text": [
      "[1, 4, 9, 16, 25]\n"
     ]
    }
   ],
   "source": [
    "numbers = [1, 2, 3, 4, 5]\n",
    "squared_numbers = [x**2 for x in numbers]\n",
    "print(squared_numbers)"
   ]
  },
  {
   "cell_type": "markdown",
   "id": "0ab7ad60",
   "metadata": {},
   "source": [
    "### 4.Create a Python program that uses the `map()` function to convert a list of names to uppercase."
   ]
  },
  {
   "cell_type": "code",
   "execution_count": 7,
   "id": "9f348ab6",
   "metadata": {},
   "outputs": [
    {
     "name": "stdout",
     "output_type": "stream",
     "text": [
      "['ALICE', 'BOB', 'CHARLIE']\n"
     ]
    }
   ],
   "source": [
    "names = [\"Alice\", \"Bob\", \"Charlie\"]\n",
    "uppercased_names = map(str.upper, names)\n",
    "result_list = list(uppercased_names)\n",
    "print(result_list)"
   ]
  },
  {
   "cell_type": "markdown",
   "id": "5dd041f7",
   "metadata": {},
   "source": [
    "### 5.Write a Python program that uses the `map()` function to calculate the length of each word in a list of strings."
   ]
  },
  {
   "cell_type": "code",
   "execution_count": 6,
   "id": "525b8162",
   "metadata": {},
   "outputs": [
    {
     "name": "stdout",
     "output_type": "stream",
     "text": [
      "[5, 6, 6]\n"
     ]
    }
   ],
   "source": [
    "words = [\"apple\", \"banana\", \"cherry\"]\n",
    "word_lengths = map(len, words)\n",
    "result_list = list(word_lengths)\n",
    "print(result_list)"
   ]
  },
  {
   "cell_type": "markdown",
   "id": "63833f91",
   "metadata": {},
   "source": [
    "### 6.How can you use the `map()` function to apply a custom function to elements of multiple lists simultaneously in Python?"
   ]
  },
  {
   "cell_type": "code",
   "execution_count": 5,
   "id": "b263c866",
   "metadata": {},
   "outputs": [
    {
     "name": "stdout",
     "output_type": "stream",
     "text": [
      "[5, 7, 9]\n"
     ]
    }
   ],
   "source": [
    "def add_elements(x, y):\n",
    "    return x + y\n",
    "list1 = [1, 2, 3]\n",
    "list2 = [4, 5, 6]\n",
    "result = map(add_elements, list1, list2)\n",
    "result_list = list(result)\n",
    "print(result_list)"
   ]
  },
  {
   "cell_type": "markdown",
   "id": "77e966a7",
   "metadata": {},
   "source": [
    "### 7.Create a Python program that uses `map()` to convert a list of temperatures from Celsius to Fahrenheit."
   ]
  },
  {
   "cell_type": "code",
   "execution_count": null,
   "id": "fb8300b4",
   "metadata": {},
   "outputs": [],
   "source": [
    "def celsius_to_fahrenheit(celsius):\n",
    "    return (celsius * 9/5) + 32\n",
    "temperatures_celsius = [0, 10, 20, 30]\n",
    "temperatures_fahrenheit = map(celsius_to_fahrenheit, temperatures_celsius)\n",
    "result_list = list(temperatures_fahrenheit)\n",
    "print(result_list)\n"
   ]
  },
  {
   "cell_type": "markdown",
   "id": "24d6a1a6",
   "metadata": {},
   "source": [
    "### 8.Write a Python program that uses the `map()` function to round each element of a list of floating-point numbers to the nearest integer."
   ]
  },
  {
   "cell_type": "code",
   "execution_count": 4,
   "id": "01bcf42d",
   "metadata": {},
   "outputs": [
    {
     "name": "stdout",
     "output_type": "stream",
     "text": [
      "[2, 3, 3, 5]\n"
     ]
    }
   ],
   "source": [
    "float_numbers = [1.5, 2.8, 3.2, 4.7]\n",
    "integer\n",
    "rounded_numbers = map(round, float_numbers)\n",
    "result_list = list(rounded_numbers)\n",
    "print(result_list)"
   ]
  },
  {
   "cell_type": "markdown",
   "id": "c50bd7be",
   "metadata": {},
   "source": [
    "### Reduce :-\n"
   ]
  },
  {
   "cell_type": "markdown",
   "id": "d97d6f6a",
   "metadata": {},
   "source": [
    "### 1.What is the `reduce()` function in Python, and what module should you import to use it? Provide an example of its basic usage."
   ]
  },
  {
   "cell_type": "markdown",
   "id": "d8441c0e",
   "metadata": {},
   "source": [
    "The reduce() function in Python is part of the functools module. It is used for cumulative computation on a list of items, applying a binary function successively to the items, reducing the iterable to a single accumulated result. The reduce() function is particularly useful for tasks that involve aggregating or combining elements."
   ]
  },
  {
   "cell_type": "code",
   "execution_count": 11,
   "id": "57652d93",
   "metadata": {},
   "outputs": [
    {
     "name": "stdout",
     "output_type": "stream",
     "text": [
      "The product of the numbers is: 120\n"
     ]
    }
   ],
   "source": [
    "from functools import reduce\n",
    "numbers = [2, 3, 4, 5]\n",
    "def multiply(x, y):\n",
    "    return x * y\n",
    "product = reduce(multiply, numbers)\n",
    "print(f\"The product of the numbers is: {product}\")"
   ]
  },
  {
   "cell_type": "markdown",
   "id": "eab39e19",
   "metadata": {},
   "source": [
    "### 2.Write a Python program that uses the `reduce()` function to find the product of all elements in a list."
   ]
  },
  {
   "cell_type": "code",
   "execution_count": 14,
   "id": "387dc911",
   "metadata": {},
   "outputs": [
    {
     "name": "stdout",
     "output_type": "stream",
     "text": [
      "The product of the numbers is: 120\n"
     ]
    }
   ],
   "source": [
    "from functools import reduce\n",
    "numbers = [2, 3, 4, 5]\n",
    "def multiply(x, y):\n",
    "    return x * y\n",
    "product = reduce(multiply, numbers)\n",
    "print(f\"The product of the numbers is: {product}\")"
   ]
  },
  {
   "cell_type": "markdown",
   "id": "77c561d9",
   "metadata": {},
   "source": [
    "### 3.Create a Python program that uses `reduce()` to find the maximum element in a list of numbers.\n"
   ]
  },
  {
   "cell_type": "code",
   "execution_count": 13,
   "id": "aa1e89fa",
   "metadata": {},
   "outputs": [
    {
     "name": "stdout",
     "output_type": "stream",
     "text": [
      "The maximum element in the list is: 42\n"
     ]
    }
   ],
   "source": [
    "from functools import reduce\n",
    "numbers = [15, 8, 23, 19, 42]\n",
    "max_number = reduce(lambda x, y: x if x > y else y, numbers)\n",
    "print(f\"The maximum element in the list is: {max_number}\")"
   ]
  },
  {
   "cell_type": "markdown",
   "id": "59bc20bd",
   "metadata": {},
   "source": [
    "### 4.How can you use the `reduce()` function to concatenate a list of strings into a single string?"
   ]
  },
  {
   "cell_type": "code",
   "execution_count": 16,
   "id": "94216842",
   "metadata": {},
   "outputs": [
    {
     "name": "stdout",
     "output_type": "stream",
     "text": [
      "The concatenated string is: Hello, World!\n"
     ]
    }
   ],
   "source": [
    "from functools import reduce\n",
    "strings = [\"Hello\", \", \", \"World\", \"!\"]\n",
    "concatenated_string = reduce(lambda x, y: x + y, strings)\n",
    "print(f\"The concatenated string is: {concatenated_string}\")"
   ]
  },
  {
   "cell_type": "markdown",
   "id": "a3843241",
   "metadata": {},
   "source": [
    "### 5.Write a Python program that calculates the factorial of a number using the `reduce()` function."
   ]
  },
  {
   "cell_type": "code",
   "execution_count": 17,
   "id": "2d33a2a0",
   "metadata": {},
   "outputs": [
    {
     "name": "stdout",
     "output_type": "stream",
     "text": [
      "The factorial of 5 is: 120\n"
     ]
    }
   ],
   "source": [
    "from functools import reduce\n",
    "def multiply(x, y):\n",
    "    return x * y\n",
    "def factorial(n):\n",
    "    return reduce(multiply, range(1, n + 1), 1)\n",
    "result = factorial(5)\n",
    "print(f\"The factorial of 5 is: {result}\")"
   ]
  },
  {
   "cell_type": "markdown",
   "id": "2df6b6d1",
   "metadata": {},
   "source": [
    "### 6.Create a Python program that uses `reduce()` to find the GCD (Greatest Common Divisor) of a list of numbers."
   ]
  },
  {
   "cell_type": "code",
   "execution_count": 18,
   "id": "6e833cf2",
   "metadata": {},
   "outputs": [
    {
     "name": "stdout",
     "output_type": "stream",
     "text": [
      "The GCD of the numbers is: 10\n"
     ]
    }
   ],
   "source": [
    "from functools import reduce\n",
    "from math import gcd\n",
    "numbers = [20, 30, 40, 50]\n",
    "gcd_result = reduce(gcd, numbers)\n",
    "print(f\"The GCD of the numbers is: {gcd_result}\")"
   ]
  },
  {
   "cell_type": "markdown",
   "id": "84966702",
   "metadata": {},
   "source": [
    "### 7.Write a Python program that uses the `reduce()` function to find the sum of the digits of a given number"
   ]
  },
  {
   "cell_type": "code",
   "execution_count": 19,
   "id": "b38a8607",
   "metadata": {},
   "outputs": [
    {
     "name": "stdout",
     "output_type": "stream",
     "text": [
      "The sum of digits is: 15\n"
     ]
    }
   ],
   "source": [
    "from functools import reduce\n",
    "def sum_of_digits(number):\n",
    "    return reduce(lambda x, y: int(x) + int(y), str(number), 0)\n",
    "result = sum_of_digits(12345)\n",
    "print(f\"The sum of digits is: {result}\")"
   ]
  },
  {
   "cell_type": "markdown",
   "id": "b73b5e10",
   "metadata": {},
   "source": [
    "### Filter :-"
   ]
  },
  {
   "cell_type": "markdown",
   "id": "ecf3d82c",
   "metadata": {},
   "source": [
    "### 1.Explain the purpose of the `filter()` function in Python and provide an example of how it can be used to filter elements from an iterable."
   ]
  },
  {
   "cell_type": "markdown",
   "id": "5d5fe939",
   "metadata": {},
   "source": [
    "The filter() function in Python is a built-in function that is used to filter elements from an iterable based on a specified condition. It creates an iterator from elements of the iterable for which a function returns True. The syntax of the filter() function is as follows:\n",
    "filter(function, iterable)\n",
    "function: The function that tests if each element of the iterable returns True or False.\n",
    "iterable: The iterable sequence (e.g., list, tuple) whose elements are tested by the function."
   ]
  },
  {
   "cell_type": "markdown",
   "id": "be84d305",
   "metadata": {},
   "source": [
    "### 2.Write a Python program that uses the `filter()` function to select even numbers from a list of integers"
   ]
  },
  {
   "cell_type": "code",
   "execution_count": 20,
   "id": "65aaa5e9",
   "metadata": {},
   "outputs": [
    {
     "name": "stdout",
     "output_type": "stream",
     "text": [
      "[2, 4, 6, 8, 10]\n"
     ]
    }
   ],
   "source": [
    "numbers = [1, 2, 3, 4, 5, 6, 7, 8, 9, 10]\n",
    "def is_even(x):\n",
    "    return x % 2 == 0\n",
    "even_numbers = filter(is_even, numbers)\n",
    "result_list = list(even_numbers)\n",
    "print(result_list)"
   ]
  },
  {
   "cell_type": "markdown",
   "id": "5de11057",
   "metadata": {},
   "source": [
    "### 3.Create a Python program that uses the `filter()` function to select names that start with a specific letter from a list of strings."
   ]
  },
  {
   "cell_type": "code",
   "execution_count": 21,
   "id": "5a9d23c9",
   "metadata": {},
   "outputs": [
    {
     "name": "stdout",
     "output_type": "stream",
     "text": [
      "['Charlie']\n"
     ]
    }
   ],
   "source": [
    "names = [\"Alice\", \"Bob\", \"Charlie\", \"David\"]\n",
    "def starts_with_letter(letter):\n",
    "    return lambda x: x.startswith(letter)\n",
    "selected_names = filter(starts_with_letter('C'), names)\n",
    "result_list = list(selected_names)\n",
    "print(result_list)"
   ]
  },
  {
   "cell_type": "markdown",
   "id": "23bd80f8",
   "metadata": {},
   "source": [
    "### 4.Write a Python program that uses the `filter()` function to select prime numbers from a list of integers."
   ]
  },
  {
   "cell_type": "code",
   "execution_count": 22,
   "id": "a14e76bc",
   "metadata": {},
   "outputs": [
    {
     "name": "stdout",
     "output_type": "stream",
     "text": [
      "[2, 3, 5, 7]\n"
     ]
    }
   ],
   "source": [
    "from math import isqrt\n",
    "numbers = [2, 3, 4, 5, 6, 7, 8, 9, 10]\n",
    "def is_prime(x):\n",
    "    if x < 2:\n",
    "        return False\n",
    "    for i in range(2, isqrt(x) + 1):\n",
    "        if x % i == 0:\n",
    "            return False\n",
    "    return True\n",
    "prime_numbers = filter(is_prime, numbers)\n",
    "result_list = list(prime_numbers)\n",
    "\n",
    "print(result_list)\n",
    "\n"
   ]
  },
  {
   "cell_type": "markdown",
   "id": "200900ff",
   "metadata": {},
   "source": [
    "### 5.How can you use the `filter()` function to remove None values from a list in Python?\n"
   ]
  },
  {
   "cell_type": "code",
   "execution_count": 23,
   "id": "8180491d",
   "metadata": {},
   "outputs": [
    {
     "name": "stdout",
     "output_type": "stream",
     "text": [
      "[1, 3, 5]\n"
     ]
    }
   ],
   "source": [
    "values = [1, None, 3, None, 5, None]\n",
    "non_none_values = filter(lambda x: x is not None, values)\n",
    "result_list = list(non_none_values)\n",
    "print(result_list)"
   ]
  },
  {
   "cell_type": "markdown",
   "id": "f4f1026e",
   "metadata": {},
   "source": [
    "### 6.Create a Python program that uses `filter()` to select words longer than a certain length from a list of strings."
   ]
  },
  {
   "cell_type": "code",
   "execution_count": 24,
   "id": "045c0529",
   "metadata": {},
   "outputs": [
    {
     "name": "stdout",
     "output_type": "stream",
     "text": [
      "['banana', 'orange']\n"
     ]
    }
   ],
   "source": [
    "words = [\"apple\", \"banana\", \"kiwi\", \"orange\", \"grape\"]\n",
    "def longer_than_length(length):\n",
    "    return lambda x: len(x) > length\n",
    "selected_words = filter(longer_than_length(5), words)\n",
    "result_list = list(selected_words)\n",
    "print(result_list)\n"
   ]
  },
  {
   "cell_type": "markdown",
   "id": "ac83f4e5",
   "metadata": {},
   "source": [
    "### 7.Write a Python program that uses the `filter()` function to select elements greater than a specified threshold from a list of values."
   ]
  },
  {
   "cell_type": "code",
   "execution_count": 25,
   "id": "c67e2efb",
   "metadata": {},
   "outputs": [
    {
     "name": "stdout",
     "output_type": "stream",
     "text": [
      "[50, 60, 70]\n"
     ]
    }
   ],
   "source": [
    "\n",
    "values = [10, 20, 30, 40, 50, 60, 70]\n",
    "def greater_than_threshold(threshold):\n",
    "    return lambda x: x > threshold\n",
    "selected_values = filter(greater_than_threshold(40), values)\n",
    "result_list = list(selected_values)\n",
    "print(result_list)\n",
    "\n"
   ]
  },
  {
   "cell_type": "code",
   "execution_count": null,
   "id": "49f089c1",
   "metadata": {},
   "outputs": [],
   "source": [
    "Recursion:-\n",
    "\n",
    "Explain the concept of recursion in Python. How does it differ from iteration?\n",
    "Write a Python program to calculate the factorial of a number using recursion.\n",
    "Create a recursive Python function to find the nth Fibonacci number.\n",
    "Write a recursive Python function to calculate the sum of all elements in a list.\n",
    "How can you prevent a recursive function from running indefinitely, causing a stack overflow error?\n",
    "Create a recursive Python function to find the greatest common divisor (GCD) of two numbers using the Euclidean algorithm.\n",
    "Write a recursive Python function to reverse a string.\n",
    "Create a recursive Python function to calculate the power of a number (x^n).\n",
    "Write a recursive Python function to find all permutations of a given string.\n",
    "Write a recursive Python function to check if a string is a palindrome.\n",
    "Create a recursive Python function to generate all possible combinations of a list of elements.\n"
   ]
  },
  {
   "cell_type": "markdown",
   "id": "30b6a6b3",
   "metadata": {},
   "source": [
    "### Recursion:-"
   ]
  },
  {
   "cell_type": "markdown",
   "id": "62d96c49",
   "metadata": {},
   "source": [
    "### 1.Explain the concept of recursion in Python. How does it differ from iteration?"
   ]
  },
  {
   "cell_type": "markdown",
   "id": "5d0d05e2",
   "metadata": {},
   "source": [
    "Concept of Recursion in Python:\n",
    "Recursion is a programming concept where a function calls itself directly or indirectly to solve a problem. In Python, a recursive function is a function that calls itself to break down the problem into smaller sub-problems. Each recursive call works on a smaller instance of the same problem until a base case is reached, at which point the recursion stops.\n",
    "\n",
    "Difference from Iteration:\n",
    "\n",
    "Iteration involves using loops (e.g., for or while loops) to repeatedly execute a set of instructions until a condition is met.\n",
    "Recursion, on the other hand, involves breaking down a problem into smaller sub-problems and solving them iteratively by calling the same function."
   ]
  },
  {
   "cell_type": "markdown",
   "id": "8042186f",
   "metadata": {},
   "source": [
    "### 2.Write a Python program to calculate the factorial of a number using recursion."
   ]
  },
  {
   "cell_type": "code",
   "execution_count": 27,
   "id": "91482f2a",
   "metadata": {},
   "outputs": [
    {
     "name": "stdout",
     "output_type": "stream",
     "text": [
      "The factorial of 5 is: 120\n"
     ]
    }
   ],
   "source": [
    "def factorial(n):\n",
    "    if n == 0 or n == 1:\n",
    "        return 1\n",
    "    else:\n",
    "        return n * factorial(n - 1)\n",
    "\n",
    "result = factorial(5)\n",
    "print(f\"The factorial of 5 is: {result}\")\n",
    "# Output: 120\n"
   ]
  },
  {
   "cell_type": "markdown",
   "id": "ac326628",
   "metadata": {},
   "source": [
    "### 3.Create a recursive Python function to find the nth Fibonacci number."
   ]
  },
  {
   "cell_type": "code",
   "execution_count": 28,
   "id": "e0683cf6",
   "metadata": {},
   "outputs": [
    {
     "name": "stdout",
     "output_type": "stream",
     "text": [
      "The 5th Fibonacci number is: 5\n"
     ]
    }
   ],
   "source": [
    "def fibonacci(n):\n",
    "    if n <= 1:\n",
    "        return n\n",
    "    else:\n",
    "        return fibonacci(n - 1) + fibonacci(n - 2)\n",
    "\n",
    "result = fibonacci(5)\n",
    "print(f\"The 5th Fibonacci number is: {result}\")"
   ]
  },
  {
   "cell_type": "markdown",
   "id": "cd497be3",
   "metadata": {},
   "source": [
    "### 4.Write a recursive Python function to calculate the sum of all elements in a list."
   ]
  },
  {
   "cell_type": "code",
   "execution_count": 29,
   "id": "f6d78dbc",
   "metadata": {},
   "outputs": [
    {
     "name": "stdout",
     "output_type": "stream",
     "text": [
      "The sum of the list is: 15\n"
     ]
    }
   ],
   "source": [
    "def sum_list(lst):\n",
    "    if not lst:\n",
    "        return 0\n",
    "    else:\n",
    "        return lst[0] + sum_list(lst[1:])\n",
    "\n",
    "numbers = [1, 2, 3, 4, 5]\n",
    "result = sum_list(numbers)\n",
    "print(f\"The sum of the list is: {result}\")\n"
   ]
  },
  {
   "cell_type": "markdown",
   "id": "a4cb841e",
   "metadata": {},
   "source": [
    "### 5.How can you prevent a recursive function from running indefinitely, causing a stack overflow error?"
   ]
  },
  {
   "cell_type": "markdown",
   "id": "2574f2e7",
   "metadata": {},
   "source": [
    "To prevent a recursive function from running indefinitely, you need to ensure that there is a base case that is eventually reached. The base case should be designed so that the function stops calling itself and returns a result."
   ]
  },
  {
   "cell_type": "markdown",
   "id": "b56ba265",
   "metadata": {},
   "source": [
    "### 6.Create a recursive Python function to find the greatest common divisor (GCD) of two numbers using the Euclidean algorithm."
   ]
  },
  {
   "cell_type": "code",
   "execution_count": 30,
   "id": "a60c494c",
   "metadata": {},
   "outputs": [
    {
     "name": "stdout",
     "output_type": "stream",
     "text": [
      "The GCD of 48 and 18 is: 6\n"
     ]
    }
   ],
   "source": [
    "def gcd(a, b):\n",
    "    if b == 0:\n",
    "        return a\n",
    "    else:\n",
    "        return gcd(b, a % b)\n",
    "\n",
    "result = gcd(48, 18)\n",
    "print(f\"The GCD of 48 and 18 is: {result}\")\n"
   ]
  },
  {
   "cell_type": "markdown",
   "id": "33bcc4f7",
   "metadata": {},
   "source": [
    "### 7.Write a recursive Python function to reverse a string"
   ]
  },
  {
   "cell_type": "code",
   "execution_count": 31,
   "id": "f0db794b",
   "metadata": {},
   "outputs": [
    {
     "name": "stdout",
     "output_type": "stream",
     "text": [
      "The reversed string is: olleh\n"
     ]
    }
   ],
   "source": [
    "def reverse_string(s):\n",
    "    if not s:\n",
    "        return s\n",
    "    else:\n",
    "        return reverse_string(s[1:]) + s[0]\n",
    "\n",
    "result = reverse_string(\"hello\")\n",
    "print(f\"The reversed string is: {result}\")\n"
   ]
  },
  {
   "cell_type": "markdown",
   "id": "d06e40b9",
   "metadata": {},
   "source": [
    "### 8.Create a recursive Python function to calculate the power of a number (x^n)."
   ]
  },
  {
   "cell_type": "code",
   "execution_count": 32,
   "id": "e8477093",
   "metadata": {},
   "outputs": [
    {
     "name": "stdout",
     "output_type": "stream",
     "text": [
      "2^3 is: 8\n"
     ]
    }
   ],
   "source": [
    "def power(x, n):\n",
    "    if n == 0:\n",
    "        return 1\n",
    "    else:\n",
    "        return x * power(x, n - 1)\n",
    "\n",
    "result = power(2, 3)\n",
    "print(f\"2^3 is: {result}\")\n"
   ]
  },
  {
   "cell_type": "markdown",
   "id": "23c711a1",
   "metadata": {},
   "source": [
    "### 9.Write a recursive Python function to find all permutations of a given string."
   ]
  },
  {
   "cell_type": "code",
   "execution_count": 34,
   "id": "181a46ab",
   "metadata": {},
   "outputs": [
    {
     "name": "stdout",
     "output_type": "stream",
     "text": [
      "All permutations are: ['abc', 'acb', 'bac', 'bca', 'cab', 'cba']\n"
     ]
    }
   ],
   "source": [
    "def permutations(s):\n",
    "    if len(s) <= 1:\n",
    "        return [s]\n",
    "    else:\n",
    "        perms = []\n",
    "        for i in range(len(s)):\n",
    "            rest = s[:i] + s[i + 1:]\n",
    "            for p in permutations(rest):\n",
    "                perms.append(s[i] + p)\n",
    "        return perms\n",
    "\n",
    "result = permutations(\"abc\")\n",
    "print(f\"All permutations are: {result}\")"
   ]
  },
  {
   "cell_type": "markdown",
   "id": "88c48a1a",
   "metadata": {},
   "source": [
    "### 10.Write a recursive Python function to check if a string is a palindrome."
   ]
  },
  {
   "cell_type": "code",
   "execution_count": 35,
   "id": "2a480dff",
   "metadata": {},
   "outputs": [
    {
     "name": "stdout",
     "output_type": "stream",
     "text": [
      "Is 'level' a palindrome? True\n"
     ]
    }
   ],
   "source": [
    "def is_palindrome(s):\n",
    "    s = s.lower()\n",
    "    if len(s) <= 1:\n",
    "        return True\n",
    "    elif s[0] != s[-1]:\n",
    "        return False\n",
    "    else:\n",
    "        return is_palindrome(s[1:-1])\n",
    "\n",
    "result = is_palindrome(\"level\")\n",
    "print(f\"Is 'level' a palindrome? {result}\")\n"
   ]
  },
  {
   "cell_type": "markdown",
   "id": "b5817088",
   "metadata": {},
   "source": [
    "### 11.Create a recursive Python function to generate all possible combinations of a list of elements.\n"
   ]
  },
  {
   "cell_type": "code",
   "execution_count": 36,
   "id": "36f60171",
   "metadata": {},
   "outputs": [
    {
     "name": "stdout",
     "output_type": "stream",
     "text": [
      "All combinations are: [[], [3], [2], [2, 3], [1], [1, 3], [1, 2], [1, 2, 3]]\n"
     ]
    }
   ],
   "source": [
    "def combinations(lst):\n",
    "    if not lst:\n",
    "        return [[]]\n",
    "    else:\n",
    "        head, tail = lst[0], lst[1:]\n",
    "        without_head = combinations(tail)\n",
    "        with_head = [[head] + rest for rest in without_head]\n",
    "        return without_head + with_head\n",
    "\n",
    "elements = [1, 2, 3]\n",
    "result = combinations(elements)\n",
    "print(f\"All combinations are: {result}\")"
   ]
  },
  {
   "cell_type": "markdown",
   "id": "f7fe9786",
   "metadata": {},
   "source": [
    "### Basics of Functions:"
   ]
  },
  {
   "cell_type": "markdown",
   "id": "e4e4f9eb",
   "metadata": {},
   "source": [
    "### 1.What is a function in Python, and why is it used?"
   ]
  },
  {
   "cell_type": "markdown",
   "id": "317ea5a5",
   "metadata": {},
   "source": [
    "Functions are a fundamental concept in programming and play a crucial role in writing clean, organized, and efficient code.\n",
    "A function is a block of organized, reusable code that performs a specific task. Functions provide a way to structure and modularize code, making it more readable, maintainable, and reusable.\n",
    "def function_name(parameters):\n",
    "    # function body\n",
    "    # code to perform a specific task\n",
    "    return result  # optional\n",
    "Functions can take parameters (inputs) that allow to pass values into the function. When calling a function, you provide arguments (actual values) for these parameters. \n",
    "A function can return a value using the return statement. The returned value can be assigned to a variable or used in other parts of your code.\n",
    "Functions promote code reusability. You can define a function once and use it multiple times in your program.\n",
    "Functions help break down complex programs into smaller, more manageable pieces. Each function can focus on a specific aspect of the overall functionality."
   ]
  },
  {
   "cell_type": "code",
   "execution_count": 1,
   "id": "acf99534",
   "metadata": {},
   "outputs": [
    {
     "name": "stdout",
     "output_type": "stream",
     "text": [
      "8\n"
     ]
    }
   ],
   "source": [
    "def add_numbers(a, b):\n",
    "    sum_result = a + b\n",
    "    return sum_result\n",
    "\n",
    "result = add_numbers(3, 5)\n",
    "print(result) \n"
   ]
  },
  {
   "cell_type": "markdown",
   "id": "b7260224",
   "metadata": {},
   "source": [
    "n this example, the add_numbers function takes two parameters (a and b), calculates their sum, and returns the result. The function is then called with arguments 3 and 5, and the result is printed."
   ]
  },
  {
   "cell_type": "markdown",
   "id": "166e8617",
   "metadata": {},
   "source": [
    "### 2.How do you define a function in Python? Provide an example."
   ]
  },
  {
   "cell_type": "markdown",
   "id": "790dd784",
   "metadata": {},
   "source": [
    "In Python, we define a function using the def keyword, followed by the function name and parameters in parentheses. The function body is indented.:"
   ]
  },
  {
   "cell_type": "code",
   "execution_count": 2,
   "id": "c86aa751",
   "metadata": {},
   "outputs": [
    {
     "name": "stdout",
     "output_type": "stream",
     "text": [
      "8\n"
     ]
    }
   ],
   "source": [
    "def add_numbers(a, b):\n",
    "    return a + b\n",
    "\n",
    "result = add_numbers(3, 5)\n",
    "print(result)\n"
   ]
  },
  {
   "cell_type": "markdown",
   "id": "6cfe942f",
   "metadata": {},
   "source": [
    "This defines a function add_numbers that takes two parameters (a and b) and returns their sum. The function is then called with arguments 3 and 5, and the result is printed, resulting in the output 8."
   ]
  },
  {
   "cell_type": "markdown",
   "id": "906a3f86",
   "metadata": {},
   "source": [
    "### 3.Explain the difference between a function definition and a function call."
   ]
  },
  {
   "cell_type": "markdown",
   "id": "e903fc46",
   "metadata": {},
   "source": [
    "\n",
    "The terms \"function definition\" and \"function call\" refer to two distinct aspects of using functions in programming:\n",
    "\n",
    "Function Definition:\n",
    "\n",
    "A function definition is where you actually create the function and specify what it does.\n",
    "It includes the def keyword followed by the function name, parameters (if any), a colon :, and the function body.\n",
    "The function definition outlines the code that will be executed when the function is called.\n",
    "\n",
    "\n",
    "Function Call:\n",
    "\n",
    "A function call is when you invoke or execute a function that has been defined.\n",
    "It involves using the function name followed by parentheses containing the values (arguments) that you want to pass to the function, if any.\n",
    "The function call causes the code inside the function to be executed"
   ]
  },
  {
   "cell_type": "markdown",
   "id": "3f70f7c7",
   "metadata": {},
   "source": [
    "### 4.Write a Python program that defines a function to calculate the sum of two numbers and then calls the function."
   ]
  },
  {
   "cell_type": "code",
   "execution_count": 3,
   "id": "19c65ec0",
   "metadata": {},
   "outputs": [
    {
     "name": "stdout",
     "output_type": "stream",
     "text": [
      "The sum of 3 and 5 is: 8\n"
     ]
    }
   ],
   "source": [
    "# Function definition\n",
    "def calculate_sum(a, b):\n",
    "    sum_result = a + b\n",
    "    return sum_result\n",
    "\n",
    "# Function call\n",
    "num1 = 3\n",
    "num2 = 5\n",
    "result = calculate_sum(num1, num2)\n",
    "\n",
    "# Output\n",
    "print(f\"The sum of {num1} and {num2} is: {result}\")\n"
   ]
  },
  {
   "cell_type": "code",
   "execution_count": null,
   "id": "786af2a0",
   "metadata": {},
   "outputs": [],
   "source": [
    "Function Definition (calculate_sum):\n",
    "\n",
    "The function is defined with the name calculate_sum and takes two parameters (a and b).\n",
    "Inside the function, the sum of the two parameters is calculated and stored in the variable sum_result.\n",
    "The return statement is used to specify the value that the function should return, which is the sum.\n",
    "Function Call:\n",
    "\n",
    "Two variables, num1 and num2, are assigned the values 3 and 5.\n",
    "The function calculate_sum is called with the arguments num1 and num2, and the result is stored in the variable result.\n",
    "Output:\n",
    "\n",
    "The program then prints the result, indicating the sum of the numbers 3 and 5"
   ]
  },
  {
   "cell_type": "markdown",
   "id": "4af16a75",
   "metadata": {},
   "source": [
    "### 5.What is a function signature, and what information does it typically include?"
   ]
  },
  {
   "cell_type": "markdown",
   "id": "12c59378",
   "metadata": {},
   "source": [
    "A function signature in Python is a brief description of a function that includes its name, the types of parameters it accepts, and the type of value it returns. It provides a quick overview of the function's interface, helping users understand how to use the function without delving into its entire implementation. "
   ]
  },
  {
   "cell_type": "markdown",
   "id": "d33c6f2d",
   "metadata": {},
   "source": [
    "### 6.Create a Python function that takes two arguments and returns their product."
   ]
  },
  {
   "cell_type": "code",
   "execution_count": 10,
   "id": "16dafa83",
   "metadata": {},
   "outputs": [],
   "source": [
    "def multiply_numbers(a, b):\n",
    "    product_result = a * b\n",
    "    return product_result"
   ]
  },
  {
   "cell_type": "code",
   "execution_count": 11,
   "id": "38f1a529",
   "metadata": {},
   "outputs": [
    {
     "name": "stdout",
     "output_type": "stream",
     "text": [
      "24\n"
     ]
    }
   ],
   "source": [
    "result = multiply_numbers(4, 6)\n",
    "print(result)\n"
   ]
  },
  {
   "cell_type": "markdown",
   "id": "dd4b7eb7",
   "metadata": {},
   "source": [
    "In this example, the multiply_numbers function multiplies the two parameters (a and b) and returns the result. The function is then called with the arguments 4 and 6, and the product is printed."
   ]
  },
  {
   "cell_type": "markdown",
   "id": "511f0b1f",
   "metadata": {},
   "source": [
    "### Function Parameters and Arguments:"
   ]
  },
  {
   "cell_type": "markdown",
   "id": "d21e76e6",
   "metadata": {},
   "source": [
    "### 1.Explain the concepts of formal parameters and actual arguments in Python functions."
   ]
  },
  {
   "cell_type": "markdown",
   "id": "9d91467a",
   "metadata": {},
   "source": [
    "Formal Parameters: These are the parameters defined in the function signature or declaration. They act as placeholders for the values that will be passed when the function is called.\n",
    "Actual Arguments: These are the values that are passed to the function when it is called. The actual arguments are assigned to the formal parameters inside the function."
   ]
  },
  {
   "cell_type": "markdown",
   "id": "8217244b",
   "metadata": {},
   "source": [
    "### 2.Write a Python program that defines a function with default argument values."
   ]
  },
  {
   "cell_type": "code",
   "execution_count": 40,
   "id": "46a61fc9",
   "metadata": {},
   "outputs": [
    {
     "name": "stdout",
     "output_type": "stream",
     "text": [
      "Hello, Alice!\n",
      "Hi, Bob!\n"
     ]
    }
   ],
   "source": [
    "def greet(name, greeting=\"Hello\"):\n",
    "    print(f\"{greeting}, {name}!\")\n",
    "greet(\"Alice\")\n",
    "\n",
    "greet(\"Bob\", greeting=\"Hi\")\n",
    "\n"
   ]
  },
  {
   "cell_type": "markdown",
   "id": "5ec94de1",
   "metadata": {},
   "source": [
    "### 3.How do you use keyword arguments in Python function calls? Provide an example."
   ]
  },
  {
   "cell_type": "code",
   "execution_count": 41,
   "id": "2d53d767",
   "metadata": {},
   "outputs": [
    {
     "name": "stdout",
     "output_type": "stream",
     "text": [
      "Name: Alice, Age: 25\n"
     ]
    }
   ],
   "source": [
    "def display_info(name, age):\n",
    "    print(f\"Name: {name}, Age: {age}\")\n",
    "display_info(name=\"Alice\", age=25)\n"
   ]
  },
  {
   "cell_type": "markdown",
   "id": "cb32b95e",
   "metadata": {},
   "source": [
    "### 4.Create a Python function that accepts a variable number of arguments and calculates their sum.\n"
   ]
  },
  {
   "cell_type": "code",
   "execution_count": 42,
   "id": "bddbfd65",
   "metadata": {},
   "outputs": [
    {
     "name": "stdout",
     "output_type": "stream",
     "text": [
      "The sum is: 15\n"
     ]
    }
   ],
   "source": [
    "def sum_values(*args):\n",
    "    return sum(args)\n",
    "\n",
    "result = sum_values(1, 2, 3, 4, 5)\n",
    "print(f\"The sum is: {result}\")\n"
   ]
  },
  {
   "cell_type": "markdown",
   "id": "dd80f1b1",
   "metadata": {},
   "source": [
    "### 5.What is the purpose of the `*args` and `**kwargs` syntax in function parameter lists?"
   ]
  },
  {
   "cell_type": "markdown",
   "id": "93aa014a",
   "metadata": {},
   "source": [
    "Purpose of *args and **kwargs syntax in function parameter lists:\n",
    "\n",
    "*args: It allows a function to accept any number of positional arguments. The args parameter, preceded by an asterisk (*), collects the positional arguments into a tuple.\n",
    "**kwargs: It allows a function to accept any number of keyword arguments. The kwargs parameter, preceded by two asterisks (**), collects the keyword arguments into a dictionary."
   ]
  },
  {
   "cell_type": "code",
   "execution_count": 43,
   "id": "2c71fbbe",
   "metadata": {},
   "outputs": [
    {
     "name": "stdout",
     "output_type": "stream",
     "text": [
      "Positional arguments: (1, 2, 3)\n",
      "Keyword arguments: {'name': 'Alice', 'age': 25}\n"
     ]
    }
   ],
   "source": [
    "def example_function(*args, **kwargs):\n",
    "    print(\"Positional arguments:\", args)\n",
    "    print(\"Keyword arguments:\", kwargs)\n",
    "\n",
    "example_function(1, 2, 3, name=\"Alice\", age=25)"
   ]
  },
  {
   "cell_type": "markdown",
   "id": "434357e7",
   "metadata": {},
   "source": [
    "### Return Values and Scoping:"
   ]
  },
  {
   "cell_type": "markdown",
   "id": "a8251689",
   "metadata": {},
   "source": [
    "### 1.Describe the role of the `return` statement in Python functions and provide examples."
   ]
  },
  {
   "cell_type": "markdown",
   "id": "f11f87e3",
   "metadata": {},
   "source": [
    "The return statement in Python functions is used to specify the value that the function should produce and provide to the caller. It allows a function to send back a result, exit prematurely if needed, and even return multiple values as a tuple. Here are some key points:"
   ]
  },
  {
   "cell_type": "code",
   "execution_count": 13,
   "id": "bde0563f",
   "metadata": {},
   "outputs": [],
   "source": [
    "def add_numbers(a, b):\n",
    "    return a + b\n"
   ]
  },
  {
   "cell_type": "code",
   "execution_count": 15,
   "id": "b4082c3e",
   "metadata": {},
   "outputs": [],
   "source": [
    "def square_if_positive(x):\n",
    "    if x <= 0:\n",
    "        return\n",
    "    return x ** 2"
   ]
  },
  {
   "cell_type": "markdown",
   "id": "f9e5aee4",
   "metadata": {},
   "source": [
    "The return statement is essential for providing outputs from functions, making them more versatile and enabling their integration into larger programs."
   ]
  },
  {
   "cell_type": "markdown",
   "id": "e0978d2a",
   "metadata": {},
   "source": [
    "### 2.Explain the concept of variable scope in Python, including local and global variables."
   ]
  },
  {
   "cell_type": "markdown",
   "id": "221f68cc",
   "metadata": {},
   "source": [
    "Variable scope in Python refers to the region of the code where a variable can be accessed or modified. Python has two main types of variable scope: local and global.\n",
    "\n",
    "Local Variable Scope:\n",
    "\n",
    "Definition: A variable declared inside a function is considered local to that function.\n",
    "Access: The variable is only accessible within the function where it is defined."
   ]
  },
  {
   "cell_type": "code",
   "execution_count": 16,
   "id": "a6cafd66",
   "metadata": {},
   "outputs": [
    {
     "name": "stdout",
     "output_type": "stream",
     "text": [
      "10\n"
     ]
    }
   ],
   "source": [
    "def my_function():\n",
    "    x = 10  # Local variable\n",
    "    print(x)\n",
    "\n",
    "my_function()\n",
    "# print(x)  # This would result in an error outside the function"
   ]
  },
  {
   "cell_type": "markdown",
   "id": "9f650523",
   "metadata": {},
   "source": [
    "Global Variable Scope:\n",
    "\n",
    "Definition: A variable declared outside any function or block is considered global.\n",
    "Access: The variable can be accessed from anywhere in the code, both inside and outside functions"
   ]
  },
  {
   "cell_type": "code",
   "execution_count": 17,
   "id": "28a27239",
   "metadata": {},
   "outputs": [
    {
     "name": "stdout",
     "output_type": "stream",
     "text": [
      "20\n",
      "20\n"
     ]
    }
   ],
   "source": [
    "y = 20  # Global variable\n",
    "\n",
    "def another_function():\n",
    "    print(y)\n",
    "\n",
    "another_function()\n",
    "print(y)  # Accessible outside the function\n"
   ]
  },
  {
   "cell_type": "markdown",
   "id": "8ac5bd31",
   "metadata": {},
   "source": [
    "Changing Global Variables from Within a Function:\n",
    "\n",
    "If you want to modify the value of a global variable from within a function, you need to use the global keyword to indicate that you are referring to the global variable"
   ]
  },
  {
   "cell_type": "code",
   "execution_count": 18,
   "id": "33e40690",
   "metadata": {},
   "outputs": [
    {
     "name": "stdout",
     "output_type": "stream",
     "text": [
      "40\n"
     ]
    }
   ],
   "source": [
    "z = 30  # Global variable\n",
    "\n",
    "def modify_global():\n",
    "    global z\n",
    "    z = 40\n",
    "\n",
    "modify_global()\n",
    "print(z)  # Output: 40\n"
   ]
  },
  {
   "cell_type": "markdown",
   "id": "a1805d99",
   "metadata": {},
   "source": [
    "local variables are confined to the function they are declared in, while global variables can be accessed throughout the entire code. It's generally good practice to use local variables when their scope is limited to a specific function, and global variables when their values need to be shared across multiple functions or the entire program. Be cautious with modifying global variables within functions to avoid unintended side effects."
   ]
  },
  {
   "cell_type": "markdown",
   "id": "3b2e6d39",
   "metadata": {},
   "source": [
    "### 3.Write a Python program that demonstrates the use of global variables within functions."
   ]
  },
  {
   "cell_type": "code",
   "execution_count": 19,
   "id": "0b1f2d44",
   "metadata": {},
   "outputs": [
    {
     "name": "stdout",
     "output_type": "stream",
     "text": [
      "Inside the function: 11\n",
      "Outside the function: 11\n"
     ]
    }
   ],
   "source": [
    "# Global variable\n",
    "global_variable = 10\n",
    "\n",
    "def increment_global():\n",
    "    # Accessing the global variable\n",
    "    global global_variable\n",
    "    global_variable += 1\n",
    "    print(\"Inside the function:\", global_variable)\n",
    "\n",
    "# Call the function\n",
    "increment_global()\n",
    "\n",
    "# Print the global variable outside the function\n",
    "print(\"Outside the function:\", global_variable)\n"
   ]
  },
  {
   "cell_type": "markdown",
   "id": "355d5cf1",
   "metadata": {},
   "source": [
    "global_variable is declared as a global variable outside any function.\n",
    "The function increment_global is defined, which accesses and increments the global variable using the global keyword.\n",
    "The function is called, modifying the global variable.\n",
    "The global variable is printed both inside and outside the function to show its value before and after the function call."
   ]
  },
  {
   "cell_type": "markdown",
   "id": "eb2ed3a0",
   "metadata": {},
   "source": [
    "### 4.Create a Python function that calculates the factorial of a number and returns it."
   ]
  },
  {
   "cell_type": "code",
   "execution_count": 20,
   "id": "439fd328",
   "metadata": {},
   "outputs": [
    {
     "name": "stdout",
     "output_type": "stream",
     "text": [
      "120\n"
     ]
    }
   ],
   "source": [
    "def calculate_factorial(n):\n",
    "    # Base case: factorial of 0 or 1 is 1\n",
    "    if n == 0 or n == 1:\n",
    "        return 1\n",
    "    \n",
    "    # Recursive case: factorial of n is n times factorial of (n-1)\n",
    "    return n * calculate_factorial(n - 1)\n",
    "result = calculate_factorial(5)\n",
    "print(result)\n"
   ]
  },
  {
   "cell_type": "markdown",
   "id": "2e6ffa4a",
   "metadata": {},
   "source": [
    "In this example, the calculate_factorial function uses recursion to calculate the factorial of a number. The base case ensures that the factorial of 0 or 1 is 1, and the recursive case multiplies the number n with the factorial of (n-1). The function is then called with the argument 5, and the result is printed."
   ]
  },
  {
   "cell_type": "markdown",
   "id": "9b25cf9c",
   "metadata": {},
   "source": [
    "### 5.How can you access variables defined outside a function from within the function?"
   ]
  },
  {
   "cell_type": "markdown",
   "id": "7d8ce824",
   "metadata": {},
   "source": [
    "In Python, you can access variables defined outside a function from within the function by using the global keyword or by simply referencing the variable without the global keyword, treating it as a global variable. The choice between these methods depends on whether you intend to modify the global variable's value inside the function.\n",
    "\n",
    "Here are two approaches:\n",
    "\n",
    "Using the global Keyword (for modification):\n",
    "\n",
    "If you want to modify the value of the global variable within the function, use the global keyword to declare that you are referring to a global variable.\n",
    "python\n"
   ]
  },
  {
   "cell_type": "code",
   "execution_count": 21,
   "id": "3ed5876f",
   "metadata": {},
   "outputs": [
    {
     "name": "stdout",
     "output_type": "stream",
     "text": [
      "Inside the function: 11\n",
      "Outside the function: 11\n"
     ]
    }
   ],
   "source": [
    "global_variable = 10  # Global variable\n",
    "\n",
    "def modify_global():\n",
    "    global global_variable\n",
    "    global_variable += 1\n",
    "    print(\"Inside the function:\", global_variable)\n",
    "\n",
    "modify_global()\n",
    "print(\"Outside the function:\", global_variable)\n"
   ]
  },
  {
   "cell_type": "code",
   "execution_count": null,
   "id": "984624d8",
   "metadata": {},
   "outputs": [],
   "source": [
    "### Lambda Functions and Higher-Order Functions:\n",
    "\n",
    "What are lambda functions in Python, and when are they typically used?\n",
    "Write a Python program that uses lambda functions to sort a list of tuples based on the second element.\n",
    "Explain the concept of higher-order functions in Python, and provide an example.\n",
    "Create a Python function that takes a list of numbers and a function as arguments, applying the function to each element in the list.\n"
   ]
  },
  {
   "cell_type": "markdown",
   "id": "9f8e5a61",
   "metadata": {},
   "source": [
    "### 1.What are lambda functions in Python, and when are they typically used?"
   ]
  },
  {
   "cell_type": "markdown",
   "id": "a0ad7a59",
   "metadata": {},
   "source": [
    "Lambda functions in Python are concise, anonymous functions defined using the lambda keyword. They are often used for short-lived, simple operations and functional programming tasks. Lambda functions are useful in situations where a full function definition with def is unnecessary or would be too verbose. Common use cases include functional programming operations, sorting, GUI callbacks, and quick function prototyping. They provide a compact syntax for creating small functions on the fly."
   ]
  },
  {
   "cell_type": "markdown",
   "id": "65f8034f",
   "metadata": {},
   "source": [
    "### 2.Write a Python program that uses lambda functions to sort a list of tuples based on the second element."
   ]
  },
  {
   "cell_type": "code",
   "execution_count": 23,
   "id": "1dd46760",
   "metadata": {},
   "outputs": [
    {
     "name": "stdout",
     "output_type": "stream",
     "text": [
      "Sorted Points: [(4, 1), (3, 2), (1, 5), (2, 8)]\n"
     ]
    }
   ],
   "source": [
    "# List of tuples\n",
    "points = [(1, 5), (3, 2), (2, 8), (4, 1)]\n",
    "\n",
    "# Sorting based on the second element using a lambda function\n",
    "sorted_points = sorted(points, key=lambda point: point[1])\n",
    "\n",
    "# Displaying the sorted list\n",
    "print(\"Sorted Points:\", sorted_points)\n"
   ]
  },
  {
   "cell_type": "markdown",
   "id": "6c23ae4d",
   "metadata": {},
   "source": [
    "points is a list of tuples.\n",
    "The sorted function is used to sort the list based on the second element of each tuple (point[1]).\n",
    "The key parameter is set to a lambda function that extracts the second element for sorting."
   ]
  },
  {
   "cell_type": "markdown",
   "id": "3c4196a6",
   "metadata": {},
   "source": [
    "### 3.Explain the concept of higher-order functions in Python, and provide an example."
   ]
  },
  {
   "cell_type": "markdown",
   "id": "f0acc696",
   "metadata": {},
   "source": [
    "In Python, a higher-order function is one that either takes a function as an argument or returns a function as its result. This concept allows for more modular and flexible code."
   ]
  },
  {
   "cell_type": "code",
   "execution_count": 24,
   "id": "6be1be80",
   "metadata": {},
   "outputs": [
    {
     "name": "stdout",
     "output_type": "stream",
     "text": [
      "Result of addition: 7\n",
      "Result of multiplication: 12\n"
     ]
    }
   ],
   "source": [
    "def apply_operation(x, y, operation):\n",
    "    return operation(x, y)\n",
    "\n",
    "def add(a, b):\n",
    "    return a + b\n",
    "\n",
    "def multiply(a, b):\n",
    "    return a * b\n",
    "\n",
    "result_add = apply_operation(3, 4, add)\n",
    "result_multiply = apply_operation(3, 4, multiply)\n",
    "\n",
    "print(\"Result of addition:\", result_add)\n",
    "print(\"Result of multiplication:\", result_multiply)\n"
   ]
  },
  {
   "cell_type": "markdown",
   "id": "b29a697c",
   "metadata": {},
   "source": [
    "In this example, apply_operation is a higher-order function that applies different operations (functions add and multiply) to numbers. It showcases the flexibility of using functions as arguments."
   ]
  },
  {
   "cell_type": "markdown",
   "id": "c05e31d6",
   "metadata": {},
   "source": [
    "### 4.Create a Python function that takes a list of numbers and a function as arguments, applying the function to each element in the list.\n"
   ]
  },
  {
   "cell_type": "code",
   "execution_count": 25,
   "id": "a473f4d1",
   "metadata": {},
   "outputs": [
    {
     "name": "stdout",
     "output_type": "stream",
     "text": [
      "Original List: [1, 2, 3, 4, 5]\n",
      "Result after applying square function: [1, 4, 9, 16, 25]\n"
     ]
    }
   ],
   "source": [
    "def apply_function_to_list(numbers, func):\n",
    "    \"\"\"\n",
    "    Applies the given function to each element in the list.\n",
    "    \n",
    "    Parameters:\n",
    "    - numbers: List of numbers.\n",
    "    - func: Function to apply to each element.\n",
    "\n",
    "    Returns:\n",
    "    - List of results after applying the function.\n",
    "    \"\"\"\n",
    "    return [func(x) for x in numbers]\n",
    "\n",
    "# Example usage:\n",
    "numbers = [1, 2, 3, 4, 5]\n",
    "\n",
    "# Define a function (e.g., square)\n",
    "def square(x):\n",
    "    return x ** 2\n",
    "\n",
    "# Apply the square function to each element in the list\n",
    "result = apply_function_to_list(numbers, square)\n",
    "\n",
    "print(\"Original List:\", numbers)\n",
    "print(\"Result after applying square function:\", result)\n"
   ]
  },
  {
   "cell_type": "markdown",
   "id": "9aa05aa3",
   "metadata": {},
   "source": [
    "The apply_function_to_list function takes two parameters: numbers (a list of numbers) and func (a function to apply to each element).\n",
    "Using a list comprehension, the function applies the given function (func) to each element in the list (numbers).\n",
    "In the example usage, a list of numbers [1, 2, 3, 4, 5] is provided, and a function (square) is defined to square each element.\n",
    "The apply_function_to_list function is then called with the list of numbers and the square function, producing a new list with the squared values."
   ]
  },
  {
   "cell_type": "code",
   "execution_count": null,
   "id": "1a0db840",
   "metadata": {},
   "outputs": [],
   "source": [
    "Built-in Functions:\n",
    "\n",
    "Describe the role of built-in functions like `len()`, `max()`, and `min()` in Python.\n",
    "Write a Python program that uses the `map()` function to apply a function to each element of a list.\n",
    "How does the `filter()` function work in Python, and when would you use it?\n",
    "Create a Python program that uses the `reduce()` function to find the product of all elements in a list.\n"
   ]
  },
  {
   "cell_type": "markdown",
   "id": "c3b732b0",
   "metadata": {},
   "source": [
    "### Built-in Functions:\n"
   ]
  },
  {
   "cell_type": "markdown",
   "id": "fc08c526",
   "metadata": {},
   "source": [
    "### 1.Describe the role of built-in functions like `len()`, `max()`, and `min()` in Python."
   ]
  },
  {
   "cell_type": "markdown",
   "id": "ce7c43d3",
   "metadata": {},
   "source": [
    "len() - Length Function:\n",
    "\n",
    "Role: The len() function is used to get the length or the number of items in an iterable (e.g., strings, lists, tuples)."
   ]
  },
  {
   "cell_type": "code",
   "execution_count": 28,
   "id": "ca8df57b",
   "metadata": {},
   "outputs": [
    {
     "name": "stdout",
     "output_type": "stream",
     "text": [
      "5\n"
     ]
    }
   ],
   "source": [
    "my_list = [1, 2, 3, 4, 5]\n",
    "length = len(my_list)\n",
    "print(length) \n"
   ]
  },
  {
   "cell_type": "markdown",
   "id": "25b4a9fe",
   "metadata": {},
   "source": [
    "max() - Maximum Function:\n",
    "\n",
    "Role: The max() function is used to find the maximum value among a set of values or elements in an iterable.\n"
   ]
  },
  {
   "cell_type": "code",
   "execution_count": 29,
   "id": "9b1ef181",
   "metadata": {},
   "outputs": [
    {
     "name": "stdout",
     "output_type": "stream",
     "text": [
      "15\n"
     ]
    }
   ],
   "source": [
    "numbers = [10, 5, 8, 15, 3]\n",
    "max_value = max(numbers)\n",
    "print(max_value)  "
   ]
  },
  {
   "cell_type": "markdown",
   "id": "a5d76c51",
   "metadata": {},
   "source": [
    "min() - Minimum Function:\n",
    "\n",
    "Role: The min() function is used to find the minimum value among a set of values or elements in an iterable."
   ]
  },
  {
   "cell_type": "code",
   "execution_count": 30,
   "id": "58910253",
   "metadata": {},
   "outputs": [
    {
     "name": "stdout",
     "output_type": "stream",
     "text": [
      "3\n"
     ]
    }
   ],
   "source": [
    "numbers = [10, 5, 8, 15, 3]\n",
    "min_value = min(numbers)\n",
    "print(min_value)  "
   ]
  },
  {
   "cell_type": "markdown",
   "id": "b9ee79f6",
   "metadata": {},
   "source": [
    "### 2.Write a Python program that uses the `map()` function to apply a function to each element of a list."
   ]
  },
  {
   "cell_type": "code",
   "execution_count": 31,
   "id": "17590812",
   "metadata": {},
   "outputs": [
    {
     "name": "stdout",
     "output_type": "stream",
     "text": [
      "Original List: [1, 2, 3, 4, 5]\n",
      "Squared List: [1, 4, 9, 16, 25]\n"
     ]
    }
   ],
   "source": [
    "# Define a function to square a number\n",
    "def square(x):\n",
    "    return x ** 2\n",
    "\n",
    "# List of numbers\n",
    "numbers = [1, 2, 3, 4, 5]\n",
    "\n",
    "# Use the map() function to apply the square function to each element in the list\n",
    "squared_numbers = list(map(square, numbers))\n",
    "\n",
    "# Display the original and squared lists\n",
    "print(\"Original List:\", numbers)\n",
    "print(\"Squared List:\", squared_numbers)\n"
   ]
  },
  {
   "cell_type": "markdown",
   "id": "f5b58492",
   "metadata": {},
   "source": [
    "The square function takes a number as input and returns its square.\n",
    "The numbers list contains the original set of numbers.\n",
    "The map() function is used to apply the square function to each element in the numbers list.\n",
    "The result is a new iterable containing the squared values, which is converted to a list using list().\n",
    "Finally, the original and squared lists are displayed."
   ]
  },
  {
   "cell_type": "markdown",
   "id": "f4e94cdc",
   "metadata": {},
   "source": [
    "### 3.How does the `filter()` function work in Python, and when would you use it?"
   ]
  },
  {
   "cell_type": "markdown",
   "id": "51a45946",
   "metadata": {},
   "source": [
    "The filter() function in Python is used to create a new iterable by selectively including elements from an existing iterable based on a specified condition or function. It constructs an iterator containing only the elements that meet the given criterion. This function is useful when you want to filter elements from a collection based on a specific condition, making your code more readable and concise."
   ]
  },
  {
   "cell_type": "markdown",
   "id": "0b25864c",
   "metadata": {},
   "source": [
    "### 4.Create a Python program that uses the `reduce()` function to find the product of all elements in a list."
   ]
  },
  {
   "cell_type": "markdown",
   "id": "b2b4f9b3",
   "metadata": {},
   "source": [
    "The reduce() function from the functools module in Python is used to successively apply a binary function to the items of an iterable, reducing the iterable to a single cumulative result."
   ]
  },
  {
   "cell_type": "code",
   "execution_count": 32,
   "id": "c723335e",
   "metadata": {},
   "outputs": [
    {
     "name": "stdout",
     "output_type": "stream",
     "text": [
      "Original List: [2, 3, 4, 5]\n",
      "Product of all elements: 120\n"
     ]
    }
   ],
   "source": [
    "from functools import reduce\n",
    "\n",
    "# Define a function to multiply two numbers\n",
    "def multiply(x, y):\n",
    "    return x * y\n",
    "\n",
    "# List of numbers\n",
    "numbers = [2, 3, 4, 5]\n",
    "\n",
    "# Use the reduce() function to find the product of all elements\n",
    "product = reduce(multiply, numbers)\n",
    "\n",
    "# Display the original list and the product\n",
    "print(\"Original List:\", numbers)\n",
    "print(\"Product of all elements:\", product)\n"
   ]
  },
  {
   "cell_type": "markdown",
   "id": "c6b23126",
   "metadata": {},
   "source": [
    "The reduce() function is used to apply the multiply function successively to all elements in the numbers list."
   ]
  },
  {
   "cell_type": "markdown",
   "id": "dd7e2485",
   "metadata": {},
   "source": [
    "### Function Documentation and Best Practices:"
   ]
  },
  {
   "cell_type": "markdown",
   "id": "1bf0b1f6",
   "metadata": {},
   "source": [
    "### 1.Explain the purpose of docstrings in Python functions and how to write them."
   ]
  },
  {
   "cell_type": "markdown",
   "id": "4571ec31",
   "metadata": {},
   "source": [
    "Purpose of Docstrings:\n",
    "\n",
    "Docstrings in Python serve as documentation for functions, modules, classes, or methods. They enhance code readability, provide help information, and offer a quick reference for developers.\n",
    "\n",
    "How to Write Docstrings:\n",
    "\n",
    "Written as triple-quoted strings.\n",
    "Typically include a one-line summary, parameter descriptions, return value information, and other relevant details.\n",
    "Follow a consistent style (e.g., Google Style, Numpy Style).\n",
    "Used by tools like help() for automatic generation of documentation."
   ]
  },
  {
   "cell_type": "code",
   "execution_count": 33,
   "id": "d73f6141",
   "metadata": {},
   "outputs": [],
   "source": [
    "def add_numbers(a, b):\n",
    "    \"\"\"\n",
    "    Adds two numbers.\n",
    "\n",
    "    Args:\n",
    "        a (int): The first number.\n",
    "        b (int): The second number.\n",
    "\n",
    "    Returns:\n",
    "        int: The sum of the two numbers.\n",
    "    \"\"\"\n",
    "    return a + b\n"
   ]
  },
  {
   "cell_type": "markdown",
   "id": "ffacab10",
   "metadata": {},
   "source": [
    "By incorporating docstrings, code becomes more understandable and facilitates collaboration among developers."
   ]
  },
  {
   "cell_type": "markdown",
   "id": "4cf5f7a4",
   "metadata": {},
   "source": [
    "### 2.Describe some best practices for naming functions and variables in Python, including naming conventions and guidelines."
   ]
  },
  {
   "cell_type": "markdown",
   "id": "0ba31cb3",
   "metadata": {},
   "source": [
    "Descriptive Names:\n",
    "\n",
    "Choose names that clearly convey the purpose of the function or variable.\n",
    "Use meaningful words or abbreviations that are widely understood within the context of your code.\n",
    "Snake Case:\n",
    "\n",
    "Use snake_case for function and variable names (e.g., calculate_sum, user_input).\n",
    "Separate words with underscores, making names more readable.\n",
    "Avoid Single-Letter Names:\n",
    "\n",
    "Avoid single-letter variable names except for simple loop variables (e.g., use count instead of c).\n",
    "Use Verb-Noun Pairing for Functions:\n",
    "\n",
    "For functions, use a verb followed by a noun to indicate an action (e.g., calculate_sum, process_data).\n",
    "Constants in Uppercase:\n",
    "\n",
    "Use uppercase for constants to distinguish them from variables (e.g., MAX_SIZE, PI).\n",
    "Be Consistent:\n",
    "\n",
    "Follow consistent naming conventions throughout your codebase.\n",
    "If working on an existing project, adhere to its established conventions.\n",
    "Avoid Ambiguous Names:\n",
    "\n",
    "Choose names that are not ambiguous or easily confused with other names in the code.\n",
    "Clarify the purpose of variables and functions.\n",
    "Use Plural for Collections:\n",
    "\n",
    "When naming collections (lists, sets, etc.), use plural names to indicate multiple elements (e.g., users, items).\n",
    "Follow PEP 8:\n",
    "\n",
    "Adhere to the Python Enhancement Proposal 8 (PEP 8) style guide for naming conventions and other coding standards.\n",
    "Consider Function Length:\n",
    "\n",
    "If a function performs a specific task, its name should reflect that task. If a function becomes too long, consider breaking it into smaller, well-named functions"
   ]
  },
  {
   "cell_type": "code",
   "execution_count": 34,
   "id": "65a382b8",
   "metadata": {},
   "outputs": [],
   "source": [
    "def calculate_total_amount(items):\n",
    "    \"\"\"\n",
    "    Calculate the total amount for a list of items.\n",
    "\n",
    "    Args:\n",
    "        items (list): List of items, each with a price.\n",
    "\n",
    "    Returns:\n",
    "        float: The total amount.\n",
    "    \"\"\"\n",
    "    total = sum(item['price'] for item in items)\n",
    "    return total\n"
   ]
  }
 ],
 "metadata": {
  "kernelspec": {
   "display_name": "Python 3 (ipykernel)",
   "language": "python",
   "name": "python3"
  },
  "language_info": {
   "codemirror_mode": {
    "name": "ipython",
    "version": 3
   },
   "file_extension": ".py",
   "mimetype": "text/x-python",
   "name": "python",
   "nbconvert_exporter": "python",
   "pygments_lexer": "ipython3",
   "version": "3.9.13"
  }
 },
 "nbformat": 4,
 "nbformat_minor": 5
}
