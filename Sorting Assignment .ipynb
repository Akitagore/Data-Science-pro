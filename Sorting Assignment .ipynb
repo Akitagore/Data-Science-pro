{
 "cells": [
  {
   "cell_type": "markdown",
   "id": "0257bd6a",
   "metadata": {},
   "source": [
    "### Problem 1.Given an array of n numbers, give an algorithm which gives the element appearing maximum number of times?"
   ]
  },
  {
   "cell_type": "markdown",
   "id": "272f7f36",
   "metadata": {},
   "source": [
    "To find the element that appears the maximum number of times in an array, you can use a Python algorithm like the one below. This algorithm uses a dictionary to keep track of the frequency of each element in the array and finds the element with the maximum frequency."
   ]
  },
  {
   "cell_type": "code",
   "execution_count": 1,
   "id": "9405d45b",
   "metadata": {},
   "outputs": [
    {
     "name": "stdout",
     "output_type": "stream",
     "text": [
      "The element appearing maximum number of times is 4, and it appears 5 times.\n"
     ]
    }
   ],
   "source": [
    "def find_max_occurrence(arr):\n",
    "    # Dictionary to store the frequency of each element\n",
    "    frequency_dict = {}\n",
    "\n",
    "    # Traverse the array and count the occurrences of each element\n",
    "    for num in arr:\n",
    "        if num in frequency_dict:\n",
    "            frequency_dict[num] += 1\n",
    "        else:\n",
    "            frequency_dict[num] = 1\n",
    "\n",
    "    # Find the element with the maximum frequency\n",
    "    max_occurrence_element = max(frequency_dict, key=frequency_dict.get)\n",
    "    max_occurrence_count = frequency_dict[max_occurrence_element]\n",
    "\n",
    "    return max_occurrence_element, max_occurrence_count\n",
    "\n",
    "# Example usage\n",
    "numbers = [1, 2, 3, 4, 2, 2, 3, 4, 4, 5, 4, 4]\n",
    "result_element, result_count = find_max_occurrence(numbers)\n",
    "\n",
    "print(f\"The element appearing maximum number of times is {result_element}, and it appears {result_count} times.\")"
   ]
  },
  {
   "cell_type": "markdown",
   "id": "a9156ee0",
   "metadata": {},
   "source": [
    "This algorithm iterates through the array, maintaining a dictionary (frequency_dict) to store the count of each element. After iterating through the array, it finds the element with the maximum frequency using the max function with a custom key function"
   ]
  },
  {
   "cell_type": "markdown",
   "id": "13e535e1",
   "metadata": {},
   "source": [
    "### Problem 2 : We are given a list of n-1 integers and these integers are in the range of 1 to n . There are no duplicates in the list. One of the integers is missing in the list. Give an algorithm to find that element Ex: [1,2,4,6,3,7,8] 5 is the missing num."
   ]
  },
  {
   "cell_type": "markdown",
   "id": "9e4ce772",
   "metadata": {},
   "source": [
    "To find the missing element in a list of n-1 integers in the range of 1 to n, you can use the following Python algorithm. This algorithm utilizes the sum of the first n natural numbers and subtracts the sum of the given list from it."
   ]
  },
  {
   "cell_type": "code",
   "execution_count": 2,
   "id": "7ec308c1",
   "metadata": {},
   "outputs": [
    {
     "name": "stdout",
     "output_type": "stream",
     "text": [
      "The missing number in the list is: 5\n"
     ]
    }
   ],
   "source": [
    "def find_missing_number(nums):\n",
    "    n = len(nums) + 1  # Total number of elements in the original list (1 to n)\n",
    "    total_sum = (n * (n + 1)) // 2  # Sum of the first n natural numbers\n",
    "\n",
    "    # Subtract the sum of the given list from the total sum to find the missing number\n",
    "    missing_number = total_sum - sum(nums)\n",
    "\n",
    "    return missing_number\n",
    "\n",
    "# Example usage\n",
    "input_list = [1, 2, 4, 6, 3, 7, 8]\n",
    "missing_num = find_missing_number(input_list)\n",
    "\n",
    "print(f\"The missing number in the list is: {missing_num}\")"
   ]
  },
  {
   "cell_type": "markdown",
   "id": "16a26015",
   "metadata": {},
   "source": [
    "### Problem 3 : Given an array of n positive numbers. All numbers occurs even number of times except 1 which occurs odd number of times. Find that number in O(n) time and O(1) space. Ex: [1,2,3,2,3,1,3]. 3 is repeats odd times."
   ]
  },
  {
   "cell_type": "markdown",
   "id": "90967f62",
   "metadata": {},
   "source": [
    "To find the number that occurs an odd number of times in an array where all other numbers occur an even number of times, you can use the bitwise XOR operation. XORing a number with itself results in 0, and XORing any number with 0 results in the number itself. If we XOR all the elements in the array, the number that occurs an odd number of times will be the result."
   ]
  },
  {
   "cell_type": "code",
   "execution_count": 3,
   "id": "89645fa9",
   "metadata": {},
   "outputs": [
    {
     "name": "stdout",
     "output_type": "stream",
     "text": [
      "The number occurring an odd number of times is: 3\n"
     ]
    }
   ],
   "source": [
    "def find_odd_occurrence(nums):\n",
    "    result = 0\n",
    "\n",
    "    # XOR all elements in the array\n",
    "    for num in nums:\n",
    "        result ^= num\n",
    "\n",
    "    return result\n",
    "\n",
    "# Example usage\n",
    "arr = [1, 2, 3, 2, 3, 1, 3]\n",
    "result = find_odd_occurrence(arr)\n",
    "\n",
    "print(f\"The number occurring an odd number of times is: {result}\")"
   ]
  },
  {
   "cell_type": "markdown",
   "id": "6d5427cf",
   "metadata": {},
   "source": [
    "In this example, the XOR operation is applied to all elements in the array. Since XORing an element with itself results in 0, and XORing 0 with any number gives the number itself, the final result will be the number that occurs an odd number of times.\n",
    "This algorithm has a time complexity of O(n) since it iterates through the array once and a space complexity of O(1) as it uses a single variable (result) to store the XOR result."
   ]
  },
  {
   "cell_type": "markdown",
   "id": "6d00a0a6",
   "metadata": {},
   "source": [
    "### Problem 4 : Given an array of n elements. Find two elements in the array such that their sum is equal to given element K."
   ]
  },
  {
   "cell_type": "markdown",
   "id": "3527d67f",
   "metadata": {},
   "source": [
    "To find two elements in an array whose sum is equal to a given element K, you can use a hash set to efficiently track the elements as you traverse the array. Here's a Python algorithm to solve this problem in O(n) time complexity and O(n) space complexity:"
   ]
  },
  {
   "cell_type": "code",
   "execution_count": 4,
   "id": "6a22686a",
   "metadata": {},
   "outputs": [
    {
     "name": "stdout",
     "output_type": "stream",
     "text": [
      "Pair found at indices: [3, 4] with sum equal to 9\n"
     ]
    }
   ],
   "source": [
    "def find_pair_with_sum(arr, target_sum):\n",
    "    # Dictionary to store elements and their indices\n",
    "    elements_dict = {}\n",
    "\n",
    "    for i, num in enumerate(arr):\n",
    "        complement = target_sum - num\n",
    "\n",
    "        # Check if the complement is already in the dictionary\n",
    "        if complement in elements_dict:\n",
    "            return [elements_dict[complement], i]  # Found a pair, return their indices\n",
    "        else:\n",
    "            elements_dict[num] = i  # Add the current element and its index to the dictionary\n",
    "\n",
    "    return None  # No pair found\n",
    "\n",
    "# Example usage\n",
    "arr = [1, 2, 3, 4, 5, 6]\n",
    "target_sum = 9\n",
    "result = find_pair_with_sum(arr, target_sum)\n",
    "\n",
    "if result:\n",
    "    print(f\"Pair found at indices: {result} with sum equal to {target_sum}\")\n",
    "else:\n",
    "    print(\"No pair found with the given sum.\")"
   ]
  },
  {
   "cell_type": "markdown",
   "id": "61a1a0e9",
   "metadata": {},
   "source": [
    "This algorithm has a time complexity of O(n) because it iterates through the array once, and a space complexity of O(n) due to the storage of elements and their indices in the dictionary."
   ]
  },
  {
   "cell_type": "markdown",
   "id": "eb3d9ba1",
   "metadata": {},
   "source": [
    "### Problem 5 : Given an array of both positive and negative numbers, find two numbers such that their sum is closest to 0. Ex: [ 1 ,60 ,-10, 70, -80,85]. Ans : -80,85."
   ]
  },
  {
   "cell_type": "markdown",
   "id": "ed457a0e",
   "metadata": {},
   "source": [
    "To find two numbers in an array such that their sum is closest to 0, you can sort the array and then traverse it to find the pair with the smallest absolute sum."
   ]
  },
  {
   "cell_type": "code",
   "execution_count": 5,
   "id": "5d87dbab",
   "metadata": {},
   "outputs": [
    {
     "name": "stdout",
     "output_type": "stream",
     "text": [
      "The closest sum pair is: (-80, 85)\n"
     ]
    }
   ],
   "source": [
    "def find_closest_sum_pair(arr):\n",
    "    # Sort the array\n",
    "    arr.sort()\n",
    "\n",
    "    # Initialize variables to track the closest sum and the pair\n",
    "    closest_sum = float('inf')\n",
    "    closest_pair = (None, None)\n",
    "\n",
    "    # Traverse the array to find the closest sum pair\n",
    "    left, right = 0, len(arr) - 1\n",
    "\n",
    "    while left < right:\n",
    "        current_sum = arr[left] + arr[right]\n",
    "        current_abs_sum = abs(current_sum)\n",
    "\n",
    "        # Update the closest pair if the current pair has a smaller absolute sum\n",
    "        if current_abs_sum < closest_sum:\n",
    "            closest_sum = current_abs_sum\n",
    "            closest_pair = (arr[left], arr[right])\n",
    "\n",
    "        # Move pointers based on the comparison of current_sum with 0\n",
    "        if current_sum < 0:\n",
    "            left += 1\n",
    "        else:\n",
    "            right -= 1\n",
    "\n",
    "    return closest_pair\n",
    "\n",
    "# Example usage\n",
    "arr = [1, 60, -10, 70, -80, 85]\n",
    "result = find_closest_sum_pair(arr)\n",
    "\n",
    "print(f\"The closest sum pair is: {result}\")"
   ]
  },
  {
   "cell_type": "markdown",
   "id": "949915a5",
   "metadata": {},
   "source": [
    "This algorithm has a time complexity of O(n log n) due to the sorting step and a space complexity of O(1) since it uses constant extra space."
   ]
  },
  {
   "cell_type": "markdown",
   "id": "50477047",
   "metadata": {},
   "source": [
    "### Problem 6 : Given an array of n elements . Find three elements such that their sum is equal to the given number."
   ]
  },
  {
   "cell_type": "markdown",
   "id": "9587adb6",
   "metadata": {},
   "source": [
    "To find three elements in an array such that their sum is equal to a given number, you can use a similar approach to the two-pointer technique used in the two-sum problem."
   ]
  },
  {
   "cell_type": "code",
   "execution_count": 6,
   "id": "81e33a99",
   "metadata": {},
   "outputs": [
    {
     "name": "stdout",
     "output_type": "stream",
     "text": [
      "The three elements with sum 21 are: [4, 8, 9]\n"
     ]
    }
   ],
   "source": [
    "def find_three_elements_with_sum(arr, target_sum):\n",
    "    arr.sort()\n",
    "\n",
    "    for i in range(len(arr) - 2):\n",
    "        left, right = i + 1, len(arr) - 1\n",
    "\n",
    "        while left < right:\n",
    "            current_sum = arr[i] + arr[left] + arr[right]\n",
    "\n",
    "            if current_sum == target_sum:\n",
    "                return [arr[i], arr[left], arr[right]]\n",
    "            elif current_sum < target_sum:\n",
    "                left += 1\n",
    "            else:\n",
    "                right -= 1\n",
    "\n",
    "    return None\n",
    "\n",
    "# Example usage\n",
    "arr = [1, 4, 2, 8, 3, 7, 9]\n",
    "target_sum = 21\n",
    "result = find_three_elements_with_sum(arr, target_sum)\n",
    "\n",
    "if result:\n",
    "    print(f\"The three elements with sum {target_sum} are: {result}\")\n",
    "else:\n",
    "    print(\"No such three elements found.\")"
   ]
  },
  {
   "cell_type": "markdown",
   "id": "d877ece1",
   "metadata": {},
   "source": [
    "This algorithm has a time complexity of O(n^2) due to the nested loops, and a space complexity of O(1) since it uses constant extra space."
   ]
  },
  {
   "cell_type": "markdown",
   "id": "6034afe1",
   "metadata": {},
   "source": [
    "### Problem 7 : Given an array of n elements . Find three elements i, j, k in the array such that i * i + j * j = k*k."
   ]
  },
  {
   "cell_type": "markdown",
   "id": "d82f2dc3",
   "metadata": {},
   "source": [
    "To find three elements i, j, k in the array such that i * i + j * j = k * k, you can use a similar approach as the two-pointer technique."
   ]
  },
  {
   "cell_type": "code",
   "execution_count": 7,
   "id": "89ecf2f6",
   "metadata": {},
   "outputs": [
    {
     "name": "stdout",
     "output_type": "stream",
     "text": [
      "The Pythagorean triplet is: [3, 4, 5]\n"
     ]
    }
   ],
   "source": [
    "def find_pythagorean_triplet(arr):\n",
    "    arr.sort()\n",
    "\n",
    "    for k in range(len(arr) - 1, 1, -1):\n",
    "        left, right = 0, k - 1\n",
    "\n",
    "        while left < right:\n",
    "            current_sum = arr[left] * arr[left] + arr[right] * arr[right]\n",
    "\n",
    "            if current_sum == arr[k] * arr[k]:\n",
    "                return [arr[left], arr[right], arr[k]]\n",
    "            elif current_sum < arr[k] * arr[k]:\n",
    "                left += 1\n",
    "            else:\n",
    "                right -= 1\n",
    "\n",
    "    return None\n",
    "\n",
    "# Example usage\n",
    "arr = [3, 1, 4, 6, 5]\n",
    "result = find_pythagorean_triplet(arr)\n",
    "\n",
    "if result:\n",
    "    print(f\"The Pythagorean triplet is: {result}\")\n",
    "else:\n",
    "    print(\"No such triplet found.\")"
   ]
  },
  {
   "cell_type": "markdown",
   "id": "3d162520",
   "metadata": {},
   "source": [
    "This algorithm has a time complexity of O(n^2) due to the nested loops, and a space complexity of O(1) since it uses constant extra space."
   ]
  },
  {
   "cell_type": "markdown",
   "id": "21e39bca",
   "metadata": {},
   "source": [
    "### Problem 8 : An element is a majority if it appears more than n/2 times. Give an algorithm takes an array of n element as argument and identifies a majority (if it exists)."
   ]
  },
  {
   "cell_type": "markdown",
   "id": "43435fee",
   "metadata": {},
   "source": [
    "To identify a majority element in an array (if it exists), you can use the Boyer-Moore Voting Algorithm. This algorithm is efficient and works in O(n) time complexity and O(1) space complexity. The basic idea is to find a candidate majority element and then verify if it is indeed a majority element."
   ]
  },
  {
   "cell_type": "code",
   "execution_count": 9,
   "id": "d0e06f60",
   "metadata": {},
   "outputs": [
    {
     "name": "stdout",
     "output_type": "stream",
     "text": [
      "The majority element is: 4\n"
     ]
    }
   ],
   "source": [
    "def find_majority_element(arr):\n",
    "    # Step 1: Find a candidate majority element\n",
    "    candidate = None\n",
    "    count = 0\n",
    "\n",
    "    for num in arr:\n",
    "        if count == 0:\n",
    "            candidate = num\n",
    "        count += 1 if num == candidate else -1\n",
    "\n",
    "    # Step 2: Verify if the candidate is a majority element\n",
    "    count = 0\n",
    "    for num in arr:\n",
    "        if num == candidate:\n",
    "            count += 1\n",
    "\n",
    "    if count > len(arr) // 2:\n",
    "        return candidate\n",
    "    else:\n",
    "        return None  # No majority element found\n",
    "\n",
    "# Example usage\n",
    "arr = [3, 3, 4, 2, 4, 4, 2, 4, 4]\n",
    "result = find_majority_element(arr)\n",
    "\n",
    "if result is not None:\n",
    "    print(f\"The majority element is: {result}\")\n",
    "else:\n",
    "    print(\"No majority element found.\")"
   ]
  },
  {
   "cell_type": "markdown",
   "id": "620ce318",
   "metadata": {},
   "source": [
    "### Problem 9 : Given n × n matrix, and in each row all 1’s are followed by 0’s. Find the row with the maximum number of 0’s."
   ]
  },
  {
   "cell_type": "markdown",
   "id": "0e1ff3dd",
   "metadata": {},
   "source": [
    "To find the row with the maximum number of 0's in an n × n matrix where in each row, all 1’s are followed by 0’s, you can use a binary search-like approach. Start from the first column of each row, and for each row, find the index of the leftmost 0. The number of 0's to the right of this index will give you the count of 0's in that row. Keep track of the row with the maximum count."
   ]
  },
  {
   "cell_type": "code",
   "execution_count": 10,
   "id": "08096ddc",
   "metadata": {},
   "outputs": [
    {
     "name": "stdout",
     "output_type": "stream",
     "text": [
      "The row with the maximum number of 0's is: 3\n"
     ]
    }
   ],
   "source": [
    "def find_row_with_max_zeros(matrix):\n",
    "    n = len(matrix)\n",
    "    max_zeros_count = 0\n",
    "    max_zeros_row = -1\n",
    "\n",
    "    for i in range(n):\n",
    "        zeros_count = find_leftmost_zero_count(matrix[i])\n",
    "        \n",
    "        if zeros_count > max_zeros_count:\n",
    "            max_zeros_count = zeros_count\n",
    "            max_zeros_row = i\n",
    "\n",
    "    return max_zeros_row\n",
    "\n",
    "def find_leftmost_zero_count(row):\n",
    "    left, right = 0, len(row) - 1\n",
    "    leftmost_zero_index = -1\n",
    "\n",
    "    while left <= right:\n",
    "        mid = (left + right) // 2\n",
    "\n",
    "        if row[mid] == 0:\n",
    "            leftmost_zero_index = mid\n",
    "            right = mid - 1\n",
    "        else:\n",
    "            left = mid + 1\n",
    "\n",
    "    return len(row) - leftmost_zero_index - 1\n",
    "\n",
    "# Example usage\n",
    "matrix = [\n",
    "    [1, 1, 1, 0, 0],\n",
    "    [1, 1, 0, 0, 0],\n",
    "    [1, 1, 1, 1, 0],\n",
    "    [1, 0, 0, 0, 0],\n",
    "    [1, 1, 1, 0, 0]\n",
    "]\n",
    "\n",
    "result = find_row_with_max_zeros(matrix)\n",
    "\n",
    "if result != -1:\n",
    "    print(f\"The row with the maximum number of 0's is: {result}\")\n",
    "else:\n",
    "    print(\"No suitable row found.\")"
   ]
  },
  {
   "cell_type": "markdown",
   "id": "56e2f98d",
   "metadata": {},
   "source": [
    "This algorithm has a time complexity of O(n log n) due to the binary search in each row and a space complexity of O(1)."
   ]
  },
  {
   "cell_type": "markdown",
   "id": "8c9ae674",
   "metadata": {},
   "source": [
    "### Problem 10 : Sort an array of 0’s, 1’s and 2’s [or R’s, G’s and B’s]: Given an array A[] consisting of 0’s, 1’s and 2’s, give an algorithm for sorting A[].The algorithm should put all 0’s first, then all 1’s and finally all 2’s at the end. Example Input = {0,1,1,0,1,2,1,2,0,0,0,1}, Output = {0,0,0,0,0,1,1,1,1,1,2,2}"
   ]
  },
  {
   "cell_type": "markdown",
   "id": "a460935e",
   "metadata": {},
   "source": [
    "The idea is to maintain three pointers: one for 0's, one for 1's, and one for 2's. By iterating through the array, you can swap elements to group all 0's, 1's, and 2's together."
   ]
  },
  {
   "cell_type": "code",
   "execution_count": 11,
   "id": "260fab9e",
   "metadata": {},
   "outputs": [
    {
     "name": "stdout",
     "output_type": "stream",
     "text": [
      "Sorted array: [0, 0, 0, 0, 0, 1, 1, 1, 1, 1, 2, 2]\n"
     ]
    }
   ],
   "source": [
    "def sort_012(arr):\n",
    "    low, mid, high = 0, 0, len(arr) - 1\n",
    "\n",
    "    while mid <= high:\n",
    "        if arr[mid] == 0:\n",
    "            arr[low], arr[mid] = arr[mid], arr[low]\n",
    "            low += 1\n",
    "            mid += 1\n",
    "        elif arr[mid] == 1:\n",
    "            mid += 1\n",
    "        else:\n",
    "            arr[mid], arr[high] = arr[high], arr[mid]\n",
    "            high -= 1\n",
    "\n",
    "# Example usage\n",
    "arr = [0, 1, 1, 0, 1, 2, 1, 2, 0, 0, 0, 1]\n",
    "sort_012(arr)\n",
    "\n",
    "print(\"Sorted array:\", arr)"
   ]
  },
  {
   "cell_type": "markdown",
   "id": "bc88621e",
   "metadata": {},
   "source": [
    "This algorithm has a time complexity of O(n), where n is the length of the array, and a space complexity of O(1)."
   ]
  }
 ],
 "metadata": {
  "kernelspec": {
   "display_name": "Python 3 (ipykernel)",
   "language": "python",
   "name": "python3"
  },
  "language_info": {
   "codemirror_mode": {
    "name": "ipython",
    "version": 3
   },
   "file_extension": ".py",
   "mimetype": "text/x-python",
   "name": "python",
   "nbconvert_exporter": "python",
   "pygments_lexer": "ipython3",
   "version": "3.11.5"
  }
 },
 "nbformat": 4,
 "nbformat_minor": 5
}
