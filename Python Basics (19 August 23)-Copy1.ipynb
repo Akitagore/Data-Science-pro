{
 "cells": [
  {
   "cell_type": "markdown",
   "id": "cbd78c0d",
   "metadata": {},
   "source": [
    "## Topic : Python Basics Variable"
   ]
  },
  {
   "cell_type": "markdown",
   "id": "54b9974d",
   "metadata": {},
   "source": [
    "##### Create a program that calculates the area of a rectangle. Take the length and width as inputs from the user and store them in variables. Calculate and display the area."
   ]
  },
  {
   "cell_type": "code",
   "execution_count": 1,
   "id": "56b757ec",
   "metadata": {},
   "outputs": [
    {
     "name": "stdout",
     "output_type": "stream",
     "text": [
      "x = 20\n",
      "y = 10\n"
     ]
    }
   ],
   "source": [
    "# Declare two variables\n",
    "x = 10\n",
    "y = 20\n",
    "# Swap the values without a temporary variable using arithmatic operation\n",
    "x = x + y\n",
    "y = x - y\n",
    "x = 30 - y\n",
    "# Now, x and y have swapped values\n",
    "print(\"x =\", x)\n",
    "print(\"y =\", y)"
   ]
  },
  {
   "cell_type": "markdown",
   "id": "c77f8cab",
   "metadata": {},
   "source": [
    "##### 2. Create a program that calculates the area of a rectangle. Take the length and width as inputs from the user and store them in variables. Calculate and display the area."
   ]
  },
  {
   "cell_type": "code",
   "execution_count": 2,
   "id": "75e91ddc",
   "metadata": {},
   "outputs": [
    {
     "name": "stdout",
     "output_type": "stream",
     "text": [
      "Enter the length of rectangle: 25\n",
      "Enter the width of rectangle: 12\n",
      "Area of rectangle is: 300\n"
     ]
    }
   ],
   "source": [
    "#To Take length and width as input\n",
    "length = int(input(\"Enter the length of rectangle: \"))\n",
    "width = int(input(\"Enter the width of rectangle: \"))\n",
    "# To find area of Rectangle\n",
    "area_rect = length * width\n",
    "# display the area\n",
    "print(\"Area of rectangle is:\", area_rect)"
   ]
  },
  {
   "cell_type": "markdown",
   "id": "1c5e7d96",
   "metadata": {},
   "source": [
    "##### 3. Write a Python program that converts temperatures from Celsius to Fahrenheit. Take the temperature in Celsius as input, store it in a variable, convert it to Fahrenheit, and display the result."
   ]
  },
  {
   "cell_type": "code",
   "execution_count": 5,
   "id": "baf470c4",
   "metadata": {},
   "outputs": [
    {
     "name": "stdout",
     "output_type": "stream",
     "text": [
      "Enter temperature in Celcius:100\n",
      "Temperature in Farenheit is:  212.0\n"
     ]
    }
   ],
   "source": [
    "#To Take temperature in celcius\n",
    "temp = int(input(\"Enter temperature in Celcius:\"))\n",
    "# To convert celcius in farenheit\n",
    "Farenheit = (temp * 9/5) + 32\n",
    "# display the result\n",
    "print(\"Temperature in Farenheit is: \", Farenheit)"
   ]
  },
  {
   "cell_type": "markdown",
   "id": "b7e9b5c7",
   "metadata": {},
   "source": [
    "## TOPIC: String Based Questions"
   ]
  },
  {
   "cell_type": "markdown",
   "id": "465bf95d",
   "metadata": {},
   "source": [
    "##### 1. Write a Python program that takes a string as input and prints the length of the string."
   ]
  },
  {
   "cell_type": "code",
   "execution_count": 7,
   "id": "27ca7a61",
   "metadata": {},
   "outputs": [
    {
     "name": "stdout",
     "output_type": "stream",
     "text": [
      "Enter a string:ankita\n",
      "lenght of a string is: 6\n"
     ]
    }
   ],
   "source": [
    "# To take string as input\n",
    "a = str(input(\"Enter a string: \"))\n",
    "# To print length of string\n",
    "print(\"lenght of a string is:\",len(a))"
   ]
  },
  {
   "cell_type": "markdown",
   "id": "c0b0daf7",
   "metadata": {},
   "source": [
    "##### 2. Create a program that takes a sentence from the user and counts the number of vowels (a, e, i, o, u) in the string."
   ]
  },
  {
   "cell_type": "code",
   "execution_count": 1,
   "id": "c02b3513",
   "metadata": {},
   "outputs": [
    {
     "name": "stdout",
     "output_type": "stream",
     "text": [
      "Enter a sentence: Python is very easy\n",
      "Number of vowels in the sentence: 5\n"
     ]
    }
   ],
   "source": [
    "# Take input sentence from the user\n",
    "sentence = input(\"Enter a sentence: \")\n",
    "\n",
    "# Use the count() method to count vowels\n",
    "vowel_count = sum(sentence.count(vowel) for vowel in \"aeiouAEIOU\")\n",
    "\n",
    "# Display the vowel count\n",
    "print(\"Number of vowels in the sentence:\", vowel_count)\n"
   ]
  },
  {
   "cell_type": "markdown",
   "id": "a197a6d2",
   "metadata": {},
   "source": [
    "#### 3. Given a string, reverse the order of characters using string slicing and print the reversed string."
   ]
  },
  {
   "cell_type": "code",
   "execution_count": 9,
   "id": "f2eca4c4",
   "metadata": {},
   "outputs": [
    {
     "name": "stdout",
     "output_type": "stream",
     "text": [
      "The reverse of string is: !dlroW ,olleH\n"
     ]
    }
   ],
   "source": [
    "#Give a string\n",
    "string = \"Hello, World!\"  \n",
    "#To reverse the characters using string slicing\n",
    "print(\"The reverse of string is:\", string[::-1])\n"
   ]
  },
  {
   "cell_type": "markdown",
   "id": "01967569",
   "metadata": {},
   "source": [
    "##### 4. Write a program that takes a string as input and checks if it is a palindrome (reads the same forwards and backwards)."
   ]
  },
  {
   "cell_type": "code",
   "execution_count": 13,
   "id": "cd8ecdf9",
   "metadata": {},
   "outputs": [
    {
     "name": "stdout",
     "output_type": "stream",
     "text": [
      "Enter a string: Racecar\n",
      "The string is a palindrome.\n"
     ]
    }
   ],
   "source": [
    "# Take input string from the user\n",
    "input_string = input(\"Enter a string: \")\n",
    "\n",
    "# Remove spaces and convert the string to lowercase for case-insensitive comparison\n",
    "input_string = input_string.replace(\" \", \"\").lower()\n",
    "\n",
    "# Reverse the string\n",
    "reversed_string = input_string[::-1]\n",
    "\n",
    "# Check if the original and reversed strings are the same\n",
    "if input_string == reversed_string:\n",
    "    print(\"The string is a palindrome.\")\n",
    "else:\n",
    "    print(\"The string is not a palindrome.\")\n"
   ]
  },
  {
   "cell_type": "markdown",
   "id": "e81ced32",
   "metadata": {},
   "source": [
    "##### 5. Create a program that takes a string as input and removes all the spaces from it. Print the modified string without spaces."
   ]
  },
  {
   "cell_type": "code",
   "execution_count": 14,
   "id": "0a348573",
   "metadata": {},
   "outputs": [
    {
     "name": "stdout",
     "output_type": "stream",
     "text": [
      "Enter a string: python is easy to understand\n",
      "Modified String is:  pythoniseasytounderstand\n"
     ]
    }
   ],
   "source": [
    "# Take input string\n",
    "input_string = input(\"Enter a string: \")\n",
    "# Remove spaces from the string\n",
    "modified_string = input_string.replace(\" \",\"\")\n",
    "# Display modified string\n",
    "print(\"Modified String is: \", modified_string)"
   ]
  },
  {
   "cell_type": "code",
   "execution_count": null,
   "id": "71cdb6f8",
   "metadata": {},
   "outputs": [],
   "source": []
  }
 ],
 "metadata": {
  "kernelspec": {
   "display_name": "Python 3 (ipykernel)",
   "language": "python",
   "name": "python3"
  },
  "language_info": {
   "codemirror_mode": {
    "name": "ipython",
    "version": 3
   },
   "file_extension": ".py",
   "mimetype": "text/x-python",
   "name": "python",
   "nbconvert_exporter": "python",
   "pygments_lexer": "ipython3",
   "version": "3.9.13"
  }
 },
 "nbformat": 4,
 "nbformat_minor": 5
}
